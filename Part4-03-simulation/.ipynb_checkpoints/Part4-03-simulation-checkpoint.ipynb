{
 "cells": [
  {
   "cell_type": "markdown",
   "metadata": {
    "slideshow": {
     "slide_type": "slide"
    }
   },
   "source": [
    "<p style=\"font-size:15pt; text-align:center\">\n",
    "    Introduction to Data Science\n",
    "</p>\n",
    "<p style=\"font-size:20pt; text-align:center\">\n",
    "    Simulation\n",
    "</p>"
   ]
  },
  {
   "cell_type": "code",
   "execution_count": null,
   "metadata": {
    "ExecuteTime": {
     "end_time": "2021-12-12T02:17:52.731242Z",
     "start_time": "2021-12-12T02:17:52.397327Z"
    }
   },
   "outputs": [],
   "source": [
    "import numpy as np\n",
    "import pandas as pd\n",
    "import random"
   ]
  },
  {
   "cell_type": "markdown",
   "metadata": {},
   "source": [
    "# Simulation"
   ]
  },
  {
   "cell_type": "markdown",
   "metadata": {},
   "source": [
    "If you fix the seed, the number series generated from `random.random` will be the same:"
   ]
  },
  {
   "cell_type": "code",
   "execution_count": null,
   "metadata": {
    "ExecuteTime": {
     "end_time": "2021-12-12T02:17:55.425629Z",
     "start_time": "2021-12-12T02:17:55.411633Z"
    }
   },
   "outputs": [],
   "source": [
    "random.seed(10)\n",
    "print(random.random())\n",
    "print(random.random())\n",
    "print(random.random())\n",
    "\n",
    "random.seed(10)\n",
    "print(random.random())\n",
    "print(random.random())\n",
    "print(random.random())"
   ]
  },
  {
   "cell_type": "markdown",
   "metadata": {},
   "source": [
    "## Top-down Raquetball simulation"
   ]
  },
  {
   "cell_type": "markdown",
   "metadata": {},
   "source": [
    "To develop during class\n",
    "\n",
    "***functions***\n",
    "\n",
    "printIntro\n",
    "getInputs\n",
    "\n",
    "***main:***\n",
    "* Print an introduction\n",
    "* Get the inputs: probA, probB, n\n",
    "* Simulate n games of raquetball using probA and probB\n",
    "* Output: Print a report on the wins for playerA and playerB\n",
    "\n",
    "The procedure diagram is:\n",
    "        <img src=\"./files/topdown_raquetball.png\" width=800px>\n"
   ]
  },
  {
   "cell_type": "code",
   "execution_count": null,
   "metadata": {
    "ExecuteTime": {
     "end_time": "2021-12-12T02:24:53.907536Z",
     "start_time": "2021-12-12T02:24:34.846809Z"
    }
   },
   "outputs": [],
   "source": [
    "# https://github.com/danyoungmusic93/zelle-python/blob/master/chap09/rball.py\n",
    "\n",
    "# Imports\n",
    "from random import random\n",
    "\n",
    "\n",
    "# Functions\n",
    "def printIntro():\n",
    "    \"\"\"Prints the introduction\"\"\"\n",
    "    print(\"This program simulates a game of racquetball between two\")\n",
    "    print('players called \"A\" and \"B\". The abilitites of each player is')\n",
    "    print(\"indicated by a probability (a number between 0 and 1) that\")\n",
    "    print(\"reflects the likelihood of a player winning the serve.\")\n",
    "    print(\"Player A has the first serve.\")\n",
    "\n",
    "def getInputs():\n",
    "    \"\"\"Returns the three simulation parameters\"\"\"\n",
    "    a = eval(input(\"What is the prob. player A wins a serve? \"))\n",
    "    b = eval(input(\"What is the prob. player B wins a serve? \"))\n",
    "    n = eval(input(\"How many games to simulate? \"))\n",
    "    return a, b, n\n",
    "\n",
    "def simNGames(n, probA, probB):\n",
    "    \"\"\"Simulates n games of racquetball between players whose\n",
    "    abilities are represented by the probability of winning a serve.\n",
    "    Returns number of wins for A and B\n",
    "    \"\"\"\n",
    "    winsA = winsB = 0\n",
    "    for i in range(n):\n",
    "        scoreA, scoreB = simOneGame(probA, probB)\n",
    "        if scoreA > scoreB:\n",
    "            winsA = winsA + 1\n",
    "        else:\n",
    "            winsB = winsB + 1\n",
    "    return winsA, winsB\n",
    "\n",
    "def simOneGame(probA, probB):\n",
    "    \"\"\"Simulates a single game of racquetball between players whose\n",
    "    abilities are represented by the probability of winning a serveself.\n",
    "    Returns final scores for A and B\n",
    "    \"\"\"\n",
    "    serving = \"A\"\n",
    "    scoreA = 0\n",
    "    scoreB = 0\n",
    "    while not gameOver(scoreA, scoreB):\n",
    "        if serving == \"A\":\n",
    "            if random() < probA:\n",
    "                scoreA = scoreA + 1\n",
    "            else:\n",
    "                serving = \"B\"\n",
    "        elif serving == \"B\":\n",
    "            if random() < probB:\n",
    "                scoreB = scoreB + 1\n",
    "            else:\n",
    "                serving = \"A\"\n",
    "    return scoreA, scoreB\n",
    "\n",
    "def gameOver(a, b):\n",
    "    \"\"\"a and b represent scores for a racquetball game\n",
    "    Returns True if the game is over, False otherwise\n",
    "    \"\"\"\n",
    "    return a==15 or b==15\n",
    "\n",
    "def printSummary(winsA, winsB, n):\n",
    "    \"\"\"Prints a summary of wins for each players\"\"\"\n",
    "    print(\"\\nGames simulated: \", n)\n",
    "    print(\"Wins for A: {0} ({1:0.1%})\".format(winsA, winsA/n))\n",
    "    print(\"Wins for B: {0} ({1:0.1%})\".format(winsB, winsB/n))\n",
    "\n",
    "\n",
    "# Main\n",
    "printIntro()\n",
    "probA, probB, n = getInputs()\n",
    "winsA, winsB = simNGames(n, probA, probB)\n",
    "printSummary(winsA, winsB, n)"
   ]
  },
  {
   "cell_type": "markdown",
   "metadata": {},
   "source": [
    "### Exploratory unit testing"
   ]
  },
  {
   "cell_type": "code",
   "execution_count": null,
   "metadata": {
    "ExecuteTime": {
     "end_time": "2021-12-12T02:25:04.622295Z",
     "start_time": "2021-12-12T02:25:04.614276Z"
    }
   },
   "outputs": [],
   "source": [
    "print(gameOver(0,0))\n",
    "print(gameOver(5,10))\n",
    "print(gameOver(15,3))\n",
    "print(gameOver(3,15))"
   ]
  },
  {
   "cell_type": "code",
   "execution_count": null,
   "metadata": {
    "ExecuteTime": {
     "end_time": "2021-12-12T02:25:06.677657Z",
     "start_time": "2021-12-12T02:25:06.672634Z"
    }
   },
   "outputs": [],
   "source": [
    "print(simOneGame(.5,.5))\n",
    "print(simOneGame(.5,.5))\n",
    "print(simOneGame(.3,.3))\n",
    "print(simOneGame(.3,.3))\n",
    "print(simOneGame(.4,.9))\n",
    "print(simOneGame(.4,.9))\n",
    "print(simOneGame(.9,.4))\n",
    "print(simOneGame(.9,.4))\n",
    "print(simOneGame(.4,.6))\n",
    "print(simOneGame(.4,.6))"
   ]
  },
  {
   "cell_type": "markdown",
   "metadata": {},
   "source": [
    "### Prototyping"
   ]
  },
  {
   "cell_type": "code",
   "execution_count": null,
   "metadata": {
    "ExecuteTime": {
     "end_time": "2021-12-12T02:25:51.515158Z",
     "start_time": "2021-12-12T02:25:51.504188Z"
    }
   },
   "outputs": [],
   "source": [
    "from random import random\n",
    "\n",
    "def simOneGame(): \n",
    "    scoreA = 0\n",
    "    scoreB = 0\n",
    "    serving = \"A\"\n",
    "    for i in range(30):\n",
    "        if serving == \"A\":\n",
    "            if random() < .5:\n",
    "                scoreA = scoreA + 1 \n",
    "            else:\n",
    "                serving = \"B\"\n",
    "        else:\n",
    "            if random() < .5:\n",
    "                scoreB = scoreB + 1\n",
    "            else:\n",
    "                serving = \"A\"\n",
    "    print(scoreA, scoreB)\n",
    "    \n",
    "    \n",
    "# main program\n",
    "simOneGame()"
   ]
  },
  {
   "cell_type": "markdown",
   "metadata": {},
   "source": [
    "### Exploratory unit testing of circle_area"
   ]
  },
  {
   "cell_type": "code",
   "execution_count": null,
   "metadata": {
    "ExecuteTime": {
     "end_time": "2021-12-12T02:27:14.245168Z",
     "start_time": "2021-12-12T02:27:14.187286Z"
    }
   },
   "outputs": [],
   "source": [
    "from math import pi\n",
    "\n",
    "def circle_area(r):\n",
    "    return pi*(r**2)\n",
    "\n",
    "# Test function\n",
    "radii  = [2, 0, -3, 2+5j, True, \"radius\"]\n",
    "message = \"Area of circles with r = {radius} is {area}.\"\n",
    "\n",
    "for r in radii:\n",
    "    A = circle_area(r)\n",
    "    print(message.format(radius=r, area=A))"
   ]
  },
  {
   "cell_type": "code",
   "execution_count": null,
   "metadata": {},
   "outputs": [],
   "source": []
  },
  {
   "cell_type": "markdown",
   "metadata": {},
   "source": [
    "# Code Optimization"
   ]
  },
  {
   "cell_type": "markdown",
   "metadata": {
    "slideshow": {
     "slide_type": "slide"
    }
   },
   "source": [
    "Correct order of steps when writing a program:\n",
    "1. **Make it work**: Write the code in a simple legible way.\n",
    "2. **Make it right**: Write test cases, make really sure that your algorithm is right and that if you break it.\n",
    "3. **Make it fast**: Optimize the code by profiling simple use-cases to find the bottlenecks and speeding up these bottlenecks, finding a better algorithm or implementation."
   ]
  },
  {
   "cell_type": "markdown",
   "metadata": {},
   "source": [
    "## an example\n",
    "\n",
    "Fast inverse square root \n",
    "\n",
    "3D-games and simulators need billions of real-time inverse square root $\\frac{1}{\\sqrt{x}}$ calculations for lighting and shading:\n",
    "<table><tr>\n",
    "<td> <img src=\"files/openarena.jpg\" width=300px> </td>\n",
    "<td> <img src=\"files/surfacenormal.png\" width=300px> </td>\n",
    "</tr></table>"
   ]
  },
  {
   "cell_type": "markdown",
   "metadata": {},
   "source": [
    "Instead of doing `(float)(1.0/sqrt(x))`, this C++ code was developed in the 1980s/1990s (original comments):\n",
    "\n",
    "```c++\n",
    "float Q_rsqrt( float number )\n",
    "{\n",
    "\tlong i;\n",
    "\tfloat x2, y;\n",
    "\tconst float threehalfs = 1.5F;\n",
    "\n",
    "\tx2 = number * 0.5F;\n",
    "\ty  = number;\n",
    "\ti  = * ( long * ) &y;                       // evil floating point bit level hacking\n",
    "\ti  = 0x5f3759df - ( i >> 1 );               // what the fuck? \n",
    "\ty  = * ( float * ) &i;\n",
    "\ty  = y * ( threehalfs - ( x2 * y * y ) );   // 1st iteration\n",
    "//\ty  = y * ( threehalfs - ( x2 * y * y ) );   // 2nd iteration, this can be removed\n",
    "\n",
    "\treturn y;\n",
    "}\n",
    "```\n",
    "\n",
    "It avoids division and is 4 times faster. This is a significant speed-up for millions of real-time calculations every second.\n",
    "More details: \n",
    "https://en.wikipedia.org/wiki/Fast_inverse_square_root\n",
    "\n",
    "https://betterexplained.com/articles/understanding-quakes-fast-inverse-square-root/\n",
    "\n",
    "Warning - advanced math: http://www.lomont.org/papers/2003/InvSqrt.pdf"
   ]
  },
  {
   "cell_type": "markdown",
   "metadata": {
    "slideshow": {
     "slide_type": "slide"
    }
   },
   "source": [
    "## There is a natural order of making code fast\n",
    "1. Cheat: Use sample data, solve a simpler problem, buy more RAM, etc.\n",
    "2. **Profile**: Find out the bottlenecks\n",
    "3. **Use better algorithms and data structures**\n",
    "4. Using compiled code written in another language\n",
    "5. Converting Python code to compiled code\n",
    "6. Parallelize programs / execute in parallel"
   ]
  },
  {
   "cell_type": "markdown",
   "metadata": {
    "slideshow": {
     "slide_type": "slide"
    }
   },
   "source": [
    "## Profiling and timing code"
   ]
  },
  {
   "cell_type": "markdown",
   "metadata": {},
   "source": [
    "### Magic commands for Jupyter"
   ]
  },
  {
   "cell_type": "markdown",
   "metadata": {},
   "source": [
    "* `%time`: Time the execution of a single statement\n",
    "* `%timeit`: Time repeated execution of a single statement for more accuracy\n",
    "* `%prun`: Run code with the profiler\n",
    "* `%lprun`: Run code with the line-by-line profiler\n",
    "* `%memit`: Measure the memory use of a single statement\n",
    "* `%mprun`: Run code with the line-by-line memory profiler\n",
    "\n",
    "The last 3 commands are not bundled with Jupyter – you'll need to get the `line_profiler` and `memory_profiler` extension."
   ]
  },
  {
   "cell_type": "code",
   "execution_count": null,
   "metadata": {
    "ExecuteTime": {
     "end_time": "2021-12-12T02:50:16.714050Z",
     "start_time": "2021-12-12T02:50:08.686525Z"
    }
   },
   "outputs": [],
   "source": [
    "%timeit sum(range(100))"
   ]
  },
  {
   "cell_type": "code",
   "execution_count": null,
   "metadata": {
    "ExecuteTime": {
     "end_time": "2021-12-12T02:50:48.377499Z",
     "start_time": "2021-12-12T02:50:48.344554Z"
    }
   },
   "outputs": [],
   "source": [
    "import random\n",
    "L = [random.random() for i in range(100000)]\n",
    "print(\"sorting an unsorted list:\")\n",
    "%time L.sort()"
   ]
  },
  {
   "cell_type": "markdown",
   "metadata": {
    "slideshow": {
     "slide_type": "slide"
    }
   },
   "source": [
    "## Profiling and Optimizing: Monte Carlo method example"
   ]
  },
  {
   "cell_type": "markdown",
   "metadata": {},
   "source": [
    "We get the value of pi by taking the ratio of area of circle to area of the square, \n",
    "where we approximate the area with generated random points, $\\frac{\\mathrm{area\\, of\\, circle}}{\\mathrm{area\\, of\\, square}} \\approx \\frac{\\mathrm{points\\, in\\, circle}}{\\mathrm{points\\, in\\, square}}$\n",
    "<table><tr>\n",
    "<td> <img src=\"files/montecarlo01.png\" width=400px></td>\n",
    "<td> <img src=\"files/montecarlo02.png\" width=400px></td>\n",
    "</tr></table>"
   ]
  },
  {
   "cell_type": "code",
   "execution_count": null,
   "metadata": {
    "ExecuteTime": {
     "end_time": "2021-12-12T02:54:13.681802Z",
     "start_time": "2021-12-12T02:54:13.675819Z"
    },
    "slideshow": {
     "slide_type": "slide"
    }
   },
   "outputs": [],
   "source": [
    "from random import random\n",
    "\n",
    "def estimate_pi(n = 10000000):\n",
    "    \"\"\"Estimate pi with monte carlo simulation.\"\"\"\n",
    "    in_circle = 0\n",
    "    total = n\n",
    "    \n",
    "    while n != 0:\n",
    "        prec_x = random()\n",
    "        prec_y = random()\n",
    "        if pow(prec_x, 2) + pow(prec_y, 2) <= 1: # circle equation: x^2+y^2=r^2\n",
    "            in_circle += 1 # inside the circle\n",
    "        n -= 1\n",
    "        \n",
    "    return 4 * in_circle / total"
   ]
  },
  {
   "cell_type": "code",
   "execution_count": null,
   "metadata": {
    "ExecuteTime": {
     "end_time": "2021-12-12T02:54:23.107611Z",
     "start_time": "2021-12-12T02:54:18.075029Z"
    },
    "slideshow": {
     "slide_type": "slide"
    }
   },
   "outputs": [],
   "source": [
    "%time estimate_pi()"
   ]
  },
  {
   "cell_type": "markdown",
   "metadata": {},
   "source": [
    "From now on, lets normalize this and run `%timeit` always with the same parameters:"
   ]
  },
  {
   "cell_type": "code",
   "execution_count": null,
   "metadata": {
    "ExecuteTime": {
     "end_time": "2021-12-12T02:55:26.890164Z",
     "start_time": "2021-12-12T02:54:37.537933Z"
    }
   },
   "outputs": [],
   "source": [
    "%timeit -r 2 -n 5 estimate_pi()"
   ]
  },
  {
   "cell_type": "markdown",
   "metadata": {
    "slideshow": {
     "slide_type": "slide"
    }
   },
   "source": [
    "## Optimization"
   ]
  },
  {
   "cell_type": "markdown",
   "metadata": {},
   "source": [
    "```python\n",
    "def estimate_pi(n = 10000000):\n",
    "    in_circle = 0\n",
    "    total = n\n",
    "    \n",
    "    while n != 0:\n",
    "        prec_x = random()\n",
    "        prec_y = random()\n",
    "        if pow(prec_x, 2) + pow(prec_y, 2) <= 1: # circle equation: x^2+y^2=r^2\n",
    "            in_circle += 1 # inside the circle\n",
    "        n -= 1\n",
    "        \n",
    "    return 4 * in_circle / total\n",
    "```"
   ]
  },
  {
   "cell_type": "markdown",
   "metadata": {
    "slideshow": {
     "slide_type": "slide"
    }
   },
   "source": [
    "### Algorithmic optimization\n",
    "Our code is easy to read, but slow, because of:\n",
    "* while loop\n",
    "* function calls: pow()\n",
    "\n",
    "We can replace the whole function with one line!:"
   ]
  },
  {
   "cell_type": "code",
   "execution_count": null,
   "metadata": {
    "ExecuteTime": {
     "end_time": "2021-12-12T02:58:29.836605Z",
     "start_time": "2021-12-12T02:58:29.828625Z"
    }
   },
   "outputs": [],
   "source": [
    "def estimate_pi_oneliner(n=1e7):\n",
    "    return 4 * sum(1 for _ in range(int(n)) if random()**2 + random()**2 <= 1) / n"
   ]
  },
  {
   "cell_type": "code",
   "execution_count": null,
   "metadata": {
    "ExecuteTime": {
     "end_time": "2021-12-12T02:59:26.181740Z",
     "start_time": "2021-12-12T02:58:46.433638Z"
    }
   },
   "outputs": [],
   "source": [
    "%timeit -r 2 -n 5 estimate_pi_oneliner()"
   ]
  },
  {
   "cell_type": "markdown",
   "metadata": {
    "slideshow": {
     "slide_type": "slide"
    }
   },
   "source": [
    "**What did we do?**\n",
    "* <span style=\"color:green\">Replace `pow()` with `**`</span>\n",
    "* <span style=\"color:green\">Replace `while` with `sum(.. for .. in range(n))`</span>\n",
    "* <span style=\"color:red\">Made the function really hard to read for humans</span>"
   ]
  },
  {
   "cell_type": "markdown",
   "metadata": {},
   "source": [
    "This is a **generator expression**: `sum(.. for .. in range(n))`\n",
    "\n"
   ]
  },
  {
   "cell_type": "markdown",
   "metadata": {
    "slideshow": {
     "slide_type": "slide"
    }
   },
   "source": [
    "Iterables: Everything that you can use in a for loop. For example:"
   ]
  },
  {
   "cell_type": "code",
   "execution_count": null,
   "metadata": {},
   "outputs": [],
   "source": [
    "mylist = [0, 1, 4]\n",
    "for i in mylist:\n",
    "    print(i)"
   ]
  },
  {
   "cell_type": "code",
   "execution_count": null,
   "metadata": {},
   "outputs": [],
   "source": [
    "mylist = [x*x for x in range(3)]\n",
    "for i in mylist:\n",
    "    print(i)"
   ]
  },
  {
   "cell_type": "markdown",
   "metadata": {
    "slideshow": {
     "slide_type": "slide"
    }
   },
   "source": [
    "Generators are iterators, but *you can only iterate over them once*. It’s because they do not store all the values in memory, they generate the values on the fly:"
   ]
  },
  {
   "cell_type": "code",
   "execution_count": null,
   "metadata": {},
   "outputs": [],
   "source": [
    "mygenerator = (x*x for x in range(3))\n",
    "for i in mygenerator:\n",
    "    print(i)"
   ]
  },
  {
   "cell_type": "code",
   "execution_count": null,
   "metadata": {},
   "outputs": [],
   "source": [
    "for i in mygenerator:\n",
    "    print(i)\n",
    "# Nothing happens"
   ]
  },
  {
   "cell_type": "markdown",
   "metadata": {},
   "source": [
    "Generators are useful if you run into memory issues."
   ]
  },
  {
   "cell_type": "markdown",
   "metadata": {
    "slideshow": {
     "slide_type": "slide"
    }
   },
   "source": [
    "### Optimization through vectorization"
   ]
  },
  {
   "cell_type": "markdown",
   "metadata": {},
   "source": [
    "All our operations are still inside the \"loop\":\n",
    "```python\n",
    "sum(1 for _ in range(int(n)) if random()**2 + random()**2 <= 1)\n",
    "```\n",
    "    \n",
    "So we are calling `random()` 2*n times, and we call `if` n times. Do we really need to?"
   ]
  },
  {
   "cell_type": "markdown",
   "metadata": {
    "slideshow": {
     "slide_type": "slide"
    }
   },
   "source": [
    "Vectorized version, using numpy:"
   ]
  },
  {
   "cell_type": "code",
   "execution_count": null,
   "metadata": {
    "ExecuteTime": {
     "end_time": "2021-12-12T03:01:30.136897Z",
     "start_time": "2021-12-12T03:01:30.130946Z"
    },
    "slideshow": {
     "slide_type": "-"
    }
   },
   "outputs": [],
   "source": [
    "import numpy as np\n",
    "\n",
    "def estimate_pi_vectorized(n=10000000):\n",
    "    xy = np.random.rand(n, 2)\n",
    "    inside = np.sum(xy[:, 0]**2 + xy[:, 1]**2 <= 1)\n",
    "    return 4 * inside / n"
   ]
  },
  {
   "cell_type": "code",
   "execution_count": null,
   "metadata": {
    "ExecuteTime": {
     "end_time": "2021-12-12T03:01:42.200645Z",
     "start_time": "2021-12-12T03:01:40.165637Z"
    },
    "slideshow": {
     "slide_type": "slide"
    }
   },
   "outputs": [],
   "source": [
    "%timeit -r 2 -n 5 estimate_pi_vectorized()"
   ]
  },
  {
   "cell_type": "markdown",
   "metadata": {
    "slideshow": {
     "slide_type": "slide"
    }
   },
   "source": [
    "##  effective optimization techniques"
   ]
  },
  {
   "cell_type": "markdown",
   "metadata": {
    "slideshow": {
     "slide_type": "slide"
    }
   },
   "source": [
    "### Use better algorithms and data structures, avoid loops"
   ]
  },
  {
   "cell_type": "markdown",
   "metadata": {
    "slideshow": {
     "slide_type": "slide"
    }
   },
   "source": [
    "***Example: Unique common elements***\n",
    "\n",
    "Suppose you were given two lists `xs` and `ys` and asked to find the unique elements in common between them."
   ]
  },
  {
   "cell_type": "code",
   "execution_count": null,
   "metadata": {
    "ExecuteTime": {
     "end_time": "2021-12-12T02:39:15.369036Z",
     "start_time": "2021-12-12T02:39:15.359063Z"
    }
   },
   "outputs": [],
   "source": [
    "xs = np.random.randint(0, 1000, 10000)\n",
    "ys = np.random.randint(0, 1000, 10000)"
   ]
  },
  {
   "cell_type": "code",
   "execution_count": null,
   "metadata": {
    "ExecuteTime": {
     "end_time": "2021-12-12T02:39:40.991103Z",
     "start_time": "2021-12-12T02:39:35.329239Z"
    }
   },
   "outputs": [],
   "source": [
    "# This is easy to solve using a nested loop\n",
    "\n",
    "def common1(xs, ys):\n",
    "    \"\"\"Using lists.\"\"\"\n",
    "    zs = []\n",
    "    for x in xs:\n",
    "        for y in ys:\n",
    "            if x==y and x not in zs:\n",
    "                zs.append(x)\n",
    "    return zs\n",
    "\n",
    "%timeit -n1 -r1 common1(xs, ys)"
   ]
  },
  {
   "cell_type": "code",
   "execution_count": null,
   "metadata": {
    "ExecuteTime": {
     "end_time": "2021-12-12T02:39:50.446278Z",
     "start_time": "2021-12-12T02:39:50.426333Z"
    },
    "slideshow": {
     "slide_type": "slide"
    }
   },
   "outputs": [],
   "source": [
    "# However, it is much more efficient to use the set data structure, avoiding loops\n",
    "\n",
    "def common2(xs, ys):\n",
    "    return list(set(xs) & set(ys))\n",
    "\n",
    "%timeit -n1 -r1 common2(xs, ys)"
   ]
  },
  {
   "cell_type": "markdown",
   "metadata": {
    "slideshow": {
     "slide_type": "slide"
    }
   },
   "source": [
    "### Avoid function calls and dot notation"
   ]
  },
  {
   "cell_type": "markdown",
   "metadata": {},
   "source": [
    "***Example: Looped function calls***\n",
    "\n",
    "In the following example, the function `inner` is called for each element in the list. The overhead of the function call and the argument checking is multiplied 100000 times."
   ]
  },
  {
   "cell_type": "code",
   "execution_count": null,
   "metadata": {
    "ExecuteTime": {
     "end_time": "2021-12-12T02:41:13.128104Z",
     "start_time": "2021-12-12T02:41:04.308696Z"
    }
   },
   "outputs": [],
   "source": [
    "x = 0\n",
    "def inner(i):\n",
    "    global x\n",
    "    x = x + i\n",
    "    \n",
    "def outer1():\n",
    "    for i in range(100000): \n",
    "        inner(i)\n",
    "        \n",
    "%timeit outer1()"
   ]
  },
  {
   "cell_type": "markdown",
   "metadata": {
    "slideshow": {
     "slide_type": "slide"
    }
   },
   "source": [
    "Here instead, the loop is moved inside the aggregate function so that the function is only called once instead of 100000 times:"
   ]
  },
  {
   "cell_type": "code",
   "execution_count": null,
   "metadata": {
    "ExecuteTime": {
     "end_time": "2021-12-12T02:41:55.255308Z",
     "start_time": "2021-12-12T02:41:50.490970Z"
    }
   },
   "outputs": [],
   "source": [
    "x = 0\n",
    "def aggregate(list):\n",
    "    global x\n",
    "    for i in list:\n",
    "        x = x + i\n",
    "\n",
    "def outer2():\n",
    "    aggregate(range(100000))\n",
    "    \n",
    "%timeit outer2()"
   ]
  },
  {
   "cell_type": "markdown",
   "metadata": {
    "slideshow": {
     "slide_type": "slide"
    }
   },
   "source": [
    "## Use compiled code"
   ]
  },
  {
   "cell_type": "markdown",
   "metadata": {},
   "source": [
    "### Cython\n",
    "http://docs.cython.org/en/latest/src/tutorial/cython_tutorial.html\n",
    "\n",
    "Cython is Python with C data types.\n",
    "\n",
    "Cython is Python: Almost any piece of Python code is also valid Cython code. The Cython compiler will convert it into C code which makes equivalent calls to the Python/C API.\n",
    "\n",
    "### Pypy\n",
    "https://pypy.org/\n",
    "\n",
    "Alternative implementaiton of Cython using a just-in-time compiler instead of an interpreter, often making it run faster.\n",
    "\n",
    "### Numba\n",
    "https://numba.pydata.org/\n",
    "\n",
    "Numba is an open source JIT compiler that translates a subset of Python and NumPy code into fast machine code."
   ]
  },
  {
   "cell_type": "markdown",
   "metadata": {},
   "source": [
    "## Optimizing code usually comes at the cost of code readability and maintainability!\n",
    "Think twice if you really need to sacrifice it."
   ]
  },
  {
   "cell_type": "code",
   "execution_count": null,
   "metadata": {},
   "outputs": [],
   "source": []
  },
  {
   "cell_type": "markdown",
   "metadata": {},
   "source": [
    "# The End \n",
    "\n",
    "**Source**\n",
    "\n",
    "This notebook was adapted from:\n",
    "* Data 8: The Foundations of Data Science\n",
    "* Introduction to Data Science by Michael Szell\n",
    "* https://towardsdatascience.com/speed-up-jupyter-notebooks-20716cbe2025\n",
    "* https://jakevdp.github.io/PythonDataScienceHandbook/01.07-timing-and-profiling.html\n",
    "* https://people.duke.edu/~ccc14/sta-663/MakingCodeFast.html\n",
    "* Zelle: Python Programming, Chapter 9"
   ]
  },
  {
   "cell_type": "code",
   "execution_count": null,
   "metadata": {},
   "outputs": [],
   "source": []
  }
 ],
 "metadata": {
  "celltoolbar": "Slideshow",
  "kernelspec": {
   "display_name": "Python 3",
   "language": "python",
   "name": "python3"
  },
  "language_info": {
   "codemirror_mode": {
    "name": "ipython",
    "version": 3
   },
   "file_extension": ".py",
   "mimetype": "text/x-python",
   "name": "python",
   "nbconvert_exporter": "python",
   "pygments_lexer": "ipython3",
   "version": "3.8.8"
  },
  "toc": {
   "base_numbering": 1,
   "nav_menu": {},
   "number_sections": true,
   "sideBar": true,
   "skip_h1_title": false,
   "title_cell": "Table of Contents",
   "title_sidebar": "Contents",
   "toc_cell": false,
   "toc_position": {},
   "toc_section_display": true,
   "toc_window_display": true
  }
 },
 "nbformat": 4,
 "nbformat_minor": 1
}
