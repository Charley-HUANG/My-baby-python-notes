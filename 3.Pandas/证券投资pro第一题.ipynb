{
 "cells": [
  {
   "cell_type": "code",
   "execution_count": 1,
   "metadata": {},
   "outputs": [
    {
     "name": "stdout",
     "output_type": "stream",
     "text": [
      "Requirement already satisfied: pandas in /opt/anaconda3/lib/python3.8/site-packages (1.1.3)\n",
      "Requirement already satisfied: pytz>=2017.2 in /opt/anaconda3/lib/python3.8/site-packages (from pandas) (2020.1)\n",
      "Requirement already satisfied: numpy>=1.15.4 in /opt/anaconda3/lib/python3.8/site-packages (from pandas) (1.19.2)\n",
      "Requirement already satisfied: python-dateutil>=2.7.3 in /opt/anaconda3/lib/python3.8/site-packages (from pandas) (2.8.1)\n",
      "Requirement already satisfied: six>=1.5 in /opt/anaconda3/lib/python3.8/site-packages (from python-dateutil>=2.7.3->pandas) (1.15.0)\n",
      "Note: you may need to restart the kernel to use updated packages.\n"
     ]
    }
   ],
   "source": [
    "pip install pandas\n"
   ]
  },
  {
   "cell_type": "code",
   "execution_count": 4,
   "metadata": {},
   "outputs": [],
   "source": [
    "import pandas as pd\n",
    "\n"
   ]
  },
  {
   "cell_type": "code",
   "execution_count": 68,
   "metadata": {},
   "outputs": [],
   "source": [
    "data1 = pd.read_csv(r\"/Users/otm/Documents/数学系/证券投资/AMD.csv\")\n",
    "data2 = pd.read_csv(r\"/Users/otm/Documents/数学系/证券投资/DQ.csv\")\n",
    "data3 = pd.read_csv(r\"/Users/otm/Documents/数学系/证券投资/PLUG.csv\")\n",
    "data4 = pd.read_csv(r\"/Users/otm/Documents/数学系/证券投资/GME.csv\")\n",
    "data5 = pd.read_csv(r\"/Users/otm/Documents/数学系/证券投资/EYES.csv\")\n",
    "data6 = pd.read_csv(r\"/Users/otm/Documents/数学系/证券投资/IAC.csv\")\n",
    "data7 = pd.read_csv(r\"/Users/otm/Documents/数学系/证券投资/M.csv\")\n",
    "data8 = pd.read_csv(r\"/Users/otm/Documents/数学系/证券投资/FCEL.csv\")\n",
    "data9 = pd.read_csv(r\"/Users/otm/Documents/数学系/证券投资/BLCM.csv\")\n",
    "data10 = pd.read_csv(r\"/Users/otm/Documents/数学系/证券投资/CHKP.csv\")"
   ]
  },
  {
   "cell_type": "code",
   "execution_count": 69,
   "metadata": {
    "scrolled": true
   },
   "outputs": [],
   "source": [
    "#data.columns"
   ]
  },
  {
   "cell_type": "code",
   "execution_count": 70,
   "metadata": {},
   "outputs": [],
   "source": [
    "#data.iloc[:,0]"
   ]
  },
  {
   "cell_type": "code",
   "execution_count": 71,
   "metadata": {
    "scrolled": true
   },
   "outputs": [],
   "source": [
    "#type(data.iloc[0,0])"
   ]
  },
  {
   "cell_type": "code",
   "execution_count": 72,
   "metadata": {},
   "outputs": [
    {
     "name": "stdout",
     "output_type": "stream",
     "text": [
      "Requirement already satisfied: numpy in /opt/anaconda3/lib/python3.8/site-packages (1.19.2)\n",
      "Note: you may need to restart the kernel to use updated packages.\n"
     ]
    }
   ],
   "source": [
    "pip install numpy"
   ]
  },
  {
   "cell_type": "code",
   "execution_count": 73,
   "metadata": {},
   "outputs": [],
   "source": [
    "import numpy as np\n",
    "data_array1=np.array(data1)\n",
    "data_array2=np.array(data2)\n",
    "data_array3=np.array(data3)\n",
    "data_array4=np.array(data4)\n",
    "data_array5=np.array(data5)\n",
    "data_array6=np.array(data6)\n",
    "data_array7=np.array(data7)\n",
    "data_array8=np.array(data8)\n",
    "data_array9=np.array(data9)\n",
    "data_array10=np.array(data10)\n",
    "# print(data_array)"
   ]
  },
  {
   "cell_type": "code",
   "execution_count": 74,
   "metadata": {},
   "outputs": [
    {
     "name": "stdout",
     "output_type": "stream",
     "text": [
      "[[\"2015-01-01'\" 2.57]\n",
      " [\"2015-02-01'\" 3.11]\n",
      " [\"2015-03-01'\" 2.68]]\n"
     ]
    }
   ],
   "source": [
    "date1=data_array1[:,0]\n",
    "date2=data_array2[:,0]\n",
    "date3=data_array3[:,0]\n",
    "date4=data_array4[:,0]\n",
    "date5=data_array5[:,0]\n",
    "date6=data_array6[:,0]\n",
    "date7=data_array7[:,0]\n",
    "date8=data_array8[:,0]\n",
    "date9=data_array9[:,0]\n",
    "date10=data_array10[:,0]\n",
    "price1=data_array1[:,5]\n",
    "price2=data_array2[:,5]\n",
    "price3=data_array3[:,5]\n",
    "price4=data_array4[:,5]\n",
    "price5=data_array5[:,5]\n",
    "price6=data_array6[:,5]\n",
    "price7=data_array7[:,5]\n",
    "price8=data_array8[:,5]\n",
    "price9=data_array9[:,5]\n",
    "price10=data_array10[:,5]\n",
    "# print(date)\n",
    "# print(price)\n",
    "list=data_array[:,[0,5]]\n",
    "print(list[0:3])\n"
   ]
  },
  {
   "cell_type": "code",
   "execution_count": 75,
   "metadata": {},
   "outputs": [
    {
     "name": "stdout",
     "output_type": "stream",
     "text": [
      "2015-01-01'\n",
      "[[\"2015-01-01'\" 2.57]\n",
      " [\"2015-02-01'\" 3.11]\n",
      " [\"2015-03-01'\" 2.68]]\n"
     ]
    }
   ],
   "source": [
    "print(list[0][0])\n",
    "print(list[0:3])"
   ]
  },
  {
   "cell_type": "code",
   "execution_count": 99,
   "metadata": {},
   "outputs": [],
   "source": [
    "# price_avg=np.mean(price)\n",
    "# print(price_avg)\n",
    "\n",
    "def cal_return(price):   \n",
    "    return1 = []\n",
    "    for i in range(len(price)-1):\n",
    "        temp=(price[i+1]-price[i])/price[i]\n",
    "        return1.append(temp)\n",
    "    return_avg=np.mean(return1)\n",
    "    return return_avg\n",
    "    \n",
    "def cal_stdvariance(price):\n",
    "    return2 = []\n",
    "    for i in range(len(price)-1):\n",
    "        temp=(price[i+1]-price[i])/price[i]\n",
    "        return2.append(temp)\n",
    "    return_std=np.std(return2)\n",
    "    return return_std\n",
    "\n",
    "\n",
    "def data_return(price):\n",
    "    return3 = []\n",
    "    for i in range(len(price)-1):\n",
    "        temp=(price[i+1]-price[i])/price[i]\n",
    "        return3.append(temp)\n",
    "    return return3\n",
    "\n",
    "\n",
    "#总体的return数据\n",
    "price1_return_data=data_return(price1)\n",
    "price2_return_data=data_return(price2)\n",
    "price3_return_data=data_return(price3)\n",
    "price4_return_data=data_return(price4)\n",
    "price5_return_data=data_return(price5)\n",
    "price6_return_data=data_return(price6)\n",
    "price7_return_data=data_return(price7)\n",
    "price8_return_data=data_return(price8)\n",
    "price9_return_data=data_return(price9)\n",
    "price10_return_data=data_return(price10)\n",
    "\n",
    "\n",
    "#return的均值\n",
    "price1_return = cal_return(price1)\n",
    "price2_return = cal_return(price2)\n",
    "price3_return = cal_return(price3)\n",
    "price4_return = cal_return(price4)\n",
    "price5_return = cal_return(price5)\n",
    "price6_return = cal_return(price6)\n",
    "price7_return = cal_return(price7)\n",
    "price8_return = cal_return(price8)\n",
    "price9_return = cal_return(price9)\n",
    "price10_return = cal_return(price10)\n",
    "price_return=[price1_return,price2_return,price3_return,price4_return,price5_return,price6_return,price7_return,price8_return,price9_return,price10_return]\n",
    "\n",
    "#return的标准差\n",
    "price1_std=cal_stdvariance(price1)\n",
    "price2_std=cal_stdvariance(price2)\n",
    "price3_std=cal_stdvariance(price3)\n",
    "price4_std=cal_stdvariance(price4)\n",
    "price5_std=cal_stdvariance(price5)\n",
    "price6_std=cal_stdvariance(price6)\n",
    "price7_std=cal_stdvariance(price7)\n",
    "price8_std=cal_stdvariance(price8)\n",
    "price9_std=cal_stdvariance(price9)\n",
    "price10_std=cal_stdvariance(price10)\n",
    "price_std=[price1_std,price2_std,price3_std,price4_std,price5_std,price6_std,price7_std,price8_std,price9_std,price10_std]\n",
    "\n",
    "\n",
    "#print(price_return)    \n",
    "#print(cal_return(price1))\n",
    "#print(cal_stdvariance(price1))\n",
    "#print(cal_return(price2))\n",
    "#print(cal_stdvariance(price2))\n",
    "# print(return1)\n",
    "# print(np.mean(return1))"
   ]
  },
  {
   "cell_type": "code",
   "execution_count": 86,
   "metadata": {
    "scrolled": false
   },
   "outputs": [
    {
     "data": {
      "text/plain": [
       "array([[ 2.89471359e-02, -2.46932572e-04,  1.35721790e-03,\n",
       "         2.35271587e-03,  6.22598053e-03,  1.64751202e-03,\n",
       "         2.95587842e-03,  1.73049602e-02, -1.48612163e-02,\n",
       "         2.41216046e-03],\n",
       "       [-2.46932572e-04,  1.58103853e-01, -1.10387309e-02,\n",
       "         1.47383199e-03,  5.21601549e-03, -1.17255248e-02,\n",
       "        -4.41037737e-03,  2.01255995e-02, -1.10847197e-01,\n",
       "         3.42902361e-04],\n",
       "       [ 1.35721790e-03, -1.10387309e-02,  5.51370289e-02,\n",
       "         2.05691590e-02,  2.36975068e-02, -5.90161999e-03,\n",
       "         1.36882872e-02,  6.00389371e-02,  4.16855185e-02,\n",
       "         2.58378291e-03],\n",
       "       [ 2.35271587e-03,  1.47383199e-03,  2.05691590e-02,\n",
       "         3.61582774e-02,  1.56305624e-02, -4.72305649e-03,\n",
       "         1.10205093e-02,  4.55068673e-02,  7.76109722e-03,\n",
       "         7.79015307e-04],\n",
       "       [ 6.22598053e-03,  5.21601549e-03,  2.36975068e-02,\n",
       "         1.56305624e-02,  1.01740466e-01,  2.07302339e-03,\n",
       "         1.58083699e-02,  2.73941080e-02, -1.72636450e-02,\n",
       "         4.39330239e-03],\n",
       "       [ 1.64751202e-03, -1.17255248e-02, -5.90161999e-03,\n",
       "        -4.72305649e-03,  2.07302339e-03,  1.26541550e-01,\n",
       "         6.34698384e-03, -1.14266044e-02, -3.07200111e-02,\n",
       "         1.08968227e-03],\n",
       "       [ 2.95587842e-03, -4.41037737e-03,  1.36882872e-02,\n",
       "         1.10205093e-02,  1.58083699e-02,  6.34698384e-03,\n",
       "         2.38964077e-02,  4.95296056e-02,  7.35138668e-03,\n",
       "        -2.22111104e-04],\n",
       "       [ 1.73049602e-02,  2.01255995e-02,  6.00389371e-02,\n",
       "         4.55068673e-02,  2.73941080e-02, -1.14266044e-02,\n",
       "         4.95296056e-02,  4.46694496e-01,  2.63509842e-02,\n",
       "         9.31674941e-04],\n",
       "       [-1.48612163e-02, -1.10847197e-01,  4.16855185e-02,\n",
       "         7.76109722e-03, -1.72636450e-02, -3.07200111e-02,\n",
       "         7.35138668e-03,  2.63509842e-02,  3.43453738e+00,\n",
       "         1.57121004e-03],\n",
       "       [ 2.41216046e-03,  3.42902361e-04,  2.58378291e-03,\n",
       "         7.79015307e-04,  4.39330239e-03,  1.08968227e-03,\n",
       "        -2.22111104e-04,  9.31674941e-04,  1.57121004e-03,\n",
       "         3.43184384e-03]])"
      ]
     },
     "execution_count": 86,
     "metadata": {},
     "output_type": "execute_result"
    }
   ],
   "source": [
    "return_data=[price1_return_data,price2_return_data,price3_return_data,price4_return_data,price5_return_data,price6_return_data,price7_return_data,price8_return_data,price9_return_data,price10_return_data]\n",
    "cov_matrix = np.cov(return_data)\n"
   ]
  },
  {
   "cell_type": "code",
   "execution_count": 87,
   "metadata": {},
   "outputs": [],
   "source": [
    "from functools import reduce\n",
    "import matplotlib.pyplot as plt\n",
    "import scipy.optimize as solver"
   ]
  },
  {
   "cell_type": "code",
   "execution_count": 288,
   "metadata": {
    "scrolled": true
   },
   "outputs": [
    {
     "data": {
      "text/plain": [
       "[<matplotlib.lines.Line2D at 0x7f8fe67ed9d0>]"
      ]
     },
     "execution_count": 288,
     "metadata": {},
     "output_type": "execute_result"
    },
    {
     "data": {
      "image/png": "[encoded data removed]",
      "text/plain": [
       "<Figure size 432x288 with 1 Axes>"
      ]
     },
     "metadata": {
      "needs_background": "light"
     },
     "output_type": "display_data"
    }
   ],
   "source": [
    "rtn = []\n",
    "sds = []\n",
    "for _ in range(10000):\n",
    "    \tw = np.random.rand(10)\n",
    "    \tw /= sum(w)\n",
    "    \trtn.append(sum(price_return * w))\n",
    "    \tsds.append(np.sqrt(reduce(np.dot, [w, cov_matrix, w.T])))\n",
    "plt.plot(sds, rtn, 'bo',markersize=0.2) \n",
    "\n",
    "def sd(w):\n",
    "    return np.sqrt(reduce(np.dot, [w, cov_matrix, w.T]))  \n",
    "x0 = np.array([1.0 / 10 for x in range(10)])  \n",
    "bounds = tuple((0, 10) for x in range(10))  \n",
    "given_r = np.arange(0, .15, .005)  \n",
    "risk = []  \n",
    "for i in given_r:  \n",
    "    constraints = [{'type': 'eq', 'fun': lambda x: sum(x) - 1},\n",
    "                   {'type': 'eq', 'fun': lambda x: sum(x * price_return) - i}]\n",
    "    #print(len(risk))\n",
    "    outcome = solver.minimize(sd, x0=x0, constraints=constraints, bounds=bounds)  \n",
    "    risk.append(outcome.fun)  \n",
    "\n",
    "plt.plot(risk, given_r, 'g-') \n",
    "\n",
    "\n",
    "min_var=risk[0]\n",
    "abc=0;\n",
    "for i in range (len(risk)-1):\n",
    "    if risk[i+1]<=risk[i]:\n",
    "        min_var = risk[i+1]\n",
    "        abc=i+1;\n",
    "\n",
    "\n",
    "\n",
    "plt.scatter(min_var,given_r[abc],c='r')\n",
    "\n",
    "\n",
    "plt.plot([0,0.2],[0.015,0.1092361856494612])\n",
    "\n"
   ]
  },
  {
   "cell_type": "code",
   "execution_count": 280,
   "metadata": {},
   "outputs": [
    {
     "data": {
      "text/plain": [
       "[<matplotlib.lines.Line2D at 0x7f8fe61f8a60>]"
      ]
     },
     "execution_count": 280,
     "metadata": {},
     "output_type": "execute_result"
    },
    {
     "data": {
      "image/png": "[encoded data removed]",
      "text/plain": [
       "<Figure size 432x288 with 1 Axes>"
      ]
     },
     "metadata": {
      "needs_background": "light"
     },
     "output_type": "display_data"
    }
   ],
   "source": [
    "\n",
    "\n",
    "\n",
    "\n",
    "#parameter=np.polyfit(given_r,risk,2)\n",
    "#risk=parameter[0]*given_r**2+parameter[1]*given_r**1+parameter[2]#*given_r**1+parameter[3]#*given_r+parameter[4]\n",
    "#plt.plot(risk,given_r)\n",
    "\n",
    "\n",
    "\n"
   ]
  },
  {
   "cell_type": "code",
   "execution_count": 219,
   "metadata": {},
   "outputs": [
    {
     "name": "stdout",
     "output_type": "stream",
     "text": [
      "     fun: 0.053280128891277645\n",
      "     jac: array([0.05289837, 0.05364181, 0.07391466, 0.05326987, 0.11211292,\n",
      "       0.05287925, 0.05357519, 0.15259783, 0.05446785, 0.05324223])\n",
      " message: 'Optimization terminated successfully'\n",
      "    nfev: 121\n",
      "     nit: 11\n",
      "    njev: 11\n",
      "  status: 0\n",
      " success: True\n",
      "       x: array([1.61789702e-02, 2.09134338e-02, 1.50865038e-17, 2.60647160e-02,\n",
      "       0.00000000e+00, 1.25630162e-02, 1.13166574e-01, 0.00000000e+00,\n",
      "       1.03058049e-03, 8.10082709e-01])\n",
      "[0.053280128891277645, 0.053280128891277645, 0.053280128891277645, 0.053280128891277645, 0.053280128891277645, 0.053280128891277645, 0.053280128891277645, 0.053280128891277645, 0.053280128891277645, 0.053280128891277645, 0.053280128891277645, 0.053280128891277645, 0.053280128891277645, 0.053280128891277645, 0.053280128891277645, 0.053280128891277645, 0.053280128891277645, 0.053280128891277645, 0.053280128891277645, 0.053280128891277645, 0.053280128891277645, 0.053280128891277645, 0.053280128891277645, 0.053280128891277645, 0.053280128891277645, 0.053280128891277645, 0.053280128891277645, 0.053280128891277645, 0.053280128891277645, 0.053280128891277645, 0.053280128891277645, 0.053280128891277645, 0.053280128891277645, 0.053280128891277645, 0.053280128891277645, 0.053280128891277645, 0.053280128891277645, 0.053280128891277645, 0.053280128891277645, 0.053280128891277645, 0.053280128891277645, 0.053280128891277645, 0.053280128891277645, 0.053280128891277645]\n"
     ]
    },
    {
     "data": {
      "image/png": "[encoded data removed]",
      "text/plain": [
       "<Figure size 432x288 with 1 Axes>"
      ]
     },
     "metadata": {
      "needs_background": "light"
     },
     "output_type": "display_data"
    }
   ],
   "source": [
    "\n",
    "\n"
   ]
  },
  {
   "cell_type": "code",
   "execution_count": null,
   "metadata": {},
   "outputs": [],
   "source": []
  }
 ],
 "metadata": {
  "kernelspec": {
   "display_name": "Python 3",
   "language": "python",
   "name": "python3"
  },
  "language_info": {
   "codemirror_mode": {
    "name": "ipython",
    "version": 3
   },
   "file_extension": ".py",
   "mimetype": "text/x-python",
   "name": "python",
   "nbconvert_exporter": "python",
   "pygments_lexer": "ipython3",
   "version": "3.8.8"
  },
  "toc": {
   "base_numbering": 1,
   "nav_menu": {},
   "number_sections": true,
   "sideBar": true,
   "skip_h1_title": false,
   "title_cell": "Table of Contents",
   "title_sidebar": "Contents",
   "toc_cell": false,
   "toc_position": {},
   "toc_section_display": true,
   "toc_window_display": false
  }
 },
 "nbformat": 4,
 "nbformat_minor": 4
}
