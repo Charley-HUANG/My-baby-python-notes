{
 "cells": [
  {
   "cell_type": "markdown",
   "metadata": {
    "slideshow": {
     "slide_type": "slide"
    }
   },
   "source": [
    "<p style=\"font-size:15pt; text-align:center\">\n",
    "    Introduction to Data Science\n",
    "</p>\n",
    "<p style=\"font-size:20pt; text-align:center\">\n",
    "    Single-variable analysis\n",
    "</p>"
   ]
  },
  {
   "cell_type": "code",
   "execution_count": 5,
   "metadata": {
    "ExecuteTime": {
     "end_time": "2021-10-22T09:13:54.896589Z",
     "start_time": "2021-10-22T09:13:54.368216Z"
    },
    "slideshow": {
     "slide_type": "slide"
    }
   },
   "outputs": [],
   "source": [
    "import numpy as np\n",
    "import pandas as pd"
   ]
  },
  {
   "cell_type": "code",
   "execution_count": 2,
   "metadata": {
    "ExecuteTime": {
     "end_time": "2021-10-22T09:07:22.708028Z",
     "start_time": "2021-10-22T09:07:21.979951Z"
    }
   },
   "outputs": [],
   "source": [
    "import matplotlib.pyplot as plt  # standard way of importing matplotlib\n",
    "%matplotlib inline  \n",
    "# the second line is a so-called magic to allow jupyter\n",
    "#showing plots inline instead of opening a new window"
   ]
  },
  {
   "cell_type": "markdown",
   "metadata": {
    "slideshow": {
     "slide_type": "slide"
    }
   },
   "source": [
    "# Loading a data set and initial data analysis"
   ]
  },
  {
   "cell_type": "markdown",
   "metadata": {},
   "source": [
    "Initial data analysis is the first step of exploratory data analysis that you **must** do whenever you put hands on a new data set.\n",
    "\n",
    "The aim is to do consistency checks to see that the quality of the measurements and of the data is adequate. See wikipedia for more details: https://en.wikipedia.org/wiki/Data_analysis#Initial_data_analysis"
   ]
  },
  {
   "cell_type": "markdown",
   "metadata": {
    "slideshow": {
     "slide_type": "slide"
    }
   },
   "source": [
    "We will use the ``demographics.csv`` data. Data set adapted from [Kaggle](https://www.kaggle.com/carlolepelaars/toy-dataset/downloads/toy-dataset.zip/1).\n",
    "\n",
    "This data set contains demographic information about individuals and whether they are ill or healthy."
   ]
  },
  {
   "cell_type": "markdown",
   "metadata": {},
   "source": [
    "***\n",
    "Question: What types of variable are these?\n",
    "***"
   ]
  },
  {
   "cell_type": "code",
   "execution_count": 14,
   "metadata": {
    "ExecuteTime": {
     "end_time": "2021-10-22T09:36:53.419287Z",
     "start_time": "2021-10-22T09:36:52.080267Z"
    },
    "slideshow": {
     "slide_type": "slide"
    }
   },
   "outputs": [
    {
     "data": {
      "text/plain": [
       "dtype('int64')"
      ]
     },
     "execution_count": 14,
     "metadata": {},
     "output_type": "execute_result"
    }
   ],
   "source": [
    "#load data\n",
    "#datademographic_array = np.loadtxt('files/demographics.csv') # First attempt to load data\n",
    "datademographic_array = np.loadtxt('files/demographics.csv', skiprows=1, delimiter=',', dtype='int64') # Success!\n",
    "datademographic_array.dtype"
   ]
  },
  {
   "cell_type": "code",
   "execution_count": 6,
   "metadata": {
    "ExecuteTime": {
     "end_time": "2021-10-22T09:14:01.709546Z",
     "start_time": "2021-10-22T09:14:01.588529Z"
    },
    "slideshow": {
     "slide_type": "slide"
    }
   },
   "outputs": [],
   "source": [
    "# load data\n",
    "datademographic = pd.read_csv('files/demographics.csv') # First attempt to load data"
   ]
  },
  {
   "cell_type": "code",
   "execution_count": 7,
   "metadata": {
    "ExecuteTime": {
     "end_time": "2021-10-22T09:14:20.379772Z",
     "start_time": "2021-10-22T09:14:20.355757Z"
    },
    "slideshow": {
     "slide_type": "slide"
    }
   },
   "outputs": [
    {
     "data": {
      "text/html": [
       "<div>\n",
       "<style scoped>\n",
       "    .dataframe tbody tr th:only-of-type {\n",
       "        vertical-align: middle;\n",
       "    }\n",
       "\n",
       "    .dataframe tbody tr th {\n",
       "        vertical-align: top;\n",
       "    }\n",
       "\n",
       "    .dataframe thead th {\n",
       "        text-align: right;\n",
       "    }\n",
       "</style>\n",
       "<table border=\"1\" class=\"dataframe\">\n",
       "  <thead>\n",
       "    <tr style=\"text-align: right;\">\n",
       "      <th></th>\n",
       "      <th>ID</th>\n",
       "      <th>City</th>\n",
       "      <th>Gender</th>\n",
       "      <th>Age</th>\n",
       "      <th>Income</th>\n",
       "      <th>Illness</th>\n",
       "    </tr>\n",
       "  </thead>\n",
       "  <tbody>\n",
       "    <tr>\n",
       "      <th>0</th>\n",
       "      <td>1</td>\n",
       "      <td>1</td>\n",
       "      <td>0</td>\n",
       "      <td>41</td>\n",
       "      <td>40367</td>\n",
       "      <td>0</td>\n",
       "    </tr>\n",
       "    <tr>\n",
       "      <th>1</th>\n",
       "      <td>2</td>\n",
       "      <td>1</td>\n",
       "      <td>0</td>\n",
       "      <td>54</td>\n",
       "      <td>45084</td>\n",
       "      <td>0</td>\n",
       "    </tr>\n",
       "    <tr>\n",
       "      <th>2</th>\n",
       "      <td>3</td>\n",
       "      <td>1</td>\n",
       "      <td>0</td>\n",
       "      <td>42</td>\n",
       "      <td>52483</td>\n",
       "      <td>0</td>\n",
       "    </tr>\n",
       "    <tr>\n",
       "      <th>3</th>\n",
       "      <td>4</td>\n",
       "      <td>1</td>\n",
       "      <td>0</td>\n",
       "      <td>40</td>\n",
       "      <td>40941</td>\n",
       "      <td>0</td>\n",
       "    </tr>\n",
       "    <tr>\n",
       "      <th>4</th>\n",
       "      <td>5</td>\n",
       "      <td>1</td>\n",
       "      <td>0</td>\n",
       "      <td>46</td>\n",
       "      <td>50289</td>\n",
       "      <td>0</td>\n",
       "    </tr>\n",
       "    <tr>\n",
       "      <th>...</th>\n",
       "      <td>...</td>\n",
       "      <td>...</td>\n",
       "      <td>...</td>\n",
       "      <td>...</td>\n",
       "      <td>...</td>\n",
       "      <td>...</td>\n",
       "    </tr>\n",
       "    <tr>\n",
       "      <th>149995</th>\n",
       "      <td>149996</td>\n",
       "      <td>7</td>\n",
       "      <td>0</td>\n",
       "      <td>48</td>\n",
       "      <td>93669</td>\n",
       "      <td>0</td>\n",
       "    </tr>\n",
       "    <tr>\n",
       "      <th>149996</th>\n",
       "      <td>149997</td>\n",
       "      <td>7</td>\n",
       "      <td>0</td>\n",
       "      <td>25</td>\n",
       "      <td>96748</td>\n",
       "      <td>0</td>\n",
       "    </tr>\n",
       "    <tr>\n",
       "      <th>149997</th>\n",
       "      <td>149998</td>\n",
       "      <td>7</td>\n",
       "      <td>0</td>\n",
       "      <td>26</td>\n",
       "      <td>111885</td>\n",
       "      <td>0</td>\n",
       "    </tr>\n",
       "    <tr>\n",
       "      <th>149998</th>\n",
       "      <td>149999</td>\n",
       "      <td>7</td>\n",
       "      <td>0</td>\n",
       "      <td>25</td>\n",
       "      <td>111878</td>\n",
       "      <td>0</td>\n",
       "    </tr>\n",
       "    <tr>\n",
       "      <th>149999</th>\n",
       "      <td>150000</td>\n",
       "      <td>7</td>\n",
       "      <td>1</td>\n",
       "      <td>37</td>\n",
       "      <td>87251</td>\n",
       "      <td>0</td>\n",
       "    </tr>\n",
       "  </tbody>\n",
       "</table>\n",
       "<p>150000 rows × 6 columns</p>\n",
       "</div>"
      ],
      "text/plain": [
       "            ID  City  Gender  Age  Income  Illness\n",
       "0            1     1       0   41   40367        0\n",
       "1            2     1       0   54   45084        0\n",
       "2            3     1       0   42   52483        0\n",
       "3            4     1       0   40   40941        0\n",
       "4            5     1       0   46   50289        0\n",
       "...        ...   ...     ...  ...     ...      ...\n",
       "149995  149996     7       0   48   93669        0\n",
       "149996  149997     7       0   25   96748        0\n",
       "149997  149998     7       0   26  111885        0\n",
       "149998  149999     7       0   25  111878        0\n",
       "149999  150000     7       1   37   87251        0\n",
       "\n",
       "[150000 rows x 6 columns]"
      ]
     },
     "execution_count": 7,
     "metadata": {},
     "output_type": "execute_result"
    }
   ],
   "source": [
    "datademographic"
   ]
  },
  {
   "cell_type": "markdown",
   "metadata": {
    "slideshow": {
     "slide_type": "slide"
    }
   },
   "source": [
    "How big is the data set?"
   ]
  },
  {
   "cell_type": "code",
   "execution_count": 8,
   "metadata": {
    "ExecuteTime": {
     "end_time": "2021-10-22T09:16:13.612224Z",
     "start_time": "2021-10-22T09:16:13.605226Z"
    }
   },
   "outputs": [
    {
     "name": "stdout",
     "output_type": "stream",
     "text": [
      "(150000, 6)\n",
      "900000\n"
     ]
    }
   ],
   "source": [
    "print(datademographic.shape)\n",
    "print(datademographic.size)"
   ]
  },
  {
   "cell_type": "markdown",
   "metadata": {
    "slideshow": {
     "slide_type": "slide"
    }
   },
   "source": [
    "How many unique values are there per variable?"
   ]
  },
  {
   "cell_type": "code",
   "execution_count": 13,
   "metadata": {
    "ExecuteTime": {
     "end_time": "2021-10-22T09:36:09.347409Z",
     "start_time": "2021-10-22T09:36:09.279453Z"
    }
   },
   "outputs": [
    {
     "name": "stdout",
     "output_type": "stream",
     "text": [
      "ID\n",
      "150000\n",
      "2049     1\n",
      "23262    1\n",
      "56014    1\n",
      "53967    1\n",
      "10960    1\n",
      "        ..\n",
      "3371     1\n",
      "13612    1\n",
      "15661    1\n",
      "9518     1\n",
      "2047     1\n",
      "Name: ID, Length: 150000, dtype: int64\n",
      "\n",
      "\n",
      "\n",
      "City\n",
      "150000\n",
      "2    50307\n",
      "3    32173\n",
      "1    19707\n",
      "4    14219\n",
      "7    12292\n",
      "5     8301\n",
      "6     8120\n",
      "8     4881\n",
      "Name: City, dtype: int64\n",
      "\n",
      "\n",
      "\n",
      "Gender\n",
      "150000\n",
      "0    83800\n",
      "1    66200\n",
      "Name: Gender, dtype: int64\n",
      "\n",
      "\n",
      "\n",
      "Age\n",
      "150000\n",
      "26    3918\n",
      "64    3879\n",
      "41    3862\n",
      "43    3862\n",
      "54    3838\n",
      "29    3805\n",
      "28    3798\n",
      "27    3790\n",
      "63    3784\n",
      "44    3782\n",
      "36    3780\n",
      "59    3775\n",
      "47    3773\n",
      "37    3771\n",
      "33    3769\n",
      "58    3762\n",
      "49    3762\n",
      "42    3760\n",
      "32    3759\n",
      "52    3753\n",
      "31    3749\n",
      "48    3743\n",
      "40    3740\n",
      "61    3737\n",
      "38    3734\n",
      "57    3732\n",
      "30    3731\n",
      "51    3729\n",
      "53    3724\n",
      "34    3710\n",
      "46    3707\n",
      "50    3692\n",
      "55    3687\n",
      "62    3684\n",
      "39    3675\n",
      "45    3670\n",
      "35    3658\n",
      "56    3602\n",
      "60    3582\n",
      "25    1868\n",
      "65    1864\n",
      "Name: Age, dtype: int64\n",
      "\n",
      "\n",
      "\n",
      "Income\n",
      "150000\n",
      "98410     15\n",
      "94606     13\n",
      "93808     13\n",
      "96376     12\n",
      "96389     12\n",
      "          ..\n",
      "39978      1\n",
      "46127      1\n",
      "19504      1\n",
      "148593     1\n",
      "24564      1\n",
      "Name: Income, Length: 71762, dtype: int64\n",
      "\n",
      "\n",
      "\n",
      "Illness\n",
      "150000\n",
      "0    137861\n",
      "1     12139\n",
      "Name: Illness, dtype: int64\n",
      "\n",
      "\n",
      "\n"
     ]
    }
   ],
   "source": [
    "for col in datademographic.columns:\n",
    "    print (col, \"\\n\", datademographic.loc[:,col].size, \"\\n\", datademographic.loc[:, col].value_counts(), \"\\n\\n\\n\", sep=\"\")"
   ]
  },
  {
   "cell_type": "code",
   "execution_count": 15,
   "metadata": {
    "ExecuteTime": {
     "end_time": "2021-10-22T09:37:11.527416Z",
     "start_time": "2021-10-22T09:37:11.450463Z"
    },
    "slideshow": {
     "slide_type": "slide"
    }
   },
   "outputs": [
    {
     "name": "stdout",
     "output_type": "stream",
     "text": [
      "0 150000 [     1      2      3 ... 149998 149999 150000] \n",
      "\n",
      "1 8 [1 2 3 4 5 6 7 8] \n",
      "\n",
      "2 2 [0 1] \n",
      "\n",
      "3 41 [25 26 27 28 29 30 31 32 33 34 35 36 37 38 39 40 41 42 43 44 45 46 47 48\n",
      " 49 50 51 52 53 54 55 56 57 58 59 60 61 62 63 64 65] \n",
      "\n",
      "4 71762 [        -654          584         2474 ... 415240000000 500820000000\n",
      " 547770000000] \n",
      "\n",
      "5 2 [0 1] \n",
      "\n"
     ]
    }
   ],
   "source": [
    "for col in range(datademographic_array.shape[1]):\n",
    "    print(col, np.unique(datademographic_array[:,col]).size, np.unique(datademographic_array[:,col]), \"\\n\")"
   ]
  },
  {
   "cell_type": "markdown",
   "metadata": {
    "slideshow": {
     "slide_type": "slide"
    }
   },
   "source": [
    "We observe:\n",
    "\n",
    "    - The IDs are all unique. How do we see this?\n",
    "    - There are 8 cities.\n",
    "    - There are 2 genders.\n",
    "    - There are 41 age groups (25-65 year olds).\n",
    "    - There are many different income levels.\n",
    "    - There are ill and healthy people."
   ]
  },
  {
   "cell_type": "markdown",
   "metadata": {
    "slideshow": {
     "slide_type": "slide"
    }
   },
   "source": [
    "# Exploratory data analysis of categorical variables"
   ]
  },
  {
   "cell_type": "markdown",
   "metadata": {},
   "source": [
    "How many people are from each city?"
   ]
  },
  {
   "cell_type": "code",
   "execution_count": 18,
   "metadata": {
    "ExecuteTime": {
     "end_time": "2021-10-22T09:41:54.193375Z",
     "start_time": "2021-10-22T09:41:54.174438Z"
    }
   },
   "outputs": [
    {
     "data": {
      "text/plain": [
       "2    50307\n",
       "3    32173\n",
       "1    19707\n",
       "4    14219\n",
       "7    12292\n",
       "5     8301\n",
       "6     8120\n",
       "8     4881\n",
       "Name: City, dtype: int64"
      ]
     },
     "execution_count": 18,
     "metadata": {},
     "output_type": "execute_result"
    }
   ],
   "source": [
    "datademographic.loc[:,\"City\"].value_counts()"
   ]
  },
  {
   "cell_type": "code",
   "execution_count": 17,
   "metadata": {
    "ExecuteTime": {
     "end_time": "2021-10-22T09:41:11.275680Z",
     "start_time": "2021-10-22T09:41:11.249729Z"
    },
    "slideshow": {
     "slide_type": "slide"
    }
   },
   "outputs": [
    {
     "data": {
      "text/plain": [
       "(array([1, 2, 3, 4, 5, 6, 7, 8], dtype=int64),\n",
       " array([19707, 50307, 32173, 14219,  8301,  8120, 12292,  4881],\n",
       "       dtype=int64))"
      ]
     },
     "execution_count": 17,
     "metadata": {},
     "output_type": "execute_result"
    }
   ],
   "source": [
    "np.unique(datademographic_array[:,1], return_counts=True)"
   ]
  },
  {
   "cell_type": "markdown",
   "metadata": {},
   "source": [
    "Easy. But can we make this more visual? Yes: We need to plot. Let's use matplotlib!"
   ]
  },
  {
   "cell_type": "markdown",
   "metadata": {
    "slideshow": {
     "slide_type": "slide"
    }
   },
   "source": [
    "## matplotlib is THE python graphics library"
   ]
  },
  {
   "cell_type": "markdown",
   "metadata": {},
   "source": [
    "* [Matplotlib](http://matplotlib.org) is a powerful 2D and 3D graphics library for generating scientific figures. Some of the many advantages of this library include:\n",
    "\n",
    "* Easy to get started\n",
    "* Support for $\\LaTeX$ formatted labels and texts\n",
    "* Great control of every element in a figure, including figure size and DPI. \n",
    "* High-quality output in many formats, including PNG, PDF, SVG, EPS, and PGF.\n",
    "\n",
    "One of the key features of matplotlib is that all aspects of the figure can be controlled *programmatically*. This is important for reproducibility and convenient when one needs to regenerate the figure with updated data or change its appearance. This makes matplotlib highly suitable for generating figures for scientific publications. \n",
    "\n",
    "More information at the Matplotlib web page: http://matplotlib.org/ . There's a [nice gallery](http://matplotlib.org/gallery.html) worth checking out. \n"
   ]
  },
  {
   "cell_type": "markdown",
   "metadata": {
    "slideshow": {
     "slide_type": "slide"
    }
   },
   "source": [
    "## Use matplotlib's object-oriented interface."
   ]
  },
  {
   "cell_type": "markdown",
   "metadata": {
    "slideshow": {
     "slide_type": "slide"
    }
   },
   "source": [
    "### The matplotlib object-oriented API\n",
    "\n",
    "The main idea with object-oriented programming is to have objects that one can apply functions and actions on, and no object or program states should be global. The real advantage of this approach becomes apparent when more than one figure is created, or when a figure contains more than one subplot. \n",
    "\n",
    "The main object hierarchy is this:\n",
    "<img src=\"files/figmap.png\" width=\"400px\"/>"
   ]
  },
  {
   "cell_type": "code",
   "execution_count": 21,
   "metadata": {
    "ExecuteTime": {
     "end_time": "2021-10-22T09:55:30.320745Z",
     "start_time": "2021-10-22T09:55:30.301724Z"
    },
    "slideshow": {
     "slide_type": "slide"
    }
   },
   "outputs": [],
   "source": [
    "import matplotlib.pyplot as plt  # standard way of importing matplotlib\n",
    "%matplotlib inline\n",
    "# the second line is a so-called magic to allow jupyter showing plots inline instead of opening a new window"
   ]
  },
  {
   "cell_type": "code",
   "execution_count": 22,
   "metadata": {
    "ExecuteTime": {
     "end_time": "2021-10-22T11:37:31.353467Z",
     "start_time": "2021-10-22T11:37:31.332443Z"
    }
   },
   "outputs": [
    {
     "data": {
      "text/plain": [
       "matplotlib.figure.Figure"
      ]
     },
     "execution_count": 22,
     "metadata": {},
     "output_type": "execute_result"
    },
    {
     "data": {
      "text/plain": [
       "<Figure size 432x288 with 0 Axes>"
      ]
     },
     "metadata": {},
     "output_type": "display_data"
    }
   ],
   "source": [
    "fig = plt.figure()\n",
    "type(fig)"
   ]
  },
  {
   "cell_type": "markdown",
   "metadata": {
    "slideshow": {
     "slide_type": "slide"
    }
   },
   "source": [
    "`fig` is an object containing other objects, for example:"
   ]
  },
  {
   "cell_type": "code",
   "execution_count": 23,
   "metadata": {
    "ExecuteTime": {
     "end_time": "2021-10-22T11:37:39.146538Z",
     "start_time": "2021-10-22T11:37:39.048576Z"
    }
   },
   "outputs": [
    {
     "data": {
      "text/plain": [
       "matplotlib.axis.YTick"
      ]
     },
     "execution_count": 23,
     "metadata": {},
     "output_type": "execute_result"
    }
   ],
   "source": [
    "# Let's add an Axes object to our Figure\n",
    "axes = fig.add_axes([0, 0, 1, 1]) # left, bottom, width, height (range 0 to 1)\n",
    "\n",
    "one_tick = fig.axes[0].yaxis.get_major_ticks()[0]\n",
    "type(one_tick)"
   ]
  },
  {
   "cell_type": "markdown",
   "metadata": {
    "slideshow": {
     "slide_type": "-"
    }
   },
   "source": [
    "Above, `fig` (a Figure class instance) has multiple Axes (a list, for which we take the first element). Each Axes has a yaxis and xaxis, each of which have a collection of “major ticks,” and we grabbed the first one."
   ]
  },
  {
   "cell_type": "markdown",
   "metadata": {
    "slideshow": {
     "slide_type": "slide"
    }
   },
   "source": [
    "More details here: https://matplotlib.org/examples/showcase/anatomy.html\n",
    "<img src=\"files/figanatomy.png\" width=\"600px\"/>"
   ]
  },
  {
   "cell_type": "code",
   "execution_count": 28,
   "metadata": {
    "ExecuteTime": {
     "end_time": "2021-10-22T11:42:36.405019Z",
     "start_time": "2021-10-22T11:42:36.214006Z"
    },
    "slideshow": {
     "slide_type": "slide"
    }
   },
   "outputs": [
    {
     "data": {
      "image/png": "[encoded data removed]",
      "text/plain": [
       "<Figure size 288x216 with 1 Axes>"
      ]
     },
     "metadata": {
      "needs_background": "light"
     },
     "output_type": "display_data"
    }
   ],
   "source": [
    "# Minimal plot example:\n",
    "x = range(0, 10) # x data (will plot on horizontal x axis)\n",
    "y = [i ** 2 for i in x] # y data (will plot on vertical y axis)\n",
    "\n",
    "fig = plt.figure(figsize=(4, 3)) # create figure object with a (width,height)\n",
    "axes = fig.add_axes([0, 0, 1, 1]) # left, bottom, width, height (range 0 to 1)\n",
    "\n",
    "axes.plot(x, y, 'r') # plot using color red\n",
    "\n",
    "axes.set_xlabel('x')\n",
    "axes.set_ylabel('y')\n",
    "axes.set_title('Title');"
   ]
  },
  {
   "cell_type": "code",
   "execution_count": 29,
   "metadata": {
    "ExecuteTime": {
     "end_time": "2021-10-22T11:43:14.909791Z",
     "start_time": "2021-10-22T11:43:14.690771Z"
    },
    "slideshow": {
     "slide_type": "slide"
    }
   },
   "outputs": [
    {
     "data": {
      "image/png": "[encoded data removed]",
      "text/plain": [
       "<Figure size 576x216 with 2 Axes>"
      ]
     },
     "metadata": {
      "needs_background": "light"
     },
     "output_type": "display_data"
    }
   ],
   "source": [
    "# Minimal example for subplots\n",
    "fig, axes = plt.subplots(nrows=1, ncols=2, figsize=(8, 3)) # nrows specifies the number of rows you want, ncols how many figures in each row \n",
    "\n",
    "for ax in axes:\n",
    "    ax.plot(x, y, 'r')\n",
    "    ax.set_xlabel('x')\n",
    "    ax.set_ylabel('y')\n",
    "    ax.set_title('Title')"
   ]
  },
  {
   "cell_type": "markdown",
   "metadata": {
    "slideshow": {
     "slide_type": "slide"
    }
   },
   "source": [
    "We have full control of where the plot axes are placed, and we can easily add more than one axis to the figure:"
   ]
  },
  {
   "cell_type": "code",
   "execution_count": 30,
   "metadata": {
    "ExecuteTime": {
     "end_time": "2021-10-22T11:43:32.129086Z",
     "start_time": "2021-10-22T11:43:31.825093Z"
    }
   },
   "outputs": [
    {
     "data": {
      "image/png": "[encoded data removed]",
      "text/plain": [
       "<Figure size 288x216 with 2 Axes>"
      ]
     },
     "metadata": {
      "needs_background": "light"
     },
     "output_type": "display_data"
    }
   ],
   "source": [
    "# Minimum example for inset plot\n",
    "fig = plt.figure(figsize=(4, 3))\n",
    "axes1 = fig.add_axes([0, 0, 0.8, 0.8]) # main axes\n",
    "axes2 = fig.add_axes([0.1, 0.4, 0.3, 0.25]) # inset axes\n",
    "\n",
    "# main figure\n",
    "axes1.plot(x, y, 'r')\n",
    "axes1.set_xlabel('x')\n",
    "axes1.set_ylabel('y')\n",
    "axes1.set_title('Title')\n",
    "\n",
    "# inset\n",
    "axes2.plot(y, x, 'g') # green\n",
    "axes2.set_xlabel('y')\n",
    "axes2.set_ylabel('x')\n",
    "axes2.set_title('Inset title');"
   ]
  },
  {
   "cell_type": "markdown",
   "metadata": {
    "slideshow": {
     "slide_type": "slide"
    }
   },
   "source": [
    "## Saving figures\n",
    "To save a figure to a file we can use the `savefig` method in the `Figure` class:"
   ]
  },
  {
   "cell_type": "code",
   "execution_count": null,
   "metadata": {},
   "outputs": [],
   "source": [
    "#fig.savefig(\"filename.pdf\", dpi=300)  # dpi is the resolution"
   ]
  },
  {
   "cell_type": "markdown",
   "metadata": {},
   "source": [
    "Matplotlib can generate high-quality output in a number formats, including PNG, JPG, EPS, SVG, PGF and PDF. For scientific papers, I recommend using PDF whenever possible. (LaTeX documents compiled with `pdflatex` can include PDFs using the `includegraphics` command)."
   ]
  },
  {
   "cell_type": "markdown",
   "metadata": {
    "slideshow": {
     "slide_type": "slide"
    }
   },
   "source": [
    "## Let's get back to our single-variable exploratory data analysis"
   ]
  },
  {
   "cell_type": "markdown",
   "metadata": {},
   "source": [
    "A (frequency) **distribution** is a list, table, or graph that displays the frequency of a variable."
   ]
  },
  {
   "cell_type": "markdown",
   "metadata": {
    "slideshow": {
     "slide_type": "slide"
    }
   },
   "source": [
    "### Distribution of cities"
   ]
  },
  {
   "cell_type": "code",
   "execution_count": 31,
   "metadata": {
    "ExecuteTime": {
     "end_time": "2021-10-22T11:46:08.848501Z",
     "start_time": "2021-10-22T11:46:08.825512Z"
    }
   },
   "outputs": [],
   "source": [
    "categories, counts = np.unique(datademographic_array[:,1], return_counts=True)"
   ]
  },
  {
   "cell_type": "code",
   "execution_count": 32,
   "metadata": {
    "ExecuteTime": {
     "end_time": "2021-10-22T11:46:11.613319Z",
     "start_time": "2021-10-22T11:46:11.417777Z"
    },
    "scrolled": true
   },
   "outputs": [
    {
     "data": {
      "image/png": "[encoded data removed]",
      "text/plain": [
       "<Figure size 288x216 with 1 Axes>"
      ]
     },
     "metadata": {
      "needs_background": "light"
     },
     "output_type": "display_data"
    }
   ],
   "source": [
    "fig = plt.figure(figsize=(4, 3))\n",
    "axes = fig.add_axes([0, 0, 1, 1]) # left, bottom, width, height (range 0 to 1)\n",
    "axes.bar(categories, counts, fc=\"gray\") # fc is the face color\n",
    "\n",
    "axes.set_xlabel('City')\n",
    "axes.set_ylabel('Count')\n",
    "axes.set_title('Number of individuals in each city');"
   ]
  },
  {
   "cell_type": "code",
   "execution_count": 34,
   "metadata": {
    "ExecuteTime": {
     "end_time": "2021-10-22T11:47:51.151483Z",
     "start_time": "2021-10-22T11:47:50.971297Z"
    }
   },
   "outputs": [
    {
     "data": {
      "text/plain": [
       "<AxesSubplot:>"
      ]
     },
     "execution_count": 34,
     "metadata": {},
     "output_type": "execute_result"
    },
    {
     "data": {
      "image/png": "[encoded data removed]",
      "text/plain": [
       "<Figure size 432x288 with 1 Axes>"
      ]
     },
     "metadata": {
      "needs_background": "light"
     },
     "output_type": "display_data"
    }
   ],
   "source": [
    "datademographic.loc[:,\"City\"].value_counts(sort=False).plot(kind=\"bar\")"
   ]
  },
  {
   "cell_type": "markdown",
   "metadata": {
    "slideshow": {
     "slide_type": "slide"
    }
   },
   "source": [
    "### Distribution of gender"
   ]
  },
  {
   "cell_type": "code",
   "execution_count": 35,
   "metadata": {
    "ExecuteTime": {
     "end_time": "2021-10-22T11:48:07.506654Z",
     "start_time": "2021-10-22T11:48:07.490705Z"
    }
   },
   "outputs": [],
   "source": [
    "categories, counts = np.unique(datademographic_array[:,2], return_counts=True)"
   ]
  },
  {
   "cell_type": "code",
   "execution_count": 36,
   "metadata": {
    "ExecuteTime": {
     "end_time": "2021-10-22T11:48:09.069724Z",
     "start_time": "2021-10-22T11:48:08.914654Z"
    },
    "scrolled": true
   },
   "outputs": [
    {
     "data": {
      "image/png": "[encoded data removed]",
      "text/plain": [
       "<Figure size 288x216 with 1 Axes>"
      ]
     },
     "metadata": {
      "needs_background": "light"
     },
     "output_type": "display_data"
    }
   ],
   "source": [
    "fig = plt.figure(figsize=(4, 3))\n",
    "axes = fig.add_axes([0, 0, 1, 1]) # left, bottom, width, height (range 0 to 1)\n",
    "axes.bar(categories, counts, fc=\"gray\") # fc is the face color\n",
    "\n",
    "axes.set_xlabel('Gender')\n",
    "axes.set_ylabel('Count')\n",
    "axes.set_title('Number of male and female individuals')\n",
    "\n",
    "axes.set_xticks(categories)\n",
    "axes.set_xticklabels((\"Male\", \"Female\"));  # 0 is male, 1 is female"
   ]
  },
  {
   "cell_type": "markdown",
   "metadata": {
    "slideshow": {
     "slide_type": "slide"
    }
   },
   "source": [
    "### Distribution of age groups"
   ]
  },
  {
   "cell_type": "code",
   "execution_count": 37,
   "metadata": {
    "ExecuteTime": {
     "end_time": "2021-10-22T11:48:21.815563Z",
     "start_time": "2021-10-22T11:48:21.797614Z"
    }
   },
   "outputs": [],
   "source": [
    "categories, counts = np.unique(datademographic_array[:,3], return_counts=True)"
   ]
  },
  {
   "cell_type": "code",
   "execution_count": 38,
   "metadata": {
    "ExecuteTime": {
     "end_time": "2021-10-22T11:48:23.222350Z",
     "start_time": "2021-10-22T11:48:22.976408Z"
    },
    "scrolled": true
   },
   "outputs": [
    {
     "data": {
      "image/png": "[encoded data removed]",
      "text/plain": [
       "<Figure size 288x216 with 1 Axes>"
      ]
     },
     "metadata": {
      "needs_background": "light"
     },
     "output_type": "display_data"
    }
   ],
   "source": [
    "fig = plt.figure(figsize=(4, 3))\n",
    "axes = fig.add_axes([0, 0, 1, 1]) # left, bottom, width, height (range 0 to 1)\n",
    "axes.bar(categories, counts, fc=\"gray\") # fc is the face color\n",
    "\n",
    "axes.set_xlabel('Age')\n",
    "axes.set_ylabel('Count')\n",
    "axes.set_title('Age distribution');"
   ]
  },
  {
   "cell_type": "markdown",
   "metadata": {
    "slideshow": {
     "slide_type": "slide"
    }
   },
   "source": [
    "### Distribution of illness"
   ]
  },
  {
   "cell_type": "code",
   "execution_count": 39,
   "metadata": {
    "ExecuteTime": {
     "end_time": "2021-10-22T11:48:43.368493Z",
     "start_time": "2021-10-22T11:48:43.350502Z"
    }
   },
   "outputs": [],
   "source": [
    "categories, counts = np.unique(datademographic_array[:,5], return_counts=True)"
   ]
  },
  {
   "cell_type": "code",
   "execution_count": 40,
   "metadata": {
    "ExecuteTime": {
     "end_time": "2021-10-22T11:48:44.908357Z",
     "start_time": "2021-10-22T11:48:44.761221Z"
    },
    "scrolled": false
   },
   "outputs": [
    {
     "data": {
      "image/png": "[encoded data removed]",
      "text/plain": [
       "<Figure size 288x216 with 1 Axes>"
      ]
     },
     "metadata": {
      "needs_background": "light"
     },
     "output_type": "display_data"
    }
   ],
   "source": [
    "fig = plt.figure(figsize=(4, 3))\n",
    "axes = fig.add_axes([0, 0, 1, 1]) # left, bottom, width, height (range 0 to 1)\n",
    "axes.bar(categories, counts, fc=\"gray\") # fc is the face color\n",
    "\n",
    "axes.set_xlabel('Illness')\n",
    "axes.set_ylabel('Count')\n",
    "axes.set_title('Number of healthy and ill individuals')\n",
    "\n",
    "axes.set_xticks(categories)\n",
    "axes.set_xticklabels((\"Healthy\", \"Ill\"));  # 0 is healthy, 1 is ill"
   ]
  },
  {
   "cell_type": "markdown",
   "metadata": {
    "slideshow": {
     "slide_type": "slide"
    }
   },
   "source": [
    "## Alternative graphs for categorical distributions"
   ]
  },
  {
   "cell_type": "markdown",
   "metadata": {},
   "source": [
    "### Pie chart"
   ]
  },
  {
   "cell_type": "code",
   "execution_count": 41,
   "metadata": {
    "ExecuteTime": {
     "end_time": "2021-10-22T11:49:08.780357Z",
     "start_time": "2021-10-22T11:49:08.660367Z"
    },
    "scrolled": true
   },
   "outputs": [
    {
     "data": {
      "image/png": "[encoded data removed]",
      "text/plain": [
       "<Figure size 288x216 with 1 Axes>"
      ]
     },
     "metadata": {},
     "output_type": "display_data"
    }
   ],
   "source": [
    "fig = plt.figure(figsize=(4, 3))\n",
    "axes = fig.add_axes([0, 0, 1, 1]) # left, bottom, width, height (range 0 to 1)\n",
    "axes.pie(counts, labels=(\"Healthy\", \"Ill\"), autopct=\"%.1f\") \n",
    "# autopct displays percentage values using the given format string\n",
    "# More information about string formatting: \n",
    "# https://docs.python.org/3/library/stdtypes.html#old-string-formatting\n",
    "\n",
    "axes.set_title('Percentage of ill and healthy individuals');"
   ]
  },
  {
   "cell_type": "code",
   "execution_count": 43,
   "metadata": {
    "ExecuteTime": {
     "end_time": "2021-10-22T11:50:08.387821Z",
     "start_time": "2021-10-22T11:50:08.270755Z"
    }
   },
   "outputs": [
    {
     "data": {
      "text/plain": [
       "<AxesSubplot:ylabel='Illness'>"
      ]
     },
     "execution_count": 43,
     "metadata": {},
     "output_type": "execute_result"
    },
    {
     "data": {
      "image/png": "[encoded data removed]",
      "text/plain": [
       "<Figure size 432x288 with 1 Axes>"
      ]
     },
     "metadata": {},
     "output_type": "display_data"
    }
   ],
   "source": [
    "datademographic.loc[:,\"Illness\"].value_counts(sort=False).plot(kind=\"pie\")"
   ]
  },
  {
   "cell_type": "markdown",
   "metadata": {
    "slideshow": {
     "slide_type": "slide"
    }
   },
   "source": [
    "Be careful using pie charts! Their use is discouraged by many data visualization experts. If you have up to 4 categories they can be fine, but any more than that is absolutely not recommended, like here:"
   ]
  },
  {
   "cell_type": "code",
   "execution_count": 44,
   "metadata": {
    "ExecuteTime": {
     "end_time": "2021-10-22T11:50:54.949220Z",
     "start_time": "2021-10-22T11:50:54.774265Z"
    },
    "scrolled": false
   },
   "outputs": [
    {
     "data": {
      "image/png": "[encoded data removed]",
      "text/plain": [
       "<Figure size 288x216 with 1 Axes>"
      ]
     },
     "metadata": {},
     "output_type": "display_data"
    }
   ],
   "source": [
    "categories, counts = np.unique(datademographic_array[:,1], return_counts=True)\n",
    "fig = plt.figure(figsize=(4, 3))\n",
    "axes = fig.add_axes([0, 0, 1, 1]) # left, bottom, width, height (range 0 to 1)\n",
    "axes.pie(counts, labels=(categories), autopct=\"%.1f\") \n",
    "# autopct displays percentage values using the given format string\n",
    "\n",
    "axes.set_title('Percentage of individuals in each city');"
   ]
  },
  {
   "cell_type": "markdown",
   "metadata": {
    "slideshow": {
     "slide_type": "slide"
    }
   },
   "source": [
    "## Distributions of cities, but percentages"
   ]
  },
  {
   "cell_type": "markdown",
   "metadata": {},
   "source": [
    "When we switched to pie chart, we switched from counts (or frequencies) to percentage values (or relative values). We can also show percentages in bar plots."
   ]
  },
  {
   "cell_type": "code",
   "execution_count": null,
   "metadata": {
    "slideshow": {
     "slide_type": "slide"
    }
   },
   "outputs": [],
   "source": [
    "categories, counts = np.unique(datademographic_array[:,1], return_counts=True)"
   ]
  },
  {
   "cell_type": "code",
   "execution_count": 45,
   "metadata": {
    "ExecuteTime": {
     "end_time": "2021-10-22T11:51:24.038765Z",
     "start_time": "2021-10-22T11:51:23.839745Z"
    },
    "scrolled": true
   },
   "outputs": [
    {
     "data": {
      "image/png": "[encoded data removed]",
      "text/plain": [
       "<Figure size 288x216 with 1 Axes>"
      ]
     },
     "metadata": {
      "needs_background": "light"
     },
     "output_type": "display_data"
    }
   ],
   "source": [
    "fig = plt.figure(figsize=(4, 3))\n",
    "axes = fig.add_axes([0, 0, 1, 1]) # left, bottom, width, height (range 0 to 1)\n",
    "axes.bar(categories, 100*counts/sum(counts), fc=\"gray\") # fc is the face color\n",
    "\n",
    "axes.set_xlabel('City')\n",
    "axes.set_ylabel('Percentage')\n",
    "axes.set_title('Percentage of individuals in each city');"
   ]
  },
  {
   "cell_type": "markdown",
   "metadata": {
    "slideshow": {
     "slide_type": "slide"
    }
   },
   "source": [
    "How to do the same thing with Dataframe?"
   ]
  },
  {
   "cell_type": "code",
   "execution_count": 46,
   "metadata": {
    "ExecuteTime": {
     "end_time": "2021-10-22T11:52:19.954938Z",
     "start_time": "2021-10-22T11:52:19.936938Z"
    }
   },
   "outputs": [
    {
     "data": {
      "text/html": [
       "<div>\n",
       "<style scoped>\n",
       "    .dataframe tbody tr th:only-of-type {\n",
       "        vertical-align: middle;\n",
       "    }\n",
       "\n",
       "    .dataframe tbody tr th {\n",
       "        vertical-align: top;\n",
       "    }\n",
       "\n",
       "    .dataframe thead th {\n",
       "        text-align: right;\n",
       "    }\n",
       "</style>\n",
       "<table border=\"1\" class=\"dataframe\">\n",
       "  <thead>\n",
       "    <tr style=\"text-align: right;\">\n",
       "      <th></th>\n",
       "      <th>ID</th>\n",
       "      <th>City</th>\n",
       "      <th>Gender</th>\n",
       "      <th>Age</th>\n",
       "      <th>Income</th>\n",
       "      <th>Illness</th>\n",
       "    </tr>\n",
       "  </thead>\n",
       "  <tbody>\n",
       "    <tr>\n",
       "      <th>0</th>\n",
       "      <td>1</td>\n",
       "      <td>1</td>\n",
       "      <td>0</td>\n",
       "      <td>41</td>\n",
       "      <td>40367</td>\n",
       "      <td>0</td>\n",
       "    </tr>\n",
       "    <tr>\n",
       "      <th>1</th>\n",
       "      <td>2</td>\n",
       "      <td>1</td>\n",
       "      <td>0</td>\n",
       "      <td>54</td>\n",
       "      <td>45084</td>\n",
       "      <td>0</td>\n",
       "    </tr>\n",
       "  </tbody>\n",
       "</table>\n",
       "</div>"
      ],
      "text/plain": [
       "   ID  City  Gender  Age  Income  Illness\n",
       "0   1     1       0   41   40367        0\n",
       "1   2     1       0   54   45084        0"
      ]
     },
     "execution_count": 46,
     "metadata": {},
     "output_type": "execute_result"
    }
   ],
   "source": [
    "datademographic.head(2)"
   ]
  },
  {
   "cell_type": "code",
   "execution_count": null,
   "metadata": {},
   "outputs": [],
   "source": []
  },
  {
   "cell_type": "code",
   "execution_count": null,
   "metadata": {},
   "outputs": [],
   "source": []
  },
  {
   "cell_type": "markdown",
   "metadata": {
    "slideshow": {
     "slide_type": "slide"
    }
   },
   "source": [
    "# Exploratory data analysis of quantiative variables"
   ]
  },
  {
   "cell_type": "markdown",
   "metadata": {},
   "source": [
    "We have not yet explored the quantitative variable of income. Do do so, we plot a histogram of the distribution.\n",
    "\n",
    "A **histogram** is a graphical representation of the distribution of numerical data. It is an estimate of the probability distribution of a continuous or discrete variable (quantitative variable). To construct a histogram, the first step is to \"bin\" the range of values—that is, divide the entire range of values into a series of intervals—and then count how many values fall into each interval. The bins are usually specified as consecutive, non-overlapping intervals of a variable. The bins (intervals) must be adjacent, and are often (but are not required to be) of equal size.\n",
    "\n",
    "<img src=\"files/histogram.png\" width=\"600px\"/>\n",
    "\n",
    "**Histograms look like bar charts, but they are not the same.** The horizontal axis on a histogram is continuous, whereas bar charts can have space in between categories."
   ]
  },
  {
   "cell_type": "code",
   "execution_count": 48,
   "metadata": {
    "ExecuteTime": {
     "end_time": "2021-10-22T11:54:48.416632Z",
     "start_time": "2021-10-22T11:54:48.220534Z"
    },
    "slideshow": {
     "slide_type": "slide"
    }
   },
   "outputs": [
    {
     "data": {
      "image/png": "[encoded data removed]",
      "text/plain": [
       "<Figure size 288x216 with 1 Axes>"
      ]
     },
     "metadata": {
      "needs_background": "light"
     },
     "output_type": "display_data"
    }
   ],
   "source": [
    "fig = plt.figure(figsize=(4, 3))\n",
    "axes = fig.add_axes([0, 0, 1, 1]) # left, bottom, width, height (range 0 to 1)\n",
    "axes.hist(datademographic_array[:,4]);\n",
    "\n",
    "axes.set_xlabel('Income')\n",
    "axes.set_ylabel('Counts')\n",
    "axes.set_title('Histogram of incomes');"
   ]
  },
  {
   "cell_type": "markdown",
   "metadata": {},
   "source": [
    "***\n",
    "What is going on?\n",
    "***"
   ]
  },
  {
   "cell_type": "markdown",
   "metadata": {
    "slideshow": {
     "slide_type": "slide"
    }
   },
   "source": [
    "# Descriptive statistics"
   ]
  },
  {
   "cell_type": "markdown",
   "metadata": {},
   "source": [
    "Let us look at minimum, maximum, and mean."
   ]
  },
  {
   "cell_type": "code",
   "execution_count": 50,
   "metadata": {
    "ExecuteTime": {
     "end_time": "2021-10-22T11:56:18.638287Z",
     "start_time": "2021-10-22T11:56:18.617335Z"
    }
   },
   "outputs": [
    {
     "data": {
      "text/plain": [
       "(-654, 9850118, 547770000000)"
      ]
     },
     "execution_count": 50,
     "metadata": {},
     "output_type": "execute_result"
    }
   ],
   "source": [
    "incomemin = datademographic_array[:,4].min()\n",
    "incomemax = datademographic_array[:,4].max()\n",
    "incomemean = round(datademographic_array[:,4].mean())\n",
    "(incomemin, incomemean, incomemax)"
   ]
  },
  {
   "cell_type": "code",
   "execution_count": 49,
   "metadata": {
    "ExecuteTime": {
     "end_time": "2021-10-22T11:56:01.607723Z",
     "start_time": "2021-10-22T11:56:01.583745Z"
    }
   },
   "outputs": [
    {
     "data": {
      "text/plain": [
       "count    1.500000e+05\n",
       "mean     9.850118e+06\n",
       "std      2.195886e+09\n",
       "min     -6.540000e+02\n",
       "25%      8.086875e+04\n",
       "50%      9.365500e+04\n",
       "75%      1.045192e+05\n",
       "max      5.477700e+11\n",
       "Name: Income, dtype: float64"
      ]
     },
     "execution_count": 49,
     "metadata": {},
     "output_type": "execute_result"
    }
   ],
   "source": [
    "datademographic.loc[:,\"Income\"].describe()"
   ]
  },
  {
   "cell_type": "markdown",
   "metadata": {
    "slideshow": {
     "slide_type": "slide"
    }
   },
   "source": [
    "<img src=\"files/mean01.png\" width=\"600px\"/>"
   ]
  },
  {
   "cell_type": "markdown",
   "metadata": {
    "slideshow": {
     "slide_type": "slide"
    }
   },
   "source": [
    "The mean is not robust to outliers.\n",
    "<img src=\"files/mean02.png\" width=\"600px\"/>\n",
    "Source: https://mathwithbaddrawings.com/2016/07/13/why-not-to-trust-statistics/"
   ]
  },
  {
   "cell_type": "markdown",
   "metadata": {
    "slideshow": {
     "slide_type": "slide"
    }
   },
   "source": [
    "Let us calculate the quartiles. They are more robust to outliers.\n",
    "\n",
    "<img src=\"files/quartiles.png\" width=\"600px\"/>\n",
    "\n",
    "The first, or lower, quartile Q1 splits off the lowest 25% of data from the highest 75%.<br />\n",
    "The second quartile, or median, Q2 cuts the data set in half.<br />\n",
    "The third, or higher, quartile Q3 splits off the highest 25% of data from the lowest 75%."
   ]
  },
  {
   "cell_type": "code",
   "execution_count": 51,
   "metadata": {
    "ExecuteTime": {
     "end_time": "2021-10-22T11:58:49.234182Z",
     "start_time": "2021-10-22T11:58:49.213204Z"
    }
   },
   "outputs": [
    {
     "data": {
      "text/plain": [
       "array([ 80868.75,  93655.  , 104519.25])"
      ]
     },
     "execution_count": 51,
     "metadata": {},
     "output_type": "execute_result"
    }
   ],
   "source": [
    "quartiles = np.percentile(datademographic_array[:,4], [25, 50, 75])\n",
    "quartiles"
   ]
  },
  {
   "cell_type": "code",
   "execution_count": 52,
   "metadata": {
    "ExecuteTime": {
     "end_time": "2021-10-22T11:59:31.750206Z",
     "start_time": "2021-10-22T11:59:31.736216Z"
    },
    "slideshow": {
     "slide_type": "slide"
    }
   },
   "outputs": [
    {
     "data": {
      "text/plain": [
       "[-654, 80868.75, 93655.0, 104519.25, 547770000000]"
      ]
     },
     "execution_count": 52,
     "metadata": {},
     "output_type": "execute_result"
    }
   ],
   "source": [
    "fivenumbersummary = [incomemin, quartiles[0], quartiles[1], quartiles[2], incomemax]\n",
    "fivenumbersummary"
   ]
  },
  {
   "cell_type": "markdown",
   "metadata": {},
   "source": [
    "The five number summary (min, Q1, Q2, Q3, max) is visualized with the box plot.\n",
    "\n",
    "<img src=\"files/boxplot.png\" width=\"300px\"/>\n",
    "\n",
    "This is a standardized way of displaying the distribution of data based on the five number summary. In the simplest box plot the central rectangle spans the first quartile to the third quartile (the interquartile range or IQR). In matplotlib, by default, whiskers span 1.5 IQR.\n"
   ]
  },
  {
   "cell_type": "markdown",
   "metadata": {
    "slideshow": {
     "slide_type": "slide"
    }
   },
   "source": [
    "The whisker length in box plots:\n",
    "\n",
    "<img src=\"files/boxlength.png\" width=\"800px\"/>"
   ]
  },
  {
   "cell_type": "code",
   "execution_count": 54,
   "metadata": {
    "ExecuteTime": {
     "end_time": "2021-10-22T12:13:21.845325Z",
     "start_time": "2021-10-22T12:13:21.683353Z"
    },
    "scrolled": false,
    "slideshow": {
     "slide_type": "slide"
    }
   },
   "outputs": [
    {
     "data": {
      "image/png": "[encoded data removed]",
      "text/plain": [
       "<Figure size 288x216 with 1 Axes>"
      ]
     },
     "metadata": {
      "needs_background": "light"
     },
     "output_type": "display_data"
    }
   ],
   "source": [
    "fig = plt.figure(figsize=(4, 3))\n",
    "axes = fig.add_axes([0, 0, 1, 1]) # left, bottom, width, height (range 0 to 1)\n",
    "axes.boxplot(datademographic_array[:,4]);\n",
    "\n",
    "axes.set_ylabel('Income')\n",
    "axes.set_xticklabels('')\n",
    "axes.set_title('Boxplot of incomes');"
   ]
  },
  {
   "cell_type": "markdown",
   "metadata": {},
   "source": [
    "Looks like we have some serious outliers.\n",
    "\n",
    "*Back to presentation* (outliers)"
   ]
  },
  {
   "cell_type": "markdown",
   "metadata": {
    "slideshow": {
     "slide_type": "slide"
    }
   },
   "source": [
    "## Outlier detection and data cleaning "
   ]
  },
  {
   "cell_type": "markdown",
   "metadata": {
    "slideshow": {
     "slide_type": "-"
    }
   },
   "source": [
    "Looks like we have three extreme outliers. Let's investigate and clean the data if needed."
   ]
  },
  {
   "cell_type": "code",
   "execution_count": 55,
   "metadata": {
    "ExecuteTime": {
     "end_time": "2021-10-22T12:13:46.079521Z",
     "start_time": "2021-10-22T12:13:46.070523Z"
    }
   },
   "outputs": [
    {
     "name": "stdout",
     "output_type": "stream",
     "text": [
      "149997\n",
      "(array([ 9, 10, 11], dtype=int64),)\n"
     ]
    }
   ],
   "source": [
    "mask = (datademographic_array[:,4] < 10 ** 11) \n",
    "print(np.count_nonzero(mask))\n",
    "print(np.where(mask == False))"
   ]
  },
  {
   "cell_type": "markdown",
   "metadata": {
    "slideshow": {
     "slide_type": "slide"
    }
   },
   "source": [
    "Aha! The bad values are at positions 9,10,11. They are a clear anomaly (global outliers). Let's clean the data and remove them. "
   ]
  },
  {
   "cell_type": "code",
   "execution_count": 56,
   "metadata": {
    "ExecuteTime": {
     "end_time": "2021-10-22T12:14:18.405189Z",
     "start_time": "2021-10-22T12:14:18.380191Z"
    },
    "slideshow": {
     "slide_type": "slide"
    }
   },
   "outputs": [
    {
     "data": {
      "text/plain": [
       "(149997, 6)"
      ]
     },
     "execution_count": 56,
     "metadata": {},
     "output_type": "execute_result"
    }
   ],
   "source": [
    "datademographic_cleaned = datademographic_array[mask,:]\n",
    "datademographic_cleaned.shape # double-check"
   ]
  },
  {
   "cell_type": "markdown",
   "metadata": {},
   "source": [
    "We removed those three extreme values. How does the box plot look like now?"
   ]
  },
  {
   "cell_type": "code",
   "execution_count": 57,
   "metadata": {
    "ExecuteTime": {
     "end_time": "2021-10-22T12:14:23.749147Z",
     "start_time": "2021-10-22T12:14:23.587154Z"
    },
    "scrolled": true,
    "slideshow": {
     "slide_type": "slide"
    }
   },
   "outputs": [
    {
     "data": {
      "image/png": "[encoded data removed]",
      "text/plain": [
       "<Figure size 288x216 with 1 Axes>"
      ]
     },
     "metadata": {
      "needs_background": "light"
     },
     "output_type": "display_data"
    }
   ],
   "source": [
    "fig = plt.figure(figsize=(4, 3))\n",
    "axes = fig.add_axes([0, 0, 1, 1]) # left, bottom, width, height (range 0 to 1)\n",
    "axes.boxplot(datademographic_cleaned[:,4]);\n",
    "\n",
    "axes.set_ylabel('Income')\n",
    "axes.set_xticklabels('')\n",
    "axes.set_title('Boxplot of incomes (cleaned data)');"
   ]
  },
  {
   "cell_type": "code",
   "execution_count": 58,
   "metadata": {
    "ExecuteTime": {
     "end_time": "2021-10-22T12:14:37.527052Z",
     "start_time": "2021-10-22T12:14:37.192997Z"
    },
    "slideshow": {
     "slide_type": "slide"
    }
   },
   "outputs": [
    {
     "data": {
      "image/png": "[encoded data removed]",
      "text/plain": [
       "<Figure size 432x288 with 1 Axes>"
      ]
     },
     "metadata": {
      "needs_background": "light"
     },
     "output_type": "display_data"
    }
   ],
   "source": [
    "fig = plt.figure(figsize=(6, 4))\n",
    "axes = fig.add_axes([0, 0, 1, 1]) # left, bottom, width, height (range 0 to 1)\n",
    "axes.hist(datademographic_cleaned[:,4], 100); # The second argument sets the number of bins.\n",
    "\n",
    "axes.set_xlabel('Income')\n",
    "axes.set_ylabel('Counts')\n",
    "axes.set_title('Histogram of incomes (cleaned data)');"
   ]
  },
  {
   "cell_type": "markdown",
   "metadata": {
    "slideshow": {
     "slide_type": "slide"
    }
   },
   "source": [
    "# Exploratory single-variable data analysis with slices"
   ]
  },
  {
   "cell_type": "code",
   "execution_count": 59,
   "metadata": {
    "ExecuteTime": {
     "end_time": "2021-10-22T12:14:57.728561Z",
     "start_time": "2021-10-22T12:14:57.104605Z"
    }
   },
   "outputs": [],
   "source": [
    "data = np.loadtxt('files/stockholm_temperatures.dat') "
   ]
  },
  {
   "cell_type": "markdown",
   "metadata": {},
   "source": [
    "The file stockholm_temperatures.dat contains the temperature in Stockholm since 1800 until 2011. The first three columns are respectively year, month and day, and the last column is the temperature."
   ]
  },
  {
   "cell_type": "markdown",
   "metadata": {},
   "source": [
    "***\n",
    "Question: What variable types are these? And what is the first thing we need to do?\n",
    "***"
   ]
  },
  {
   "cell_type": "markdown",
   "metadata": {
    "slideshow": {
     "slide_type": "slide"
    }
   },
   "source": [
    "## Plot the data"
   ]
  },
  {
   "cell_type": "code",
   "execution_count": 60,
   "metadata": {
    "ExecuteTime": {
     "end_time": "2021-10-22T12:15:18.497166Z",
     "start_time": "2021-10-22T12:15:18.158210Z"
    },
    "slideshow": {
     "slide_type": "-"
    }
   },
   "outputs": [
    {
     "data": {
      "image/png": "[encoded data removed]",
      "text/plain": [
       "<Figure size 1008x288 with 1 Axes>"
      ]
     },
     "metadata": {
      "needs_background": "light"
     },
     "output_type": "display_data"
    }
   ],
   "source": [
    "fig = plt.figure(figsize=(14, 4))\n",
    "axes = fig.add_axes([0, 0, 1, 1]) # left, bottom, width, height (range 0 to 1)\n",
    "\n",
    "axes.plot(data[:,0]+data[:,1]/12.0+data[:,2]/365, data[:,3])\n",
    "\n",
    "axes.set_title('Temperatures in Stockholm')\n",
    "axes.set_xlabel('Year')\n",
    "axes.set_ylabel('Temperature (C)');"
   ]
  },
  {
   "cell_type": "markdown",
   "metadata": {
    "slideshow": {
     "slide_type": "slide"
    }
   },
   "source": [
    "## Get descriptive statistics"
   ]
  },
  {
   "cell_type": "code",
   "execution_count": 61,
   "metadata": {
    "ExecuteTime": {
     "end_time": "2021-10-22T12:15:24.136313Z",
     "start_time": "2021-10-22T12:15:24.112319Z"
    }
   },
   "outputs": [
    {
     "data": {
      "text/plain": [
       "array([ 0.2,  5.7, 13.2])"
      ]
     },
     "execution_count": 61,
     "metadata": {},
     "output_type": "execute_result"
    }
   ],
   "source": [
    "quartiles = np.percentile(data[:,3], [25, 50, 75])\n",
    "quartiles"
   ]
  },
  {
   "cell_type": "code",
   "execution_count": 62,
   "metadata": {
    "ExecuteTime": {
     "end_time": "2021-10-22T12:15:26.872867Z",
     "start_time": "2021-10-22T12:15:26.854917Z"
    },
    "slideshow": {
     "slide_type": "-"
    }
   },
   "outputs": [
    {
     "data": {
      "text/plain": [
       "([-25.8, 0.2, 5.7, 13.2, 28.3], 6)"
      ]
     },
     "execution_count": 62,
     "metadata": {},
     "output_type": "execute_result"
    }
   ],
   "source": [
    "fivenumbersummary = [data[:,3].min(), quartiles[0], quartiles[1], quartiles[2], data[:,3].max()]\n",
    "fivenumbersummary, round(data[:,3].mean())"
   ]
  },
  {
   "cell_type": "code",
   "execution_count": 63,
   "metadata": {
    "ExecuteTime": {
     "end_time": "2021-10-22T12:15:28.944224Z",
     "start_time": "2021-10-22T12:15:28.798268Z"
    },
    "scrolled": false,
    "slideshow": {
     "slide_type": "slide"
    }
   },
   "outputs": [
    {
     "data": {
      "image/png": "[encoded data removed]",
      "text/plain": [
       "<Figure size 432x288 with 1 Axes>"
      ]
     },
     "metadata": {
      "needs_background": "light"
     },
     "output_type": "display_data"
    }
   ],
   "source": [
    "fig = plt.figure(figsize=(6, 4))\n",
    "axes = fig.add_axes([0, 0, 1, 1]) # left, bottom, width, height (range 0 to 1)\n",
    "axes.boxplot(data[:,3]);\n",
    "\n",
    "axes.set_title('Temperatures in Stockholm')\n",
    "axes.set_xticklabels('')\n",
    "axes.set_ylabel('Temperature (C)');"
   ]
  },
  {
   "cell_type": "markdown",
   "metadata": {
    "slideshow": {
     "slide_type": "slide"
    }
   },
   "source": [
    "## Plot distribution"
   ]
  },
  {
   "cell_type": "code",
   "execution_count": 64,
   "metadata": {
    "ExecuteTime": {
     "end_time": "2021-10-22T12:15:37.373459Z",
     "start_time": "2021-10-22T12:15:37.153452Z"
    }
   },
   "outputs": [
    {
     "data": {
      "image/png": "[encoded data removed]",
      "text/plain": [
       "<Figure size 432x288 with 1 Axes>"
      ]
     },
     "metadata": {
      "needs_background": "light"
     },
     "output_type": "display_data"
    }
   ],
   "source": [
    "fig = plt.figure(figsize=(6, 4))\n",
    "axes = fig.add_axes([0, 0, 1, 1]) # left, bottom, width, height (range 0 to 1)\n",
    "axes.hist(data[:,3], 50);\n",
    "\n",
    "axes.set_title('Temperatures in Stockholm')\n",
    "axes.set_xlabel('Year')\n",
    "axes.set_ylabel('Temperature (C)');"
   ]
  },
  {
   "cell_type": "markdown",
   "metadata": {
    "slideshow": {
     "slide_type": "slide"
    }
   },
   "source": [
    "## Computations on subsets of arrays"
   ]
  },
  {
   "cell_type": "markdown",
   "metadata": {},
   "source": [
    "We can compute with subsets of the data in an array using indexing, fancy indexing, and the other methods of extracting data from an array (described above).\n",
    "\n",
    "For example, if we want to calculate the average temperature in 1971 only, we can create a mask in the following way:"
   ]
  },
  {
   "cell_type": "code",
   "execution_count": 65,
   "metadata": {
    "ExecuteTime": {
     "end_time": "2021-10-22T12:15:45.263096Z",
     "start_time": "2021-10-22T12:15:45.242148Z"
    }
   },
   "outputs": [
    {
     "data": {
      "text/plain": [
       "array([1971., 1971., 1971., 1971., 1971., 1971., 1971., 1971., 1971.,\n",
       "       1971., 1971., 1971., 1971., 1971., 1971., 1971., 1971., 1971.,\n",
       "       1971., 1971., 1971., 1971., 1971., 1971., 1971., 1971., 1971.,\n",
       "       1971., 1971., 1971., 1971., 1971., 1971., 1971., 1971., 1971.,\n",
       "       1971., 1971., 1971., 1971., 1971., 1971., 1971., 1971., 1971.,\n",
       "       1971., 1971., 1971., 1971., 1971., 1971., 1971., 1971., 1971.,\n",
       "       1971., 1971., 1971., 1971., 1971., 1971., 1971., 1971., 1971.,\n",
       "       1971., 1971., 1971., 1971., 1971., 1971., 1971., 1971., 1971.,\n",
       "       1971., 1971., 1971., 1971., 1971., 1971., 1971., 1971., 1971.,\n",
       "       1971., 1971., 1971., 1971., 1971., 1971., 1971., 1971., 1971.,\n",
       "       1971., 1971., 1971., 1971., 1971., 1971., 1971., 1971., 1971.,\n",
       "       1971., 1971., 1971., 1971., 1971., 1971., 1971., 1971., 1971.,\n",
       "       1971., 1971., 1971., 1971., 1971., 1971., 1971., 1971., 1971.,\n",
       "       1971., 1971., 1971., 1971., 1971., 1971., 1971., 1971., 1971.,\n",
       "       1971., 1971., 1971., 1971., 1971., 1971., 1971., 1971., 1971.,\n",
       "       1971., 1971., 1971., 1971., 1971., 1971., 1971., 1971., 1971.,\n",
       "       1971., 1971., 1971., 1971., 1971., 1971., 1971., 1971., 1971.,\n",
       "       1971., 1971., 1971., 1971., 1971., 1971., 1971., 1971., 1971.,\n",
       "       1971., 1971., 1971., 1971., 1971., 1971., 1971., 1971., 1971.,\n",
       "       1971., 1971., 1971., 1971., 1971., 1971., 1971., 1971., 1971.,\n",
       "       1971., 1971., 1971., 1971., 1971., 1971., 1971., 1971., 1971.,\n",
       "       1971., 1971., 1971., 1971., 1971., 1971., 1971., 1971., 1971.,\n",
       "       1971., 1971., 1971., 1971., 1971., 1971., 1971., 1971., 1971.,\n",
       "       1971., 1971., 1971., 1971., 1971., 1971., 1971., 1971., 1971.,\n",
       "       1971., 1971., 1971., 1971., 1971., 1971., 1971., 1971., 1971.,\n",
       "       1971., 1971., 1971., 1971., 1971., 1971., 1971., 1971., 1971.,\n",
       "       1971., 1971., 1971., 1971., 1971., 1971., 1971., 1971., 1971.,\n",
       "       1971., 1971., 1971., 1971., 1971., 1971., 1971., 1971., 1971.,\n",
       "       1971., 1971., 1971., 1971., 1971., 1971., 1971., 1971., 1971.,\n",
       "       1971., 1971., 1971., 1971., 1971., 1971., 1971., 1971., 1971.,\n",
       "       1971., 1971., 1971., 1971., 1971., 1971., 1971., 1971., 1971.,\n",
       "       1971., 1971., 1971., 1971., 1971., 1971., 1971., 1971., 1971.,\n",
       "       1971., 1971., 1971., 1971., 1971., 1971., 1971., 1971., 1971.,\n",
       "       1971., 1971., 1971., 1971., 1971., 1971., 1971., 1971., 1971.,\n",
       "       1971., 1971., 1971., 1971., 1971., 1971., 1971., 1971., 1971.,\n",
       "       1971., 1971., 1971., 1971., 1971., 1971., 1971., 1971., 1971.,\n",
       "       1971., 1971., 1971., 1971., 1971., 1971., 1971., 1971., 1971.,\n",
       "       1971., 1971., 1971., 1971., 1971., 1971., 1971., 1971., 1971.,\n",
       "       1971., 1971., 1971., 1971., 1971., 1971., 1971., 1971., 1971.,\n",
       "       1971., 1971., 1971., 1971., 1971., 1971., 1971., 1971., 1971.,\n",
       "       1971., 1971., 1971., 1971., 1971.])"
      ]
     },
     "execution_count": 65,
     "metadata": {},
     "output_type": "execute_result"
    }
   ],
   "source": [
    "mask = (data[:,0] == 1971)\n",
    "data[mask,0]"
   ]
  },
  {
   "cell_type": "code",
   "execution_count": 66,
   "metadata": {
    "ExecuteTime": {
     "end_time": "2021-10-22T12:15:50.835194Z",
     "start_time": "2021-10-22T12:15:50.807194Z"
    },
    "slideshow": {
     "slide_type": "slide"
    }
   },
   "outputs": [
    {
     "data": {
      "text/plain": [
       "array([ -9.2,  -6.5,  -4.7,  -0.3,  -6.8, -11.6,  -1.9,   4.3,   4.6,\n",
       "         5.9,   4.8,   1.9,   0.8,  -0.9,  -1.5,  -1.5,  -3.9,   2.4,\n",
       "         1.3,   2. ,   2. ,   1.8,   2.5,   3.7,   4.9,   3.7,   1.7,\n",
       "        -2.1,  -5.1,  -6.3,   0.2,  -2.7,  -4. ,  -0.6,   1.6,   3.4,\n",
       "         2.4,  -0.4,  -1.9,  -4.8,  -1.9,   2.5,   2.4,   3.1,   2.5,\n",
       "         1.7,   1.5,   0.5,   0. ,  -0.3,   0.5,   1.1,   1.1,  -2.1,\n",
       "         0.6, -11.9,  -8.2,  -8.3,  -7.9,  -7.7,  -8.5, -10.8, -13.5,\n",
       "        -8.6,  -5.4,  -0.5,   2.1,   0. ,  -4.6,  -3.5,  -3. ,  -0.8,\n",
       "         0.4,  -0.1,   0.8,   1.6,   1.7,   1.8,   1.3,   0. ,  -2.2,\n",
       "        -4.4,  -0.3,   3.6,   3.3,  -0.8,  -1.4,   1. ,  -0.5,   0.6,\n",
       "         4.2,   4. ,   3.6,  -0.7,   0.1,   0.9,   2.5,   5.6,   3.7,\n",
       "         4.2,   6.1,   5.8,   2.7,   2.3,   3. ,   4.6,   5.2,   6.5,\n",
       "         9. ,   9.8,   7.6,   3.3,   2.1,   0.5,  -0.3,   0.1,   2.2,\n",
       "         3.6,   1.2,   3.3,   6.4,   9.9,   8.5,   7.4,   9.4,  12.2,\n",
       "        14.7,  13.2,  14.2,  15.8,  16.2,  14.2,  14. ,  11.9,  12.4,\n",
       "        12.4,  16.2,  17.5,  14.6,  13.5,   7.7,   5.8,   4. ,   3.6,\n",
       "         4.2,   6.1,  10.4,  12.6,  16.6,  19.3,  18.3,  18.6,  21.2,\n",
       "        18.9,  16.4,  13.5,  13.8,  16.2,  12.2,  10.1,  11.7,  12.9,\n",
       "        12.5,  13.4,  15.5,  14.7,  11.2,  13.7,  13. ,  13.1,  13.2,\n",
       "        16.3,  15.6,  16. ,  15.4,  14. ,  16. ,  17.9,  15.4,  16.1,\n",
       "        18.3,  16.2,  17.5,  20.5,  20.1,  22. ,  19.9,  21.1,  21.5,\n",
       "        20.7,  18.9,  20.8,  20.5,  14.2,  14. ,  13.6,  13.5,  12.4,\n",
       "        14.3,  14.7,  13.7,  14.1,  14.8,  16.8,  17.7,  20.2,  19.7,\n",
       "        19.5,  19. ,  19. ,  18.5,  19. ,  18.1,  20.1,  21. ,  20.4,\n",
       "        20.5,  20.2,  18.1,  15.5,  16.1,  16.8,  15.7,  14.1,  15.8,\n",
       "        15.7,  14.7,  14.7,  15.1,  16. ,  17.6,  19. ,  17.7,  13.2,\n",
       "        12.8,  15.4,  17.2,  16.9,  14.7,  14.4,  13.6,  13.1,  13.6,\n",
       "        13.3,  15.1,  14.9,  13.3,  11.4,  11.3,  13. ,  12.1,  12.2,\n",
       "        12.2,  11.8,  10.3,   7.7,   5.5,   7.5,   7.5,   9.8,  10.7,\n",
       "        11.7,  12.3,  12.4,  14.7,  12.1,  12.4,  10.5,   8.5,   7.8,\n",
       "         9. ,   9.6,  10.3,  12.8,  11.3,   8.2,   5.5,   5.1,  10. ,\n",
       "        13.9,   9.3,   9.4,   8.2,  14.6,  10.7,   3.9,   2.9,   3. ,\n",
       "         4.9,   6.5,   7.5,   9.6,  10.6,   8.7,   6.8,   3.4,   6. ,\n",
       "         6.3,   6.4,   6.5,   9.2,   4.9,   6.5,   5.7,   7. ,  10.6,\n",
       "        10.1,   5.5,   1.8,   0.4,  -2.3,   3.4,  -2.2,  -3. ,   4.6,\n",
       "         0.9,   0.1,   2.1,   4.3,   5.1,  -1.7,  -5.7,  -6.9,  -6.7,\n",
       "        -0.1,  -1.1,  -1.4,  -5.4,  -0.8,   1.7,   5.6,   5.6,   3.8,\n",
       "         2.8,   3. ,   2. ,  -1. ,   3. ,   3.1,   4. ,   4.6,  -3. ,\n",
       "        -1.9,  -0.9,  -0.8,  -1.5,  -2.1,   1.5,   2.4,   5.1,   4.5,\n",
       "         4.9,   1.6,   1.9,   6.3,   3.2,   0.6,   4.8,   4. ,   6.6,\n",
       "         3.7,   0.2,  -1.3,  -3.7,  -3.2])"
      ]
     },
     "execution_count": 66,
     "metadata": {},
     "output_type": "execute_result"
    }
   ],
   "source": [
    "data[mask,3]"
   ]
  },
  {
   "cell_type": "code",
   "execution_count": 67,
   "metadata": {
    "ExecuteTime": {
     "end_time": "2021-10-22T12:16:03.543966Z",
     "start_time": "2021-10-22T12:16:03.525381Z"
    },
    "slideshow": {
     "slide_type": "slide"
    }
   },
   "outputs": [
    {
     "name": "stdout",
     "output_type": "stream",
     "text": [
      "This is the mean temperature in Stockholm in 1971: 6.9301369863013695\n"
     ]
    }
   ],
   "source": [
    "print(\"This is the mean temperature in Stockholm in 1971: \"+str(np.mean(data[mask,3])))"
   ]
  },
  {
   "cell_type": "markdown",
   "metadata": {
    "slideshow": {
     "slide_type": "slide"
    }
   },
   "source": [
    "If we are interested in the average temperature only in a particular month, say February, then we can create a index mask and use it to select only the data for that month using:"
   ]
  },
  {
   "cell_type": "code",
   "execution_count": 68,
   "metadata": {
    "ExecuteTime": {
     "end_time": "2021-10-22T12:16:13.479571Z",
     "start_time": "2021-10-22T12:16:13.462551Z"
    },
    "scrolled": true
   },
   "outputs": [
    {
     "data": {
      "text/plain": [
       "array([ 1.,  2.,  3.,  4.,  5.,  6.,  7.,  8.,  9., 10., 11., 12.])"
      ]
     },
     "execution_count": 68,
     "metadata": {},
     "output_type": "execute_result"
    }
   ],
   "source": [
    "np.unique(data[:,1]) # the month column takes values from 1 to 12"
   ]
  },
  {
   "cell_type": "code",
   "execution_count": 69,
   "metadata": {
    "ExecuteTime": {
     "end_time": "2021-10-22T12:16:19.771395Z",
     "start_time": "2021-10-22T12:16:19.752379Z"
    }
   },
   "outputs": [],
   "source": [
    "mask_feb = (data[:,1] == 2)"
   ]
  },
  {
   "cell_type": "code",
   "execution_count": 70,
   "metadata": {
    "ExecuteTime": {
     "end_time": "2021-10-22T12:16:23.287083Z",
     "start_time": "2021-10-22T12:16:23.274009Z"
    }
   },
   "outputs": [
    {
     "data": {
      "text/plain": [
       "-3.212109570736596"
      ]
     },
     "execution_count": 70,
     "metadata": {},
     "output_type": "execute_result"
    }
   ],
   "source": [
    "# the temperature data is in column 3\n",
    "np.mean(data[mask_feb,3])"
   ]
  },
  {
   "cell_type": "markdown",
   "metadata": {
    "slideshow": {
     "slide_type": "slide"
    }
   },
   "source": [
    "With these tools we have very powerful data processing capabilities at our disposal. For example, to extract the average monthly average temperatures for each month of the year only takes a few lines of code: "
   ]
  },
  {
   "cell_type": "code",
   "execution_count": 71,
   "metadata": {
    "ExecuteTime": {
     "end_time": "2021-10-22T12:16:26.478639Z",
     "start_time": "2021-10-22T12:16:26.315537Z"
    },
    "scrolled": true
   },
   "outputs": [
    {
     "data": {
      "image/png": "[encoded data removed]",
      "text/plain": [
       "<Figure size 432x288 with 1 Axes>"
      ]
     },
     "metadata": {
      "needs_background": "light"
     },
     "output_type": "display_data"
    }
   ],
   "source": [
    "months = np.arange(1,13) # or np.unique(data[:,1])\n",
    "monthly_mean = [np.mean(data[data[:,1] == month, 3]) for month in months]\n",
    "\n",
    "fig, ax = plt.subplots()\n",
    "ax.bar(months, monthly_mean)\n",
    "ax.set_xlabel(\"Month\")\n",
    "ax.set_ylabel(\"Monthly avg. temp.\");"
   ]
  },
  {
   "cell_type": "markdown",
   "metadata": {},
   "source": [
    "**Source**\n",
    "\n",
    "This notebook was adapted from:\n",
    "* [Python Data Science Handbook](http://shop.oreilly.com/product/0636920034919.do) by Jake VanderPlas\n",
    "* Data 8: The Foundations of Data Science\n",
    "* Introduction to data science by Michael Szell"
   ]
  }
 ],
 "metadata": {
  "celltoolbar": "幻灯片",
  "kernelspec": {
   "display_name": "Python 3",
   "language": "python",
   "name": "python3"
  },
  "language_info": {
   "codemirror_mode": {
    "name": "ipython",
    "version": 3
   },
   "file_extension": ".py",
   "mimetype": "text/x-python",
   "name": "python",
   "nbconvert_exporter": "python",
   "pygments_lexer": "ipython3",
   "version": "3.8.8"
  },
  "toc": {
   "base_numbering": 1,
   "nav_menu": {},
   "number_sections": true,
   "sideBar": true,
   "skip_h1_title": false,
   "title_cell": "Table of Contents",
   "title_sidebar": "Contents",
   "toc_cell": false,
   "toc_position": {},
   "toc_section_display": true,
   "toc_window_display": false
  }
 },
 "nbformat": 4,
 "nbformat_minor": 1
}
