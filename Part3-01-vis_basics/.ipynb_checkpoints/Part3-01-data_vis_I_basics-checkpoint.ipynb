{
 "cells": [
  {
   "cell_type": "markdown",
   "metadata": {},
   "source": [
    "<p style=\"font-size:15pt; text-align:center\">\n",
    "    Introduction to Data Science\n",
    "</p>\n",
    "<p style=\"font-size:20pt; text-align:center\">\n",
    "    Data visualization, Part I\n",
    "    -vis basics\n",
    "</p>"
   ]
  },
  {
   "cell_type": "code",
   "execution_count": null,
   "metadata": {
    "ExecuteTime": {
     "end_time": "2021-11-22T11:09:27.245248Z",
     "start_time": "2021-11-22T11:09:23.092337Z"
    }
   },
   "outputs": [],
   "source": [
    "import numpy as np\n",
    "import pandas as pd\n",
    "import matplotlib.pyplot as plt\n",
    "import seaborn as sns"
   ]
  },
  {
   "cell_type": "code",
   "execution_count": null,
   "metadata": {
    "ExecuteTime": {
     "end_time": "2021-11-22T11:09:32.051276Z",
     "start_time": "2021-11-22T11:09:31.043257Z"
    }
   },
   "outputs": [],
   "source": [
    "# Installing Plotly:\n",
    "#!pip install plotly\n",
    "# Jupyter Lab Extensions required for jupyter:\n",
    "#!jupyter labextension install jupyterlab-plotly\n",
    "import plotly.express as px\n",
    "import plotly.figure_factory as ff\n",
    "import plotly.graph_objs as go"
   ]
  },
  {
   "cell_type": "code",
   "execution_count": null,
   "metadata": {
    "ExecuteTime": {
     "end_time": "2021-11-22T11:09:41.290699Z",
     "start_time": "2021-11-22T11:09:41.265724Z"
    }
   },
   "outputs": [],
   "source": [
    "births = pd.read_csv('./files/baby.csv')"
   ]
  },
  {
   "cell_type": "code",
   "execution_count": null,
   "metadata": {
    "ExecuteTime": {
     "end_time": "2021-11-22T11:09:43.560124Z",
     "start_time": "2021-11-22T11:09:43.526199Z"
    }
   },
   "outputs": [],
   "source": [
    "births.head()"
   ]
  },
  {
   "cell_type": "code",
   "execution_count": null,
   "metadata": {
    "ExecuteTime": {
     "end_time": "2021-11-22T11:09:45.469433Z",
     "start_time": "2021-11-22T11:09:45.456460Z"
    }
   },
   "outputs": [],
   "source": [
    "births.shape"
   ]
  },
  {
   "cell_type": "markdown",
   "metadata": {},
   "source": [
    "## Bar Plots"
   ]
  },
  {
   "cell_type": "markdown",
   "metadata": {},
   "source": [
    "We often use bar plots to display distributions of a categorical variable:"
   ]
  },
  {
   "cell_type": "code",
   "execution_count": null,
   "metadata": {
    "ExecuteTime": {
     "end_time": "2021-11-22T11:09:50.709941Z",
     "start_time": "2021-11-22T11:09:50.688964Z"
    }
   },
   "outputs": [],
   "source": [
    "births['Maternal Smoker'].value_counts()"
   ]
  },
  {
   "cell_type": "code",
   "execution_count": null,
   "metadata": {
    "ExecuteTime": {
     "end_time": "2021-11-22T11:10:17.379677Z",
     "start_time": "2021-11-22T11:10:17.229657Z"
    }
   },
   "outputs": [],
   "source": [
    "births['Maternal Smoker'].value_counts().plot(kind = 'bar');"
   ]
  },
  {
   "cell_type": "markdown",
   "metadata": {},
   "source": [
    "Note: putting a semicolon after a plot call hides all of the unnecessary text that comes after it (the `<matplotlib.axes_....>`)."
   ]
  },
  {
   "cell_type": "code",
   "execution_count": null,
   "metadata": {
    "ExecuteTime": {
     "end_time": "2021-11-22T11:10:29.496404Z",
     "start_time": "2021-11-22T11:10:28.416374Z"
    }
   },
   "outputs": [],
   "source": [
    "pd.options.plotting.backend = \"plotly\""
   ]
  },
  {
   "cell_type": "code",
   "execution_count": null,
   "metadata": {
    "ExecuteTime": {
     "end_time": "2021-11-22T11:10:32.772089Z",
     "start_time": "2021-11-22T11:10:30.557134Z"
    }
   },
   "outputs": [],
   "source": [
    "fig = births['Maternal Smoker'].value_counts().plot(kind = 'bar');\n",
    "fig.show()"
   ]
  },
  {
   "cell_type": "code",
   "execution_count": null,
   "metadata": {
    "ExecuteTime": {
     "end_time": "2021-11-22T11:10:50.870234Z",
     "start_time": "2021-11-22T11:10:50.787215Z"
    }
   },
   "outputs": [],
   "source": [
    "fig = births['Maternal Smoker'].value_counts().plot(kind = 'bar');\n",
    "fig.update_xaxes(title=\"Maternal Smoker\")\n",
    "fig.update_yaxes(title=\"Count\")\n",
    "fig.show()"
   ]
  },
  {
   "cell_type": "code",
   "execution_count": null,
   "metadata": {
    "ExecuteTime": {
     "end_time": "2021-11-22T11:11:00.241698Z",
     "start_time": "2021-11-22T11:11:00.098629Z"
    }
   },
   "outputs": [],
   "source": [
    "sns.countplot(x=births['Maternal Smoker']);"
   ]
  },
  {
   "cell_type": "markdown",
   "metadata": {},
   "source": [
    "Or even better:"
   ]
  },
  {
   "cell_type": "code",
   "execution_count": null,
   "metadata": {
    "ExecuteTime": {
     "end_time": "2021-11-22T11:11:05.168242Z",
     "start_time": "2021-11-22T11:11:04.950223Z"
    }
   },
   "outputs": [],
   "source": [
    "px.histogram(births, x=\"Maternal Smoker\")"
   ]
  },
  {
   "cell_type": "markdown",
   "metadata": {},
   "source": [
    "But we can also use them to display a numerical variable that has been measured on individuals in different categories."
   ]
  },
  {
   "cell_type": "code",
   "execution_count": null,
   "metadata": {
    "ExecuteTime": {
     "end_time": "2021-11-22T11:11:12.241368Z",
     "start_time": "2021-11-22T11:11:12.234366Z"
    }
   },
   "outputs": [],
   "source": [
    "# These are made up!\n",
    "majors = ['Data Science', 'History', 'Biology', 'Business']\n",
    "gpas = [3.35, 3.20, 2.98, 3.51]"
   ]
  },
  {
   "cell_type": "code",
   "execution_count": null,
   "metadata": {
    "ExecuteTime": {
     "end_time": "2021-11-22T11:11:13.977917Z",
     "start_time": "2021-11-22T11:11:13.831957Z"
    }
   },
   "outputs": [],
   "source": [
    "# What if we change bar to barh?\n",
    "plt.bar(majors, gpas);"
   ]
  },
  {
   "cell_type": "code",
   "execution_count": null,
   "metadata": {
    "ExecuteTime": {
     "end_time": "2021-11-22T11:11:17.396687Z",
     "start_time": "2021-11-22T11:11:17.255654Z"
    }
   },
   "outputs": [],
   "source": [
    "sns.barplot(x=majors, y=gpas);"
   ]
  },
  {
   "cell_type": "code",
   "execution_count": null,
   "metadata": {
    "ExecuteTime": {
     "end_time": "2021-11-22T11:11:21.312327Z",
     "start_time": "2021-11-22T11:11:21.239372Z"
    }
   },
   "outputs": [],
   "source": [
    "px.bar(x=majors, y=gpas)"
   ]
  },
  {
   "cell_type": "markdown",
   "metadata": {},
   "source": [
    "## Rug plots\n",
    "\n",
    "Used for visualizing a single quantitative variable. Rug plots show us each and every value."
   ]
  },
  {
   "cell_type": "code",
   "execution_count": null,
   "metadata": {
    "ExecuteTime": {
     "end_time": "2021-11-22T11:11:51.816019Z",
     "start_time": "2021-11-22T11:11:51.804070Z"
    }
   },
   "outputs": [],
   "source": [
    "bweights = births[\"Birth Weight\"]"
   ]
  },
  {
   "cell_type": "code",
   "execution_count": null,
   "metadata": {
    "ExecuteTime": {
     "end_time": "2021-11-22T11:11:53.685562Z",
     "start_time": "2021-11-22T11:11:53.666536Z"
    }
   },
   "outputs": [],
   "source": [
    "bweights"
   ]
  },
  {
   "cell_type": "code",
   "execution_count": null,
   "metadata": {
    "ExecuteTime": {
     "end_time": "2021-11-22T11:11:56.206145Z",
     "start_time": "2021-11-22T11:11:56.019084Z"
    }
   },
   "outputs": [],
   "source": [
    "sns.rugplot(bweights);"
   ]
  },
  {
   "cell_type": "code",
   "execution_count": null,
   "metadata": {
    "ExecuteTime": {
     "end_time": "2021-11-22T11:11:58.689364Z",
     "start_time": "2021-11-22T11:11:58.467344Z"
    }
   },
   "outputs": [],
   "source": [
    "px.histogram(births, \n",
    "             x=\"Birth Weight\", \n",
    "             color=\"Maternal Smoker\", \n",
    "             hover_data=births.columns,\n",
    "             marginal=\"rug\")"
   ]
  },
  {
   "cell_type": "markdown",
   "metadata": {},
   "source": [
    "## Histograms\n"
   ]
  },
  {
   "cell_type": "code",
   "execution_count": null,
   "metadata": {
    "ExecuteTime": {
     "end_time": "2021-11-22T11:12:02.883291Z",
     "start_time": "2021-11-22T11:12:02.716334Z"
    }
   },
   "outputs": [],
   "source": [
    "# By default, you get some arbitrary bins. We often like to pick our own.\n",
    "plt.hist(bweights);"
   ]
  },
  {
   "cell_type": "code",
   "execution_count": null,
   "metadata": {
    "ExecuteTime": {
     "end_time": "2021-11-22T11:12:04.721313Z",
     "start_time": "2021-11-22T11:12:04.703288Z"
    }
   },
   "outputs": [],
   "source": [
    "min(bweights), max(bweights)"
   ]
  },
  {
   "cell_type": "code",
   "execution_count": null,
   "metadata": {
    "ExecuteTime": {
     "end_time": "2021-11-22T11:12:06.100357Z",
     "start_time": "2021-11-22T11:12:06.093356Z"
    }
   },
   "outputs": [],
   "source": [
    "bw_bins = range(50, 200, 5)"
   ]
  },
  {
   "cell_type": "code",
   "execution_count": null,
   "metadata": {
    "ExecuteTime": {
     "end_time": "2021-11-22T11:12:07.450740Z",
     "start_time": "2021-11-22T11:12:07.239739Z"
    }
   },
   "outputs": [],
   "source": [
    "plt.hist(bweights, bins=bw_bins, ec='w');"
   ]
  },
  {
   "cell_type": "markdown",
   "metadata": {},
   "source": [
    "The above plot shows _counts_, if we want to see a _distribution_ we can use the `density` keyword:"
   ]
  },
  {
   "cell_type": "code",
   "execution_count": null,
   "metadata": {
    "ExecuteTime": {
     "end_time": "2021-11-22T11:12:09.836592Z",
     "start_time": "2021-11-22T11:12:09.652528Z"
    }
   },
   "outputs": [],
   "source": [
    "plt.hist(bweights, density=True, bins=bw_bins, ec='w');"
   ]
  },
  {
   "cell_type": "code",
   "execution_count": null,
   "metadata": {
    "ExecuteTime": {
     "end_time": "2021-11-22T11:12:12.048296Z",
     "start_time": "2021-11-22T11:12:12.035347Z"
    }
   },
   "outputs": [],
   "source": [
    "pd.options.plotting.backend = \"matplotlib\""
   ]
  },
  {
   "cell_type": "code",
   "execution_count": null,
   "metadata": {
    "ExecuteTime": {
     "end_time": "2021-11-22T11:12:14.059371Z",
     "start_time": "2021-11-22T11:12:13.861352Z"
    }
   },
   "outputs": [],
   "source": [
    "# alternative way of getting this plot\n",
    "bweights.plot(kind = 'hist', density=True, bins=bw_bins, ec='w');"
   ]
  },
  {
   "cell_type": "code",
   "execution_count": null,
   "metadata": {
    "ExecuteTime": {
     "end_time": "2021-11-22T11:12:19.706316Z",
     "start_time": "2021-11-22T11:12:19.689365Z"
    }
   },
   "outputs": [],
   "source": [
    "pd.options.plotting.backend = \"plotly\""
   ]
  },
  {
   "cell_type": "code",
   "execution_count": null,
   "metadata": {
    "ExecuteTime": {
     "end_time": "2021-11-22T11:12:21.438954Z",
     "start_time": "2021-11-22T11:12:21.364998Z"
    }
   },
   "outputs": [],
   "source": [
    "fig = bweights.plot(kind = 'hist', \n",
    "                    histnorm='probability density', \n",
    "                    bins=bw_bins);\n",
    "fig.update_layout(bargap=0.1)\n",
    "fig.show()"
   ]
  },
  {
   "cell_type": "markdown",
   "metadata": {},
   "source": [
    "Increasing bin width loses granularity, but this may be fine for our purposes."
   ]
  },
  {
   "cell_type": "code",
   "execution_count": null,
   "metadata": {
    "ExecuteTime": {
     "end_time": "2021-11-22T11:12:25.245382Z",
     "start_time": "2021-11-22T11:12:25.102360Z"
    }
   },
   "outputs": [],
   "source": [
    "plt.hist(bweights, bins = np.arange(50, 200, 20), density=True, ec='w');"
   ]
  },
  {
   "cell_type": "code",
   "execution_count": null,
   "metadata": {
    "ExecuteTime": {
     "end_time": "2021-11-22T11:12:27.336570Z",
     "start_time": "2021-11-22T11:12:27.286553Z"
    }
   },
   "outputs": [],
   "source": [
    "fig = go.Figure(go.Histogram(x=bweights, \n",
    "                             histnorm='probability density', \n",
    "                             xbins=dict(start=50, end=200, size=20)))\n",
    "fig.update_layout(bargap=0.1)\n",
    "# fig"
   ]
  },
  {
   "cell_type": "markdown",
   "metadata": {},
   "source": [
    "The bin widths don't all need to be the same!"
   ]
  },
  {
   "cell_type": "code",
   "execution_count": null,
   "metadata": {
    "ExecuteTime": {
     "end_time": "2021-11-16T12:15:08.814667Z",
     "start_time": "2021-11-16T12:15:08.641704Z"
    }
   },
   "outputs": [],
   "source": [
    "plt.hist(bweights, bins = [50, 100, 120, 140, 200], density=True, ec='w');"
   ]
  },
  {
   "cell_type": "markdown",
   "metadata": {},
   "source": [
    "## Density Curves"
   ]
  },
  {
   "cell_type": "code",
   "execution_count": null,
   "metadata": {
    "ExecuteTime": {
     "end_time": "2021-11-16T12:15:11.848238Z",
     "start_time": "2021-11-16T12:15:11.640218Z"
    }
   },
   "outputs": [],
   "source": [
    "sns.kdeplot(bweights);"
   ]
  },
  {
   "cell_type": "code",
   "execution_count": null,
   "metadata": {
    "ExecuteTime": {
     "end_time": "2021-11-22T11:13:12.065570Z",
     "start_time": "2021-11-22T11:13:11.802512Z"
    }
   },
   "outputs": [],
   "source": [
    "sns.histplot(bweights, kde=True);"
   ]
  },
  {
   "cell_type": "markdown",
   "metadata": {},
   "source": [
    "Can even show a rugplot with it!"
   ]
  },
  {
   "cell_type": "code",
   "execution_count": null,
   "metadata": {
    "ExecuteTime": {
     "end_time": "2021-11-22T11:13:15.037373Z",
     "start_time": "2021-11-22T11:13:14.641340Z"
    }
   },
   "outputs": [],
   "source": [
    "sns.displot(bweights, kde=True, rug=True);"
   ]
  },
  {
   "cell_type": "markdown",
   "metadata": {},
   "source": [
    "`displot` is quite flexible, so instead of a histogram we can ask it, for example, to show the density curve and rugplot only:"
   ]
  },
  {
   "cell_type": "code",
   "execution_count": null,
   "metadata": {
    "ExecuteTime": {
     "end_time": "2021-11-22T11:13:36.108542Z",
     "start_time": "2021-11-22T11:13:35.872522Z"
    }
   },
   "outputs": [],
   "source": [
    "sns.displot(bweights, kind='kde', rug=True);"
   ]
  },
  {
   "cell_type": "code",
   "execution_count": null,
   "metadata": {
    "ExecuteTime": {
     "end_time": "2021-11-22T11:13:38.180484Z",
     "start_time": "2021-11-22T11:13:38.072525Z"
    }
   },
   "outputs": [],
   "source": [
    "fig = ff.create_distplot(\n",
    "    [births[\"Birth Weight\"]],\n",
    "    group_labels=[\"Birth Weight\"],\n",
    "    bin_size=2)\n",
    "fig.update_layout(bargap=0.1)\n",
    "fig"
   ]
  },
  {
   "cell_type": "markdown",
   "metadata": {},
   "source": [
    "## Box Plots"
   ]
  },
  {
   "cell_type": "code",
   "execution_count": null,
   "metadata": {
    "ExecuteTime": {
     "end_time": "2021-11-22T11:13:42.863033Z",
     "start_time": "2021-11-22T11:13:42.740015Z"
    }
   },
   "outputs": [],
   "source": [
    "plt.figure(figsize = (3, 6))\n",
    "sns.boxplot(y=bweights);"
   ]
  },
  {
   "cell_type": "code",
   "execution_count": null,
   "metadata": {
    "ExecuteTime": {
     "end_time": "2021-11-22T11:13:44.935748Z",
     "start_time": "2021-11-22T11:13:44.849679Z"
    }
   },
   "outputs": [],
   "source": [
    "px.box(births, y=\"Birth Weight\", x=\"Maternal Smoker\")"
   ]
  },
  {
   "cell_type": "code",
   "execution_count": null,
   "metadata": {
    "ExecuteTime": {
     "end_time": "2021-11-22T11:13:47.765524Z",
     "start_time": "2021-11-22T11:13:47.752490Z"
    }
   },
   "outputs": [],
   "source": [
    "q1 = np.percentile(bweights, 25)\n",
    "q2 = np.percentile(bweights, 50)\n",
    "q3 = np.percentile(bweights, 75)\n",
    "iqr = q3 - q1\n",
    "whisk1 = q1 - 1.5*iqr\n",
    "whisk2 = q3 + 1.5*iqr\n",
    "\n",
    "whisk1, q1, q2, q3, whisk2"
   ]
  },
  {
   "cell_type": "markdown",
   "metadata": {},
   "source": [
    "## Violin Plots"
   ]
  },
  {
   "cell_type": "code",
   "execution_count": null,
   "metadata": {
    "ExecuteTime": {
     "end_time": "2021-11-22T11:13:50.205908Z",
     "start_time": "2021-11-22T11:13:50.057890Z"
    }
   },
   "outputs": [],
   "source": [
    "plt.figure(figsize = (3, 6))\n",
    "sns.violinplot(y=bweights);"
   ]
  },
  {
   "cell_type": "code",
   "execution_count": null,
   "metadata": {
    "ExecuteTime": {
     "end_time": "2021-11-22T11:13:52.457878Z",
     "start_time": "2021-11-22T11:13:52.334923Z"
    }
   },
   "outputs": [],
   "source": [
    "px.violin(births, y=\"Birth Weight\", x=\"Maternal Smoker\")"
   ]
  },
  {
   "cell_type": "markdown",
   "metadata": {},
   "source": [
    "## Overlaid Histograms and Density Curves"
   ]
  },
  {
   "cell_type": "code",
   "execution_count": null,
   "metadata": {
    "ExecuteTime": {
     "end_time": "2021-11-22T11:13:55.590916Z",
     "start_time": "2021-11-22T11:13:55.573965Z"
    }
   },
   "outputs": [],
   "source": [
    "births.head()"
   ]
  },
  {
   "cell_type": "code",
   "execution_count": null,
   "metadata": {
    "ExecuteTime": {
     "end_time": "2021-11-22T11:14:00.450294Z",
     "start_time": "2021-11-22T11:14:00.438294Z"
    }
   },
   "outputs": [],
   "source": [
    "sm_bweights = births[births['Maternal Smoker'] == True]['Birth Weight']\n",
    "nsm_bweights = births[births['Maternal Smoker'] == False]['Birth Weight']"
   ]
  },
  {
   "cell_type": "code",
   "execution_count": null,
   "metadata": {
    "ExecuteTime": {
     "end_time": "2021-11-22T11:14:02.429194Z",
     "start_time": "2021-11-22T11:14:02.075175Z"
    }
   },
   "outputs": [],
   "source": [
    "sns.histplot(nsm_bweights, bins=bw_bins, kde=True, stat='density', label='non smoker', ec='w');\n",
    "sns.histplot(sm_bweights, bins=bw_bins, kde=True, stat='density', label='smoker', color='orange', ec='w');\n",
    "plt.legend();"
   ]
  },
  {
   "cell_type": "code",
   "execution_count": null,
   "metadata": {
    "ExecuteTime": {
     "end_time": "2021-11-22T11:14:20.099386Z",
     "start_time": "2021-11-22T11:14:20.019385Z"
    }
   },
   "outputs": [],
   "source": [
    "fig = ff.create_distplot(\n",
    "    [births.query(\"`Maternal Smoker` == True\")['Birth Weight'],\n",
    "     births.query(\"`Maternal Smoker` == False\")['Birth Weight']],\n",
    "    [\"Smoker\", \"Non-Smoker\"], \n",
    "    bin_size=2)\n",
    "fig.update_layout(bargap=0.1)\n",
    "fig"
   ]
  },
  {
   "cell_type": "markdown",
   "metadata": {},
   "source": [
    "## Side by side box plots and violin plots"
   ]
  },
  {
   "cell_type": "code",
   "execution_count": null,
   "metadata": {
    "ExecuteTime": {
     "end_time": "2021-11-22T11:14:26.048294Z",
     "start_time": "2021-11-22T11:14:25.896337Z"
    }
   },
   "outputs": [],
   "source": [
    "plt.figure(figsize=(5, 8))\n",
    "sns.boxplot(data=births, x = 'Maternal Smoker', y = 'Birth Weight');"
   ]
  },
  {
   "cell_type": "code",
   "execution_count": null,
   "metadata": {
    "ExecuteTime": {
     "end_time": "2021-11-22T11:14:32.013235Z",
     "start_time": "2021-11-22T11:14:31.839278Z"
    }
   },
   "outputs": [],
   "source": [
    "plt.figure(figsize=(5, 8))\n",
    "sns.violinplot(data=births, x = 'Maternal Smoker', y = 'Birth Weight');"
   ]
  },
  {
   "cell_type": "markdown",
   "metadata": {},
   "source": [
    "A less fancy version of the above two plots:"
   ]
  },
  {
   "cell_type": "code",
   "execution_count": null,
   "metadata": {
    "ExecuteTime": {
     "end_time": "2021-11-22T11:14:36.964290Z",
     "start_time": "2021-11-22T11:14:36.950341Z"
    }
   },
   "outputs": [],
   "source": [
    "two_distributions = [nsm_bweights.values, sm_bweights.values]\n",
    "groups = ['non-smokers', 'smokers']"
   ]
  },
  {
   "cell_type": "code",
   "execution_count": null,
   "metadata": {
    "ExecuteTime": {
     "end_time": "2021-11-22T11:14:38.799053Z",
     "start_time": "2021-11-22T11:14:38.657455Z"
    }
   },
   "outputs": [],
   "source": [
    "plt.boxplot(two_distributions, labels=groups);"
   ]
  },
  {
   "cell_type": "code",
   "execution_count": null,
   "metadata": {
    "ExecuteTime": {
     "end_time": "2021-11-22T11:14:40.996695Z",
     "start_time": "2021-11-22T11:14:40.823741Z"
    }
   },
   "outputs": [],
   "source": [
    "plt.violinplot(two_distributions);"
   ]
  },
  {
   "cell_type": "markdown",
   "metadata": {},
   "source": [
    "## Scatter plots"
   ]
  },
  {
   "cell_type": "code",
   "execution_count": null,
   "metadata": {
    "ExecuteTime": {
     "end_time": "2021-11-22T11:14:43.292296Z",
     "start_time": "2021-11-22T11:14:43.271344Z"
    }
   },
   "outputs": [],
   "source": [
    "births.head()"
   ]
  },
  {
   "cell_type": "code",
   "execution_count": null,
   "metadata": {
    "ExecuteTime": {
     "end_time": "2021-11-22T11:14:44.776483Z",
     "start_time": "2021-11-22T11:14:44.599527Z"
    }
   },
   "outputs": [],
   "source": [
    "plt.scatter(births['Maternal Height'], births['Birth Weight']);\n",
    "plt.xlabel('Maternal Height')\n",
    "plt.ylabel('Birth Weight');"
   ]
  },
  {
   "cell_type": "code",
   "execution_count": null,
   "metadata": {
    "ExecuteTime": {
     "end_time": "2021-11-22T11:14:46.401681Z",
     "start_time": "2021-11-22T11:14:46.225719Z"
    }
   },
   "outputs": [],
   "source": [
    "plt.scatter(data=births, x='Maternal Height', y='Birth Weight');\n",
    "plt.xlabel('Maternal Height')\n",
    "plt.ylabel('Birth Weight');"
   ]
  },
  {
   "cell_type": "code",
   "execution_count": null,
   "metadata": {
    "ExecuteTime": {
     "end_time": "2021-11-22T11:14:48.274746Z",
     "start_time": "2021-11-22T11:14:48.004682Z"
    }
   },
   "outputs": [],
   "source": [
    "sns.scatterplot(data = births, x = 'Maternal Height', y = 'Birth Weight', hue = 'Maternal Smoker');"
   ]
  },
  {
   "cell_type": "code",
   "execution_count": null,
   "metadata": {
    "ExecuteTime": {
     "end_time": "2021-11-22T11:14:49.910192Z",
     "start_time": "2021-11-22T11:14:49.807236Z"
    }
   },
   "outputs": [],
   "source": [
    "px.scatter(births, \n",
    "           x = 'Maternal Height', \n",
    "           y = 'Birth Weight', \n",
    "           color = 'Maternal Smoker')"
   ]
  },
  {
   "cell_type": "code",
   "execution_count": null,
   "metadata": {
    "ExecuteTime": {
     "end_time": "2021-11-22T11:14:53.290813Z",
     "start_time": "2021-11-22T11:14:52.167381Z"
    }
   },
   "outputs": [],
   "source": [
    "sns.lmplot(data = births, x = 'Maternal Height', y = 'Birth Weight', ci=False, hue='Maternal Smoker');"
   ]
  },
  {
   "cell_type": "code",
   "execution_count": null,
   "metadata": {
    "ExecuteTime": {
     "end_time": "2021-11-22T11:14:57.199578Z",
     "start_time": "2021-11-22T11:14:55.781630Z"
    }
   },
   "outputs": [],
   "source": [
    "fig = px.scatter(births, \n",
    "                 x = 'Maternal Height', \n",
    "                 y = 'Birth Weight', \n",
    "                 color = 'Maternal Smoker',\n",
    "                 trendline = \"ols\")\n",
    "fig"
   ]
  },
  {
   "cell_type": "code",
   "execution_count": null,
   "metadata": {
    "ExecuteTime": {
     "end_time": "2021-11-22T11:14:59.821807Z",
     "start_time": "2021-11-22T11:14:59.781854Z"
    }
   },
   "outputs": [],
   "source": [
    "results = px.get_trendline_results(fig)\n",
    "for (_, i, t) in results.itertuples():\n",
    "    print(\"Maternal Smoker = \", i)\n",
    "    print(t.summary())\n",
    "    print(\"\\n\\n\")"
   ]
  },
  {
   "cell_type": "code",
   "execution_count": null,
   "metadata": {
    "ExecuteTime": {
     "end_time": "2021-11-22T11:15:29.166807Z",
     "start_time": "2021-11-22T11:15:28.760752Z"
    }
   },
   "outputs": [],
   "source": [
    "sns.jointplot(data = births, x = 'Maternal Height', y = 'Birth Weight');"
   ]
  },
  {
   "cell_type": "code",
   "execution_count": null,
   "metadata": {
    "ExecuteTime": {
     "end_time": "2021-11-22T11:15:31.654269Z",
     "start_time": "2021-11-22T11:15:31.216250Z"
    }
   },
   "outputs": [],
   "source": [
    "sns.jointplot(data = births, x = 'Maternal Height', y = 'Birth Weight', hue='Maternal Smoker');"
   ]
  },
  {
   "cell_type": "code",
   "execution_count": null,
   "metadata": {},
   "outputs": [],
   "source": []
  },
  {
   "cell_type": "markdown",
   "metadata": {},
   "source": [
    "## Hex plots and contour plots"
   ]
  },
  {
   "cell_type": "code",
   "execution_count": null,
   "metadata": {
    "ExecuteTime": {
     "end_time": "2021-11-22T11:15:34.643454Z",
     "start_time": "2021-11-22T11:15:34.249437Z"
    }
   },
   "outputs": [],
   "source": [
    "sns.jointplot(data = births, x = 'Maternal Height', y = 'Birth Weight', kind='hex');"
   ]
  },
  {
   "cell_type": "code",
   "execution_count": null,
   "metadata": {
    "ExecuteTime": {
     "end_time": "2021-11-22T11:15:38.445200Z",
     "start_time": "2021-11-22T11:15:37.353181Z"
    }
   },
   "outputs": [],
   "source": [
    "sns.jointplot(data = births, x = 'Maternal Height', y = 'Birth Weight', kind='kde', fill=True);"
   ]
  },
  {
   "cell_type": "code",
   "execution_count": null,
   "metadata": {
    "ExecuteTime": {
     "end_time": "2021-11-22T11:15:42.119974Z",
     "start_time": "2021-11-22T11:15:40.691033Z"
    }
   },
   "outputs": [],
   "source": [
    "sns.jointplot(data = births, x = 'Maternal Height', y = 'Birth Weight', kind='kde', hue='Maternal Smoker');"
   ]
  },
  {
   "cell_type": "code",
   "execution_count": null,
   "metadata": {
    "ExecuteTime": {
     "end_time": "2021-11-22T11:15:45.069117Z",
     "start_time": "2021-11-22T11:15:44.993161Z"
    }
   },
   "outputs": [],
   "source": [
    "fig = px.scatter(births, x = 'Maternal Height', y = 'Birth Weight')\n",
    "fig.data"
   ]
  },
  {
   "cell_type": "code",
   "execution_count": null,
   "metadata": {
    "ExecuteTime": {
     "end_time": "2021-11-22T11:15:49.113337Z",
     "start_time": "2021-11-22T11:15:48.855319Z"
    }
   },
   "outputs": [],
   "source": [
    "fig = px.density_contour(births, \n",
    "                         x = 'Maternal Height', \n",
    "                         y = 'Birth Weight', \n",
    "                         color ='Maternal Smoker',\n",
    "                         marginal_x=\"histogram\", \n",
    "                         marginal_y=\"histogram\")\n",
    "fig.add_traces(px.scatter(\n",
    "    births, x = 'Maternal Height', y = 'Birth Weight', \n",
    "    color ='Maternal Smoker').data)"
   ]
  },
  {
   "cell_type": "markdown",
   "metadata": {},
   "source": [
    "## The End"
   ]
  },
  {
   "cell_type": "markdown",
   "metadata": {},
   "source": [
    "**Source**\n",
    "\n",
    "This notebook was adapted from:\n",
    "* Data 8: The Foundations of Data Science\n",
    "* Data 100: Principles and Techniques of Data Science by Suraj Rampure,  Fernando Pérez, Ani Adhikari and Joseph Gonzalez\n",
    "* Introduction to Data Science and Visualization by James Bagrow\n"
   ]
  }
 ],
 "metadata": {
  "kernelspec": {
   "display_name": "Python 3",
   "language": "python",
   "name": "python3"
  },
  "language_info": {
   "codemirror_mode": {
    "name": "ipython",
    "version": 3
   },
   "file_extension": ".py",
   "mimetype": "text/x-python",
   "name": "python",
   "nbconvert_exporter": "python",
   "pygments_lexer": "ipython3",
   "version": "3.8.8"
  },
  "toc": {
   "base_numbering": 1,
   "nav_menu": {},
   "number_sections": true,
   "sideBar": true,
   "skip_h1_title": false,
   "title_cell": "Table of Contents",
   "title_sidebar": "Contents",
   "toc_cell": false,
   "toc_position": {
    "height": "calc(100% - 180px)",
    "left": "10px",
    "top": "150px",
    "width": "165px"
   },
   "toc_section_display": true,
   "toc_window_display": true
  }
 },
 "nbformat": 4,
 "nbformat_minor": 4
}
