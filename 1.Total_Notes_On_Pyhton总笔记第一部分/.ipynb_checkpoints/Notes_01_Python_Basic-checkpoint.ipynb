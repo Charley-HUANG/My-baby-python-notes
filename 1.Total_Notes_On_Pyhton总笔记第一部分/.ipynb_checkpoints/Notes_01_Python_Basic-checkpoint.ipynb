{
 "cells": [
  {
   "cell_type": "markdown",
   "id": "92877862",
   "metadata": {},
   "source": [
    "***\n",
    "***NotesOnPyhton***\n",
    "***"
   ]
  },
  {
   "cell_type": "markdown",
   "id": "4f165f59",
   "metadata": {
    "ExecuteTime": {
     "end_time": "2022-09-15T08:49:45.081431Z",
     "start_time": "2022-09-15T08:49:45.074460Z"
    }
   },
   "source": [
    "一些约定：\n",
    "1. 一个大代码块以 # 表示标题\n",
    "2. 标题下面可以有注释，不要 #"
   ]
  },
  {
   "cell_type": "markdown",
   "id": "55f05f46",
   "metadata": {
    "ExecuteTime": {
     "end_time": "2022-09-15T08:50:16.627187Z",
     "start_time": "2022-09-15T08:50:16.620327Z"
    }
   },
   "source": [
    "markdown 的应用方法\n",
    "\n",
    "***点击左边***，变成蓝色，按M，进入Markdown状态，相当于注释啦！\n",
    "\n",
    "返回代码状态，按Y就可以啦！\n",
    "\n"
   ]
  },
  {
   "cell_type": "markdown",
   "id": "e33a842e",
   "metadata": {},
   "source": [
    " "
   ]
  },
  {
   "cell_type": "markdown",
   "id": "3f986f02",
   "metadata": {},
   "source": [
    "# 基本技术"
   ]
  },
  {
   "cell_type": "markdown",
   "id": "1a1f6bb1",
   "metadata": {},
   "source": [
    "## Help and Documentation\n",
    "\n",
    "Accessing Documentation with ? or help\n",
    "\n",
    "Accessing **Source Code** with ??\n"
   ]
  },
  {
   "cell_type": "code",
   "execution_count": 10,
   "id": "2f1e9853",
   "metadata": {
    "ExecuteTime": {
     "end_time": "2022-09-15T09:12:57.630526Z",
     "start_time": "2022-09-15T09:12:57.623596Z"
    },
    "scrolled": true
   },
   "outputs": [
    {
     "name": "stdout",
     "output_type": "stream",
     "text": [
      "Help on _Helper in module _sitebuiltins object:\n",
      "\n",
      "class _Helper(builtins.object)\n",
      " |  Define the builtin 'help'.\n",
      " |  \n",
      " |  This is a wrapper around pydoc.help that provides a helpful message\n",
      " |  when 'help' is typed at the Python interactive prompt.\n",
      " |  \n",
      " |  Calling help() at the Python prompt starts an interactive help session.\n",
      " |  Calling help(thing) prints help for the python object 'thing'.\n",
      " |  \n",
      " |  Methods defined here:\n",
      " |  \n",
      " |  __call__(self, *args, **kwds)\n",
      " |      Call self as a function.\n",
      " |  \n",
      " |  __repr__(self)\n",
      " |      Return repr(self).\n",
      " |  \n",
      " |  ----------------------------------------------------------------------\n",
      " |  Data descriptors defined here:\n",
      " |  \n",
      " |  __dict__\n",
      " |      dictionary for instance variables (if defined)\n",
      " |  \n",
      " |  __weakref__\n",
      " |      list of weak references to the object (if defined)\n",
      "\n"
     ]
    }
   ],
   "source": [
    "help(help)"
   ]
  },
  {
   "cell_type": "markdown",
   "id": "06a980d7",
   "metadata": {},
   "source": [
    "## 利用tab进行联想"
   ]
  },
  {
   "cell_type": "code",
   "execution_count": 11,
   "id": "0be5b321",
   "metadata": {
    "ExecuteTime": {
     "end_time": "2022-09-15T09:13:02.963085Z",
     "start_time": "2022-09-15T09:13:02.954790Z"
    }
   },
   "outputs": [
    {
     "data": {
      "text/plain": [
       "[1, 3, 6, 9, '20']"
      ]
     },
     "execution_count": 11,
     "metadata": {},
     "output_type": "execute_result"
    }
   ],
   "source": [
    "L=[1,3,6,9]\n",
    "L.append('20')\n",
    "L"
   ]
  },
  {
   "cell_type": "markdown",
   "id": "1b8b9d7a",
   "metadata": {},
   "source": [
    "## 自定义函数"
   ]
  },
  {
   "cell_type": "code",
   "execution_count": 4,
   "id": "2439adc5",
   "metadata": {
    "ExecuteTime": {
     "end_time": "2022-09-15T09:05:08.523406Z",
     "start_time": "2022-09-15T09:05:08.519098Z"
    }
   },
   "outputs": [],
   "source": [
    "def fuck(raper,victim):\n",
    "    \"\"\"Enable raper to fuck the victim.\"\"\"\n",
    "    return print(raper+\" fuck \"+victim+\" .\")\n",
    "# 定义函数+函数体+返回值"
   ]
  },
  {
   "cell_type": "code",
   "execution_count": 5,
   "id": "a59b4efb",
   "metadata": {
    "ExecuteTime": {
     "end_time": "2022-09-15T09:05:08.560888Z",
     "start_time": "2022-09-15T09:05:08.526155Z"
    },
    "scrolled": true
   },
   "outputs": [
    {
     "name": "stdout",
     "output_type": "stream",
     "text": [
      "Help on function fuck in module __main__:\n",
      "\n",
      "fuck(raper, victim)\n",
      "    Enable raper to fuck the victim.\n",
      "\n"
     ]
    }
   ],
   "source": [
    "help(fuck)\n",
    "fuck??"
   ]
  },
  {
   "cell_type": "code",
   "execution_count": 6,
   "id": "6ba300a4",
   "metadata": {
    "ExecuteTime": {
     "end_time": "2022-09-15T09:05:08.563958Z",
     "start_time": "2022-09-15T09:05:08.562184Z"
    }
   },
   "outputs": [
    {
     "name": "stdout",
     "output_type": "stream",
     "text": [
      "I fuck you .\n"
     ]
    }
   ],
   "source": [
    "fuck(\"I\",\"you\")"
   ]
  },
  {
   "cell_type": "code",
   "execution_count": 21,
   "id": "8b6ff3af",
   "metadata": {
    "ExecuteTime": {
     "end_time": "2022-09-15T09:18:49.349295Z",
     "start_time": "2022-09-15T09:18:49.341989Z"
    },
    "scrolled": true
   },
   "outputs": [
    {
     "name": "stdout",
     "output_type": "stream",
     "text": [
      "I love you.\n"
     ]
    }
   ],
   "source": [
    "def love(a,b):\n",
    "    print(a+\" love \"+b+\".\")\n",
    "    \n",
    "love('I','you')"
   ]
  },
  {
   "cell_type": "markdown",
   "id": "1e56505d",
   "metadata": {},
   "source": [
    "## 函数运行时间"
   ]
  },
  {
   "cell_type": "markdown",
   "id": "0332fcd6",
   "metadata": {},
   "source": [
    "### ``%time+函数``: 返回运行时间\n",
    "\n",
    "### ``%timeit+函数``: 运行时间的均值"
   ]
  },
  {
   "cell_type": "markdown",
   "id": "e03a41e5",
   "metadata": {},
   "source": [
    "### ``%prun+函数``：更细致"
   ]
  },
  {
   "cell_type": "code",
   "execution_count": 22,
   "id": "7b25ff6e",
   "metadata": {
    "ExecuteTime": {
     "end_time": "2022-09-15T09:18:59.356941Z",
     "start_time": "2022-09-15T09:18:58.894959Z"
    },
    "scrolled": true
   },
   "outputs": [
    {
     "name": "stdout",
     "output_type": "stream",
     "text": [
      " "
     ]
    }
   ],
   "source": [
    "def sum_of_lists(N):\n",
    "    total = 0\n",
    "    for i in range(5):\n",
    "        L = [j ^ (j >> i) for j in range(N)]\n",
    "        total += sum(L)\n",
    "    return total\n",
    "%prun sum_of_lists(1000000)"
   ]
  },
  {
   "cell_type": "markdown",
   "id": "bdf8f03d",
   "metadata": {},
   "source": [
    "## 函数运行内存"
   ]
  },
  {
   "cell_type": "markdown",
   "id": "d72845ab",
   "metadata": {},
   "source": [
    "### `%memit+函数` :返回运行内存\n",
    "\n",
    "### `%mprun+函数`：更细致"
   ]
  },
  {
   "cell_type": "code",
   "execution_count": 23,
   "id": "7f402574",
   "metadata": {
    "ExecuteTime": {
     "end_time": "2022-09-15T09:19:45.083561Z",
     "start_time": "2022-09-15T09:19:45.034423Z"
    }
   },
   "outputs": [
    {
     "ename": "ModuleNotFoundError",
     "evalue": "No module named 'memory_profiler'",
     "output_type": "error",
     "traceback": [
      "\u001b[0;31m---------------------------------------------------------------------------\u001b[0m",
      "\u001b[0;31mModuleNotFoundError\u001b[0m                       Traceback (most recent call last)",
      "Input \u001b[0;32mIn [23]\u001b[0m, in \u001b[0;36m<cell line: 1>\u001b[0;34m()\u001b[0m\n\u001b[0;32m----> 1\u001b[0m \u001b[43mget_ipython\u001b[49m\u001b[43m(\u001b[49m\u001b[43m)\u001b[49m\u001b[38;5;241;43m.\u001b[39;49m\u001b[43mrun_line_magic\u001b[49m\u001b[43m(\u001b[49m\u001b[38;5;124;43m'\u001b[39;49m\u001b[38;5;124;43mload_ext\u001b[39;49m\u001b[38;5;124;43m'\u001b[39;49m\u001b[43m,\u001b[49m\u001b[43m \u001b[49m\u001b[38;5;124;43m'\u001b[39;49m\u001b[38;5;124;43mmemory_profiler\u001b[39;49m\u001b[38;5;124;43m'\u001b[39;49m\u001b[43m)\u001b[49m\n\u001b[1;32m      2\u001b[0m get_ipython()\u001b[38;5;241m.\u001b[39mrun_line_magic(\u001b[38;5;124m'\u001b[39m\u001b[38;5;124mmemit\u001b[39m\u001b[38;5;124m'\u001b[39m, \u001b[38;5;124m'\u001b[39m\u001b[38;5;124msum_of_lists(1000000)\u001b[39m\u001b[38;5;124m'\u001b[39m)\n",
      "File \u001b[0;32m~/opt/anaconda3/lib/python3.9/site-packages/IPython/core/interactiveshell.py:2294\u001b[0m, in \u001b[0;36mInteractiveShell.run_line_magic\u001b[0;34m(self, magic_name, line, _stack_depth)\u001b[0m\n\u001b[1;32m   2292\u001b[0m     kwargs[\u001b[38;5;124m'\u001b[39m\u001b[38;5;124mlocal_ns\u001b[39m\u001b[38;5;124m'\u001b[39m] \u001b[38;5;241m=\u001b[39m \u001b[38;5;28mself\u001b[39m\u001b[38;5;241m.\u001b[39mget_local_scope(stack_depth)\n\u001b[1;32m   2293\u001b[0m \u001b[38;5;28;01mwith\u001b[39;00m \u001b[38;5;28mself\u001b[39m\u001b[38;5;241m.\u001b[39mbuiltin_trap:\n\u001b[0;32m-> 2294\u001b[0m     result \u001b[38;5;241m=\u001b[39m \u001b[43mfn\u001b[49m\u001b[43m(\u001b[49m\u001b[38;5;241;43m*\u001b[39;49m\u001b[43margs\u001b[49m\u001b[43m,\u001b[49m\u001b[43m \u001b[49m\u001b[38;5;241;43m*\u001b[39;49m\u001b[38;5;241;43m*\u001b[39;49m\u001b[43mkwargs\u001b[49m\u001b[43m)\u001b[49m\n\u001b[1;32m   2295\u001b[0m \u001b[38;5;28;01mreturn\u001b[39;00m result\n",
      "File \u001b[0;32m~/opt/anaconda3/lib/python3.9/site-packages/IPython/core/magics/extension.py:33\u001b[0m, in \u001b[0;36mExtensionMagics.load_ext\u001b[0;34m(self, module_str)\u001b[0m\n\u001b[1;32m     31\u001b[0m \u001b[38;5;28;01mif\u001b[39;00m \u001b[38;5;129;01mnot\u001b[39;00m module_str:\n\u001b[1;32m     32\u001b[0m     \u001b[38;5;28;01mraise\u001b[39;00m UsageError(\u001b[38;5;124m'\u001b[39m\u001b[38;5;124mMissing module name.\u001b[39m\u001b[38;5;124m'\u001b[39m)\n\u001b[0;32m---> 33\u001b[0m res \u001b[38;5;241m=\u001b[39m \u001b[38;5;28;43mself\u001b[39;49m\u001b[38;5;241;43m.\u001b[39;49m\u001b[43mshell\u001b[49m\u001b[38;5;241;43m.\u001b[39;49m\u001b[43mextension_manager\u001b[49m\u001b[38;5;241;43m.\u001b[39;49m\u001b[43mload_extension\u001b[49m\u001b[43m(\u001b[49m\u001b[43mmodule_str\u001b[49m\u001b[43m)\u001b[49m\n\u001b[1;32m     35\u001b[0m \u001b[38;5;28;01mif\u001b[39;00m res \u001b[38;5;241m==\u001b[39m \u001b[38;5;124m'\u001b[39m\u001b[38;5;124malready loaded\u001b[39m\u001b[38;5;124m'\u001b[39m:\n\u001b[1;32m     36\u001b[0m     \u001b[38;5;28mprint\u001b[39m(\u001b[38;5;124m\"\u001b[39m\u001b[38;5;124mThe \u001b[39m\u001b[38;5;132;01m%s\u001b[39;00m\u001b[38;5;124m extension is already loaded. To reload it, use:\u001b[39m\u001b[38;5;124m\"\u001b[39m \u001b[38;5;241m%\u001b[39m module_str)\n",
      "File \u001b[0;32m~/opt/anaconda3/lib/python3.9/site-packages/IPython/core/extensions.py:76\u001b[0m, in \u001b[0;36mExtensionManager.load_extension\u001b[0;34m(self, module_str)\u001b[0m\n\u001b[1;32m     69\u001b[0m \u001b[38;5;124;03m\"\"\"Load an IPython extension by its module name.\u001b[39;00m\n\u001b[1;32m     70\u001b[0m \n\u001b[1;32m     71\u001b[0m \u001b[38;5;124;03mReturns the string \"already loaded\" if the extension is already loaded,\u001b[39;00m\n\u001b[1;32m     72\u001b[0m \u001b[38;5;124;03m\"no load function\" if the module doesn't have a load_ipython_extension\u001b[39;00m\n\u001b[1;32m     73\u001b[0m \u001b[38;5;124;03mfunction, or None if it succeeded.\u001b[39;00m\n\u001b[1;32m     74\u001b[0m \u001b[38;5;124;03m\"\"\"\u001b[39;00m\n\u001b[1;32m     75\u001b[0m \u001b[38;5;28;01mtry\u001b[39;00m:\n\u001b[0;32m---> 76\u001b[0m     \u001b[38;5;28;01mreturn\u001b[39;00m \u001b[38;5;28;43mself\u001b[39;49m\u001b[38;5;241;43m.\u001b[39;49m\u001b[43m_load_extension\u001b[49m\u001b[43m(\u001b[49m\u001b[43mmodule_str\u001b[49m\u001b[43m)\u001b[49m\n\u001b[1;32m     77\u001b[0m \u001b[38;5;28;01mexcept\u001b[39;00m \u001b[38;5;167;01mModuleNotFoundError\u001b[39;00m:\n\u001b[1;32m     78\u001b[0m     \u001b[38;5;28;01mif\u001b[39;00m module_str \u001b[38;5;129;01min\u001b[39;00m BUILTINS_EXTS:\n",
      "File \u001b[0;32m~/opt/anaconda3/lib/python3.9/site-packages/IPython/core/extensions.py:92\u001b[0m, in \u001b[0;36mExtensionManager._load_extension\u001b[0;34m(self, module_str)\u001b[0m\n\u001b[1;32m     90\u001b[0m \u001b[38;5;28;01mif\u001b[39;00m module_str \u001b[38;5;129;01mnot\u001b[39;00m \u001b[38;5;129;01min\u001b[39;00m sys\u001b[38;5;241m.\u001b[39mmodules:\n\u001b[1;32m     91\u001b[0m     \u001b[38;5;28;01mwith\u001b[39;00m prepended_to_syspath(\u001b[38;5;28mself\u001b[39m\u001b[38;5;241m.\u001b[39mipython_extension_dir):\n\u001b[0;32m---> 92\u001b[0m         mod \u001b[38;5;241m=\u001b[39m \u001b[43mimport_module\u001b[49m\u001b[43m(\u001b[49m\u001b[43mmodule_str\u001b[49m\u001b[43m)\u001b[49m\n\u001b[1;32m     93\u001b[0m         \u001b[38;5;28;01mif\u001b[39;00m mod\u001b[38;5;241m.\u001b[39m\u001b[38;5;18m__file__\u001b[39m\u001b[38;5;241m.\u001b[39mstartswith(\u001b[38;5;28mself\u001b[39m\u001b[38;5;241m.\u001b[39mipython_extension_dir):\n\u001b[1;32m     94\u001b[0m             \u001b[38;5;28mprint\u001b[39m((\u001b[38;5;124m\"\u001b[39m\u001b[38;5;124mLoading extensions from \u001b[39m\u001b[38;5;132;01m{dir}\u001b[39;00m\u001b[38;5;124m is deprecated. \u001b[39m\u001b[38;5;124m\"\u001b[39m\n\u001b[1;32m     95\u001b[0m                    \u001b[38;5;124m\"\u001b[39m\u001b[38;5;124mWe recommend managing extensions like any \u001b[39m\u001b[38;5;124m\"\u001b[39m\n\u001b[1;32m     96\u001b[0m                    \u001b[38;5;124m\"\u001b[39m\u001b[38;5;124mother Python packages, in site-packages.\u001b[39m\u001b[38;5;124m\"\u001b[39m)\u001b[38;5;241m.\u001b[39mformat(\n\u001b[1;32m     97\u001b[0m                   \u001b[38;5;28mdir\u001b[39m\u001b[38;5;241m=\u001b[39mcompress_user(\u001b[38;5;28mself\u001b[39m\u001b[38;5;241m.\u001b[39mipython_extension_dir)))\n",
      "File \u001b[0;32m~/opt/anaconda3/lib/python3.9/importlib/__init__.py:127\u001b[0m, in \u001b[0;36mimport_module\u001b[0;34m(name, package)\u001b[0m\n\u001b[1;32m    125\u001b[0m             \u001b[38;5;28;01mbreak\u001b[39;00m\n\u001b[1;32m    126\u001b[0m         level \u001b[38;5;241m+\u001b[39m\u001b[38;5;241m=\u001b[39m \u001b[38;5;241m1\u001b[39m\n\u001b[0;32m--> 127\u001b[0m \u001b[38;5;28;01mreturn\u001b[39;00m \u001b[43m_bootstrap\u001b[49m\u001b[38;5;241;43m.\u001b[39;49m\u001b[43m_gcd_import\u001b[49m\u001b[43m(\u001b[49m\u001b[43mname\u001b[49m\u001b[43m[\u001b[49m\u001b[43mlevel\u001b[49m\u001b[43m:\u001b[49m\u001b[43m]\u001b[49m\u001b[43m,\u001b[49m\u001b[43m \u001b[49m\u001b[43mpackage\u001b[49m\u001b[43m,\u001b[49m\u001b[43m \u001b[49m\u001b[43mlevel\u001b[49m\u001b[43m)\u001b[49m\n",
      "File \u001b[0;32m<frozen importlib._bootstrap>:1030\u001b[0m, in \u001b[0;36m_gcd_import\u001b[0;34m(name, package, level)\u001b[0m\n",
      "File \u001b[0;32m<frozen importlib._bootstrap>:1007\u001b[0m, in \u001b[0;36m_find_and_load\u001b[0;34m(name, import_)\u001b[0m\n",
      "File \u001b[0;32m<frozen importlib._bootstrap>:984\u001b[0m, in \u001b[0;36m_find_and_load_unlocked\u001b[0;34m(name, import_)\u001b[0m\n",
      "\u001b[0;31mModuleNotFoundError\u001b[0m: No module named 'memory_profiler'"
     ]
    }
   ],
   "source": [
    "%load_ext memory_profiler\n",
    "%memit sum_of_lists(1000000)"
   ]
  },
  {
   "cell_type": "markdown",
   "id": "72cbb752",
   "metadata": {},
   "source": [
    "## `random`随机数"
   ]
  },
  {
   "cell_type": "code",
   "execution_count": 37,
   "id": "133f1caa",
   "metadata": {
    "ExecuteTime": {
     "end_time": "2022-09-15T09:26:58.438009Z",
     "start_time": "2022-09-15T09:26:58.414065Z"
    },
    "scrolled": false
   },
   "outputs": [
    {
     "data": {
      "text/plain": [
       "[0.863063135890298,\n",
       " 0.5905526799111803,\n",
       " 0.5912897743920512,\n",
       " 0.684236437025699,\n",
       " 0.5220053379700867]"
      ]
     },
     "execution_count": 37,
     "metadata": {},
     "output_type": "execute_result"
    }
   ],
   "source": [
    "import random # 包\n",
    "random.seed(520010)\n",
    "L = [random.random() for i in range(100000)] # 包名.调用方法 # 写得真好！\n",
    "L[:5]"
   ]
  },
  {
   "cell_type": "markdown",
   "id": "47ff8b8e",
   "metadata": {},
   "source": [
    "## 一个语句多行\n",
    "\n",
    "### 代码：`\\ `& `( )`\n",
    "\n",
    "### 字符串：`\"\"\" \"\"\"` 三引号"
   ]
  },
  {
   "cell_type": "code",
   "execution_count": 38,
   "id": "bb3db314",
   "metadata": {
    "ExecuteTime": {
     "end_time": "2022-09-15T09:27:35.008600Z",
     "start_time": "2022-09-15T09:27:34.999919Z"
    }
   },
   "outputs": [
    {
     "data": {
      "text/plain": [
       "36"
      ]
     },
     "execution_count": 38,
     "metadata": {},
     "output_type": "execute_result"
    }
   ],
   "source": [
    "x = 1 + 2 + 3 + 4 +\\\n",
    "    5 + 6 + 7 + 8\n",
    "x"
   ]
  },
  {
   "cell_type": "code",
   "execution_count": 39,
   "id": "82f4858e",
   "metadata": {
    "ExecuteTime": {
     "end_time": "2022-09-15T09:27:36.379770Z",
     "start_time": "2022-09-15T09:27:36.374279Z"
    }
   },
   "outputs": [],
   "source": [
    "x = (1 + 2 + 3 + 4 +\n",
    "     5 + 6 + 7 + 8)"
   ]
  },
  {
   "cell_type": "markdown",
   "id": "f5e72ba9",
   "metadata": {},
   "source": [
    "## 多个语句一行：加 `；`"
   ]
  },
  {
   "cell_type": "code",
   "execution_count": 40,
   "id": "2468640f",
   "metadata": {
    "ExecuteTime": {
     "end_time": "2022-09-15T09:27:44.587678Z",
     "start_time": "2022-09-15T09:27:44.582341Z"
    }
   },
   "outputs": [],
   "source": [
    "lower = []; upper = []"
   ]
  },
  {
   "cell_type": "markdown",
   "id": "b35ca012",
   "metadata": {},
   "source": [
    "## 缩进"
   ]
  },
  {
   "cell_type": "markdown",
   "id": "c2ab9e06",
   "metadata": {},
   "source": [
    "1. 一般空4格，空格数目不同会报错\n",
    "2. **缩进前面必然是冒号**："
   ]
  },
  {
   "cell_type": "markdown",
   "id": "706055e6",
   "metadata": {},
   "source": [
    "### 首空格matter，其他空格not mat"
   ]
  },
  {
   "cell_type": "code",
   "execution_count": 41,
   "id": "4ef211a8",
   "metadata": {
    "ExecuteTime": {
     "end_time": "2022-09-15T09:27:54.836209Z",
     "start_time": "2022-09-15T09:27:54.831015Z"
    }
   },
   "outputs": [],
   "source": [
    "x=1+2\n",
    "x = 1 + 2\n",
    "x             =        1    +                2"
   ]
  },
  {
   "cell_type": "markdown",
   "id": "1687dafd",
   "metadata": {},
   "source": [
    "## 括号:Grouping / Calling（参数）"
   ]
  },
  {
   "cell_type": "markdown",
   "id": "e9a5e1be",
   "metadata": {},
   "source": [
    "### Fun w.o. arg(方法)"
   ]
  },
  {
   "cell_type": "code",
   "execution_count": 43,
   "id": "e0961462",
   "metadata": {
    "ExecuteTime": {
     "end_time": "2022-09-15T09:31:41.811134Z",
     "start_time": "2022-09-15T09:31:41.803531Z"
    }
   },
   "outputs": [
    {
     "name": "stdout",
     "output_type": "stream",
     "text": [
      "[1, 2, 3, 4]\n"
     ]
    }
   ],
   "source": [
    "L = [4,2,3,1]\n",
    "L.sort() # 函数被执行，但是不需要参数罢了\n",
    "print(L)"
   ]
  },
  {
   "cell_type": "markdown",
   "id": "885a891e",
   "metadata": {},
   "source": [
    "# Basic Python Semantics 1 -Var.&Obj."
   ]
  },
  {
   "cell_type": "markdown",
   "id": "e2ab8b58",
   "metadata": {},
   "source": [
    "##  Python变量是指针：动态类型\n",
    "In C, for example, when you write\n",
    "\n",
    "    int x = 4;    # x是一个容器\n",
    "\n",
    "you are essentially defining a static \"memory bucket\" named x, and putting the value 4 into it. \n",
    "\n",
    "In Python, by contrast, variables are best thought of not as containers for data but as pointers to data. So in Python, when you write\n",
    "\n",
    "    x = 4       # x是一个指针\n",
    "\n",
    "you are essentially defining a pointer named x that points to some other bucket containing the value 4.\n",
    "\n",
    "Python is dynamically-typed: **Variable names can point to objects of any type.**\n",
    "\n",
    "**Python是动态类型的:变量名可以指向任何类型的对象。**"
   ]
  },
  {
   "cell_type": "code",
   "execution_count": 44,
   "id": "2a6b85df",
   "metadata": {
    "ExecuteTime": {
     "end_time": "2022-09-15T09:33:14.241346Z",
     "start_time": "2022-09-15T09:33:14.231732Z"
    }
   },
   "outputs": [
    {
     "data": {
      "text/plain": [
       "list"
      ]
     },
     "execution_count": 44,
     "metadata": {},
     "output_type": "execute_result"
    }
   ],
   "source": [
    "# x只是一个指针，不考察变量类型\n",
    "x = 1;type(x)          # x is an integer\n",
    "x = 'hello';type(x)    # now x is a string\n",
    "x = [1, 2, 3];type(x)  # now x is a list"
   ]
  },
  {
   "cell_type": "markdown",
   "id": "8ac356df",
   "metadata": {},
   "source": [
    "### `append`修改变量 影响所有指针\n",
    "你需要知道。如果我们有两个变量名指向同一个可变对象，那么**改变其中一个就会同时改变另一个**!例如，让我们创建和修改一个列表:"
   ]
  },
  {
   "cell_type": "code",
   "execution_count": 76,
   "id": "37309392",
   "metadata": {
    "ExecuteTime": {
     "end_time": "2022-09-15T09:55:32.937039Z",
     "start_time": "2022-09-15T09:55:32.928637Z"
    },
    "scrolled": true
   },
   "outputs": [
    {
     "name": "stdout",
     "output_type": "stream",
     "text": [
      "[1, 2, 3]\n",
      "[1, 2, 3, 10] [1, 2, 3, 10]\n"
     ]
    }
   ],
   "source": [
    "x = [1, 2, 3]\n",
    "y = x # x&y指向相同的obj\n",
    "print(y)\n",
    "x.append(10)# 修改地址\n",
    "print(x,y)"
   ]
  },
  {
   "cell_type": "code",
   "execution_count": 81,
   "id": "b0b4c5aa",
   "metadata": {
    "ExecuteTime": {
     "end_time": "2022-09-15T09:56:29.996449Z",
     "start_time": "2022-09-15T09:56:29.993646Z"
    }
   },
   "outputs": [
    {
     "data": {
      "text/plain": [
       "False"
      ]
     },
     "execution_count": 81,
     "metadata": {},
     "output_type": "execute_result"
    }
   ],
   "source": [
    "x is y # 指向相同内存空间"
   ]
  },
  {
   "cell_type": "markdown",
   "id": "79d33a2d",
   "metadata": {},
   "source": [
    "### `=`重定向变量 不改变其他指针"
   ]
  },
  {
   "cell_type": "code",
   "execution_count": 79,
   "id": "282642de",
   "metadata": {
    "ExecuteTime": {
     "end_time": "2022-09-15T09:56:02.379472Z",
     "start_time": "2022-09-15T09:56:02.372668Z"
    },
    "scrolled": false
   },
   "outputs": [
    {
     "name": "stdout",
     "output_type": "stream",
     "text": [
      "[1, 2, 3]\n",
      "[1, 2, 3, 10] [1, 2, 3]\n"
     ]
    }
   ],
   "source": [
    "x = [1, 2, 3]\n",
    "y = x \n",
    "print(y)\n",
    "x=[1,2,3,10]# x重定向到新的内存区域！\n",
    "print(x,y)"
   ]
  },
  {
   "cell_type": "code",
   "execution_count": 80,
   "id": "9aa6f2b1",
   "metadata": {
    "ExecuteTime": {
     "end_time": "2022-09-15T09:56:03.189705Z",
     "start_time": "2022-09-15T09:56:03.182179Z"
    }
   },
   "outputs": [
    {
     "data": {
      "text/plain": [
       "False"
      ]
     },
     "execution_count": 80,
     "metadata": {},
     "output_type": "execute_result"
    }
   ],
   "source": [
    "x is y # 指向不同内存空间"
   ]
  },
  {
   "cell_type": "code",
   "execution_count": 58,
   "id": "c707b315",
   "metadata": {
    "ExecuteTime": {
     "end_time": "2022-09-15T09:40:34.128233Z",
     "start_time": "2022-09-15T09:40:34.120664Z"
    }
   },
   "outputs": [
    {
     "name": "stdout",
     "output_type": "stream",
     "text": [
      "x = 15\n",
      "y = 10\n"
     ]
    }
   ],
   "source": [
    "# 进一步的一个例子\n",
    "x = 10\n",
    "y = x\n",
    "x += 5  # x重定向到新的内存区域！\n",
    "print(\"x =\", x)\n",
    "print(\"y =\", y)"
   ]
  },
  {
   "cell_type": "markdown",
   "id": "5c04acd8",
   "metadata": {},
   "source": [
    "### 总结\n",
    " * python里值被存储到某个地址之后，你就没法改变这个“值-地址”对了；变量只是代表一个向量，指向某一个地址。\n",
    "\n",
    "   * `=`赋地址：\n",
    "   \n",
    "     - \"y=x\"让**y指向与x相同的地址**\n",
    "\n",
    "     - 用 = 给x附别的值，让x指向另一个地址，不改变y。\n",
    "     \n",
    "   * `.append()`等方法修改值：\n",
    "   \n",
    "     - 直接修改对应该值的所有指针的值！"
   ]
  },
  {
   "cell_type": "markdown",
   "id": "70c80cdf",
   "metadata": {},
   "source": [
    "## 类\n",
    "\n",
    "变量（只是名字）没有类  对象（entity实质）才有类"
   ]
  },
  {
   "cell_type": "markdown",
   "id": "16d98e15",
   "metadata": {},
   "source": [
    "Python类型;但是，类型并没有链接到变量名，而是**链接到对象本身**。\n",
    "\n",
    "在像Python这样的面向对象编程语言中，对象是一个包含数据以及相关元数据和/或功能的实体。在Python中，一切都是对象，这意味着**每个实体都有一些元数据(称为属性)和相关的功能(称为方法)**。这些属性和方法的访问通过点语法。(对象的方法用xxx.mtd访问)\n",
    "\n",
    "例如，在我们看到列表有一个append方法之前，它向列表中添加一个项目，并通过dot(\".\")语法访问:\n",
    "\n",
    "Python has types; however, the ***types are linked not to the variable names but to the objects themselves.***\n",
    "\n",
    "In object-oriented programming languages like Python, ***an object is an entity that contains data along with associated metadata and/or functionality.*** In Python everything is an object, which means ***every entity has some metadata (called attributes) and associated functionality (called methods).*** These attributes and methods are accessed via the dot syntax.(对象的方法用xxx.mtd访问)\n",
    "\n",
    "For example, before we saw that lists have an ***append*** method, which adds an item to the list, and is accessed via the dot (\".\") syntax:"
   ]
  },
  {
   "cell_type": "code",
   "execution_count": 59,
   "id": "c5a670a4",
   "metadata": {
    "ExecuteTime": {
     "end_time": "2022-09-15T09:45:56.102868Z",
     "start_time": "2022-09-15T09:45:56.098219Z"
    }
   },
   "outputs": [
    {
     "name": "stdout",
     "output_type": "stream",
     "text": [
      "[1, 2, 3, 100]\n"
     ]
    }
   ],
   "source": [
    "L = [1, 2, 3]\n",
    "L.append(100) # 点语法\n",
    "print(L)"
   ]
  },
  {
   "cell_type": "markdown",
   "id": "099d6f3a",
   "metadata": {},
   "source": [
    "### Evy obj. has attributes & methods.\n",
    "其中 对象的属性用xxx.yyy调用，对象的方法用xxx.yyy()调用，带括号！\n",
    " - 属性：xxx.yyy\n",
    " - 无参方法：xxx.yyy()\n",
    " - 有参方法：xxx.yyy(para.)\n",
    "\n",
    "**你用tab找**"
   ]
  },
  {
   "cell_type": "markdown",
   "id": "15474b94",
   "metadata": {},
   "source": [
    "#### attribute"
   ]
  },
  {
   "cell_type": "code",
   "execution_count": 66,
   "id": "14c69106",
   "metadata": {
    "ExecuteTime": {
     "end_time": "2022-09-15T09:47:23.650642Z",
     "start_time": "2022-09-15T09:47:23.640357Z"
    }
   },
   "outputs": [
    {
     "name": "stdout",
     "output_type": "stream",
     "text": [
      "4.5 + 3.6 i\n"
     ]
    },
    {
     "data": {
      "text/plain": [
       "(4.5+3.6j)"
      ]
     },
     "execution_count": 66,
     "metadata": {},
     "output_type": "execute_result"
    }
   ],
   "source": [
    "# 复数也有attr/mtd, 可以用xxx.<tab>check.\n",
    "x = 4.5+3.6j\n",
    "print(x.real, \"+\", x.imag, 'i') # attr.\n",
    "x"
   ]
  },
  {
   "cell_type": "markdown",
   "id": "a7afcce3",
   "metadata": {},
   "source": [
    "#### method"
   ]
  },
  {
   "cell_type": "code",
   "execution_count": 68,
   "id": "6d9c25dd",
   "metadata": {
    "ExecuteTime": {
     "end_time": "2022-09-15T09:47:58.916107Z",
     "start_time": "2022-09-15T09:47:58.909257Z"
    }
   },
   "outputs": [
    {
     "data": {
      "text/plain": [
       "False"
      ]
     },
     "execution_count": 68,
     "metadata": {},
     "output_type": "execute_result"
    }
   ],
   "source": [
    "x = 4.5\n",
    "x.is_integer() # mtd"
   ]
  },
  {
   "cell_type": "markdown",
   "id": "f01c98a3",
   "metadata": {},
   "source": [
    "当我们说Python中的一切都是对象时，我们实际上是指**一切都是对象**：\n",
    "\n",
    "即使对象的属性和方法本身也是对象，具有自己的类型信息:"
   ]
  },
  {
   "cell_type": "code",
   "execution_count": 69,
   "id": "55a7241a",
   "metadata": {
    "ExecuteTime": {
     "end_time": "2022-09-15T09:47:59.474925Z",
     "start_time": "2022-09-15T09:47:59.466876Z"
    }
   },
   "outputs": [
    {
     "data": {
      "text/plain": [
       "bool"
      ]
     },
     "execution_count": 69,
     "metadata": {},
     "output_type": "execute_result"
    }
   ],
   "source": [
    "type(x.is_integer())"
   ]
  },
  {
   "cell_type": "markdown",
   "id": "a60317f4",
   "metadata": {},
   "source": [
    "# Basic Python Semantics 2 -Opr."
   ]
  },
  {
   "cell_type": "markdown",
   "id": "f5316e45",
   "metadata": {},
   "source": [
    "## 算术\n",
    "Python implements seven basic binary arithmetic operators, two of which can double as unary operators.\n",
    "They are summarized in the following table:\n",
    "\n",
    "| Operator     | Name           | Description                                            |\n",
    "|--------------|----------------|--------------------------------------------------------|\n",
    "| ``a + b``    | Addition       | Sum of ``a`` and ``b``                                 |\n",
    "| ``a - b``    | Subtraction    | Difference of ``a`` and ``b``                          |\n",
    "| ``a * b``    | Multiplication | Product of ``a`` and ``b``                             |\n",
    "| ``a / b``    | True division  | Quotient of ``a`` and ``b``                            |\n",
    "| ``a // b``   | Floor division | Quotient of ``a`` and ``b``, removing fractional parts |\n",
    "| ``a % b``    | Modulus        | Integer remainder after division of ``a`` by ``b``     |\n",
    "| ``a ** b``   | Exponentiation | ``a`` raised to the power of ``b``                     |\n",
    "| ``-a``       | Negation       | The negative of ``a``                                  |\n",
    "| ``+a``       | Unary plus     | ``a`` unchanged (rarely used)                          |\n",
    "\n",
    "这些操作符可以以直观的方式使用和组合，使用标准的圆括号对操作进行分组。例如:"
   ]
  },
  {
   "cell_type": "markdown",
   "id": "f44f594f",
   "metadata": {},
   "source": [
    "## =赋值\n",
    "我们已经看到，变量可以用`=`操作符赋值，并存储值供以后使用。例如:"
   ]
  },
  {
   "cell_type": "markdown",
   "id": "7756b46b",
   "metadata": {},
   "source": [
    "a += b is equivalent to a = a + b\n",
    "注意：\n",
    " - 不可变对象（数字，字符串，元组等）的共享引用，**改变一个变量不会影响另一个变量**。\n",
    "     - 理解：不可变对象改变变量的值就在新的地址创造新的变量\n",
    " - 对可变对象（列表，字典，集合等）的共享引用，当修改一个变量所引用对象的值时，**会影响到另一个变量**。\n",
    "     - 理解：可变对象改变变量的值就直接在原来的地址修改变量"
   ]
  },
  {
   "cell_type": "code",
   "execution_count": 71,
   "id": "951b8617",
   "metadata": {
    "ExecuteTime": {
     "end_time": "2022-09-15T09:51:25.814144Z",
     "start_time": "2022-09-15T09:51:25.807759Z"
    },
    "scrolled": true
   },
   "outputs": [
    {
     "name": "stdout",
     "output_type": "stream",
     "text": [
      "7 5\n"
     ]
    }
   ],
   "source": [
    "a=5\n",
    "b=a\n",
    "a += 2  # equivalent to a = a + 2\n",
    "print(a,b)"
   ]
  },
  {
   "cell_type": "code",
   "execution_count": 72,
   "id": "34ad91b7",
   "metadata": {
    "ExecuteTime": {
     "end_time": "2022-09-15T09:51:33.141147Z",
     "start_time": "2022-09-15T09:51:33.134848Z"
    }
   },
   "outputs": [
    {
     "name": "stdout",
     "output_type": "stream",
     "text": [
      "[1, 2, 3, 1] [1, 2, 3, 1]\n"
     ]
    }
   ],
   "source": [
    "a = [1,2,3]\n",
    "b = a\n",
    "a.append(1)\n",
    "print(a,b)"
   ]
  },
  {
   "cell_type": "markdown",
   "id": "75f46be9",
   "metadata": {},
   "source": [
    "## 比较\n",
    "\n",
    "另一种非常有用的操作是比较不同的值。为此，Python实现了**标准比较操作符**，返回布尔值`True`和`False`。\n",
    "\n",
    "比较操作如下表所示:\n",
    "\n",
    "\n",
    "| Operation     | Description                       | | Operation     | Description                          |\n",
    "|---------------|-----------------------------------|-|---------------|--------------------------------------|\n",
    "| ``a == b``    | ``a`` equal to ``b``              | | ``a != b``    | ``a`` not equal to ``b``             |\n",
    "| ``a < b``     | ``a`` less than ``b``             | | ``a > b``     | ``a`` greater than ``b``             |\n",
    "| ``a <= b``    | ``a`` less than or equal to ``b`` | | ``a >= b``    | ``a`` greater than or equal to ``b`` |\n",
    "| ``a < b < c``    | Multiconparision is acceptable! | | ``a > b > c``    | Multiconparision is acceptable! |"
   ]
  },
  {
   "cell_type": "markdown",
   "id": "80ba1048",
   "metadata": {},
   "source": [
    "### Multiconparision is acceptable!"
   ]
  },
  {
   "cell_type": "code",
   "execution_count": 73,
   "id": "cac0cd79",
   "metadata": {
    "ExecuteTime": {
     "end_time": "2022-09-15T09:52:27.407390Z",
     "start_time": "2022-09-15T09:52:27.399321Z"
    }
   },
   "outputs": [
    {
     "data": {
      "text/plain": [
       "True"
      ]
     },
     "execution_count": 73,
     "metadata": {},
     "output_type": "execute_result"
    }
   ],
   "source": [
    "a = 25\n",
    "15 < a < 30"
   ]
  },
  {
   "cell_type": "markdown",
   "id": "19c17e11",
   "metadata": {},
   "source": [
    "## Boolean 运算\n",
    "These operators are the actual words``and``, ``or``, and ``not``:\n",
    "\n",
    " - ``and``：且\n",
    " - ``or``：或\n",
    " - ``not``：求反\n",
    " - ``^``：异或： `A ^ B`的结果：当A、B两个不同时结果为1，否则为0。"
   ]
  },
  {
   "cell_type": "code",
   "execution_count": 74,
   "id": "a5d90208",
   "metadata": {
    "ExecuteTime": {
     "end_time": "2022-09-15T09:53:39.696421Z",
     "start_time": "2022-09-15T09:53:39.689005Z"
    }
   },
   "outputs": [
    {
     "name": "stdout",
     "output_type": "stream",
     "text": [
      "True False\n"
     ]
    }
   ],
   "source": [
    "x = 4\n",
    "print((x > 10) or (x % 2 == 0),not (x < 6))"
   ]
  },
  {
   "cell_type": "code",
   "execution_count": null,
   "id": "14a69ede",
   "metadata": {
    "ExecuteTime": {
     "end_time": "2022-09-15T09:05:09.403851Z",
     "start_time": "2022-09-15T09:05:09.403845Z"
    }
   },
   "outputs": [],
   "source": [
    "(x > 1) ^ (x < 10) # (x > 1) != (x < 10)"
   ]
  },
  {
   "cell_type": "markdown",
   "id": "e8fe7051",
   "metadata": {},
   "source": [
    "## 归属\n",
    "\n",
    "Python还包含用于检查归属的操作符。 它们是:\n",
    "\n",
    "| Operator | Description |  备注   |\n",
    "|---------------|---------------------------------------------------|------|\n",
    "| ``a is b``    | `a`,`b`指向相同的内存空间  |`*考察内存空间*`\n",
    "| ``a is not b`` | `a`,`b`指向不同的内存空间  |`*考察内存空间*`\n",
    "| ``a in b``    | `a`属于`b` |`*考察item同group*`\n",
    "| ``a not in b`` | `a`不属于`b` |`*考察item同group*`\n",
    "| `a==b`      | `a`,`b` 值是否相等   | `*不属于归属运算*` |\n",
    "| `a!=b`      | `a`,`b` 值是否不相等   | `*不属于归属运算*`|\n"
   ]
  },
  {
   "cell_type": "code",
   "execution_count": 75,
   "id": "efe7b68e",
   "metadata": {
    "ExecuteTime": {
     "end_time": "2022-09-15T09:55:01.684812Z",
     "start_time": "2022-09-15T09:55:01.677941Z"
    },
    "scrolled": true
   },
   "outputs": [
    {
     "name": "stdout",
     "output_type": "stream",
     "text": [
      "比较内存空间: False True\n",
      "比较值: True True\n"
     ]
    }
   ],
   "source": [
    "a = [1, 2, 3]\n",
    "b = [1, 2, 3]\n",
    "c=a\n",
    "# 比较内存空间\n",
    "print(\"比较内存空间:\", a is b, a is c)\n",
    "# 比较值\n",
    "print(\"比较值:\", a==b,b==c)"
   ]
  },
  {
   "cell_type": "code",
   "execution_count": 82,
   "id": "206e6085",
   "metadata": {
    "ExecuteTime": {
     "end_time": "2022-09-15T09:57:13.111131Z",
     "start_time": "2022-09-15T09:57:13.103345Z"
    }
   },
   "outputs": [
    {
     "name": "stdout",
     "output_type": "stream",
     "text": [
      "List属于运算: True\n",
      "Tuple属于运算: True\n"
     ]
    }
   ],
   "source": [
    "a_list = [1, 2, 3]\n",
    "a_tuple = (1, 2, 3)\n",
    "\n",
    "print(\"List属于运算:\",1 in a_list)\n",
    "print(\"Tuple属于运算:\",1 in a_tuple)"
   ]
  },
  {
   "cell_type": "markdown",
   "id": "48399eb3",
   "metadata": {},
   "source": [
    "## 再谈指针与内存空间：\n",
    "\n",
    "Python中对象包含的三个基本要素：**id(身份标识)、type(数据类型)和value(值)**。\n",
    "\n",
    " - `==`是python的比较操作符，用来比较判断两个对象的value(值)是否相等。\n",
    "\n",
    " - `is`是同一性运算符，这个运算符比较判断的是对象间的唯一身份标识，也就是id是否相同。\n",
    "\n",
    "唯一一个特例：\n",
    "\n",
    "**数值型(-5~256)和字符串型**，并且在通用对象池中的情况下,分别赋值a, b, a is b为True，否则当a和b是int，str，tuple，list，dict或set型时，a is b均为False。\n",
    "\n",
    " - 理解：为了减小运行内存占用，相同的小数值和字符串集约到同一个对象里。"
   ]
  },
  {
   "cell_type": "code",
   "execution_count": 91,
   "id": "c56d0936",
   "metadata": {
    "ExecuteTime": {
     "end_time": "2022-09-15T10:01:07.526394Z",
     "start_time": "2022-09-15T10:01:07.517670Z"
    }
   },
   "outputs": [],
   "source": [
    "?id\n",
    "# the object's memory address."
   ]
  },
  {
   "cell_type": "code",
   "execution_count": 95,
   "id": "44b255f3",
   "metadata": {
    "ExecuteTime": {
     "end_time": "2022-09-15T10:01:42.468512Z",
     "start_time": "2022-09-15T10:01:42.461533Z"
    }
   },
   "outputs": [
    {
     "name": "stdout",
     "output_type": "stream",
     "text": [
      "id of: 256 is  140486635809168 \n",
      "id of: 256 is  140486635809168\n",
      "True\n"
     ]
    }
   ],
   "source": [
    "a = 256 #a和b为数值类型\n",
    "b = 256\n",
    "print(\"id of:\", a, \"is \", id(a),\n",
    "     \"\\nid of:\", b, \"is \", id(b))\n",
    "print(a is b)"
   ]
  },
  {
   "cell_type": "code",
   "execution_count": 97,
   "id": "0da66203",
   "metadata": {
    "ExecuteTime": {
     "end_time": "2022-09-15T10:01:49.112491Z",
     "start_time": "2022-09-15T10:01:49.104361Z"
    }
   },
   "outputs": [
    {
     "name": "stdout",
     "output_type": "stream",
     "text": [
      "id of: 257 is  140486417421936 \n",
      "id of: 257 is  140486417421488\n",
      "False\n"
     ]
    }
   ],
   "source": [
    "a = 257 #a和b为数值类型\n",
    "b = 257\n",
    "a is b\n",
    "print(\"id of:\", a, \"is \", id(a),\n",
    "     \"\\nid of:\", b, \"is \", id(b))\n",
    "print(a is b)"
   ]
  },
  {
   "cell_type": "code",
   "execution_count": 98,
   "id": "1183e63c",
   "metadata": {
    "ExecuteTime": {
     "end_time": "2022-09-15T10:01:58.505016Z",
     "start_time": "2022-09-15T10:01:58.497731Z"
    }
   },
   "outputs": [
    {
     "name": "stdout",
     "output_type": "stream",
     "text": [
      "id of: a is  140486367515568 \n",
      "id of: a is  140486367515568\n",
      "True\n"
     ]
    }
   ],
   "source": [
    "a = 'a'\n",
    "b = 'a'\n",
    "a is b\n",
    "print(\"id of:\", a, \"is \", id(a),\n",
    "     \"\\nid of:\", b, \"is \", id(b))\n",
    "print(a is b)"
   ]
  },
  {
   "cell_type": "code",
   "execution_count": 99,
   "id": "2fc88d97",
   "metadata": {
    "ExecuteTime": {
     "end_time": "2022-09-15T10:33:29.087686Z",
     "start_time": "2022-09-15T10:33:29.080350Z"
    }
   },
   "outputs": [
    {
     "name": "stdout",
     "output_type": "stream",
     "text": [
      "id of: [1, 2, 3] is  140485026336192 \n",
      "id of: [1, 2, 3] is  140486377869376\n",
      "False\n"
     ]
    }
   ],
   "source": [
    "a = [1,2,3]\n",
    "b = [1,2,3]\n",
    "a is b\n",
    "print(\"id of:\", a, \"is \", id(a),\n",
    "     \"\\nid of:\", b, \"is \", id(b))\n",
    "print(a is b)"
   ]
  },
  {
   "cell_type": "markdown",
   "id": "b5723b78",
   "metadata": {},
   "source": [
    "That's all for today! My p.s. & c.v. are still not finish (even not start). Hoping my essay will attract those commitee members! \n",
    "\n",
    "                    @2021年9月15日17:00:44 Charley Huang\n",
    "                    \n",
    "Rep 1 year later: much better, but still a long long way to go!\n",
    "\n",
    "                    @2022年09月15日18:41:14 Charley Huang Qiuyi"
   ]
  },
  {
   "cell_type": "markdown",
   "id": "fe015487",
   "metadata": {},
   "source": [
    "TBC "
   ]
  },
  {
   "cell_type": "markdown",
   "id": "5c9369d1",
   "metadata": {
    "slideshow": {
     "slide_type": "slide"
    }
   },
   "source": [
    "# Built-In Types: Simple Values\n",
    "<br />\n",
    "<center>***Python Scalar Types***</center>\n",
    "\n",
    "| Type        | Example        | Description                                                  |\n",
    "|-------------|----------------|--------------------------------------------------------------|\n",
    "| ``int``     | ``x = 1``      | integers (i.e., whole numbers)                               |\n",
    "| ``float``   | ``x = 1.0``    | floating-point numbers (i.e., real numbers)                  |\n",
    "| ``complex`` | ``x = 1 + 2j`` | Complex numbers (i.e., numbers with real and imaginary part) |\n",
    "| ``bool``    | ``x = True``   | Boolean: True/False values                                   |\n",
    "| ``str``     | ``x = 'abc'``  | String: characters or text                                   |\n",
    "| ``NoneType``| ``x = None``   | Special object indicating nulls                              |\n",
    "\n",
    "We'll take a quick look at each of these in turn."
   ]
  },
  {
   "cell_type": "markdown",
   "id": "80450d54",
   "metadata": {
    "slideshow": {
     "slide_type": "slide"
    }
   },
   "source": [
    "## Integers\n",
    "任何没有小数点的数字都是整数:"
   ]
  },
  {
   "cell_type": "code",
   "execution_count": 100,
   "id": "f1671a62",
   "metadata": {
    "ExecuteTime": {
     "end_time": "2022-09-15T11:00:35.466181Z",
     "start_time": "2022-09-15T11:00:35.457867Z"
    },
    "code_folding": [],
    "slideshow": {
     "slide_type": "slide"
    }
   },
   "outputs": [
    {
     "data": {
      "text/plain": [
       "int"
      ]
     },
     "execution_count": 100,
     "metadata": {},
     "output_type": "execute_result"
    }
   ],
   "source": [
    "#\n",
    "x = 1\n",
    "type(x)"
   ]
  },
  {
   "cell_type": "markdown",
   "id": "2e3c5ad9",
   "metadata": {
    "slideshow": {
     "slide_type": "slide"
    }
   },
   "source": [
    "### Python整数是变量精度的\n",
    "\n",
    "所以你可以做在其他语言中可能溢出的计算:"
   ]
  },
  {
   "cell_type": "code",
   "execution_count": 101,
   "id": "9c5b197c",
   "metadata": {
    "ExecuteTime": {
     "end_time": "2022-09-15T11:00:38.020604Z",
     "start_time": "2022-09-15T11:00:38.013417Z"
    },
    "slideshow": {
     "slide_type": "slide"
    }
   },
   "outputs": [
    {
     "data": {
      "text/plain": [
       "114813069527425452423283320117768198402231770208869520047764273682576626139237031385665948631650626991844596463898746277344711896086305533142593135616665318539129989145312280000688779148240044871428926990063486244781615463646388363947317026040466353970904996558162398808944629605623311649536164221970332681344168908984458505602379484807914058900934776500429002716706625830522008132236281291761267883317206598995396418127021779858404042159853183251540889433902091920554957783589672039160081957216630582755380425583726015528348786419432054508915275783882625175435528800822842770817965453762184851149029376"
      ]
     },
     "execution_count": 101,
     "metadata": {},
     "output_type": "execute_result"
    }
   ],
   "source": [
    "2 ** 2000"
   ]
  },
  {
   "cell_type": "markdown",
   "id": "1ff9a5a5",
   "metadata": {
    "slideshow": {
     "slide_type": "slide"
    }
   },
   "source": [
    "### 默认向上转换\n",
    "\n",
    "Python整数的另一个方便的特性是，默认情况下，将除法向上转换为浮点类型:\n",
    "\n",
    "这种向上转换是Python 3的一个特性;"
   ]
  },
  {
   "cell_type": "code",
   "execution_count": 102,
   "id": "34dddc4e",
   "metadata": {
    "ExecuteTime": {
     "end_time": "2022-09-15T11:00:43.624421Z",
     "start_time": "2022-09-15T11:00:43.615446Z"
    }
   },
   "outputs": [
    {
     "data": {
      "text/plain": [
       "2.5"
      ]
     },
     "execution_count": 102,
     "metadata": {},
     "output_type": "execute_result"
    }
   ],
   "source": [
    "5 / 2 # 除"
   ]
  },
  {
   "cell_type": "code",
   "execution_count": 103,
   "id": "1eb17f0c",
   "metadata": {
    "ExecuteTime": {
     "end_time": "2022-09-15T11:00:44.970587Z",
     "start_time": "2022-09-15T11:00:44.963258Z"
    }
   },
   "outputs": [
    {
     "data": {
      "text/plain": [
       "2"
      ]
     },
     "execution_count": 103,
     "metadata": {},
     "output_type": "execute_result"
    }
   ],
   "source": [
    "5 // 2 # 取整"
   ]
  },
  {
   "cell_type": "markdown",
   "id": "301520e6",
   "metadata": {
    "slideshow": {
     "slide_type": "slide"
    }
   },
   "source": [
    "## Floating-Point Numbers\n",
    "浮点类型可以存储小数"
   ]
  },
  {
   "cell_type": "code",
   "execution_count": 104,
   "id": "b0a94d97",
   "metadata": {
    "ExecuteTime": {
     "end_time": "2022-09-15T11:01:32.799038Z",
     "start_time": "2022-09-15T11:01:32.791715Z"
    },
    "slideshow": {
     "slide_type": "slide"
    }
   },
   "outputs": [
    {
     "name": "stdout",
     "output_type": "stream",
     "text": [
      "True\n"
     ]
    }
   ],
   "source": [
    "x = 0.000005\n",
    "y = 5e-6 # 科学记数法：5*10^-6\n",
    "print(x == y)"
   ]
  },
  {
   "cell_type": "code",
   "execution_count": 105,
   "id": "ec68deea",
   "metadata": {
    "ExecuteTime": {
     "end_time": "2022-09-15T11:01:33.481030Z",
     "start_time": "2022-09-15T11:01:33.474882Z"
    },
    "slideshow": {
     "slide_type": "slide"
    }
   },
   "outputs": [
    {
     "name": "stdout",
     "output_type": "stream",
     "text": [
      "True\n"
     ]
    }
   ],
   "source": [
    "x = 1400000.00\n",
    "y = 1.4e6 # 科学记数法\n",
    "print(x == y)"
   ]
  },
  {
   "cell_type": "markdown",
   "id": "636e121b",
   "metadata": {
    "slideshow": {
     "slide_type": "slide"
    }
   },
   "source": [
    "### 科学记数法\n",
    "\n",
    "``e`` or ``E`` = \"...times ten to the...\"\n",
    "\n",
    "so that ``1.4e6`` = $~1.4 \\times 10^6$."
   ]
  },
  {
   "cell_type": "markdown",
   "id": "c9316ece",
   "metadata": {
    "slideshow": {
     "slide_type": "slide"
    }
   },
   "source": [
    "### `float(int)`:`Integer to Float`"
   ]
  },
  {
   "cell_type": "code",
   "execution_count": 106,
   "id": "64587a89",
   "metadata": {
    "ExecuteTime": {
     "end_time": "2022-09-15T11:01:53.978912Z",
     "start_time": "2022-09-15T11:01:53.970743Z"
    }
   },
   "outputs": [
    {
     "data": {
      "text/plain": [
       "1.0"
      ]
     },
     "execution_count": 106,
     "metadata": {},
     "output_type": "execute_result"
    }
   ],
   "source": [
    "float(1)"
   ]
  },
  {
   "cell_type": "markdown",
   "id": "116fa374",
   "metadata": {
    "slideshow": {
     "slide_type": "slide"
    }
   },
   "source": [
    "### 永远不要依赖浮点运算\n",
    "浮点运算需要注意的一件事是，它的精度是有限的，这可能会导致相等测试不稳定。\n",
    "\n",
    "处理这个问题的最佳方法是始终记住浮点算术是近似的，永远不要依赖浮点值的精确相等测试。"
   ]
  },
  {
   "cell_type": "code",
   "execution_count": 107,
   "id": "62a1f2a5",
   "metadata": {
    "ExecuteTime": {
     "end_time": "2022-09-15T11:02:12.056265Z",
     "start_time": "2022-09-15T11:02:12.048723Z"
    },
    "scrolled": true,
    "slideshow": {
     "slide_type": "slide"
    }
   },
   "outputs": [
    {
     "data": {
      "text/plain": [
       "False"
      ]
     },
     "execution_count": 107,
     "metadata": {},
     "output_type": "execute_result"
    }
   ],
   "source": [
    "0.1 + 0.2 == 0.3"
   ]
  },
  {
   "cell_type": "code",
   "execution_count": 108,
   "id": "8c75c00f",
   "metadata": {
    "ExecuteTime": {
     "end_time": "2022-09-15T11:02:14.506795Z",
     "start_time": "2022-09-15T11:02:14.499339Z"
    },
    "scrolled": true,
    "slideshow": {
     "slide_type": "slide"
    }
   },
   "outputs": [
    {
     "name": "stdout",
     "output_type": "stream",
     "text": [
      "0.1 = 0.10000000000000001\n",
      "0.2 = 0.20000000000000001\n",
      "0.3 = 0.29999999999999999\n"
     ]
    }
   ],
   "source": [
    "# 注意到：\n",
    "print(\"0.1 = {0:.17f}\".format(0.1))\n",
    "print(\"0.2 = {0:.17f}\".format(0.2))\n",
    "print(\"0.3 = {0:.17f}\".format(0.3))"
   ]
  },
  {
   "cell_type": "markdown",
   "id": "66e2b3c1",
   "metadata": {
    "slideshow": {
     "slide_type": "slide"
    }
   },
   "source": [
    "## Complex Numbers\n",
    "复数是具有实数和虚数(浮点数)部分的数\n",
    "有以下两种表示方式："
   ]
  },
  {
   "cell_type": "markdown",
   "id": "62ead569",
   "metadata": {},
   "source": [
    "### `complex(i,j)`"
   ]
  },
  {
   "cell_type": "code",
   "execution_count": 109,
   "id": "65068a74",
   "metadata": {
    "ExecuteTime": {
     "end_time": "2022-09-15T11:03:41.236664Z",
     "start_time": "2022-09-15T11:03:41.227197Z"
    },
    "slideshow": {
     "slide_type": "-"
    }
   },
   "outputs": [
    {
     "data": {
      "text/plain": [
       "(1+2j)"
      ]
     },
     "execution_count": 109,
     "metadata": {},
     "output_type": "execute_result"
    }
   ],
   "source": [
    "complex(1, 2)"
   ]
  },
  {
   "cell_type": "markdown",
   "id": "082f3328",
   "metadata": {
    "slideshow": {
     "slide_type": "slide"
    }
   },
   "source": [
    "Alternatively, we can use the \"``j``\" suffix in expressions to indicate the imaginary part:"
   ]
  },
  {
   "cell_type": "markdown",
   "id": "35b03b0e",
   "metadata": {},
   "source": [
    "### `a+bj`"
   ]
  },
  {
   "cell_type": "code",
   "execution_count": 110,
   "id": "7bfbace1",
   "metadata": {
    "ExecuteTime": {
     "end_time": "2022-09-15T11:03:42.717708Z",
     "start_time": "2022-09-15T11:03:42.710557Z"
    }
   },
   "outputs": [
    {
     "data": {
      "text/plain": [
       "(1+2j)"
      ]
     },
     "execution_count": 110,
     "metadata": {},
     "output_type": "execute_result"
    }
   ],
   "source": [
    "1 + 2j"
   ]
  },
  {
   "cell_type": "markdown",
   "id": "e0a194d9",
   "metadata": {
    "slideshow": {
     "slide_type": "slide"
    }
   },
   "source": [
    "## Strings\n",
    "Strings in Python are created with single or double quotes:'xxx'&\"xxx\""
   ]
  },
  {
   "cell_type": "markdown",
   "id": "f32ee0f3",
   "metadata": {},
   "source": [
    "### `\" \"`or`' '`: 创建"
   ]
  },
  {
   "cell_type": "code",
   "execution_count": 112,
   "id": "349080f2",
   "metadata": {
    "ExecuteTime": {
     "end_time": "2022-09-15T11:05:11.735459Z",
     "start_time": "2022-09-15T11:05:11.729497Z"
    },
    "slideshow": {
     "slide_type": "-"
    }
   },
   "outputs": [],
   "source": [
    "message = \"what do you like?\"\n",
    "response = 'spam'"
   ]
  },
  {
   "cell_type": "markdown",
   "id": "58dca743",
   "metadata": {},
   "source": [
    "### `len( )`: 长度"
   ]
  },
  {
   "cell_type": "code",
   "execution_count": 113,
   "id": "2af8c02b",
   "metadata": {
    "ExecuteTime": {
     "end_time": "2022-09-15T11:05:18.365096Z",
     "start_time": "2022-09-15T11:05:18.358383Z"
    }
   },
   "outputs": [
    {
     "data": {
      "text/plain": [
       "4"
      ]
     },
     "execution_count": 113,
     "metadata": {},
     "output_type": "execute_result"
    }
   ],
   "source": [
    "# length of string\n",
    "len(response)"
   ]
  },
  {
   "cell_type": "markdown",
   "id": "63158b80",
   "metadata": {},
   "source": [
    "### `.upper()`and`.lower()` 大小写"
   ]
  },
  {
   "cell_type": "code",
   "execution_count": 116,
   "id": "cbf4b46d",
   "metadata": {
    "ExecuteTime": {
     "end_time": "2022-09-15T11:06:21.717483Z",
     "start_time": "2022-09-15T11:06:21.710211Z"
    },
    "slideshow": {
     "slide_type": "slide"
    }
   },
   "outputs": [
    {
     "data": {
      "text/plain": [
       "'SPAM'"
      ]
     },
     "execution_count": 116,
     "metadata": {},
     "output_type": "execute_result"
    }
   ],
   "source": [
    "# Make upper-case. See also str.lower()\n",
    "response.upper()"
   ]
  },
  {
   "cell_type": "markdown",
   "id": "5b88c252",
   "metadata": {},
   "source": [
    "### `.capitalize()句首`，`.title()词首` "
   ]
  },
  {
   "cell_type": "code",
   "execution_count": 118,
   "id": "9294f3b2",
   "metadata": {
    "ExecuteTime": {
     "end_time": "2022-09-15T11:06:55.253644Z",
     "start_time": "2022-09-15T11:06:55.247118Z"
    },
    "scrolled": true
   },
   "outputs": [
    {
     "data": {
      "text/plain": [
       "'What do you like?'"
      ]
     },
     "execution_count": 118,
     "metadata": {},
     "output_type": "execute_result"
    }
   ],
   "source": [
    "# Capitalize. See also str.title()\n",
    "message.capitalize()"
   ]
  },
  {
   "cell_type": "markdown",
   "id": "8861b945",
   "metadata": {},
   "source": [
    "### `+合并`, `*重复`"
   ]
  },
  {
   "cell_type": "markdown",
   "id": "689d5306",
   "metadata": {
    "slideshow": {
     "slide_type": "slide"
    }
   },
   "source": [
    "### concatenation with +"
   ]
  },
  {
   "cell_type": "code",
   "execution_count": 119,
   "id": "99596dbb",
   "metadata": {
    "ExecuteTime": {
     "end_time": "2022-09-15T11:07:19.225071Z",
     "start_time": "2022-09-15T11:07:19.216856Z"
    }
   },
   "outputs": [
    {
     "data": {
      "text/plain": [
       "'what do you like?spam'"
      ]
     },
     "execution_count": 119,
     "metadata": {},
     "output_type": "execute_result"
    }
   ],
   "source": [
    "message + response"
   ]
  },
  {
   "cell_type": "code",
   "execution_count": 120,
   "id": "320086a5",
   "metadata": {
    "ExecuteTime": {
     "end_time": "2022-09-15T11:07:23.623403Z",
     "start_time": "2022-09-15T11:07:23.615667Z"
    },
    "slideshow": {
     "slide_type": "slide"
    }
   },
   "outputs": [
    {
     "data": {
      "text/plain": [
       "'spamspamspam'"
      ]
     },
     "execution_count": 120,
     "metadata": {},
     "output_type": "execute_result"
    }
   ],
   "source": [
    "# multiplication is multiple concatenation!!!\n",
    "3*response"
   ]
  },
  {
   "cell_type": "markdown",
   "id": "937eb11f",
   "metadata": {},
   "source": [
    "### index slicing"
   ]
  },
  {
   "cell_type": "code",
   "execution_count": 121,
   "id": "d4ada49e",
   "metadata": {
    "ExecuteTime": {
     "end_time": "2022-09-15T11:09:54.043542Z",
     "start_time": "2022-09-15T11:09:54.036111Z"
    },
    "slideshow": {
     "slide_type": "slide"
    }
   },
   "outputs": [
    {
     "name": "stdout",
     "output_type": "stream",
     "text": [
      "w\n",
      "?\n"
     ]
    }
   ],
   "source": [
    "# Access individual characters (zero-based indexing)\n",
    "print(message[0])\n",
    "print(message[-1]) # get last character without knowing how long the str is\n",
    "# Python 可以用-1调用最后一个元素！"
   ]
  },
  {
   "cell_type": "markdown",
   "id": "594e229f",
   "metadata": {},
   "source": [
    "For more discussion of indexing in Python, see List."
   ]
  },
  {
   "cell_type": "markdown",
   "id": "5e25270f",
   "metadata": {
    "slideshow": {
     "slide_type": "slide"
    }
   },
   "source": [
    "## None Type\n",
    "Python includes a special type, the ``NoneType``, which has only a single possible value: ``None``. For example:"
   ]
  },
  {
   "cell_type": "code",
   "execution_count": 129,
   "id": "ce3a0481",
   "metadata": {
    "ExecuteTime": {
     "end_time": "2022-09-15T11:12:55.271086Z",
     "start_time": "2022-09-15T11:12:55.264217Z"
    },
    "scrolled": true
   },
   "outputs": [
    {
     "data": {
      "text/plain": [
       "NoneType"
      ]
     },
     "execution_count": 129,
     "metadata": {},
     "output_type": "execute_result"
    }
   ],
   "source": [
    "type(None)"
   ]
  },
  {
   "cell_type": "markdown",
   "id": "515b93e2",
   "metadata": {
    "slideshow": {
     "slide_type": "slide"
    }
   },
   "source": [
    "在许多地方您会看到使用None，但可能最常见的是它被用作函数的默认返回值。例如，Python 3中的print()函数不返回任何东西，但我们仍然可以捕获它的值:"
   ]
  },
  {
   "cell_type": "code",
   "execution_count": 132,
   "id": "11e680bc",
   "metadata": {
    "ExecuteTime": {
     "end_time": "2022-09-15T11:13:11.430685Z",
     "start_time": "2022-09-15T11:13:11.424023Z"
    }
   },
   "outputs": [
    {
     "name": "stdout",
     "output_type": "stream",
     "text": [
      "abc\n"
     ]
    }
   ],
   "source": [
    "return_value = print('abc') # 打印abc，返回没有！"
   ]
  },
  {
   "cell_type": "code",
   "execution_count": 133,
   "id": "64fbd4a7",
   "metadata": {
    "ExecuteTime": {
     "end_time": "2022-09-15T11:13:12.273249Z",
     "start_time": "2022-09-15T11:13:12.267224Z"
    }
   },
   "outputs": [
    {
     "name": "stdout",
     "output_type": "stream",
     "text": [
      "None\n"
     ]
    }
   ],
   "source": [
    "print(return_value)"
   ]
  },
  {
   "cell_type": "markdown",
   "id": "1a7300a0",
   "metadata": {
    "slideshow": {
     "slide_type": "slide"
    }
   },
   "source": [
    "同样，Python中任何没有返回值的函数实际上都返回None。"
   ]
  },
  {
   "cell_type": "markdown",
   "id": "019d6336",
   "metadata": {
    "slideshow": {
     "slide_type": "slide"
    }
   },
   "source": [
    "## Boolean Type\n",
    "布尔类型是一种简单类型，有两个可能的值:`True`和`False`，由前面讨论的比较操作符返回:"
   ]
  },
  {
   "cell_type": "code",
   "execution_count": 134,
   "id": "964dccd6",
   "metadata": {
    "ExecuteTime": {
     "end_time": "2022-09-15T11:13:22.459395Z",
     "start_time": "2022-09-15T11:13:22.453355Z"
    }
   },
   "outputs": [
    {
     "name": "stdout",
     "output_type": "stream",
     "text": [
      "True\n"
     ]
    }
   ],
   "source": [
    "result = (4 < 5)\n",
    "print(result)"
   ]
  },
  {
   "cell_type": "code",
   "execution_count": 135,
   "id": "d8bf4f98",
   "metadata": {
    "ExecuteTime": {
     "end_time": "2022-09-15T11:13:37.594168Z",
     "start_time": "2022-09-15T11:13:37.587365Z"
    }
   },
   "outputs": [
    {
     "data": {
      "text/plain": [
       "bool"
      ]
     },
     "execution_count": 135,
     "metadata": {},
     "output_type": "execute_result"
    }
   ],
   "source": [
    "type(result)"
   ]
  },
  {
   "cell_type": "markdown",
   "id": "5f0532f0",
   "metadata": {
    "slideshow": {
     "slide_type": "slide"
    }
   },
   "source": [
    "请记住，布尔值是区分大小写的: unlike some other languages, ``True`` and ``False`` must be capitalized!"
   ]
  },
  {
   "cell_type": "code",
   "execution_count": 136,
   "id": "11fec417",
   "metadata": {
    "ExecuteTime": {
     "end_time": "2022-09-15T11:13:39.186466Z",
     "start_time": "2022-09-15T11:13:39.180443Z"
    }
   },
   "outputs": [
    {
     "name": "stdout",
     "output_type": "stream",
     "text": [
      "True False\n"
     ]
    }
   ],
   "source": [
    "print(True, False)"
   ]
  },
  {
   "cell_type": "markdown",
   "id": "c59fcf39",
   "metadata": {
    "slideshow": {
     "slide_type": "slide"
    }
   },
   "source": [
    "### `bool()`\n",
    " - 数字：`None` or 0 返回Flase；其他返回True\n",
    " - 字符串：`空字符串`返回False，其他返回True\n",
    " - 序列：`空序列`返回False，其他返回True"
   ]
  },
  {
   "cell_type": "code",
   "execution_count": 139,
   "id": "e70e195a",
   "metadata": {
    "ExecuteTime": {
     "end_time": "2022-09-15T11:14:43.674085Z",
     "start_time": "2022-09-15T11:14:43.666930Z"
    }
   },
   "outputs": [
    {
     "data": {
      "text/plain": [
       "True"
      ]
     },
     "execution_count": 139,
     "metadata": {},
     "output_type": "execute_result"
    }
   ],
   "source": [
    "bool(2014)"
   ]
  },
  {
   "cell_type": "code",
   "execution_count": 140,
   "id": "715cec7b",
   "metadata": {
    "ExecuteTime": {
     "end_time": "2022-09-15T11:14:44.539493Z",
     "start_time": "2022-09-15T11:14:44.531175Z"
    }
   },
   "outputs": [
    {
     "data": {
      "text/plain": [
       "False"
      ]
     },
     "execution_count": 140,
     "metadata": {},
     "output_type": "execute_result"
    }
   ],
   "source": [
    "bool(0)"
   ]
  },
  {
   "cell_type": "code",
   "execution_count": 141,
   "id": "e9149999",
   "metadata": {
    "ExecuteTime": {
     "end_time": "2022-09-15T11:14:45.842165Z",
     "start_time": "2022-09-15T11:14:45.835338Z"
    }
   },
   "outputs": [
    {
     "data": {
      "text/plain": [
       "True"
      ]
     },
     "execution_count": 141,
     "metadata": {},
     "output_type": "execute_result"
    }
   ],
   "source": [
    "bool(3.1415)"
   ]
  },
  {
   "cell_type": "code",
   "execution_count": 142,
   "id": "6c703264",
   "metadata": {
    "ExecuteTime": {
     "end_time": "2022-09-15T11:14:46.476757Z",
     "start_time": "2022-09-15T11:14:46.468922Z"
    }
   },
   "outputs": [
    {
     "data": {
      "text/plain": [
       "False"
      ]
     },
     "execution_count": 142,
     "metadata": {},
     "output_type": "execute_result"
    }
   ],
   "source": [
    "bool(None)"
   ]
  },
  {
   "cell_type": "markdown",
   "id": "571c3fd4",
   "metadata": {
    "slideshow": {
     "slide_type": "slide"
    }
   },
   "source": [
    "对于字符串，空字符串的bool(s)为False，否则为True:"
   ]
  },
  {
   "cell_type": "code",
   "execution_count": 143,
   "id": "5e0e55d5",
   "metadata": {
    "ExecuteTime": {
     "end_time": "2022-09-15T11:14:48.689017Z",
     "start_time": "2022-09-15T11:14:48.682149Z"
    }
   },
   "outputs": [
    {
     "data": {
      "text/plain": [
       "False"
      ]
     },
     "execution_count": 143,
     "metadata": {},
     "output_type": "execute_result"
    }
   ],
   "source": [
    "bool(\"\")"
   ]
  },
  {
   "cell_type": "code",
   "execution_count": 144,
   "id": "56fedd7a",
   "metadata": {
    "ExecuteTime": {
     "end_time": "2022-09-15T11:14:49.364918Z",
     "start_time": "2022-09-15T11:14:49.358131Z"
    }
   },
   "outputs": [
    {
     "data": {
      "text/plain": [
       "True"
      ]
     },
     "execution_count": 144,
     "metadata": {},
     "output_type": "execute_result"
    }
   ],
   "source": [
    "bool(\" \")"
   ]
  },
  {
   "cell_type": "markdown",
   "id": "9ace5174",
   "metadata": {
    "slideshow": {
     "slide_type": "slide"
    }
   },
   "source": [
    "对序列，空序列的布尔表示为False，任何其他序列的布尔表示为True"
   ]
  },
  {
   "cell_type": "code",
   "execution_count": 145,
   "id": "d915b179",
   "metadata": {
    "ExecuteTime": {
     "end_time": "2022-09-15T11:14:52.670933Z",
     "start_time": "2022-09-15T11:14:52.662379Z"
    }
   },
   "outputs": [
    {
     "data": {
      "text/plain": [
       "True"
      ]
     },
     "execution_count": 145,
     "metadata": {},
     "output_type": "execute_result"
    }
   ],
   "source": [
    "bool([1, 2, 3])"
   ]
  },
  {
   "cell_type": "code",
   "execution_count": 146,
   "id": "55964945",
   "metadata": {
    "ExecuteTime": {
     "end_time": "2022-09-15T11:14:53.479468Z",
     "start_time": "2022-09-15T11:14:53.471121Z"
    }
   },
   "outputs": [
    {
     "data": {
      "text/plain": [
       "False"
      ]
     },
     "execution_count": 146,
     "metadata": {},
     "output_type": "execute_result"
    }
   ],
   "source": [
    "bool([])"
   ]
  },
  {
   "cell_type": "markdown",
   "id": "b0ff16ab",
   "metadata": {
    "slideshow": {
     "slide_type": "slide"
    }
   },
   "source": [
    "注意到："
   ]
  },
  {
   "cell_type": "code",
   "execution_count": 147,
   "id": "9f534633",
   "metadata": {
    "ExecuteTime": {
     "end_time": "2022-09-15T11:14:57.640370Z",
     "start_time": "2022-09-15T11:14:57.631551Z"
    }
   },
   "outputs": [
    {
     "name": "stdout",
     "output_type": "stream",
     "text": [
      "True\n",
      "True\n",
      "True\n",
      "False\n"
     ]
    }
   ],
   "source": [
    "list1 = [False]\n",
    "list2 = [0]\n",
    "list3 = [None]\n",
    "\n",
    "print(bool(list1))\n",
    "print(bool(list2))\n",
    "print(bool(list3))\n",
    "\n",
    "print(bool(list3[0]))"
   ]
  },
  {
   "cell_type": "markdown",
   "id": "84e41844",
   "metadata": {
    "slideshow": {
     "slide_type": "slide"
    }
   },
   "source": [
    "# Built-In Data Structures\n",
    "Python还有几个内置的**数据结构**，它们以不同的方式将其他**type**的变量组合在一起。\n",
    "这些复合类型是:\n",
    "\n",
    "| Type Name | Example                   |Description          |\n",
    "|-----------|---------------------------|---------------------------------------|\n",
    "| ``list``  | ``[1, 2, 3]``             | 可变，有序       |\n",
    "| ``tuple`` | ``(1, 2, 3)``             | 不可变，有序     |\n",
    "| ``dict``  | ``{'a':1, 'b':2, 'c':3}`` | 无序，映射  |\n",
    "| ``set``   | ``{1, 2, 3}``             | 无序，不重复 |\n",
    "\n",
    "当涉及到产生的集合类型时，**括号**具有不同的含义。\n",
    "我们将在这里快速浏览一下这些数据结构。"
   ]
  },
  {
   "cell_type": "markdown",
   "id": "97d11de1",
   "metadata": {
    "slideshow": {
     "slide_type": "slide"
    }
   },
   "source": [
    "## Lists\n",
    "列表是Python中基本的有序和可变数据集合类型。它们可以用`方括号`之间的逗号分隔值来定义"
   ]
  },
  {
   "cell_type": "markdown",
   "id": "746c07a8",
   "metadata": {},
   "source": [
    "### 生成方法：\n",
    " - 直接生成：`[item1， item2,...]`\n",
    " - 用list+循环函数生成：`list(range（）)`\n",
    " - 用.tolist()方法生成：`.tolist()`"
   ]
  },
  {
   "cell_type": "markdown",
   "id": "2b6ec845",
   "metadata": {},
   "source": [
    "#### `[item1， item2,...]`"
   ]
  },
  {
   "cell_type": "code",
   "execution_count": 148,
   "id": "bd3d3ab7",
   "metadata": {
    "ExecuteTime": {
     "end_time": "2022-09-15T11:18:10.499533Z",
     "start_time": "2022-09-15T11:18:10.494253Z"
    }
   },
   "outputs": [],
   "source": [
    "L = [2, 3, 5, 7]"
   ]
  },
  {
   "cell_type": "markdown",
   "id": "c94bf2be",
   "metadata": {},
   "source": [
    "#### `list(range（）)`"
   ]
  },
  {
   "cell_type": "code",
   "execution_count": 149,
   "id": "79e2f9aa",
   "metadata": {
    "ExecuteTime": {
     "end_time": "2022-09-15T11:18:12.516802Z",
     "start_time": "2022-09-15T11:18:12.507659Z"
    },
    "scrolled": false
   },
   "outputs": [
    {
     "data": {
      "text/plain": [
       "[0, 1, 2, 3, 4]"
      ]
     },
     "execution_count": 149,
     "metadata": {},
     "output_type": "execute_result"
    }
   ],
   "source": [
    "L = list(range(5))\n",
    "L"
   ]
  },
  {
   "cell_type": "code",
   "execution_count": 150,
   "id": "a38e2d8d",
   "metadata": {
    "ExecuteTime": {
     "end_time": "2022-09-15T11:18:15.035244Z",
     "start_time": "2022-09-15T11:18:15.027157Z"
    }
   },
   "outputs": [
    {
     "data": {
      "text/plain": [
       "[0, 1, 2, 3, 4, 5, 6, 7, 8, 9]"
      ]
     },
     "execution_count": 150,
     "metadata": {},
     "output_type": "execute_result"
    }
   ],
   "source": [
    "L = [x for x in range(10)]\n",
    "L"
   ]
  },
  {
   "cell_type": "markdown",
   "id": "4d532ec4",
   "metadata": {},
   "source": [
    "#### `.tolist()`"
   ]
  },
  {
   "cell_type": "code",
   "execution_count": 152,
   "id": "bef11e74",
   "metadata": {
    "ExecuteTime": {
     "end_time": "2022-09-15T11:18:55.327540Z",
     "start_time": "2022-09-15T11:18:55.316914Z"
    }
   },
   "outputs": [
    {
     "data": {
      "text/plain": [
       "[1, 2, 3, 4, 5, 6, 7, 8, 9]"
      ]
     },
     "execution_count": 152,
     "metadata": {},
     "output_type": "execute_result"
    }
   ],
   "source": [
    "import numpy as np\n",
    "L = np.arange(1,10,1) #from[, to), step\n",
    "L = L.tolist()\n",
    "L"
   ]
  },
  {
   "cell_type": "markdown",
   "id": "ac7475d5",
   "metadata": {
    "slideshow": {
     "slide_type": "slide"
    }
   },
   "source": [
    "### 其他方法\n",
    "Lists have a number of useful properties and methods available to them.\n",
    "Here we'll take a quick look at some of the more common and useful ones:"
   ]
  },
  {
   "cell_type": "markdown",
   "id": "aa12a451",
   "metadata": {},
   "source": [
    "#### `len()`长度"
   ]
  },
  {
   "cell_type": "code",
   "execution_count": 154,
   "id": "34d30e2d",
   "metadata": {
    "ExecuteTime": {
     "end_time": "2022-09-15T11:21:42.987196Z",
     "start_time": "2022-09-15T11:21:42.979682Z"
    }
   },
   "outputs": [
    {
     "data": {
      "text/plain": [
       "9"
      ]
     },
     "execution_count": 154,
     "metadata": {},
     "output_type": "execute_result"
    }
   ],
   "source": [
    "# 长度\n",
    "len(L)"
   ]
  },
  {
   "cell_type": "markdown",
   "id": "e06ee99f",
   "metadata": {},
   "source": [
    "#### `.append()`添加"
   ]
  },
  {
   "cell_type": "code",
   "execution_count": 155,
   "id": "9c27e110",
   "metadata": {
    "ExecuteTime": {
     "end_time": "2022-09-15T11:21:45.270909Z",
     "start_time": "2022-09-15T11:21:45.262902Z"
    },
    "slideshow": {
     "slide_type": "slide"
    }
   },
   "outputs": [
    {
     "data": {
      "text/plain": [
       "[1, 2, 3, 4, 5, 6, 7, 8, 9, 11]"
      ]
     },
     "execution_count": 155,
     "metadata": {},
     "output_type": "execute_result"
    }
   ],
   "source": [
    "# Append\n",
    "L.append(11)\n",
    "L"
   ]
  },
  {
   "cell_type": "markdown",
   "id": "061281ff",
   "metadata": {},
   "source": [
    "#### `+`合并\n",
    "Pyhton的加号真好用"
   ]
  },
  {
   "cell_type": "code",
   "execution_count": 157,
   "id": "1f2c7b1e",
   "metadata": {
    "ExecuteTime": {
     "end_time": "2022-09-15T11:22:44.965267Z",
     "start_time": "2022-09-15T11:22:44.958040Z"
    }
   },
   "outputs": [
    {
     "data": {
      "text/plain": [
       "[1, 2, 3, 4, 5, 6, 7, 8, 9, 11, 13, 17, 19]"
      ]
     },
     "execution_count": 157,
     "metadata": {},
     "output_type": "execute_result"
    }
   ],
   "source": [
    "# Addition -> concatenates\n",
    "L + [13, 17, 19]"
   ]
  },
  {
   "cell_type": "markdown",
   "id": "ca3077a4",
   "metadata": {},
   "source": [
    "#### `sort()`排序"
   ]
  },
  {
   "cell_type": "code",
   "execution_count": 161,
   "id": "099d836c",
   "metadata": {
    "ExecuteTime": {
     "end_time": "2022-09-15T11:24:37.636158Z",
     "start_time": "2022-09-15T11:24:37.626214Z"
    },
    "slideshow": {
     "slide_type": "slide"
    }
   },
   "outputs": [
    {
     "data": {
      "text/plain": [
       "[6, 5, 4, 3, 2, 1]"
      ]
     },
     "execution_count": 161,
     "metadata": {},
     "output_type": "execute_result"
    }
   ],
   "source": [
    "# sort() method sorts in-place\n",
    "L = [2, 5, 1, 6, 3, 4]\n",
    "L.sort(reverse=True)\n",
    "L"
   ]
  },
  {
   "cell_type": "markdown",
   "id": "b8bb2695",
   "metadata": {
    "slideshow": {
     "slide_type": "slide"
    }
   },
   "source": [
    "In addition, there are many more built-in list methods; they are well-covered in Python's [online documentation](https://docs.python.org/3/tutorial/datastructures.html)."
   ]
  },
  {
   "cell_type": "markdown",
   "id": "c6a9d472",
   "metadata": {},
   "source": [
    "### item不限\n",
    "\n",
    "虽然我们已经演示了包含单一类型值的列表，但列表可以包含**任意**类型的对象，甚至是混合类型的对象。例如:"
   ]
  },
  {
   "cell_type": "code",
   "execution_count": 164,
   "id": "00f43f5f",
   "metadata": {
    "ExecuteTime": {
     "end_time": "2022-09-15T11:27:51.726545Z",
     "start_time": "2022-09-15T11:27:51.721116Z"
    }
   },
   "outputs": [],
   "source": [
    "L = [1, 'two', 3.14, [0, 3, 5]]"
   ]
  },
  {
   "cell_type": "markdown",
   "id": "3aea7385",
   "metadata": {
    "slideshow": {
     "slide_type": "slide"
    }
   },
   "source": [
    "这种**灵活性**是Python的动态类型系统的结果。在像C这样的静态类型语言中创建这样的混合序列可能更令人头痛!\n",
    "我们看到列表甚至可以包含其他列表作为元素。\n",
    "\n",
    "这种类型的灵活性是使Python代码相对快速和容易编写的关键部分。\n",
    "\n",
    "到目前为止，我们一直在考虑列表的整体操作;另一个关键部分是**对部分元素的访问**。这是在Python中通过索引和切片来完成的，我们将在接下来探讨。"
   ]
  },
  {
   "cell_type": "markdown",
   "id": "2fb263bf",
   "metadata": {
    "slideshow": {
     "slide_type": "slide"
    }
   },
   "source": [
    "### 索引与切片\n",
    "\n",
    "**索引：从列表中获取单个值的方法**\n",
    "\n",
    "**切片：从列表中获取多个值的方法**\n",
    "\n",
    "Python通过对**单个元素的索引**和对**多个元素的切片**，提供了对复合类型元素的访问。\n",
    "\n",
    "两者都由**方括号**语法表示。\n",
    "\n",
    "L[3]: list第四个元素"
   ]
  },
  {
   "cell_type": "markdown",
   "id": "c29d0438",
   "metadata": {},
   "source": [
    "#### Indexing"
   ]
  },
  {
   "cell_type": "code",
   "execution_count": 165,
   "id": "a31313fe",
   "metadata": {
    "ExecuteTime": {
     "end_time": "2022-09-15T11:27:54.222500Z",
     "start_time": "2022-09-15T11:27:54.217308Z"
    }
   },
   "outputs": [],
   "source": [
    "L = [2, 3, 5, 7, 11]"
   ]
  },
  {
   "cell_type": "markdown",
   "id": "4ea56821",
   "metadata": {
    "slideshow": {
     "slide_type": "slide"
    }
   },
   "source": [
    "Python使用**基于零的索引**，所以我们可以使用以下语法访问第一个和第二个元素:"
   ]
  },
  {
   "cell_type": "code",
   "execution_count": 166,
   "id": "b27edb9b",
   "metadata": {
    "ExecuteTime": {
     "end_time": "2022-09-15T11:28:39.074171Z",
     "start_time": "2022-09-15T11:28:39.066940Z"
    }
   },
   "outputs": [
    {
     "data": {
      "text/plain": [
       "2"
      ]
     },
     "execution_count": 166,
     "metadata": {},
     "output_type": "execute_result"
    }
   ],
   "source": [
    "L[0]"
   ]
  },
  {
   "cell_type": "code",
   "execution_count": 167,
   "id": "ffb0f241",
   "metadata": {
    "ExecuteTime": {
     "end_time": "2022-09-15T11:28:40.877652Z",
     "start_time": "2022-09-15T11:28:40.869661Z"
    }
   },
   "outputs": [
    {
     "data": {
      "text/plain": [
       "3"
      ]
     },
     "execution_count": 167,
     "metadata": {},
     "output_type": "execute_result"
    }
   ],
   "source": [
    "L[1]"
   ]
  },
  {
   "cell_type": "markdown",
   "id": "9cff15a4",
   "metadata": {
    "slideshow": {
     "slide_type": "slide"
    }
   },
   "source": [
    "##### 列表末尾的元素可以用负数访问，从-1开始:"
   ]
  },
  {
   "cell_type": "code",
   "execution_count": 168,
   "id": "84b57a79",
   "metadata": {
    "ExecuteTime": {
     "end_time": "2022-09-15T11:28:45.222380Z",
     "start_time": "2022-09-15T11:28:45.214849Z"
    }
   },
   "outputs": [
    {
     "data": {
      "text/plain": [
       "11"
      ]
     },
     "execution_count": 168,
     "metadata": {},
     "output_type": "execute_result"
    }
   ],
   "source": [
    "L[-1]"
   ]
  },
  {
   "cell_type": "code",
   "execution_count": 169,
   "id": "6c4f62fc",
   "metadata": {
    "ExecuteTime": {
     "end_time": "2022-09-15T11:28:45.851526Z",
     "start_time": "2022-09-15T11:28:45.844035Z"
    }
   },
   "outputs": [
    {
     "data": {
      "text/plain": [
       "7"
      ]
     },
     "execution_count": 169,
     "metadata": {},
     "output_type": "execute_result"
    }
   ],
   "source": [
    "L[-2]"
   ]
  },
  {
   "cell_type": "markdown",
   "id": "6b7f00bd",
   "metadata": {
    "slideshow": {
     "slide_type": "slide"
    }
   },
   "source": [
    "#### Slicing\n",
    "\n",
    "切片使用冒号来表示子数组的  **起始点(包括)和结束点(不包括)**。\n",
    "\n",
    "例如，要获取列表的前三个元素，可以这样写:"
   ]
  },
  {
   "cell_type": "code",
   "execution_count": 170,
   "id": "9d5782ac",
   "metadata": {
    "ExecuteTime": {
     "end_time": "2022-09-15T11:28:49.021123Z",
     "start_time": "2022-09-15T11:28:49.013159Z"
    }
   },
   "outputs": [
    {
     "data": {
      "text/plain": [
       "[2, 3, 5]"
      ]
     },
     "execution_count": 170,
     "metadata": {},
     "output_type": "execute_result"
    }
   ],
   "source": [
    "L[0:3]"
   ]
  },
  {
   "cell_type": "markdown",
   "id": "01ac6f0a",
   "metadata": {},
   "source": [
    "##### 省略"
   ]
  },
  {
   "cell_type": "markdown",
   "id": "7e6eaf5e",
   "metadata": {
    "slideshow": {
     "slide_type": "slide"
    }
   },
   "source": [
    "如果**省略**第一个索引，则**假设为0**，因此可以等价地写成:"
   ]
  },
  {
   "cell_type": "code",
   "execution_count": 171,
   "id": "e520e09c",
   "metadata": {
    "ExecuteTime": {
     "end_time": "2022-09-15T11:28:50.936663Z",
     "start_time": "2022-09-15T11:28:50.929157Z"
    }
   },
   "outputs": [
    {
     "data": {
      "text/plain": [
       "[2, 3, 5]"
      ]
     },
     "execution_count": 171,
     "metadata": {},
     "output_type": "execute_result"
    }
   ],
   "source": [
    "L[:3]"
   ]
  },
  {
   "cell_type": "markdown",
   "id": "19a37783",
   "metadata": {
    "slideshow": {
     "slide_type": "slide"
    }
   },
   "source": [
    "类似地，如果我们**省略**最后一个索引，它**默认为列表的长度**。因此，最后三个元素的访问方式如下:\n",
    "\n",
    "**注意到，是正序的！**"
   ]
  },
  {
   "cell_type": "code",
   "execution_count": 173,
   "id": "ab731bef",
   "metadata": {
    "ExecuteTime": {
     "end_time": "2022-09-15T11:30:26.062062Z",
     "start_time": "2022-09-15T11:30:26.052707Z"
    }
   },
   "outputs": [
    {
     "data": {
      "text/plain": [
       "[5, 7, 11]"
      ]
     },
     "execution_count": 173,
     "metadata": {},
     "output_type": "execute_result"
    }
   ],
   "source": [
    "L[-3:]"
   ]
  },
  {
   "cell_type": "markdown",
   "id": "13582646",
   "metadata": {},
   "source": [
    "##### 步长"
   ]
  },
  {
   "cell_type": "markdown",
   "id": "f4e0977e",
   "metadata": {
    "slideshow": {
     "slide_type": "slide"
    }
   },
   "source": [
    "最后，可以指定**第三个整数来表示步长（本质上我们原来是省略的）**;例如，要选择列表中的每一个元素，可以这样写:"
   ]
  },
  {
   "cell_type": "code",
   "execution_count": 175,
   "id": "7716ff1d",
   "metadata": {
    "ExecuteTime": {
     "end_time": "2022-09-15T11:31:03.533068Z",
     "start_time": "2022-09-15T11:31:03.525252Z"
    }
   },
   "outputs": [
    {
     "data": {
      "text/plain": [
       "[2, 5, 11]"
      ]
     },
     "execution_count": 175,
     "metadata": {},
     "output_type": "execute_result"
    }
   ],
   "source": [
    "L[::2]  # equivalent to L[0:len(L):2]"
   ]
  },
  {
   "cell_type": "markdown",
   "id": "66cdda6e",
   "metadata": {
    "slideshow": {
     "slide_type": "slide"
    }
   },
   "source": [
    "这个函数的一个特别有用的版本是指定一个**负的步长**，这将反转数组:\n",
    "\n",
    "**这样才能反序！**"
   ]
  },
  {
   "cell_type": "code",
   "execution_count": 177,
   "id": "4803164e",
   "metadata": {
    "ExecuteTime": {
     "end_time": "2022-09-15T11:31:42.015715Z",
     "start_time": "2022-09-15T11:31:42.007572Z"
    }
   },
   "outputs": [
    {
     "data": {
      "text/plain": [
       "[11, 7, 5, 3, 2]"
      ]
     },
     "execution_count": 177,
     "metadata": {},
     "output_type": "execute_result"
    }
   ],
   "source": [
    "L[::-1]"
   ]
  },
  {
   "cell_type": "markdown",
   "id": "b26b36c4",
   "metadata": {},
   "source": [
    "#### 赋值：索引和切片都可以"
   ]
  },
  {
   "cell_type": "markdown",
   "id": "d0e5ccb4",
   "metadata": {
    "slideshow": {
     "slide_type": "slide"
    }
   },
   "source": [
    "索引和切片都可以用于设置元素。语法和你想的一样:"
   ]
  },
  {
   "cell_type": "code",
   "execution_count": 181,
   "id": "fd9fbf74",
   "metadata": {
    "ExecuteTime": {
     "end_time": "2022-09-15T11:35:22.841052Z",
     "start_time": "2022-09-15T11:35:22.834807Z"
    }
   },
   "outputs": [
    {
     "name": "stdout",
     "output_type": "stream",
     "text": [
      "[100, 55, 56, 7, 11]\n"
     ]
    }
   ],
   "source": [
    "L[0] = 100\n",
    "print(L)"
   ]
  },
  {
   "cell_type": "code",
   "execution_count": 182,
   "id": "22f1a93d",
   "metadata": {
    "ExecuteTime": {
     "end_time": "2022-09-15T11:35:23.128457Z",
     "start_time": "2022-09-15T11:35:23.122429Z"
    }
   },
   "outputs": [
    {
     "name": "stdout",
     "output_type": "stream",
     "text": [
      "[100, 55, 56, 7, 11]\n"
     ]
    }
   ],
   "source": [
    "L[1:3] = [55, 56]\n",
    "print(L)"
   ]
  },
  {
   "cell_type": "markdown",
   "id": "459e7c86",
   "metadata": {
    "slideshow": {
     "slide_type": "slide"
    }
   },
   "source": [
    "<font color = 'red' size = 4.5>**许多面向数据科学的Python包中也使用了非常类似的切片语法，包括NumPy和Pandas。**"
   ]
  },
  {
   "cell_type": "markdown",
   "id": "1904b75e",
   "metadata": {
    "slideshow": {
     "slide_type": "slide"
    }
   },
   "source": [
    "## Tuples\n",
    "元组在许多方面与列表相似，但它们是用**圆括号**而不是方括号定义的:"
   ]
  },
  {
   "cell_type": "markdown",
   "id": "4c5aae78",
   "metadata": {},
   "source": [
    "### 生成方法："
   ]
  },
  {
   "cell_type": "markdown",
   "id": "8df86ca7",
   "metadata": {},
   "source": [
    "#### `(item1,item2... )`"
   ]
  },
  {
   "cell_type": "code",
   "execution_count": 193,
   "id": "600977e5",
   "metadata": {
    "ExecuteTime": {
     "end_time": "2022-09-15T11:38:35.859145Z",
     "start_time": "2022-09-15T11:38:35.853841Z"
    }
   },
   "outputs": [],
   "source": [
    "t = (1, 2, 3)"
   ]
  },
  {
   "cell_type": "markdown",
   "id": "7aa43209",
   "metadata": {
    "slideshow": {
     "slide_type": "slide"
    }
   },
   "source": [
    "它们实际上也可以在**没有任何括号**的情况下定义:"
   ]
  },
  {
   "cell_type": "markdown",
   "id": "53062aec",
   "metadata": {},
   "source": [
    "#### `item1,item2... `不用括号也行"
   ]
  },
  {
   "cell_type": "code",
   "execution_count": 186,
   "id": "94649203",
   "metadata": {
    "ExecuteTime": {
     "end_time": "2022-09-15T11:36:45.017008Z",
     "start_time": "2022-09-15T11:36:45.010973Z"
    }
   },
   "outputs": [
    {
     "name": "stdout",
     "output_type": "stream",
     "text": [
      "(1, 2, 3)\n"
     ]
    }
   ],
   "source": [
    "t = 1, 2, 3\n",
    "print(t)"
   ]
  },
  {
   "cell_type": "markdown",
   "id": "127acf2f",
   "metadata": {},
   "source": [
    "### Indexing and Slicing"
   ]
  },
  {
   "cell_type": "markdown",
   "id": "986c38cd",
   "metadata": {
    "slideshow": {
     "slide_type": "slide"
    }
   },
   "source": [
    "与前面讨论的列表一样，元组也有长度，单个元素可以使用**方括号**提取"
   ]
  },
  {
   "cell_type": "code",
   "execution_count": 189,
   "id": "0a639495",
   "metadata": {
    "ExecuteTime": {
     "end_time": "2022-09-15T11:37:10.522169Z",
     "start_time": "2022-09-15T11:37:10.514449Z"
    }
   },
   "outputs": [
    {
     "data": {
      "text/plain": [
       "3"
      ]
     },
     "execution_count": 189,
     "metadata": {},
     "output_type": "execute_result"
    }
   ],
   "source": [
    "len(t)"
   ]
  },
  {
   "cell_type": "code",
   "execution_count": 190,
   "id": "00aa6c68",
   "metadata": {
    "ExecuteTime": {
     "end_time": "2022-09-15T11:37:11.014617Z",
     "start_time": "2022-09-15T11:37:11.007649Z"
    }
   },
   "outputs": [
    {
     "data": {
      "text/plain": [
       "1"
      ]
     },
     "execution_count": 190,
     "metadata": {},
     "output_type": "execute_result"
    }
   ],
   "source": [
    "t[0]"
   ]
  },
  {
   "cell_type": "markdown",
   "id": "87a3b0f6",
   "metadata": {
    "slideshow": {
     "slide_type": "slide"
    }
   },
   "source": [
    "#### 不可变\n",
    "\n",
    "元组的主要区别特征是它们是**不可变**的:这意味着一旦创建了元组，它们的大小和内容就不能更改:"
   ]
  },
  {
   "cell_type": "code",
   "execution_count": 192,
   "id": "83e0a60d",
   "metadata": {
    "ExecuteTime": {
     "end_time": "2022-09-15T11:37:54.477823Z",
     "start_time": "2022-09-15T11:37:54.452329Z"
    }
   },
   "outputs": [
    {
     "ename": "TypeError",
     "evalue": "'tuple' object does not support item assignment",
     "output_type": "error",
     "traceback": [
      "\u001b[0;31m---------------------------------------------------------------------------\u001b[0m",
      "\u001b[0;31mTypeError\u001b[0m                                 Traceback (most recent call last)",
      "Input \u001b[0;32mIn [192]\u001b[0m, in \u001b[0;36m<cell line: 1>\u001b[0;34m()\u001b[0m\n\u001b[0;32m----> 1\u001b[0m t[\u001b[38;5;241m1\u001b[39m] \u001b[38;5;241m=\u001b[39m \u001b[38;5;241m4\u001b[39m\n",
      "\u001b[0;31mTypeError\u001b[0m: 'tuple' object does not support item assignment"
     ]
    }
   ],
   "source": [
    "t[1] = 4"
   ]
  },
  {
   "cell_type": "markdown",
   "id": "b04f2757",
   "metadata": {
    "slideshow": {
     "slide_type": "slide"
    }
   },
   "source": [
    "### 应用"
   ]
  },
  {
   "cell_type": "markdown",
   "id": "1c063e6c",
   "metadata": {
    "slideshow": {
     "slide_type": "slide"
    }
   },
   "source": [
    "#### 函数参数/返回值：\n",
    "\n",
    "元组经常在Python程序中使用; 特别常见的情况是**具有多个返回值的函数**。\n",
    "\n",
    "例如，浮点对象的as_integer_ratio()方法返回一个分子和一个分母;这个**双返回值以元组的形式出现**:"
   ]
  },
  {
   "cell_type": "code",
   "execution_count": 198,
   "id": "959a1e3f",
   "metadata": {
    "ExecuteTime": {
     "end_time": "2022-09-15T11:40:57.551007Z",
     "start_time": "2022-09-15T11:40:57.542975Z"
    }
   },
   "outputs": [
    {
     "data": {
      "text/plain": [
       "(1, 8)"
      ]
     },
     "execution_count": 198,
     "metadata": {},
     "output_type": "execute_result"
    }
   ],
   "source": [
    "x = 0.125\n",
    "x.as_integer_ratio()"
   ]
  },
  {
   "cell_type": "markdown",
   "id": "ba094e56",
   "metadata": {
    "slideshow": {
     "slide_type": "slide"
    }
   },
   "source": [
    "#### 多个返回值可以分别赋值到Tuple"
   ]
  },
  {
   "cell_type": "code",
   "execution_count": 199,
   "id": "ea3ef4ea",
   "metadata": {
    "ExecuteTime": {
     "end_time": "2022-09-15T11:40:58.650943Z",
     "start_time": "2022-09-15T11:40:58.643965Z"
    }
   },
   "outputs": [
    {
     "name": "stdout",
     "output_type": "stream",
     "text": [
      "0.125\n"
     ]
    }
   ],
   "source": [
    "numerator, denominator = x.as_integer_ratio() # 分别赋值方法 ！\n",
    "print(numerator / denominator)"
   ]
  },
  {
   "cell_type": "markdown",
   "id": "e6b978ac",
   "metadata": {
    "slideshow": {
     "slide_type": "slide"
    }
   },
   "source": [
    "前面介绍的列表的索引和切片逻辑也适用于元组，以及许多其他方法。【只是不能赋值】\n",
    "\n",
    "Refer to the online [Python documentation](https://docs.python.org/3/tutorial/datastructures.html) for a more complete list of these."
   ]
  },
  {
   "cell_type": "markdown",
   "id": "844c5ddc",
   "metadata": {
    "slideshow": {
     "slide_type": "slide"
    }
   },
   "source": [
    "## Dictionaries\n",
    "字典，有时称为哈希或关联数组，是键到值的非常灵活的映射。\n",
    "\n",
    "字典是Python最强大和最有效的方面之一!掌握Python包括掌握字典。\n",
    "\n",
    "它们可以通过**花括号**内的**以逗号分隔**的**键:值**对列表来创建:"
   ]
  },
  {
   "cell_type": "code",
   "execution_count": 220,
   "id": "66a60afe",
   "metadata": {
    "ExecuteTime": {
     "end_time": "2022-09-15T11:49:00.094256Z",
     "start_time": "2022-09-15T11:49:00.087419Z"
    }
   },
   "outputs": [],
   "source": [
    "numbers = {'one':1, 'two':2, 'three':3} # 相当于字符和数组做link"
   ]
  },
  {
   "cell_type": "markdown",
   "id": "11588e16",
   "metadata": {
    "slideshow": {
     "slide_type": "slide"
    }
   },
   "source": [
    "### 索引`dict['key']`\n",
    "\n",
    "基于字典中的一个有效键:"
   ]
  },
  {
   "cell_type": "code",
   "execution_count": 221,
   "id": "51c6be70",
   "metadata": {
    "ExecuteTime": {
     "end_time": "2022-09-15T11:49:00.757457Z",
     "start_time": "2022-09-15T11:49:00.749869Z"
    }
   },
   "outputs": [
    {
     "data": {
      "text/plain": [
       "2"
      ]
     },
     "execution_count": 221,
     "metadata": {},
     "output_type": "execute_result"
    }
   ],
   "source": [
    "# Access a value via the key\n",
    "numbers['two']"
   ]
  },
  {
   "cell_type": "markdown",
   "id": "ad967908",
   "metadata": {
    "slideshow": {
     "slide_type": "slide"
    }
   },
   "source": [
    "### 赋值`dict['key'] = value`\n",
    "\n",
    "新条目也可以**使用索引添加到字典**中:"
   ]
  },
  {
   "cell_type": "code",
   "execution_count": 222,
   "id": "02ae0d21",
   "metadata": {
    "ExecuteTime": {
     "end_time": "2022-09-15T11:49:01.325127Z",
     "start_time": "2022-09-15T11:49:01.319676Z"
    }
   },
   "outputs": [
    {
     "name": "stdout",
     "output_type": "stream",
     "text": [
      "{'one': 1, 'two': 2, 'three': 3, 'ninety': 90}\n"
     ]
    }
   ],
   "source": [
    "# Set a new key:value pair\n",
    "numbers['ninety'] = 90 # 直接写！\n",
    "print(numbers)"
   ]
  },
  {
   "cell_type": "markdown",
   "id": "2c456a81",
   "metadata": {
    "slideshow": {
     "slide_type": "slide"
    }
   },
   "source": [
    "遍历字典是非常可能的和实用的，只要您意识到**只能期望键和值正确配对**，而**不是有序的**!\n",
    "\n",
    "Terminology：\n",
    "\n",
    "key：键\n",
    "\n",
    "dict[key]、value：值"
   ]
  },
  {
   "cell_type": "markdown",
   "id": "522a27a6",
   "metadata": {},
   "source": [
    "### 遍历字典：`for循环`\n",
    " - `for key in dict:`\n",
    " - `for key, value in dict.items():`"
   ]
  },
  {
   "cell_type": "code",
   "execution_count": 223,
   "id": "4279e428",
   "metadata": {
    "ExecuteTime": {
     "end_time": "2022-09-15T11:49:02.254221Z",
     "start_time": "2022-09-15T11:49:02.245216Z"
    },
    "slideshow": {
     "slide_type": "slide"
    }
   },
   "outputs": [
    {
     "name": "stdout",
     "output_type": "stream",
     "text": [
      "one --> 1\n",
      "two --> 2\n",
      "three --> 3\n",
      "ninety --> 90\n",
      "==================\n",
      "one maps to 1\n",
      "two maps to 2\n",
      "three maps to 3\n",
      "ninety maps to 90\n"
     ]
    }
   ],
   "source": [
    "# 理解！！！\n",
    "for key in numbers:\n",
    "    print(key, \"-->\", numbers[key])\n",
    "\n",
    "print(\"==================\")\n",
    "\n",
    "for key, value in numbers.items(): # .items is a handy method\n",
    "    print(key, \"maps to\", value)"
   ]
  },
  {
   "cell_type": "code",
   "execution_count": 224,
   "id": "1222f91a",
   "metadata": {
    "ExecuteTime": {
     "end_time": "2022-09-15T11:49:02.896324Z",
     "start_time": "2022-09-15T11:49:02.888276Z"
    }
   },
   "outputs": [
    {
     "data": {
      "text/plain": [
       "[('one', 1), ('two', 2), ('three', 3), ('ninety', 90)]"
      ]
     },
     "execution_count": 224,
     "metadata": {},
     "output_type": "execute_result"
    }
   ],
   "source": [
    "###\n",
    "list(numbers.items())"
   ]
  },
  {
   "cell_type": "markdown",
   "id": "8c0588fc",
   "metadata": {},
   "source": [
    "### 取key"
   ]
  },
  {
   "cell_type": "code",
   "execution_count": 225,
   "id": "711c5efc",
   "metadata": {
    "ExecuteTime": {
     "end_time": "2022-09-15T11:49:03.838752Z",
     "start_time": "2022-09-15T11:49:03.832214Z"
    }
   },
   "outputs": [
    {
     "data": {
      "text/plain": [
       "dict_keys(['one', 'two', 'three', 'ninety'])"
      ]
     },
     "execution_count": 225,
     "metadata": {},
     "output_type": "execute_result"
    }
   ],
   "source": [
    "numbers.keys()"
   ]
  },
  {
   "cell_type": "markdown",
   "id": "b6961db5",
   "metadata": {},
   "source": [
    "### 取value"
   ]
  },
  {
   "cell_type": "code",
   "execution_count": 227,
   "id": "334cddfd",
   "metadata": {
    "ExecuteTime": {
     "end_time": "2022-09-15T11:49:24.395573Z",
     "start_time": "2022-09-15T11:49:24.389012Z"
    }
   },
   "outputs": [
    {
     "data": {
      "text/plain": [
       "dict_values([1, 2, 3, 90])"
      ]
     },
     "execution_count": 227,
     "metadata": {},
     "output_type": "execute_result"
    }
   ],
   "source": [
    "numbers.values()"
   ]
  },
  {
   "cell_type": "markdown",
   "id": "3ff39d81",
   "metadata": {
    "slideshow": {
     "slide_type": "-"
    }
   },
   "source": [
    "The [Python documentation](https://docs.python.org/3/library/stdtypes.html) has a complete list of the methods available for dictionaries."
   ]
  },
  {
   "cell_type": "markdown",
   "id": "759574ad",
   "metadata": {
    "slideshow": {
     "slide_type": "slide"
    }
   },
   "source": [
    "## Sets\n",
    "\n",
    "第四个基本集合是集合，它是：\n",
    " - 唯一\n",
    " - 无序\n",
    " \n",
    "它们的定义很像列表和元组，除了它们使用字典的**花括号**:"
   ]
  },
  {
   "cell_type": "markdown",
   "id": "33918397",
   "metadata": {},
   "source": [
    "### 生成方法："
   ]
  },
  {
   "cell_type": "markdown",
   "id": "a576e718",
   "metadata": {},
   "source": [
    "#### `{item1,item2...}`"
   ]
  },
  {
   "cell_type": "code",
   "execution_count": 236,
   "id": "db42bc49",
   "metadata": {
    "ExecuteTime": {
     "end_time": "2022-09-15T11:54:04.138499Z",
     "start_time": "2022-09-15T11:54:04.132714Z"
    },
    "slideshow": {
     "slide_type": "slide"
    }
   },
   "outputs": [],
   "source": [
    "primes = {2, 3, 5, 7}\n",
    "odds = {1, 3, 5, 7, 9}"
   ]
  },
  {
   "cell_type": "markdown",
   "id": "7bee0189",
   "metadata": {},
   "source": [
    "#### `set( )`可以是tuple/list等"
   ]
  },
  {
   "cell_type": "code",
   "execution_count": 237,
   "id": "49acadcf",
   "metadata": {
    "ExecuteTime": {
     "end_time": "2022-09-15T11:54:08.100843Z",
     "start_time": "2022-09-15T11:54:08.093030Z"
    }
   },
   "outputs": [
    {
     "data": {
      "text/plain": [
       "{1, 2, 3}"
      ]
     },
     "execution_count": 237,
     "metadata": {},
     "output_type": "execute_result"
    }
   ],
   "source": [
    "l = [1,2,3]\n",
    "s = set(l)\n",
    "s"
   ]
  },
  {
   "cell_type": "markdown",
   "id": "9a555ef6",
   "metadata": {
    "slideshow": {
     "slide_type": "slide"
    }
   },
   "source": [
    "### 运算:\n",
    " - union：  \n",
    "     - `A | B `\n",
    "     - `A.union(B)`\n",
    " - intersection:\n",
    "     - `A & B` \n",
    "     - `A.intersection(B)`\n",
    " - difference:\n",
    "     - `A - B`\n",
    "     - `A.difference(B)`\n",
    " - symmetric difference:\n",
    "     - `A ^ B` \n",
    "     - `A.symmetric_difference(B)`"
   ]
  },
  {
   "cell_type": "markdown",
   "id": "4cc52c0b",
   "metadata": {},
   "source": [
    "#### `A|B`or`A.union(B)`"
   ]
  },
  {
   "cell_type": "code",
   "execution_count": 238,
   "id": "ed31a66b",
   "metadata": {
    "ExecuteTime": {
     "end_time": "2022-09-15T11:54:57.701240Z",
     "start_time": "2022-09-15T11:54:57.694055Z"
    }
   },
   "outputs": [
    {
     "data": {
      "text/plain": [
       "{1, 2, 3, 5, 7, 9}"
      ]
     },
     "execution_count": 238,
     "metadata": {},
     "output_type": "execute_result"
    }
   ],
   "source": [
    "# union: items appearing in either\n",
    "primes | odds      # with an operator\n",
    "primes.union(odds) # equivalently with a method"
   ]
  },
  {
   "cell_type": "markdown",
   "id": "60db51a6",
   "metadata": {},
   "source": [
    "#### `A&B`or`A.intersection(B)`"
   ]
  },
  {
   "cell_type": "code",
   "execution_count": 239,
   "id": "4e40c0c8",
   "metadata": {
    "ExecuteTime": {
     "end_time": "2022-09-15T11:55:11.568430Z",
     "start_time": "2022-09-15T11:55:11.559810Z"
    },
    "slideshow": {
     "slide_type": "slide"
    }
   },
   "outputs": [
    {
     "data": {
      "text/plain": [
       "{3, 5, 7}"
      ]
     },
     "execution_count": 239,
     "metadata": {},
     "output_type": "execute_result"
    }
   ],
   "source": [
    "# intersection: items appearing in both\n",
    "primes & odds             # with an operator\n",
    "primes.intersection(odds) # equivalently with a method"
   ]
  },
  {
   "cell_type": "markdown",
   "id": "fc143225",
   "metadata": {},
   "source": [
    "#### `A-B`or`A.difference(B)`"
   ]
  },
  {
   "cell_type": "code",
   "execution_count": 240,
   "id": "a0925be3",
   "metadata": {
    "ExecuteTime": {
     "end_time": "2022-09-15T11:55:16.522153Z",
     "start_time": "2022-09-15T11:55:16.513917Z"
    },
    "slideshow": {
     "slide_type": "slide"
    }
   },
   "outputs": [
    {
     "data": {
      "text/plain": [
       "{2}"
      ]
     },
     "execution_count": 240,
     "metadata": {},
     "output_type": "execute_result"
    }
   ],
   "source": [
    "# difference: items in primes but not in odds\n",
    "primes - odds           # with an operator\n",
    "primes.difference(odds) # equivalently with a method"
   ]
  },
  {
   "cell_type": "markdown",
   "id": "cf1469e7",
   "metadata": {},
   "source": [
    "#### `A^B`or`A.symmetric_difference(B)`"
   ]
  },
  {
   "cell_type": "code",
   "execution_count": 241,
   "id": "886dc584",
   "metadata": {
    "ExecuteTime": {
     "end_time": "2022-09-15T11:55:29.712837Z",
     "start_time": "2022-09-15T11:55:29.703726Z"
    },
    "slideshow": {
     "slide_type": "slide"
    }
   },
   "outputs": [
    {
     "data": {
      "text/plain": [
       "{1, 2, 9}"
      ]
     },
     "execution_count": 241,
     "metadata": {},
     "output_type": "execute_result"
    }
   ],
   "source": [
    "# symmetric difference: items appearing in only one set\n",
    "primes ^ odds                     # with an operator\n",
    "primes.symmetric_difference(odds) # equivalently with a method"
   ]
  },
  {
   "cell_type": "markdown",
   "id": "f54146ea",
   "metadata": {},
   "source": [
    "#### `zip()`平行合并"
   ]
  },
  {
   "cell_type": "code",
   "execution_count": 242,
   "id": "8ee568ba",
   "metadata": {
    "ExecuteTime": {
     "end_time": "2022-09-15T11:56:21.705692Z",
     "start_time": "2022-09-15T11:56:21.697642Z"
    }
   },
   "outputs": [
    {
     "data": {
      "text/plain": [
       "[(2, 1), (3, 3), (5, 5), (7, 7)]"
      ]
     },
     "execution_count": 242,
     "metadata": {},
     "output_type": "execute_result"
    }
   ],
   "source": [
    "list(zip(primes,odds))"
   ]
  },
  {
   "cell_type": "markdown",
   "id": "2d68488b",
   "metadata": {
    "slideshow": {
     "slide_type": "slide"
    }
   },
   "source": [
    "Many more set methods and operations are available.\n",
    "You've probably already guessed what I'll say next: refer to Python's [online documentation](https://docs.python.org/3/library/stdtypes.html) for a complete reference."
   ]
  },
  {
   "cell_type": "markdown",
   "id": "a7d0ce0e",
   "metadata": {
    "slideshow": {
     "slide_type": "slide"
    }
   },
   "source": [
    "# String Manipulation"
   ]
  },
  {
   "cell_type": "markdown",
   "id": "3613fa78",
   "metadata": {
    "slideshow": {
     "slide_type": "slide"
    }
   },
   "source": [
    "Python语言真正出色的地方是字符串操作。本节将介绍Python的一些内置字符串方法和格式化操作。格式化和操作字符串是数据科学家最常执行的任务之一。\n",
    "\n",
    "Python中的字符串可以使用**单引号**或**双引号**来定义(它们在功能上是**等价**的):"
   ]
  },
  {
   "cell_type": "markdown",
   "id": "6f9605e5",
   "metadata": {},
   "source": [
    "## 生成方法："
   ]
  },
  {
   "cell_type": "markdown",
   "id": "90d9ab76",
   "metadata": {},
   "source": [
    "### `\" \"`,`' '`"
   ]
  },
  {
   "cell_type": "code",
   "execution_count": null,
   "id": "a731c8cc",
   "metadata": {
    "ExecuteTime": {
     "end_time": "2022-09-15T09:05:09.449893Z",
     "start_time": "2022-09-15T09:05:09.449888Z"
    }
   },
   "outputs": [],
   "source": [
    "x = 'a string'\n",
    "y = \"a string\"\n",
    "x == y"
   ]
  },
  {
   "cell_type": "markdown",
   "id": "54da9d65",
   "metadata": {
    "slideshow": {
     "slide_type": "slide"
    }
   },
   "source": [
    "### `''' '''` 多行\n",
    "此外，还可以使用**三引号**语法定义**多行**字符串:"
   ]
  },
  {
   "cell_type": "code",
   "execution_count": null,
   "id": "d1d7fdb4",
   "metadata": {
    "ExecuteTime": {
     "end_time": "2022-09-15T09:05:09.450368Z",
     "start_time": "2022-09-15T09:05:09.450361Z"
    }
   },
   "outputs": [],
   "source": [
    "multiline = \"\"\"\n",
    "one\n",
    "two\n",
    "three\n",
    "\"\"\""
   ]
  },
  {
   "cell_type": "markdown",
   "id": "95cea3a8",
   "metadata": {},
   "source": [
    "### `str()`"
   ]
  },
  {
   "cell_type": "code",
   "execution_count": null,
   "id": "d2746a9a",
   "metadata": {
    "ExecuteTime": {
     "end_time": "2022-09-15T09:05:09.450996Z",
     "start_time": "2022-09-15T09:05:09.450991Z"
    }
   },
   "outputs": [],
   "source": [
    "pi = 3.14159\n",
    "str(pi)"
   ]
  },
  {
   "cell_type": "code",
   "execution_count": null,
   "id": "0494e282",
   "metadata": {
    "ExecuteTime": {
     "end_time": "2022-09-15T09:05:09.451494Z",
     "start_time": "2022-09-15T09:05:09.451489Z"
    },
    "scrolled": false
   },
   "outputs": [],
   "source": [
    "\"The value of pi is \" + str(pi)"
   ]
  },
  {
   "cell_type": "markdown",
   "id": "b47d6687",
   "metadata": {
    "slideshow": {
     "slide_type": "slide"
    }
   },
   "source": [
    "## 反斜杠`\\`\n",
    "\n",
    "这告诉Python不要将这些引号解释为字符串的结尾"
   ]
  },
  {
   "cell_type": "code",
   "execution_count": null,
   "id": "52afb81e",
   "metadata": {
    "ExecuteTime": {
     "end_time": "2022-09-15T09:05:09.452065Z",
     "start_time": "2022-09-15T09:05:09.452059Z"
    }
   },
   "outputs": [],
   "source": [
    "print(\"Jon said, \\\"Hello World\\\".\")\n",
    "print('Andrea replied, \"That\\'s nice!\"')"
   ]
  },
  {
   "cell_type": "markdown",
   "id": "c0505697",
   "metadata": {
    "slideshow": {
     "slide_type": "slide"
    }
   },
   "source": [
    "## 字符串操作\n",
    "\n",
    "对于字符串的基本操作，Python的内置字符串方法非常方便。如果您有C或其他低级语言的背景，您可能会发现Python方法的简单性非常令人耳目一新。我们之前介绍了Python的字符串类型和一些这样的方法;在这里，我们要深入一点"
   ]
  },
  {
   "cell_type": "markdown",
   "id": "49b17240",
   "metadata": {
    "slideshow": {
     "slide_type": "slide"
    }
   },
   "source": [
    "### 大小写\n",
    "\n",
    "Python使调整字符串的大小写变得非常容易。\n",
    "Here we'll look at the ``upper()``, ``lower()``, ``capitalize()``, ``title()``, and ``swapcase()`` methods, using the following messy string as an example:"
   ]
  },
  {
   "cell_type": "code",
   "execution_count": null,
   "id": "b92f442d",
   "metadata": {
    "ExecuteTime": {
     "end_time": "2022-09-15T09:05:09.452590Z",
     "start_time": "2022-09-15T09:05:09.452583Z"
    }
   },
   "outputs": [],
   "source": [
    "fox = \"tHe qUICk bROWn fOx.\""
   ]
  },
  {
   "cell_type": "markdown",
   "id": "b981adb4",
   "metadata": {
    "slideshow": {
     "slide_type": "slide"
    }
   },
   "source": [
    "#### ``upper()`` ：全部大写"
   ]
  },
  {
   "cell_type": "code",
   "execution_count": null,
   "id": "49b1dccb",
   "metadata": {
    "ExecuteTime": {
     "end_time": "2022-09-15T09:05:09.453004Z",
     "start_time": "2022-09-15T09:05:09.452998Z"
    },
    "scrolled": true
   },
   "outputs": [],
   "source": [
    "fox.upper()"
   ]
  },
  {
   "cell_type": "markdown",
   "id": "1b607154",
   "metadata": {},
   "source": [
    "#### ``lower()`` ：全部小写 "
   ]
  },
  {
   "cell_type": "code",
   "execution_count": null,
   "id": "e41a9112",
   "metadata": {
    "ExecuteTime": {
     "end_time": "2022-09-15T09:05:09.453521Z",
     "start_time": "2022-09-15T09:05:09.453515Z"
    }
   },
   "outputs": [],
   "source": [
    "fox.lower()"
   ]
  },
  {
   "cell_type": "markdown",
   "id": "8f37bf5d",
   "metadata": {
    "slideshow": {
     "slide_type": "slide"
    }
   },
   "source": [
    "#### ``title()`` ：按单词大写"
   ]
  },
  {
   "cell_type": "code",
   "execution_count": null,
   "id": "8fa5cc35",
   "metadata": {
    "ExecuteTime": {
     "end_time": "2022-09-15T09:05:09.453977Z",
     "start_time": "2022-09-15T09:05:09.453971Z"
    }
   },
   "outputs": [],
   "source": [
    "fox.title()"
   ]
  },
  {
   "cell_type": "markdown",
   "id": "8ffc1faa",
   "metadata": {},
   "source": [
    "#### ``capitalize()`` :按句子大写"
   ]
  },
  {
   "cell_type": "code",
   "execution_count": null,
   "id": "0b410da5",
   "metadata": {
    "ExecuteTime": {
     "end_time": "2022-09-15T09:05:09.454514Z",
     "start_time": "2022-09-15T09:05:09.454509Z"
    }
   },
   "outputs": [],
   "source": [
    "fox.capitalize()"
   ]
  },
  {
   "cell_type": "markdown",
   "id": "d3ed805e",
   "metadata": {},
   "source": [
    "#### ``swapcase()`` ：大小写交换"
   ]
  },
  {
   "cell_type": "code",
   "execution_count": null,
   "id": "861a9750",
   "metadata": {
    "ExecuteTime": {
     "end_time": "2022-09-15T09:05:09.455305Z",
     "start_time": "2022-09-15T09:05:09.455299Z"
    }
   },
   "outputs": [],
   "source": [
    "fox.swapcase()"
   ]
  },
  {
   "cell_type": "markdown",
   "id": "84ab12dc",
   "metadata": {
    "slideshow": {
     "slide_type": "slide"
    }
   },
   "source": [
    "### 字符串首尾\n",
    "\n",
    "#### 删除:`.strip()` ``rstrip()````lstrip()``\n",
    "\n",
    "一个常见的需求是删除字符串**开头**或**结尾**的**空格(或其他字符)**。"
   ]
  },
  {
   "cell_type": "code",
   "execution_count": null,
   "id": "7f987079",
   "metadata": {
    "ExecuteTime": {
     "end_time": "2022-09-15T09:05:09.455799Z",
     "start_time": "2022-09-15T09:05:09.455793Z"
    }
   },
   "outputs": [],
   "source": [
    "line = '         this is the content         '\n",
    "line.strip()"
   ]
  },
  {
   "cell_type": "code",
   "execution_count": null,
   "id": "de4c3017",
   "metadata": {
    "ExecuteTime": {
     "end_time": "2022-09-15T09:05:09.456265Z",
     "start_time": "2022-09-15T09:05:09.456259Z"
    }
   },
   "outputs": [],
   "source": [
    "line.rstrip()"
   ]
  },
  {
   "cell_type": "code",
   "execution_count": null,
   "id": "7c22c370",
   "metadata": {
    "ExecuteTime": {
     "end_time": "2022-09-15T09:05:09.456811Z",
     "start_time": "2022-09-15T09:05:09.456806Z"
    }
   },
   "outputs": [],
   "source": [
    "line.lstrip()"
   ]
  },
  {
   "cell_type": "markdown",
   "id": "3f76be13",
   "metadata": {
    "slideshow": {
     "slide_type": "slide"
    }
   },
   "source": [
    "##### 要删除(1)两端(2)**除空格以外的字符**，可以将所需字符传递给``strip()``方法:"
   ]
  },
  {
   "cell_type": "code",
   "execution_count": null,
   "id": "0bd5742f",
   "metadata": {
    "ExecuteTime": {
     "end_time": "2022-09-15T09:05:09.457243Z",
     "start_time": "2022-09-15T09:05:09.457237Z"
    }
   },
   "outputs": [],
   "source": [
    "num = \"000000000000435\"\n",
    "num.strip('0')"
   ]
  },
  {
   "cell_type": "markdown",
   "id": "d54f48dd",
   "metadata": {
    "slideshow": {
     "slide_type": "slide"
    }
   },
   "source": [
    "#### Add：``center()`` ``ljust()`` ``rjust()``\n",
    "\n",
    "``center()``: 左右同时添加空格\n",
    "\n",
    "``ljust()``：左侧添加空格\n",
    "\n",
    "``rjust()``：右侧添加空格"
   ]
  },
  {
   "cell_type": "code",
   "execution_count": null,
   "id": "6abb0478",
   "metadata": {
    "ExecuteTime": {
     "end_time": "2022-09-15T09:05:09.457666Z",
     "start_time": "2022-09-15T09:05:09.457660Z"
    }
   },
   "outputs": [],
   "source": [
    "line = \"this is the content\"\n",
    "line.center(30)"
   ]
  },
  {
   "cell_type": "markdown",
   "id": "d7392a6c",
   "metadata": {
    "slideshow": {
     "slide_type": "slide"
    }
   },
   "source": [
    "Similarly, ``ljust()`` and ``rjust()`` will left-justify or right-justify the string within spaces of a given length:"
   ]
  },
  {
   "cell_type": "code",
   "execution_count": null,
   "id": "e43e292c",
   "metadata": {
    "ExecuteTime": {
     "end_time": "2022-09-15T09:05:09.458072Z",
     "start_time": "2022-09-15T09:05:09.458067Z"
    }
   },
   "outputs": [],
   "source": [
    "line.ljust(30)"
   ]
  },
  {
   "cell_type": "code",
   "execution_count": null,
   "id": "b313ea75",
   "metadata": {
    "ExecuteTime": {
     "end_time": "2022-09-15T09:05:09.458531Z",
     "start_time": "2022-09-15T09:05:09.458526Z"
    }
   },
   "outputs": [],
   "source": [
    "line.rjust(30)"
   ]
  },
  {
   "cell_type": "markdown",
   "id": "236a8051",
   "metadata": {},
   "source": [
    "所有这些方法都接受用于填充空格的任何字符。\n",
    "\n",
    "例如:"
   ]
  },
  {
   "cell_type": "code",
   "execution_count": null,
   "id": "2b4a4f91",
   "metadata": {
    "ExecuteTime": {
     "end_time": "2022-09-15T09:05:09.459138Z",
     "start_time": "2022-09-15T09:05:09.459132Z"
    }
   },
   "outputs": [],
   "source": [
    "'435'.rjust(10, '0') # 填 10 个 0 ！"
   ]
  },
  {
   "cell_type": "markdown",
   "id": "f35454fb",
   "metadata": {
    "slideshow": {
     "slide_type": "slide"
    }
   },
   "source": [
    "#### 用零左填充：`zfill()`\n",
    "\n",
    "因为填零是非常常见的需求（会计），Python还提供了``zfill()``，这是一种**用零左填充**字符串的特殊方法"
   ]
  },
  {
   "cell_type": "code",
   "execution_count": null,
   "id": "45971e6e",
   "metadata": {
    "ExecuteTime": {
     "end_time": "2022-09-15T09:05:09.459643Z",
     "start_time": "2022-09-15T09:05:09.459637Z"
    }
   },
   "outputs": [],
   "source": [
    "'435'.zfill(10)"
   ]
  },
  {
   "cell_type": "markdown",
   "id": "8e85c467",
   "metadata": {
    "slideshow": {
     "slide_type": "slide"
    }
   },
   "source": [
    "### 搜索替换\n",
    "\n",
    "``find()`` and ``index()``：非常相似的，它们搜索字符串中第一个出现的字符或子字符串，并返回子字符串的索引。\n",
    "\n",
    "``replace()``："
   ]
  },
  {
   "cell_type": "markdown",
   "id": "944547a1",
   "metadata": {},
   "source": [
    "#### ``find()`` ``rfind()`` 搜索\n",
    "\n",
    "搜索，未找到返回-1\n",
    "\n",
    "``rfind()``从字符串的末尾而不是开头搜索第一个出现点:"
   ]
  },
  {
   "cell_type": "code",
   "execution_count": null,
   "id": "cb72bcac",
   "metadata": {
    "ExecuteTime": {
     "end_time": "2022-09-15T09:05:09.460132Z",
     "start_time": "2022-09-15T09:05:09.460125Z"
    }
   },
   "outputs": [],
   "source": [
    "line = 'the quick brown fox jumped over a lazy dog'\n",
    "line.find('fox') # 第1个字符index是0，f是第16个字符"
   ]
  },
  {
   "cell_type": "markdown",
   "id": "364029e8",
   "metadata": {},
   "source": [
    "#### ``index()`` ``rindex()`` 搜索\n",
    "\n",
    "搜索，未找到引发ValueError\n",
    "\n",
    "`rindex()`从字符串的末尾而不是开头搜索第一个出现点:"
   ]
  },
  {
   "cell_type": "code",
   "execution_count": null,
   "id": "ee479b3f",
   "metadata": {
    "ExecuteTime": {
     "end_time": "2022-09-15T09:05:09.460580Z",
     "start_time": "2022-09-15T09:05:09.460574Z"
    },
    "scrolled": true
   },
   "outputs": [],
   "source": [
    "line.index('fox')"
   ]
  },
  {
   "cell_type": "markdown",
   "id": "7b027aad",
   "metadata": {},
   "source": [
    "##### <font color = 'red' size = 2.8>find()和index()之间的唯一区别是它们在搜索字符串未被找到时的行为;find()返回-1，而index()引发ValueError"
   ]
  },
  {
   "cell_type": "code",
   "execution_count": null,
   "id": "7c65d882",
   "metadata": {
    "ExecuteTime": {
     "end_time": "2022-09-15T09:05:09.461169Z",
     "start_time": "2022-09-15T09:05:09.461164Z"
    }
   },
   "outputs": [],
   "source": [
    "line.find('bear')"
   ]
  },
  {
   "cell_type": "code",
   "execution_count": null,
   "id": "dec78c28",
   "metadata": {
    "ExecuteTime": {
     "end_time": "2022-09-15T09:05:09.461816Z",
     "start_time": "2022-09-15T09:05:09.461810Z"
    },
    "scrolled": true
   },
   "outputs": [],
   "source": [
    "# line.index('bear')"
   ]
  },
  {
   "cell_type": "markdown",
   "id": "f3ed31e5",
   "metadata": {
    "slideshow": {
     "slide_type": "slide"
    }
   },
   "source": [
    "#### ``startswith()`` ``endswith()`` 检查首尾\n",
    "\n",
    "检查**字符串开头或结尾**的情况"
   ]
  },
  {
   "cell_type": "code",
   "execution_count": null,
   "id": "ce65b05f",
   "metadata": {
    "ExecuteTime": {
     "end_time": "2022-09-15T09:05:09.462494Z",
     "start_time": "2022-09-15T09:05:09.462487Z"
    }
   },
   "outputs": [],
   "source": [
    "line.endswith('dog')"
   ]
  },
  {
   "cell_type": "code",
   "execution_count": null,
   "id": "39e49f9d",
   "metadata": {
    "ExecuteTime": {
     "end_time": "2022-09-15T09:05:09.462923Z",
     "start_time": "2022-09-15T09:05:09.462917Z"
    }
   },
   "outputs": [],
   "source": [
    "line.startswith('fox')"
   ]
  },
  {
   "cell_type": "markdown",
   "id": "a70a9b96",
   "metadata": {
    "slideshow": {
     "slide_type": "slide"
    }
   },
   "source": [
    "#### ``replace()`` 替换：返回新值"
   ]
  },
  {
   "cell_type": "code",
   "execution_count": null,
   "id": "702de870",
   "metadata": {
    "ExecuteTime": {
     "end_time": "2022-09-15T09:05:09.463376Z",
     "start_time": "2022-09-15T09:05:09.463370Z"
    }
   },
   "outputs": [],
   "source": [
    "line.replace('brown', 'red')"
   ]
  },
  {
   "cell_type": "markdown",
   "id": "0e589253",
   "metadata": {
    "slideshow": {
     "slide_type": "slide"
    }
   },
   "source": [
    "<font color='red'> **``replace()``：返回一个新字符串，不改变原来的指针！**"
   ]
  },
  {
   "cell_type": "code",
   "execution_count": null,
   "id": "5fd3d99e",
   "metadata": {
    "ExecuteTime": {
     "end_time": "2022-09-15T09:05:09.463822Z",
     "start_time": "2022-09-15T09:05:09.463816Z"
    }
   },
   "outputs": [],
   "source": [
    "line.replace('o', '--')"
   ]
  },
  {
   "cell_type": "code",
   "execution_count": null,
   "id": "f8342ec3",
   "metadata": {
    "ExecuteTime": {
     "end_time": "2022-09-15T09:05:09.464271Z",
     "start_time": "2022-09-15T09:05:09.464266Z"
    }
   },
   "outputs": [],
   "source": [
    "line"
   ]
  },
  {
   "cell_type": "markdown",
   "id": "0a49c409",
   "metadata": {
    "slideshow": {
     "slide_type": "slide"
    }
   },
   "source": [
    "### 拆分\n",
    "\n",
    "``partition()``和``split()``: 找到**一个子字符串**，然后**根据它的位置**拆分字符串，两者都将返回一个子字符串序列。\n",
    "\n",
    "#### ``partition()``:返回左中右\n",
    "\n",
    "``partition()``：按**遇到的第一个对应字符串**拆分，返回一个包含三个元素的元组：**分裂点之前的子字符串、分裂点本身和之后的子字符串**:"
   ]
  },
  {
   "cell_type": "code",
   "execution_count": null,
   "id": "2bff0226",
   "metadata": {
    "ExecuteTime": {
     "end_time": "2022-09-15T09:05:09.464979Z",
     "start_time": "2022-09-15T09:05:09.464973Z"
    }
   },
   "outputs": [],
   "source": [
    "line.partition('fox')"
   ]
  },
  {
   "cell_type": "markdown",
   "id": "4f438f56",
   "metadata": {},
   "source": [
    "#### ``rpartition()``：从右侧搜索"
   ]
  },
  {
   "cell_type": "markdown",
   "id": "cbc98325",
   "metadata": {
    "slideshow": {
     "slide_type": "slide"
    }
   },
   "source": [
    "#### ``split()``:返回区间\n",
    "\n",
    "``split()`` 可能更有用：它找到**所有**的分割点，并返回**中间的子字符串**。\n",
    "\n",
    "**默认值是在任何空格上分割**，返回字符串中单个单词的列表:"
   ]
  },
  {
   "cell_type": "code",
   "execution_count": null,
   "id": "46eadc6e",
   "metadata": {
    "ExecuteTime": {
     "end_time": "2022-09-15T09:05:09.465729Z",
     "start_time": "2022-09-15T09:05:09.465721Z"
    },
    "slideshow": {
     "slide_type": "slide"
    }
   },
   "outputs": [],
   "source": [
    "line.split()"
   ]
  },
  {
   "cell_type": "markdown",
   "id": "1708d3d3",
   "metadata": {
    "slideshow": {
     "slide_type": "slide"
    }
   },
   "source": [
    "#### ``splitlines()``：从换行符上拆分。\n",
    "\n",
    "Let's do this with a Haiku, popularly attributed to the 17th-century poet Matsuo Bashō (松尾 芭蕉):"
   ]
  },
  {
   "cell_type": "code",
   "execution_count": null,
   "id": "4549a0d2",
   "metadata": {
    "ExecuteTime": {
     "end_time": "2022-09-15T09:05:09.466367Z",
     "start_time": "2022-09-15T09:05:09.466361Z"
    }
   },
   "outputs": [],
   "source": [
    "haiku = \"\"\"matsushima-ya\n",
    "aah matsushima-ya\n",
    "matsushima-ya\"\"\"\n",
    "\n",
    "haiku.splitlines()"
   ]
  },
  {
   "cell_type": "markdown",
   "id": "50674875",
   "metadata": {
    "slideshow": {
     "slide_type": "slide"
    }
   },
   "source": [
    "### 连接\n",
    "\n",
    "#### ``A.join(L)``:joint L with A"
   ]
  },
  {
   "cell_type": "code",
   "execution_count": null,
   "id": "e9011005",
   "metadata": {
    "ExecuteTime": {
     "end_time": "2022-09-15T09:05:09.466824Z",
     "start_time": "2022-09-15T09:05:09.466819Z"
    }
   },
   "outputs": [],
   "source": [
    "'--'.join(['1', '2', '3']) # 用 -- 来join 1 2 3 得到的string."
   ]
  },
  {
   "cell_type": "markdown",
   "id": "ed74d9a1",
   "metadata": {
    "slideshow": {
     "slide_type": "slide"
    }
   },
   "source": [
    "一种常见的模式是使用特殊字符' ``\\n``(换行符)将之前拆分的行连接在一起:"
   ]
  },
  {
   "cell_type": "code",
   "execution_count": null,
   "id": "3ad4cf0a",
   "metadata": {
    "ExecuteTime": {
     "end_time": "2022-09-15T09:05:09.467360Z",
     "start_time": "2022-09-15T09:05:09.467354Z"
    }
   },
   "outputs": [],
   "source": [
    "print(\"\\n\".join(['matsushima-ya', 'aah matsushima-ya', 'matsushima-ya']))"
   ]
  },
  {
   "cell_type": "markdown",
   "id": "7c562c98",
   "metadata": {
    "slideshow": {
     "slide_type": "slide"
    }
   },
   "source": [
    "## 格式化字符串\n",
    "\n",
    "在前面的方法中，我们已经学习了**如何从字符串中提取值**，以及如何将**字符串本身操作**成所需的格式。\n",
    "\n",
    "字符串方法的另一个用途是**操作其他类型值的字符串**。"
   ]
  },
  {
   "cell_type": "markdown",
   "id": "4aa2c74e",
   "metadata": {
    "slideshow": {
     "slide_type": "slide"
    }
   },
   "source": [
    "### `\"...{}...\".format(A)`格式化字符串\n",
    "\n",
    " - 一个:`\"...{}...\".format(A)`\n",
    " - 多个index:`\"..{0}..{1}..\".format('A','B')`\n",
    " - 多个dict:`\"..{a}..{b}..\".format(a:'A',b:'B')`\n",
    " \n",
    " - 数字:`\"...{0:.3f}...\".format(A)`"
   ]
  },
  {
   "cell_type": "code",
   "execution_count": null,
   "id": "60b9a96d",
   "metadata": {
    "ExecuteTime": {
     "end_time": "2022-09-15T09:05:09.468024Z",
     "start_time": "2022-09-15T09:05:09.468018Z"
    }
   },
   "outputs": [],
   "source": [
    "\"The value of pi is {}\".format(pi) # 字符串里的{}有特殊含义，表示插入的一段字符串，这段字符串位于末尾，以format形式表示"
   ]
  },
  {
   "cell_type": "code",
   "execution_count": null,
   "id": "822cb9dc",
   "metadata": {
    "ExecuteTime": {
     "end_time": "2022-09-15T09:05:09.468477Z",
     "start_time": "2022-09-15T09:05:09.468471Z"
    }
   },
   "outputs": [],
   "source": [
    "\"\"\"First letter: {0}. Last letter: {1}.\"\"\".format('A', 'Z') # 花括号里的参数表示插入的参数的index"
   ]
  },
  {
   "cell_type": "code",
   "execution_count": null,
   "id": "e08274fd",
   "metadata": {
    "ExecuteTime": {
     "end_time": "2022-09-15T09:05:09.469039Z",
     "start_time": "2022-09-15T09:05:09.469033Z"
    }
   },
   "outputs": [],
   "source": [
    "\"\"\"First letter: {first}. Last letter: {last}.\"\"\".format(last='Z', first='A') # 相当于一个dictionary"
   ]
  },
  {
   "cell_type": "markdown",
   "id": "223310e0",
   "metadata": {
    "slideshow": {
     "slide_type": "slide"
    }
   },
   "source": [
    "最后，对于数字输入，可以包含格式代码，以控制如何将值转换为字符串。\n",
    "\n",
    "例如，要将一个数字输出为 **小数点后有三位数字的浮点数** ，可以使用以下方法:"
   ]
  },
  {
   "cell_type": "code",
   "execution_count": null,
   "id": "6d3b5e12",
   "metadata": {
    "ExecuteTime": {
     "end_time": "2022-09-15T09:05:09.469539Z",
     "start_time": "2022-09-15T09:05:09.469533Z"
    },
    "slideshow": {
     "slide_type": "slide"
    }
   },
   "outputs": [],
   "source": [
    "\"pi = {0:.3f}\".format(pi)"
   ]
  },
  {
   "cell_type": "markdown",
   "id": "00e8dfa7",
   "metadata": {},
   "source": [
    "As before, here:\n",
    "\n",
    "the \"``0``\" refers to **the index** of the value to be inserted.\n",
    "\n",
    "The \"``:``\" marks that** format codes** will follow. 必须要有！\n",
    "\n",
    "The \"``.3f``\" encodes the desired precision: **three digits beyond the decimal point, floating-point format.**\n",
    "\n",
    "This style of format specification is very flexible, and the examples here barely scratch the surface of the formatting options available.\n",
    "For more information on the syntax of these format strings, see the [Format Specification](https://docs.python.org/3/library/string.html#formatspec) section of Python's online documentation."
   ]
  },
  {
   "cell_type": "code",
   "execution_count": null,
   "id": "a00954ba",
   "metadata": {
    "ExecuteTime": {
     "end_time": "2022-09-15T09:05:09.470033Z",
     "start_time": "2022-09-15T09:05:09.470028Z"
    },
    "slideshow": {
     "slide_type": "slide"
    }
   },
   "outputs": [],
   "source": [
    "a_number = 1 / 3\n",
    "percentage = \"{:.2%}\".format(a_number)\n",
    "print(percentage)"
   ]
  },
  {
   "cell_type": "markdown",
   "id": "f9974978",
   "metadata": {
    "slideshow": {
     "slide_type": "slide"
    }
   },
   "source": [
    "## 转义符\n",
    "\n",
    " - 换行符:`\\n`\n",
    " - tab : `\\t`\n",
    " - Null: `\\0`\n",
    "\n",
    "当在源代码中两个字符' \\ '和' n '配对显示时，它们**被解释为一个字符**，表示按下回车键或返回键时将发出的内容。"
   ]
  },
  {
   "cell_type": "code",
   "execution_count": null,
   "id": "87f7ed34",
   "metadata": {
    "ExecuteTime": {
     "end_time": "2022-09-15T09:05:09.470765Z",
     "start_time": "2022-09-15T09:05:09.470759Z"
    },
    "slideshow": {
     "slide_type": "slide"
    }
   },
   "outputs": [],
   "source": [
    "print(len(\"\\n\"))"
   ]
  },
  {
   "cell_type": "markdown",
   "id": "c2b67ec0",
   "metadata": {
    "slideshow": {
     "slide_type": "slide"
    }
   },
   "source": [
    "# Control Flow"
   ]
  },
  {
   "cell_type": "markdown",
   "id": "54fdd63a",
   "metadata": {},
   "source": [
    "控制流是编程中真正遇到困难的地方。如果没有它，程序就只是一个顺序执行的语句列表。通过控制流，您可以有条件地和/或重复地执行某些代码块:这些基本构建块可以组合起来创建复杂得惊人的程序!\n",
    "\n",
    "Here we'll cover *conditional statements* (including \"``if``\", \"``elif``\", and \"``else``\") *loop statements* (including \"``for``\" and \"``while``\" and the accompanying \"``break``\", \"``continue``\", and \"``pass``\")."
   ]
  },
  {
   "cell_type": "markdown",
   "id": "fec54f95",
   "metadata": {
    "slideshow": {
     "slide_type": "slide"
    }
   },
   "source": [
    "## ``if``-``elif``-``else``\n",
    "条件语句，通常被称为if-then语句，允许程序员根据某种布尔条件执行某些代码段。Python条件语句的一个基本示例如下:"
   ]
  },
  {
   "cell_type": "code",
   "execution_count": null,
   "id": "597dde16",
   "metadata": {
    "ExecuteTime": {
     "end_time": "2022-09-15T09:05:09.471558Z",
     "start_time": "2022-09-15T09:05:09.471552Z"
    }
   },
   "outputs": [],
   "source": [
    "x = 2\n",
    "\n",
    "if x == 0:\n",
    "    print(x, \"is zero\")\n",
    "elif x > 0:\n",
    "    print(x, \"is positive\")\n",
    "elif x < 0:\n",
    "    print(x, \"is negative\")\n",
    "else:\n",
    "    print(x, \"is unlike anything I've ever seen...\")"
   ]
  },
  {
   "cell_type": "markdown",
   "id": "3bc960cf",
   "metadata": {
    "slideshow": {
     "slide_type": "slide"
    }
   },
   "source": [
    "特别要注意冒号(``:``)和空格的使用，**一般冒号之后是换行**。\n",
    "\n",
    "Python采用了其他语言中经常使用的if和else;它更独特的关键字是``elif``，是“else if”的缩写。\n",
    "\n",
    "在这些条件子句中，elif和else块是可选的;此外，您可以根据自己的喜好选择包含多少个或多少个elif语句。\n"
   ]
  },
  {
   "cell_type": "markdown",
   "id": "80f675c2",
   "metadata": {
    "slideshow": {
     "slide_type": "slide"
    }
   },
   "source": [
    "## ``for``\n",
    "Python中的循环是一种重复执行某些代码语句的方法。例如，如果我们想打印列表中的每一项，可以使用for循环:"
   ]
  },
  {
   "cell_type": "code",
   "execution_count": null,
   "id": "d48429f5",
   "metadata": {
    "ExecuteTime": {
     "end_time": "2022-09-15T09:05:09.472011Z",
     "start_time": "2022-09-15T09:05:09.472004Z"
    },
    "scrolled": true
   },
   "outputs": [],
   "source": [
    "for N in [2, 3, 5, 7]: \n",
    "    print(N, end=' ') # print all on same line! 不然会自动换行！"
   ]
  },
  {
   "cell_type": "code",
   "execution_count": null,
   "id": "650cec94",
   "metadata": {
    "ExecuteTime": {
     "end_time": "2022-09-15T09:05:09.472599Z",
     "start_time": "2022-09-15T09:05:09.472594Z"
    }
   },
   "outputs": [],
   "source": [
    "for i in range(1,101,2):\n",
    "    print(str(i), end=' ')"
   ]
  },
  {
   "cell_type": "markdown",
   "id": "0ff976df",
   "metadata": {
    "slideshow": {
     "slide_type": "slide"
    }
   },
   "source": [
    "注意for循环的简单性：我们指定要使用的**变量、要循环的序列**，并使用“**in**”操作符以直观和可读的方式将它们链接在一起。我们不需要处理循环索引变量(除非我们想要!)\n",
    "Python的for循环在其他语言中被认为是一个“foreach”循环。你可以把上面的内容理解为“**对于[2,3,5,7]中的每个N**”。\n",
    "\"in\"**右边的对象可以是任何Python迭代器，而不仅仅是一个列表**。迭代器可以看作是一个广义序列。\n",
    "\n",
    "We'll discuss them in [Iterators and List Comprehensions](13-Iterators-and-List-Comprehensions.ipynb).\n",
    "\n",
    "### `range`\n",
    "\n",
    "例如，Python中最常用的迭代器之一是``range``对象，它生成一个数字序列:\n",
    "range(起始（包括），结束（不包括），跳步)"
   ]
  },
  {
   "cell_type": "code",
   "execution_count": null,
   "id": "eadc95ae",
   "metadata": {
    "ExecuteTime": {
     "end_time": "2022-09-15T09:05:09.473122Z",
     "start_time": "2022-09-15T09:05:09.473117Z"
    },
    "scrolled": true
   },
   "outputs": [],
   "source": [
    "for i in range(10): # range 是从零开始的\n",
    "    print(i, end=' ')"
   ]
  },
  {
   "cell_type": "markdown",
   "id": "dc611b6f",
   "metadata": {
    "slideshow": {
     "slide_type": "slide"
    }
   },
   "source": [
    "注意，该范围默认从0开始，并且按照约定，该范围的\n",
    "顶部不包含在输出中。范围对象也可以有更复杂的值:"
   ]
  },
  {
   "cell_type": "code",
   "execution_count": null,
   "id": "a9954018",
   "metadata": {
    "ExecuteTime": {
     "end_time": "2022-09-15T09:05:09.473626Z",
     "start_time": "2022-09-15T09:05:09.473620Z"
    }
   },
   "outputs": [],
   "source": [
    "# range from 5 to 10\n",
    "list(range(5, 10))"
   ]
  },
  {
   "cell_type": "code",
   "execution_count": null,
   "id": "477a2ae0",
   "metadata": {
    "ExecuteTime": {
     "end_time": "2022-09-15T09:05:09.474122Z",
     "start_time": "2022-09-15T09:05:09.474116Z"
    },
    "slideshow": {
     "slide_type": "slide"
    }
   },
   "outputs": [],
   "source": [
    "# range from 0 to 10 by 2\n",
    "list(range(0, 10, 2))"
   ]
  },
  {
   "cell_type": "markdown",
   "id": "20de5043",
   "metadata": {},
   "source": [
    "You might notice that the meaning of ``range`` arguments is very similar to the slicing syntax that we covered in [Lists](07-Built-in-Data-Structures.ipynb#Lists).\n",
    "\n",
    "Note that the behavior of ``range()`` is one of the differences between Python 2 and Python 3: in Python 2, ``range()`` produces a list, while in Python 3, ``range()`` produces an iterable object."
   ]
  },
  {
   "cell_type": "markdown",
   "id": "3c9d4825",
   "metadata": {
    "slideshow": {
     "slide_type": "slide"
    }
   },
   "source": [
    "## ``while``\n",
    "Python中另一种类型的循环是while循环，它会迭代，直到满足某个条件:"
   ]
  },
  {
   "cell_type": "code",
   "execution_count": null,
   "id": "6dd3be92",
   "metadata": {
    "ExecuteTime": {
     "end_time": "2022-09-15T09:05:09.474790Z",
     "start_time": "2022-09-15T09:05:09.474784Z"
    }
   },
   "outputs": [],
   "source": [
    "i = 0\n",
    "while i <= 10:\n",
    "    print(i, end=' ')\n",
    "    i += 1"
   ]
  },
  {
   "cell_type": "markdown",
   "id": "258eb40b",
   "metadata": {},
   "source": [
    "The argument of the ``while`` loop is evaluated as a boolean statement, and the loop is executed until the statement evaluates to False."
   ]
  },
  {
   "cell_type": "markdown",
   "id": "f6a65175",
   "metadata": {
    "slideshow": {
     "slide_type": "slide"
    }
   },
   "source": [
    "## ``break`` and ``continue``\n",
    "有两个有用的语句可以在循环中使用，以优化它们的执行方式:\n",
    "\n",
    " - ``break``: 完全**跳出循环**\n",
    "\n",
    " - ``continue``**跳过当前循环的剩余部分**，进入下一次迭代\n",
    "\n",
    "它们可以在``for``和``while``循环中使用。\n",
    "\n",
    "下面是一个使用``continue``打印偶数字符串的例子。\n",
    "在这种情况下，使用``if-else``语句也可以得到结果，但有时使用``continue``语句可以更方便地表达你的想法:\n"
   ]
  },
  {
   "cell_type": "code",
   "execution_count": null,
   "id": "e8fb7cdb",
   "metadata": {
    "ExecuteTime": {
     "end_time": "2022-09-15T09:05:09.475332Z",
     "start_time": "2022-09-15T09:05:09.475325Z"
    }
   },
   "outputs": [],
   "source": [
    "for n in range(20):\n",
    "    # check if n is even\n",
    "    if n % 2 == 0:\n",
    "        continue # 对所在循环的上一层（for）循环作用\n",
    "    print(n, end=' ')"
   ]
  },
  {
   "cell_type": "markdown",
   "id": "4ae86973",
   "metadata": {
    "slideshow": {
     "slide_type": "slide"
    }
   },
   "source": [
    "下面是一个用于不那么琐碎的任务的``break``语句的例子。\n",
    "这个循环将用一个特定值之前的所有斐波那契数填充列表:"
   ]
  },
  {
   "cell_type": "markdown",
   "id": "d7a04392",
   "metadata": {},
   "source": [
    "### `(a, b) = (b, a + b)`理想数字交换方法\n"
   ]
  },
  {
   "cell_type": "code",
   "execution_count": null,
   "id": "0f119536",
   "metadata": {
    "ExecuteTime": {
     "end_time": "2022-09-15T09:05:09.475872Z",
     "start_time": "2022-09-15T09:05:09.475866Z"
    },
    "scrolled": true
   },
   "outputs": [],
   "source": [
    "a, b = 0, 1\n",
    "amax = 218922995834555169026\n",
    "L = []\n",
    "\n",
    "while True:\n",
    "    (a, b) = (b, a + b) # 注意这里的数字交换方法，我们在下面用的是更节约内存的形式\n",
    "                        # 这里是把a b 的值赋到别的变量身上，之后计算b a+b！\n",
    "    if a > amax:\n",
    "        break # 没有这个的话，会死循环！\n",
    "    L.append(a)\n",
    "\n",
    "print(L)"
   ]
  },
  {
   "cell_type": "code",
   "execution_count": null,
   "id": "0ee4a990",
   "metadata": {
    "ExecuteTime": {
     "end_time": "2022-09-15T09:05:09.476487Z",
     "start_time": "2022-09-15T09:05:09.476481Z"
    },
    "scrolled": true
   },
   "outputs": [],
   "source": [
    "a=1;b=1\n",
    "n=100\n",
    "L2=[a,b]\n",
    "for i in range(3,n):\n",
    "    b=a+b\n",
    "    a=b-a # Notice that we use a ``while True`` loop, which will loop forever unless we have a break statement!明显上面的方式简洁！\n",
    "    L2.append(b)\n",
    "L2==L   "
   ]
  },
  {
   "cell_type": "markdown",
   "id": "b14c0fd1",
   "metadata": {
    "slideshow": {
     "slide_type": "slide"
    }
   },
   "source": [
    "# 自定义函数"
   ]
  },
  {
   "cell_type": "markdown",
   "id": "24b9c03b",
   "metadata": {},
   "source": [
    "到目前为止，我们的脚本都是简单的、一次性使用的代码块。组织Python代码并使其更具**可读性和可重用性**的一种方法是将有用的部分分解为可重用的函数。\n",
    "\n",
    "这里我们将介绍两种创建函数的方法:\n",
    " - **``def语句``**，它适用于任何类型的函数;\n",
    " - **``lambda语句``**，它适用于创建简短的匿名函数。"
   ]
  },
  {
   "cell_type": "markdown",
   "id": "851dcf2f",
   "metadata": {
    "slideshow": {
     "slide_type": "slide"
    }
   },
   "source": [
    "## Using Functions\n",
    "\n",
    "函数是一组**有名称的代码**，可以**使用括号调用**。\n",
    "\n",
    "我们之前见过函数。例如，Python 3中的print是一个函数:"
   ]
  },
  {
   "cell_type": "code",
   "execution_count": null,
   "id": "72e87ee2",
   "metadata": {
    "ExecuteTime": {
     "end_time": "2022-09-15T09:05:09.477031Z",
     "start_time": "2022-09-15T09:05:09.477026Z"
    }
   },
   "outputs": [],
   "source": [
    "print('abc')"
   ]
  },
  {
   "cell_type": "markdown",
   "id": "42627836",
   "metadata": {
    "slideshow": {
     "slide_type": "slide"
    }
   },
   "source": [
    "### `fun_name(fun_arg)`\n",
    "\n",
    "Here ``print``--> **function name**, and ``'abc'`` --> function's **argument**.\n",
    "\n",
    "In addition to **arguments**, functions can be designed to accept **keyword arguments** that are optional and specified by name.\n",
    "One available keyword argument for the ``print()`` function (in Python 3) is ``sep``, which tells what character or characters should be used to separate multiple items:"
   ]
  },
  {
   "cell_type": "code",
   "execution_count": null,
   "id": "64f46e4e",
   "metadata": {
    "ExecuteTime": {
     "end_time": "2022-09-15T09:05:09.477712Z",
     "start_time": "2022-09-15T09:05:09.477706Z"
    },
    "slideshow": {
     "slide_type": "slide"
    }
   },
   "outputs": [],
   "source": [
    "print(1, 2, 3)"
   ]
  },
  {
   "cell_type": "code",
   "execution_count": null,
   "id": "8b2c087f",
   "metadata": {
    "ExecuteTime": {
     "end_time": "2022-09-15T09:05:09.478147Z",
     "start_time": "2022-09-15T09:05:09.478141Z"
    }
   },
   "outputs": [],
   "source": [
    "print(1, 2, 3, sep='--')"
   ]
  },
  {
   "cell_type": "markdown",
   "id": "62530a12",
   "metadata": {},
   "source": [
    "### <font color = 'red'>参数原则\n",
    "    \n",
    "- 默认参数可以省略，非默认参数必须写\n",
    "- 非关键字参数先写，然后写关键字参数\n",
    "- 非关键字参数按位置写，关键字参数顺序随便"
   ]
  },
  {
   "cell_type": "markdown",
   "id": "c0f38b5e",
   "metadata": {
    "slideshow": {
     "slide_type": "slide"
    }
   },
   "source": [
    "## Defining Functions\n",
    "当我们开始定义自己的函数，并将函数在多个地方使用时，函数就变得更加有用了。\n",
    "\n",
    "在Python中，函数是用def语句定义的。\n",
    "\n",
    "例如，我们可以封装上一节的斐波那契序列代码的一个版本，如下所示:"
   ]
  },
  {
   "cell_type": "markdown",
   "id": "ac91923a",
   "metadata": {},
   "source": [
    "### `def name(arg):...return r`"
   ]
  },
  {
   "cell_type": "markdown",
   "id": "f5195f23",
   "metadata": {
    "slideshow": {
     "slide_type": "slide"
    }
   },
   "source": [
    "def Function(参数)：\n",
    "\n",
    "    函数体\n",
    "    \n",
    "    return 返回值 "
   ]
  },
  {
   "cell_type": "code",
   "execution_count": null,
   "id": "aef37c65",
   "metadata": {},
   "outputs": [],
   "source": []
  },
  {
   "cell_type": "code",
   "execution_count": null,
   "id": "12a8bce2",
   "metadata": {
    "ExecuteTime": {
     "end_time": "2022-09-15T09:05:09.478681Z",
     "start_time": "2022-09-15T09:05:09.478676Z"
    }
   },
   "outputs": [],
   "source": [
    "def haveatry(a, b, c=1):\n",
    "    print(a,b,c)"
   ]
  },
  {
   "cell_type": "code",
   "execution_count": null,
   "id": "4689e8c1",
   "metadata": {
    "ExecuteTime": {
     "end_time": "2022-09-15T09:05:09.479121Z",
     "start_time": "2022-09-15T09:05:09.479115Z"
    }
   },
   "outputs": [],
   "source": [
    "haveatry(c=11,22,33)"
   ]
  },
  {
   "cell_type": "code",
   "execution_count": null,
   "id": "5ba629ce",
   "metadata": {},
   "outputs": [],
   "source": []
  },
  {
   "cell_type": "code",
   "execution_count": null,
   "id": "282803ea",
   "metadata": {
    "ExecuteTime": {
     "end_time": "2022-09-15T09:05:09.479611Z",
     "start_time": "2022-09-15T09:05:09.479605Z"
    }
   },
   "outputs": [],
   "source": [
    "def fibonacci(N = 10):\n",
    "    L = []\n",
    "    a, b = 0, 1\n",
    "    while len(L) < N:\n",
    "        a, b = b, a + b # 我去，越来越简练啦？！， 连Tuple形式都不要了！\n",
    "        L.append(a)\n",
    "    return L"
   ]
  },
  {
   "cell_type": "code",
   "execution_count": null,
   "id": "47252be3",
   "metadata": {
    "ExecuteTime": {
     "end_time": "2022-09-15T09:05:09.480039Z",
     "start_time": "2022-09-15T09:05:09.480034Z"
    }
   },
   "outputs": [],
   "source": [
    "fibonacci()"
   ]
  },
  {
   "cell_type": "markdown",
   "id": "9e27ebf2",
   "metadata": {
    "slideshow": {
     "slide_type": "slide"
    }
   },
   "source": [
    "如果您熟悉像C这样的强类型语言，您会立即注意到没有与函数输入或输出相关联的类型信息。当然，如果一个函数是围绕一个整型参数设计的，那么如果它接收到一个字符串，很可能会发生错误。\n",
    "\n",
    "Python函数可以返回任何Python对象，简单的或复合的，这意味着在其他语言中可能很难构造的结构在Python中很简单。例如，**多个返回值简单地放在一个元组中**，该元组由逗号表示:\n",
    "\n",
    "### 返回值为`Tuple`"
   ]
  },
  {
   "cell_type": "code",
   "execution_count": null,
   "id": "bf6f8910",
   "metadata": {
    "ExecuteTime": {
     "end_time": "2022-09-15T09:05:09.480521Z",
     "start_time": "2022-09-15T09:05:09.480515Z"
    }
   },
   "outputs": [],
   "source": [
    "def real_imag_conj(val):\n",
    "    return val.real, val.imag, val.conjugate() # 多个返回值逗号隔开，是Tuple形式\n",
    "\n",
    "r, i, c = real_imag_conj(3 + 4j)\n",
    "print(r, i, c)"
   ]
  },
  {
   "cell_type": "markdown",
   "id": "6c21a751",
   "metadata": {
    "slideshow": {
     "slide_type": "slide"
    }
   },
   "source": [
    "## Default Arg Values\n",
    "\n",
    "通常在定义函数时，我们希望函数在大多数情况下使用某些值，但我们也希望给用户一些灵活性。在这种情况下，我们可以使用默认值作为参数。考虑前面的fibonacci函数。如果我们希望用户能够使用初始值呢?我们可以这样做:"
   ]
  },
  {
   "cell_type": "markdown",
   "id": "b36d8faa",
   "metadata": {},
   "source": [
    "### `def name(arg=0):...return r`"
   ]
  },
  {
   "cell_type": "code",
   "execution_count": null,
   "id": "e777bf3d",
   "metadata": {
    "ExecuteTime": {
     "end_time": "2022-09-15T09:05:09.481198Z",
     "start_time": "2022-09-15T09:05:09.481191Z"
    }
   },
   "outputs": [],
   "source": [
    "def fibonacci(N, a=0, b=1):\n",
    "    L = []\n",
    "    while len(L) < N:\n",
    "        a, b = b, a + b\n",
    "        L.append(a)\n",
    "    return L"
   ]
  },
  {
   "cell_type": "markdown",
   "id": "9d4019db",
   "metadata": {
    "slideshow": {
     "slide_type": "slide"
    }
   },
   "source": [
    "With a single argument, the result of the function call is identical to before:"
   ]
  },
  {
   "cell_type": "code",
   "execution_count": null,
   "id": "7462719c",
   "metadata": {
    "ExecuteTime": {
     "end_time": "2022-09-15T09:05:09.481856Z",
     "start_time": "2022-09-15T09:05:09.481850Z"
    }
   },
   "outputs": [],
   "source": [
    "fibonacci(10)"
   ]
  },
  {
   "cell_type": "markdown",
   "id": "497dacf2",
   "metadata": {
    "slideshow": {
     "slide_type": "slide"
    }
   },
   "source": [
    "But now we can use the function to explore new things, such as the effect of new starting values:"
   ]
  },
  {
   "cell_type": "code",
   "execution_count": null,
   "id": "e14e7d85",
   "metadata": {
    "ExecuteTime": {
     "end_time": "2022-09-15T09:05:09.482431Z",
     "start_time": "2022-09-15T09:05:09.482425Z"
    }
   },
   "outputs": [],
   "source": [
    "fibonacci(10, 0, 2)"
   ]
  },
  {
   "cell_type": "markdown",
   "id": "1eb0a22f",
   "metadata": {
    "slideshow": {
     "slide_type": "slide"
    }
   },
   "source": [
    "The values can also **be specified by name if desired**, in which case the order of the named values does not matter:"
   ]
  },
  {
   "cell_type": "code",
   "execution_count": null,
   "id": "3c6eb718",
   "metadata": {
    "ExecuteTime": {
     "end_time": "2022-09-15T09:05:09.483132Z",
     "start_time": "2022-09-15T09:05:09.483126Z"
    }
   },
   "outputs": [],
   "source": [
    "fibonacci(10, b=3, a=1)"
   ]
  },
  {
   "cell_type": "markdown",
   "id": "7876c9d5",
   "metadata": {
    "slideshow": {
     "slide_type": "slide"
    }
   },
   "source": [
    "## ``*args`` and ``**kwargs``: Flexible Arguments\n",
    "有时，您可能希望编写一个最初不知道用户将传递多少参数的函数。在这种情况下，您可以使用特殊形式\\*args和\\**kwargs来捕获传递的所有参数。下面是一个例子:"
   ]
  },
  {
   "cell_type": "code",
   "execution_count": null,
   "id": "5a870c5d",
   "metadata": {
    "ExecuteTime": {
     "end_time": "2022-09-15T09:05:09.483663Z",
     "start_time": "2022-09-15T09:05:09.483657Z"
    },
    "slideshow": {
     "slide_type": "slide"
    }
   },
   "outputs": [],
   "source": [
    "def catch_all(*args, **kwargs):\n",
    "    print(\"args =\", args)\n",
    "    print(\"kwargs =\", kwargs)"
   ]
  },
  {
   "cell_type": "code",
   "execution_count": null,
   "id": "c7232d59",
   "metadata": {
    "ExecuteTime": {
     "end_time": "2022-09-15T09:05:09.484212Z",
     "start_time": "2022-09-15T09:05:09.484207Z"
    }
   },
   "outputs": [],
   "source": [
    "catch_all(1, 2, 3, a=4, b=5)"
   ]
  },
  {
   "cell_type": "code",
   "execution_count": null,
   "id": "d102c8d7",
   "metadata": {
    "ExecuteTime": {
     "end_time": "2022-09-15T09:05:09.484669Z",
     "start_time": "2022-09-15T09:05:09.484664Z"
    },
    "slideshow": {
     "slide_type": "slide"
    }
   },
   "outputs": [],
   "source": [
    "catch_all('a', keyword=2)"
   ]
  },
  {
   "cell_type": "markdown",
   "id": "8ca435af",
   "metadata": {
    "slideshow": {
     "slide_type": "slide"
    }
   },
   "source": [
    "这里重要的不是names ``args``和``kwargs``，而是它们前面的\\*字符。``Args``和``kwargs``只是约定中经常使用的变量名，是“arguments”和“keyword arguments”的缩写。\n",
    "\n",
    "操作上的区别是星号字符:变量前的单个\\表示“将其展开为一个序列”，而变量前的双\\*\\*表示“将其展开为一个字典”。\n",
    "\n",
    "事实上，这种语法不仅可以用于函数定义，还可以用于函数调用!"
   ]
  },
  {
   "cell_type": "code",
   "execution_count": null,
   "id": "a7fc901d",
   "metadata": {
    "ExecuteTime": {
     "end_time": "2022-09-15T09:05:09.485062Z",
     "start_time": "2022-09-15T09:05:09.485057Z"
    },
    "slideshow": {
     "slide_type": "slide"
    }
   },
   "outputs": [],
   "source": [
    "inputs = (1, 2, 3)\n",
    "keywords = {'pi': 3.14}\n",
    "\n",
    "catch_all(*inputs, **keywords)"
   ]
  },
  {
   "cell_type": "markdown",
   "id": "60281f34",
   "metadata": {},
   "source": [
    "在许多大型python包中，特别是matplotlib中，有许多函数使用**kwargs。"
   ]
  },
  {
   "cell_type": "markdown",
   "id": "383d4b10",
   "metadata": {
    "slideshow": {
     "slide_type": "slide"
    }
   },
   "source": [
    "## 匿名函数`lambda语句`\n",
    "在前面，我们快速地介绍了定义函数的最常见方法:``def``语句。\n",
    "\n",
    "您可能会遇到另一种使用``lambda``语句定义简短、一次性函数的方法。\n",
    "\n",
    "它看起来像这样:"
   ]
  },
  {
   "cell_type": "markdown",
   "id": "9abcb08b",
   "metadata": {},
   "source": [
    "### 生成方法"
   ]
  },
  {
   "cell_type": "markdown",
   "id": "6dabe40a",
   "metadata": {},
   "source": [
    "#### `Fun=lambda 变量:函数body`"
   ]
  },
  {
   "cell_type": "code",
   "execution_count": null,
   "id": "002d8098",
   "metadata": {
    "ExecuteTime": {
     "end_time": "2022-09-15T09:05:09.485539Z",
     "start_time": "2022-09-15T09:05:09.485533Z"
    }
   },
   "outputs": [],
   "source": [
    "add = lambda x, y: x + y\n",
    "add(1, 2)"
   ]
  },
  {
   "cell_type": "markdown",
   "id": "7911fcc4",
   "metadata": {},
   "source": [
    "#### `(lambda 变量s:函数body)(实参)`"
   ]
  },
  {
   "cell_type": "code",
   "execution_count": null,
   "id": "f56e2f34",
   "metadata": {
    "ExecuteTime": {
     "end_time": "2022-09-15T09:05:09.485967Z",
     "start_time": "2022-09-15T09:05:09.485961Z"
    }
   },
   "outputs": [],
   "source": [
    "#  直接传递实参方法：\n",
    "# （lambda 变量s ： 函数body）（实参）\n",
    "(lambda a,b: a*b)(2,3)"
   ]
  },
  {
   "cell_type": "markdown",
   "id": "c0209d27",
   "metadata": {
    "slideshow": {
     "slide_type": "slide"
    }
   },
   "source": [
    "This lambda function is roughly equivalent to"
   ]
  },
  {
   "cell_type": "code",
   "execution_count": null,
   "id": "83bb868f",
   "metadata": {
    "ExecuteTime": {
     "end_time": "2022-09-15T09:05:09.486539Z",
     "start_time": "2022-09-15T09:05:09.486533Z"
    }
   },
   "outputs": [],
   "source": [
    "def add(x, y):\n",
    "    return x + y"
   ]
  },
  {
   "cell_type": "markdown",
   "id": "74acc585",
   "metadata": {
    "slideshow": {
     "slide_type": "slide"
    }
   },
   "source": [
    "那么你为什么要用这种东西呢?  首先，它归结为这样一个事实:Python中的一切都是对象，甚至函数本身也是!这意味着函数可以作为参数传递给函数。\n",
    "\n",
    "### 字典排序`sorted(dic, key=lambda item: item[key])`\n",
    "\n",
    "举个例子，假设我们有一些数据存储在一个字典列表中:"
   ]
  },
  {
   "cell_type": "code",
   "execution_count": null,
   "id": "445ba98d",
   "metadata": {
    "ExecuteTime": {
     "end_time": "2022-09-15T09:05:09.487072Z",
     "start_time": "2022-09-15T09:05:09.487067Z"
    }
   },
   "outputs": [],
   "source": [
    "data = [{'first':'Guido', 'last':'Van Rossum', 'YOB':1956},\n",
    "        {'first':'Grace', 'last':'Hopper',     'YOB':1906},\n",
    "        {'first':'Alan',  'last':'Turing',     'YOB':1912}]"
   ]
  },
  {
   "cell_type": "markdown",
   "id": "22fc720e",
   "metadata": {
    "slideshow": {
     "slide_type": "slide"
    }
   },
   "source": [
    "现在假设我们要对这些数据进行排序。Python有一个排序函数:"
   ]
  },
  {
   "cell_type": "code",
   "execution_count": null,
   "id": "a06a0200",
   "metadata": {
    "ExecuteTime": {
     "end_time": "2022-09-15T09:05:09.487847Z",
     "start_time": "2022-09-15T09:05:09.487840Z"
    }
   },
   "outputs": [],
   "source": [
    "sorted([2,4,3,5,1,6])"
   ]
  },
  {
   "cell_type": "markdown",
   "id": "0483dafe",
   "metadata": {
    "slideshow": {
     "slide_type": "slide"
    }
   },
   "source": [
    "但是字典是不可排序的:我们需要一种方法来告诉sorted()函数如何对数据进行排序。\n",
    "\n",
    "我们可以通过指定key函数来实现这一点，该函数为给定的项目返回排序键:"
   ]
  },
  {
   "cell_type": "code",
   "execution_count": null,
   "id": "b5013ed9",
   "metadata": {
    "ExecuteTime": {
     "end_time": "2022-09-15T09:05:09.488323Z",
     "start_time": "2022-09-15T09:05:09.488317Z"
    }
   },
   "outputs": [],
   "source": [
    "# sort alphabetically by first name\n",
    "sorted(data, key=lambda item: item['first'])"
   ]
  },
  {
   "cell_type": "code",
   "execution_count": null,
   "id": "c0f5594d",
   "metadata": {
    "ExecuteTime": {
     "end_time": "2022-09-15T09:05:09.488785Z",
     "start_time": "2022-09-15T09:05:09.488779Z"
    },
    "slideshow": {
     "slide_type": "slide"
    }
   },
   "outputs": [],
   "source": [
    "# sort by year of birth\n",
    "sorted(data, key=lambda item: item['YOB'])"
   ]
  },
  {
   "cell_type": "markdown",
   "id": "f93d3b16",
   "metadata": {},
   "source": [
    "虽然这些关键函数当然可以由普通的def语法创建，但是紧凑的lambda语法对于这样的短的一次性函数是很方便的。"
   ]
  },
  {
   "cell_type": "markdown",
   "id": "7ccbfda7",
   "metadata": {
    "slideshow": {
     "slide_type": "slide"
    }
   },
   "source": [
    "# Classes and Methods\n",
    "如前所述，Python中的一切都是对象。这意味着Python代码可以被组织成类，允许对象整齐地捆绑数据和相关功能。\n",
    "\n",
    "类允许更模块化和可重用的代码。\n",
    "\n",
    "附加到对象上的函数被称为“方法”。\n",
    "\n",
    "即使您自己没有编写类，因为所有东西都是对象，如果遇到与类或类功能相关的错误，了解基本知识也是很重要的。"
   ]
  },
  {
   "cell_type": "markdown",
   "id": "8d45a745",
   "metadata": {
    "slideshow": {
     "slide_type": "slide"
    }
   },
   "source": [
    "## Defining classes and methods\n",
    "下面是一个带有初始化函数(所有Python初始化函数都被命名为' __init__ ')和几个方法的类的简单示例"
   ]
  },
  {
   "cell_type": "code",
   "execution_count": null,
   "id": "2ca5529c",
   "metadata": {
    "ExecuteTime": {
     "end_time": "2022-09-15T09:05:09.489325Z",
     "start_time": "2022-09-15T09:05:09.489319Z"
    },
    "slideshow": {
     "slide_type": "slide"
    }
   },
   "outputs": [],
   "source": [
    "class Dog():\n",
    "    def __init__(self, name, age, weight):\n",
    "        self.name = name\n",
    "        self.age = age\n",
    "        self.weight = weight\n",
    "        \n",
    "        self.location = (0,0)\n",
    "        self.trajectory = [self.location]\n",
    "\n",
    "    def howl(self):\n",
    "        print(\"I am {}. Hear me roar!!!\".format(self.name))\n",
    "\n",
    "    def walk(self, step=0.1):\n",
    "        \"\"\"To update the position of the dog...\"\"\"\n",
    "        x,y = self.location\n",
    "        self.location = x+step, y+step\n",
    "        self.trajectory.append(self.location)\n",
    "\n",
    "    def save(self, prefix):\n",
    "        filename = \"{}_n{name}_a{age}_w{weight}_traj.txt\".format(prefix,name=self.name, age=self.age, weight=self.weight)\n",
    "        print(filename)\n",
    "        # write to disk in some way"
   ]
  },
  {
   "cell_type": "markdown",
   "id": "02a23243",
   "metadata": {
    "slideshow": {
     "slide_type": "slide"
    }
   },
   "source": [
    "Here we defined a class called `Dog` and gave it several attributes (`name`, `age`, ...) and methods (`howl`, `walk`, ...). The syntax is very simple, methods are defined just like functions except they are indented within the `class` block.\n",
    "\n",
    "Each method of the class should begin with an argument called `self`. You can think of this argument as a placeholder for the object that will be created. \n"
   ]
  },
  {
   "cell_type": "code",
   "execution_count": null,
   "id": "3d687706",
   "metadata": {
    "ExecuteTime": {
     "end_time": "2022-09-15T09:05:09.489762Z",
     "start_time": "2022-09-15T09:05:09.489757Z"
    },
    "slideshow": {
     "slide_type": "slide"
    }
   },
   "outputs": [],
   "source": [
    "fido = Dog(\"fido\", 2.5, 20)\n",
    "\n",
    "fido.weight"
   ]
  },
  {
   "cell_type": "markdown",
   "id": "3b0982da",
   "metadata": {},
   "source": [
    "Here we create a `Dog` object giving it a name (`fido`), age (`2.5`), and weight (`20`) which are set up as attributes automatically inside the `__init__` method. We then call the `howl` method. Note that the definition of the method has an argument called `self` but this is only a placeholder for the object. Now that the object (`fido`) exists, `fido.howl()` will automatically resolve to `Dog.howl(fido)` and we do not need to worry about `self`. "
   ]
  },
  {
   "cell_type": "markdown",
   "id": "a6e9fdd1",
   "metadata": {
    "slideshow": {
     "slide_type": "slide"
    }
   },
   "source": [
    "# 错误和异常"
   ]
  },
  {
   "cell_type": "markdown",
   "id": "b1622e80",
   "metadata": {
    "slideshow": {
     "slide_type": "slide"
    }
   },
   "source": [
    "作为一名程序员，无论你的技能如何，你最终都会犯一个编码错误。这些错误有三种基本类型:\n",
    "\n",
    " - 语法错误:代码不是有效的(通常很容易修复)\n",
    " - 运行错误:语法上有效的代码无法执行的错误，可能是由于无效的用户输入(有时很容易修复)\n",
    " - 语义错误:逻辑错误:代码执行没有问题，但结果不是您所期望的(通常很难跟踪和修复)\n",
    " \n",
    "在这里，我们将重点讨论如何干净利落地处理运行时错误。正如我们将看到的，Python处理运行时via its *exception handling* framework.\n",
    "\n",
    "No matter your skill as a programmer, you will eventually make a coding mistake.\n",
    "Such mistakes come in three basic flavors:\n",
    "\n",
    "- *Syntax errors:* Errors where the code is not valid Python (generally easy to fix)\n",
    "- *Runtime errors:* Errors where syntactically valid code fails to execute, perhaps due to invalid user input (sometimes easy to fix)\n",
    "- *Semantic errors:* Errors in logic: code executes without a problem, but the result is not what you expect (often very difficult to track-down and fix)\n",
    "\n",
    "Here we're going to focus on how to deal cleanly with *runtime errors*.\n",
    "As we'll see, Python handles runtime errors via its *exception handling* framework."
   ]
  },
  {
   "cell_type": "markdown",
   "id": "bbb54d0f",
   "metadata": {
    "slideshow": {
     "slide_type": "slide"
    }
   },
   "source": [
    "## 回溯:错误报告\n",
    "\n",
    "Python报告名为“回溯”(有时称为“堆栈跟踪”)的错误消息。这些消息**突出显示发生错误的代码部分**和**可能调用错误代码的任何代码**。这种通过代码序列的反向“跟踪”允许您精确地定位错误的位置，并帮助您识别错误的根本原因。\n",
    "\n",
    "This example (`example_traceback.py`) contains an error:\n",
    "```Python\n",
    "# example_traceback.py\n",
    "\n",
    "def loader(filename):\n",
    "    fin = open(filenam)\n",
    "\n",
    "loader(\"data/result_ab.txt\")\n",
    "```\n",
    "\n",
    "下面是运行此代码时发出的回溯。我添加了颜色编码和注释，以帮助显示如何阅读追溯。\n",
    "\n",
    "在谷歌上搜索部分的回溯信息，比如错误消息(在删除任何信息(如代码所特有的文件名)之后)，是解决问题的一个很好的方法。"
   ]
  },
  {
   "cell_type": "markdown",
   "id": "321a59c9",
   "metadata": {
    "slideshow": {
     "slide_type": "slide"
    }
   },
   "source": [
    "## 运行错误\n",
    "如果您用Python编写过任何代码，您可能会遇到运行时错误。\n",
    "\n",
    "它们可以以多种方式发生。\n",
    "\n",
    "例如，如果你试图引用一个未定义的变量:"
   ]
  },
  {
   "cell_type": "code",
   "execution_count": null,
   "id": "4d29f6ca",
   "metadata": {
    "ExecuteTime": {
     "end_time": "2022-09-15T09:05:09.490350Z",
     "start_time": "2022-09-15T09:05:09.490345Z"
    },
    "slideshow": {
     "slide_type": "slide"
    }
   },
   "outputs": [],
   "source": [
    "# print(Q)"
   ]
  },
  {
   "cell_type": "markdown",
   "id": "0633fd2c",
   "metadata": {
    "slideshow": {
     "slide_type": "slide"
    }
   },
   "source": [
    "或者如果你尝试一个没有定义的操作:"
   ]
  },
  {
   "cell_type": "markdown",
   "id": "59deb043",
   "metadata": {},
   "source": [
    "``` Python\n",
    "1 + 'abc'\n",
    "---------------------------------------------------------------------------\n",
    "TypeError                                 Traceback (most recent call last)\n",
    "<ipython-input-181-a51a3635a212> in <module>\n",
    "----> 1 1 + 'abc'\n",
    "\n",
    "TypeError: unsupported operand type(s) for +: 'int' and 'str'\n",
    "```"
   ]
  },
  {
   "cell_type": "markdown",
   "id": "e08adfaf",
   "metadata": {
    "slideshow": {
     "slide_type": "slide"
    }
   },
   "source": [
    "或者你可能试图计算一个数学上定义不清的结果:"
   ]
  },
  {
   "cell_type": "code",
   "execution_count": null,
   "id": "6337ad59",
   "metadata": {
    "ExecuteTime": {
     "end_time": "2022-09-15T09:05:09.490859Z",
     "start_time": "2022-09-15T09:05:09.490850Z"
    }
   },
   "outputs": [],
   "source": [
    "# 2 / 0"
   ]
  },
  {
   "cell_type": "markdown",
   "id": "1840e20c",
   "metadata": {
    "slideshow": {
     "slide_type": "slide"
    }
   },
   "source": [
    "或者你想访问一个不存在的序列元素:"
   ]
  },
  {
   "cell_type": "code",
   "execution_count": null,
   "id": "4c3aecea",
   "metadata": {
    "ExecuteTime": {
     "end_time": "2022-09-15T09:05:09.491294Z",
     "start_time": "2022-09-15T09:05:09.491288Z"
    }
   },
   "outputs": [],
   "source": [
    "# L = [1, 2, 3]\n",
    "# L[1000]"
   ]
  },
  {
   "cell_type": "markdown",
   "id": "419a28ec",
   "metadata": {
    "slideshow": {
     "slide_type": "slide"
    }
   },
   "source": [
    "请注意，在每种情况下，Python都非常友好，不仅指出发生了错误，还抛出了一个有意义的异常，其中包括关于到底哪里出了问题的信息，以及错误发生的确切代码行。\n",
    "\n",
    "尽管它可能不总是像这些示例那样清晰，但在试图跟踪代码中的问题根源时，访问这样有意义的错误是非常有用的。"
   ]
  },
  {
   "cell_type": "markdown",
   "id": "b3436c85",
   "metadata": {
    "slideshow": {
     "slide_type": "slide"
    }
   },
   "source": [
    "## 捕获异常: \n",
    "Python提供给你的处理运行时异常的主要工具是:\n",
    "\n",
    "### ``try:A except:B``\n",
    "\n",
    "```python\n",
    "try:\n",
    "    运行代码    \n",
    "except：\n",
    "    异常处理\n",
    "```    \n",
    "其基本结构是这样的:"
   ]
  },
  {
   "cell_type": "code",
   "execution_count": null,
   "id": "08aabe32",
   "metadata": {
    "ExecuteTime": {
     "end_time": "2022-09-15T09:05:09.491888Z",
     "start_time": "2022-09-15T09:05:09.491883Z"
    }
   },
   "outputs": [],
   "source": [
    "try:\n",
    "    print(\"this gets executed first\")\n",
    "except:\n",
    "    print(\"this gets executed only if there is an error\")"
   ]
  },
  {
   "cell_type": "markdown",
   "id": "647586e7",
   "metadata": {
    "slideshow": {
     "slide_type": "slide"
    }
   },
   "source": [
    "注意这里的第二个块没有被执行:这是因为第一个块没有返回一个错误。\n",
    "\n",
    "让我们在try块中放入一个有问题的语句，看看会发生什么:"
   ]
  },
  {
   "cell_type": "code",
   "execution_count": null,
   "id": "e71dfaf7",
   "metadata": {
    "ExecuteTime": {
     "end_time": "2022-09-15T09:05:09.492263Z",
     "start_time": "2022-09-15T09:05:09.492258Z"
    }
   },
   "outputs": [],
   "source": [
    "try:\n",
    "    print(\"let's try something:\")\n",
    "    x = 1 / 0 # ZeroDivisionError\n",
    "except:\n",
    "    print(\"something bad happened!\")"
   ]
  },
  {
   "cell_type": "markdown",
   "id": "c29ed899",
   "metadata": {
    "slideshow": {
     "slide_type": "slide"
    }
   },
   "source": [
    "这里我们看到，当try语句(在本例中是ZeroDivisionError)中引发错误时，会捕获错误，并执行except语句。\n",
    "\n",
    "通常使用的一种方法是检查函数或另一段代码中的用户输入。\n",
    "\n",
    "例如，我们可能希望有一个函数来捕获零除法并返回其他一些值，可能是一个合适的大数字， like $10^{100}$:"
   ]
  },
  {
   "cell_type": "code",
   "execution_count": null,
   "id": "827ea348",
   "metadata": {
    "ExecuteTime": {
     "end_time": "2022-09-15T09:05:09.492671Z",
     "start_time": "2022-09-15T09:05:09.492666Z"
    },
    "slideshow": {
     "slide_type": "slide"
    }
   },
   "outputs": [],
   "source": [
    "def safe_divide(a, b):\n",
    "    try:\n",
    "        return a / b\n",
    "    except:\n",
    "        return 1E100"
   ]
  },
  {
   "cell_type": "code",
   "execution_count": null,
   "id": "2a0ab72d",
   "metadata": {
    "ExecuteTime": {
     "end_time": "2022-09-15T09:05:09.493088Z",
     "start_time": "2022-09-15T09:05:09.493082Z"
    }
   },
   "outputs": [],
   "source": [
    "safe_divide(1, 2)"
   ]
  },
  {
   "cell_type": "code",
   "execution_count": null,
   "id": "2e25cfc7",
   "metadata": {
    "ExecuteTime": {
     "end_time": "2022-09-15T09:05:09.493683Z",
     "start_time": "2022-09-15T09:05:09.493677Z"
    }
   },
   "outputs": [],
   "source": [
    "safe_divide(2, 0)"
   ]
  },
  {
   "cell_type": "markdown",
   "id": "a8c6e50f",
   "metadata": {
    "slideshow": {
     "slide_type": "slide"
    }
   },
   "source": [
    "There is a subtle problem with this code, though: what happens when another type of exception comes up? For example, this is probably not what we intended:"
   ]
  },
  {
   "cell_type": "code",
   "execution_count": null,
   "id": "8694d5d8",
   "metadata": {
    "ExecuteTime": {
     "end_time": "2022-09-15T09:05:09.494320Z",
     "start_time": "2022-09-15T09:05:09.494312Z"
    }
   },
   "outputs": [],
   "source": [
    "safe_divide (1, '2')"
   ]
  },
  {
   "cell_type": "markdown",
   "id": "39f951a5",
   "metadata": {
    "slideshow": {
     "slide_type": "slide"
    }
   },
   "source": [
    "除法一个整数和一个字符串将引发TypeError，我们的代码捕获并假定它是ZeroDivisionError!\n",
    "For this reason, it's nearly always a better idea to catch exceptions *explicitly*:"
   ]
  },
  {
   "cell_type": "markdown",
   "id": "2eea34f5",
   "metadata": {},
   "source": [
    "### `try:A except err1: B except err2: C`"
   ]
  },
  {
   "cell_type": "code",
   "execution_count": null,
   "id": "c3e77083",
   "metadata": {
    "ExecuteTime": {
     "end_time": "2022-09-15T09:05:09.494828Z",
     "start_time": "2022-09-15T09:05:09.494822Z"
    },
    "slideshow": {
     "slide_type": "-"
    }
   },
   "outputs": [],
   "source": [
    "def safe_divide(a, b):\n",
    "    try:\n",
    "        return a / b\n",
    "    except ZeroDivisionError:\n",
    "        return 1E100\n",
    "    except TypeError:\n",
    "        return \"Error in type of input!\"\n",
    "    except NameError:\n",
    "        return\"Error in name of input!\""
   ]
  },
  {
   "cell_type": "code",
   "execution_count": null,
   "id": "4d376a90",
   "metadata": {
    "ExecuteTime": {
     "end_time": "2022-09-15T09:05:09.495247Z",
     "start_time": "2022-09-15T09:05:09.495241Z"
    }
   },
   "outputs": [],
   "source": [
    "safe_divide(1, 0)"
   ]
  },
  {
   "cell_type": "code",
   "execution_count": null,
   "id": "6c7fb0e7",
   "metadata": {
    "ExecuteTime": {
     "end_time": "2022-09-15T09:05:09.495784Z",
     "start_time": "2022-09-15T09:05:09.495778Z"
    },
    "slideshow": {
     "slide_type": "slide"
    }
   },
   "outputs": [],
   "source": [
    "safe_divide(1, '2')"
   ]
  },
  {
   "cell_type": "code",
   "execution_count": null,
   "id": "5b4c9c24",
   "metadata": {
    "ExecuteTime": {
     "end_time": "2022-09-15T09:05:09.496241Z",
     "start_time": "2022-09-15T09:05:09.496235Z"
    }
   },
   "outputs": [],
   "source": [
    "safe_divide(1,charley)"
   ]
  },
  {
   "cell_type": "markdown",
   "id": "8cc0b201",
   "metadata": {
    "slideshow": {
     "slide_type": "slide"
    }
   },
   "source": [
    "**<font color='red'>Try-except块在Python中是强大而高效的，明确显示捕获的错误有助于确保其他错误不会在您不知情的情况下被跳过。**"
   ]
  },
  {
   "cell_type": "markdown",
   "id": "466d710f",
   "metadata": {
    "slideshow": {
     "slide_type": "slide"
    }
   },
   "source": [
    "# 迭代器和列表推导式\n",
    "\n",
    "通常，一个重要的数据分析部分是以自动化的方式一遍又一遍地重复类似的计算。例如，您可能有一个表，其中包含您希望将其分为开头和结尾的名称，或者您希望将其转换为某种标准格式的日期。\n",
    "\n",
    "Python对此的答案之一是迭代器语法。我们已经在range迭代器中看到了这一点:"
   ]
  },
  {
   "cell_type": "code",
   "execution_count": null,
   "id": "c5b119aa",
   "metadata": {
    "ExecuteTime": {
     "end_time": "2022-09-15T09:05:09.496675Z",
     "start_time": "2022-09-15T09:05:09.496669Z"
    }
   },
   "outputs": [],
   "source": [
    "for i in range(10):\n",
    "    print(i, end=' ')"
   ]
  },
  {
   "cell_type": "markdown",
   "id": "0c28e173",
   "metadata": {
    "slideshow": {
     "slide_type": "slide"
    }
   },
   "source": [
    "这里我们要再深入挖掘一下。事实证明，在Python 3中，**range不是一个列表**，而是一个称为迭代器的东西，学习它的工作方式是理解大量非常有用的Python功能的关键。"
   ]
  },
  {
   "cell_type": "markdown",
   "id": "ec45b1db",
   "metadata": {
    "slideshow": {
     "slide_type": "slide"
    }
   },
   "source": [
    "## 迭代器\n",
    "迭代器可能在遍历列表的具体情况下最容易理解。\n",
    "\n",
    "考虑以下:"
   ]
  },
  {
   "cell_type": "markdown",
   "id": "efd637f1",
   "metadata": {},
   "source": [
    "### `list`做迭代器"
   ]
  },
  {
   "cell_type": "code",
   "execution_count": null,
   "id": "a9a3ca63",
   "metadata": {
    "ExecuteTime": {
     "end_time": "2022-09-15T09:05:09.497177Z",
     "start_time": "2022-09-15T09:05:09.497172Z"
    }
   },
   "outputs": [],
   "source": [
    "for value in [2, 4, 6, 8, 10]:\n",
    "    # do some operation\n",
    "    print(value + 1, end=' ')"
   ]
  },
  {
   "cell_type": "markdown",
   "id": "13c6c856",
   "metadata": {
    "slideshow": {
     "slide_type": "slide"
    }
   },
   "source": [
    "熟悉的“for x in y”语法允许我们对列表中的每个值重复一些操作。事实上，代码的语法非常接近它的英文描述(\"*for [each] value in [the] list*\")，这只是使Python成为一种易于学习和使用的直观语言的语法选择之一。\n",
    "\n",
    "但表面价值行为并不是真正发生的事情。当你写“for val in L”之类的东西时，Python解释器会检查它是否有迭代器接口，你可以用内置的`iter`函数来检查:"
   ]
  },
  {
   "cell_type": "code",
   "execution_count": null,
   "id": "9b3126f4",
   "metadata": {
    "ExecuteTime": {
     "end_time": "2022-09-15T09:05:09.497912Z",
     "start_time": "2022-09-15T09:05:09.497907Z"
    }
   },
   "outputs": [],
   "source": [
    "iter([2, 4, 6, 8, 10])"
   ]
  },
  {
   "cell_type": "markdown",
   "id": "93506ffb",
   "metadata": {},
   "source": [
    "正是这个迭代器对象提供了for循环所需的功能。**`iter`对象是一个容器**，只要存在下一个对象，就可以访问下一个对象，可以通过内置函数next看到:"
   ]
  },
  {
   "cell_type": "code",
   "execution_count": null,
   "id": "b599599f",
   "metadata": {
    "ExecuteTime": {
     "end_time": "2022-09-15T09:05:09.498443Z",
     "start_time": "2022-09-15T09:05:09.498438Z"
    }
   },
   "outputs": [],
   "source": [
    "I = iter([2, 4, 6, 8, 10])"
   ]
  },
  {
   "cell_type": "code",
   "execution_count": null,
   "id": "cbeaa5af",
   "metadata": {
    "ExecuteTime": {
     "end_time": "2022-09-15T09:05:09.498827Z",
     "start_time": "2022-09-15T09:05:09.498822Z"
    }
   },
   "outputs": [],
   "source": [
    "print(next(I))"
   ]
  },
  {
   "cell_type": "code",
   "execution_count": null,
   "id": "17425635",
   "metadata": {
    "ExecuteTime": {
     "end_time": "2022-09-15T09:05:09.499343Z",
     "start_time": "2022-09-15T09:05:09.499337Z"
    }
   },
   "outputs": [],
   "source": [
    "print(next(I))"
   ]
  },
  {
   "cell_type": "code",
   "execution_count": null,
   "id": "91f6b67b",
   "metadata": {
    "ExecuteTime": {
     "end_time": "2022-09-15T09:05:09.499809Z",
     "start_time": "2022-09-15T09:05:09.499803Z"
    }
   },
   "outputs": [],
   "source": [
    "print(next(I))"
   ]
  },
  {
   "cell_type": "markdown",
   "id": "fed19337",
   "metadata": {},
   "source": [
    "这种间接的目的是什么?这是非常有用的，因为**它允许Python把实际上不是列表的东西当作列表来处理**。\n",
    "\n",
    "**<font color = 'red'>列表，已经不是列表的东西（range、string），都可以作为迭代器**"
   ]
  },
  {
   "cell_type": "markdown",
   "id": "dfdfe6ae",
   "metadata": {
    "slideshow": {
     "slide_type": "slide"
    }
   },
   "source": [
    "### ``range()``做迭代器\n",
    "\n",
    "这种间接迭代最常见的例子可能是Python 3中的range()函数(在Python 2中称为xrange())，**它返回的不是列表，而是一个特殊的range()对象**:"
   ]
  },
  {
   "cell_type": "code",
   "execution_count": null,
   "id": "acab8a8b",
   "metadata": {
    "ExecuteTime": {
     "end_time": "2022-09-15T09:05:09.500545Z",
     "start_time": "2022-09-15T09:05:09.500538Z"
    }
   },
   "outputs": [],
   "source": [
    "type(range(10))"
   ]
  },
  {
   "cell_type": "markdown",
   "id": "6657a0df",
   "metadata": {},
   "source": [
    "``range``也代表一个迭代器"
   ]
  },
  {
   "cell_type": "code",
   "execution_count": null,
   "id": "5f21dc4f",
   "metadata": {
    "ExecuteTime": {
     "end_time": "2022-09-15T09:05:09.500979Z",
     "start_time": "2022-09-15T09:05:09.500974Z"
    }
   },
   "outputs": [],
   "source": [
    "iter(range(10))"
   ]
  },
  {
   "cell_type": "markdown",
   "id": "f5766844",
   "metadata": {
    "slideshow": {
     "slide_type": "slide"
    }
   },
   "source": [
    "So Python knows to treat it *as if* it's a list:"
   ]
  },
  {
   "cell_type": "code",
   "execution_count": null,
   "id": "56a136b7",
   "metadata": {
    "ExecuteTime": {
     "end_time": "2022-09-15T09:05:09.501420Z",
     "start_time": "2022-09-15T09:05:09.501414Z"
    },
    "scrolled": true
   },
   "outputs": [],
   "source": [
    "for i in range(10):\n",
    "    print(i, end=' ')"
   ]
  },
  {
   "cell_type": "markdown",
   "id": "21dad99a",
   "metadata": {
    "slideshow": {
     "slide_type": "slide"
    }
   },
   "source": [
    "迭代器间接的好处是：完整的列表永远不会显式创建!\n",
    "\n",
    "我们可以通过执行范围计算来看到这一点，**如果我们实际实例化它，它会占用我们的系统内存**(注意，在Python 2中，``Range``创建了一个列表，所以运行以下操作不会带来好结果!):"
   ]
  },
  {
   "cell_type": "code",
   "execution_count": null,
   "id": "f49ecabe",
   "metadata": {
    "ExecuteTime": {
     "end_time": "2022-09-15T09:05:09.501832Z",
     "start_time": "2022-09-15T09:05:09.501826Z"
    }
   },
   "outputs": [],
   "source": [
    "N = 10 ** 12\n",
    "for i in range(N):\n",
    "    if i >= 10: break\n",
    "    print(i, end=', ')"
   ]
  },
  {
   "cell_type": "markdown",
   "id": "ebc552b1",
   "metadata": {
    "slideshow": {
     "slide_type": "slide"
    }
   },
   "source": [
    "如果range实际上创建了这个包含一万亿值的列表，那么它将占用数十tb的机器内存:这是一种浪费，因为我们忽略了前10个值之外的所有值!\n",
    "\n",
    "事实上，迭代器根本就没有结束的必要!\n",
    "\n",
    "### ``count()``无限迭代\n",
    "\n",
    "Python的itertools库包含一个**``count``函数**，它的作用范围是**无限**的:"
   ]
  },
  {
   "cell_type": "code",
   "execution_count": null,
   "id": "aa0b077f",
   "metadata": {
    "ExecuteTime": {
     "end_time": "2022-09-15T09:05:09.502342Z",
     "start_time": "2022-09-15T09:05:09.502337Z"
    },
    "slideshow": {
     "slide_type": "slide"
    }
   },
   "outputs": [],
   "source": [
    "from itertools import count\n",
    "\n",
    "for i in count():\n",
    "    if i >= 10:\n",
    "        break\n",
    "    print(i, end=', ')"
   ]
  },
  {
   "cell_type": "markdown",
   "id": "2abdee0a",
   "metadata": {},
   "source": [
    "Had we not thrown in a loop break here, it would go on **happily** counting until the process is manually interrupted or killed (using, for example, ``ctrl-C``)."
   ]
  },
  {
   "cell_type": "markdown",
   "id": "4f750bdc",
   "metadata": {
    "slideshow": {
     "slide_type": "slide"
    }
   },
   "source": [
    "## 有用的迭代器\n",
    "这种迭代器语法在Python内置类型以及我们将在后面章节中探索的更多特定于数据科学的对象中几乎普遍使用。\n",
    "\n",
    "这里我们将介绍Python语言中一些更有用的迭代器:"
   ]
  },
  {
   "cell_type": "markdown",
   "id": "0e83db59",
   "metadata": {
    "slideshow": {
     "slide_type": "slide"
    }
   },
   "source": [
    "### `for i, val in enumerate(L):`同时遍历列表ndex,Value\n",
    "\n",
    "通常，您不仅需要迭代数组中的值，还需要**跟踪索引**。\n",
    "\n",
    "你可能会忍不住这样做:"
   ]
  },
  {
   "cell_type": "code",
   "execution_count": null,
   "id": "7dbfca73",
   "metadata": {
    "ExecuteTime": {
     "end_time": "2022-09-15T09:05:09.502782Z",
     "start_time": "2022-09-15T09:05:09.502777Z"
    }
   },
   "outputs": [],
   "source": [
    "L = [2, 4, 6, 8, 10]\n",
    "for i in range(len(L)):\n",
    "    print(i, L[i])"
   ]
  },
  {
   "cell_type": "markdown",
   "id": "a76ff925",
   "metadata": {
    "slideshow": {
     "slide_type": "slide"
    }
   },
   "source": [
    "尽管这确实有效，但Python使用enumerate迭代器提供了更清晰的语法:"
   ]
  },
  {
   "cell_type": "code",
   "execution_count": null,
   "id": "7745bb20",
   "metadata": {
    "ExecuteTime": {
     "end_time": "2022-09-15T09:05:09.503300Z",
     "start_time": "2022-09-15T09:05:09.503295Z"
    }
   },
   "outputs": [],
   "source": [
    "# i 完成自动index，val 是对应index的L的值\n",
    "for i, val in enumerate(L):\n",
    "    print(i, val)"
   ]
  },
  {
   "cell_type": "markdown",
   "id": "e14ae413",
   "metadata": {},
   "source": [
    "This is the more \"Pythonic\" way to enumerate the indices and values in a list."
   ]
  },
  {
   "cell_type": "markdown",
   "id": "3fdcec9c",
   "metadata": {
    "slideshow": {
     "slide_type": "slide"
    }
   },
   "source": [
    "### ``for lval,rval in zip(L,R):``同时遍历多个列表\n",
    "\n",
    "其他时候，您可能需要同时遍历多个列表。\n",
    "\n",
    "你当然可以像我们前面看到的非python示例那样遍历索引，但最好使用zip迭代器，它将可迭代对象压缩在一起:"
   ]
  },
  {
   "cell_type": "code",
   "execution_count": null,
   "id": "f30939e7",
   "metadata": {
    "ExecuteTime": {
     "end_time": "2022-09-15T09:05:09.504051Z",
     "start_time": "2022-09-15T09:05:09.504044Z"
    },
    "slideshow": {
     "slide_type": "slide"
    }
   },
   "outputs": [],
   "source": [
    "L = [2, 4, 6, 8, 10]\n",
    "R = [3, 6, 9, 12, 15]\n",
    "for lval, rval in zip(L, R): # 更进一步，两个列表对应index的值\n",
    "    print(lval, rval)\n",
    "# lr = list(zip(L, R))\n",
    "# print(lr,type(lr),type(lr[0]))"
   ]
  },
  {
   "cell_type": "markdown",
   "id": "26772765",
   "metadata": {},
   "source": [
    "<font color = 'red'>任何数量的可迭代对象都可以被压缩在一起，如果它们的长度不同，那么the shortest will determine the length of the ``zip``."
   ]
  },
  {
   "cell_type": "markdown",
   "id": "39d08a70",
   "metadata": {
    "slideshow": {
     "slide_type": "slide"
    }
   },
   "source": [
    "### ``map`` and ``filter``\n",
    "\n",
    "#### `for val in map(Fun, iter):`函数作用到迭代器\n",
    "\n",
    "`map`迭代器接受一个函数，并将其作用于迭代器中的值:"
   ]
  },
  {
   "cell_type": "code",
   "execution_count": null,
   "id": "b01e8ce7",
   "metadata": {
    "ExecuteTime": {
     "end_time": "2022-09-15T09:05:09.504503Z",
     "start_time": "2022-09-15T09:05:09.504498Z"
    }
   },
   "outputs": [],
   "source": [
    "# find the first 10 square numbers\n",
    "square = lambda x: x ** 2\n",
    "for val in map(square, range(10)):\n",
    "    print(val, end=' ')"
   ]
  },
  {
   "cell_type": "markdown",
   "id": "45d50a88",
   "metadata": {
    "slideshow": {
     "slide_type": "slide"
    }
   },
   "source": [
    "#### `for val in filter(Fun, iter):`函数过滤掉False再迭代\n",
    "\n",
    "The``filter``迭代器看起来类似，除了它只传递过滤函数计算值为True的值:"
   ]
  },
  {
   "cell_type": "code",
   "execution_count": null,
   "id": "5158f65d",
   "metadata": {
    "ExecuteTime": {
     "end_time": "2022-09-15T09:05:09.504967Z",
     "start_time": "2022-09-15T09:05:09.504961Z"
    }
   },
   "outputs": [],
   "source": [
    "# find values up to 10 for which x % 2 is zero\n",
    "is_even = lambda x: x % 2 == 0\n",
    "for val in filter(is_even, range(10)):\n",
    "    print(val, end=' ')"
   ]
  },
  {
   "cell_type": "markdown",
   "id": "1354fc33",
   "metadata": {
    "slideshow": {
     "slide_type": "slide"
    }
   },
   "source": [
    "### 迭代器作为函数实参\n",
    "\n",
    "我们在`[*args和**kwargs: Flexible Arguments]`中看到。*args和**kwargs可用于将序列和字典传递给函数。事实证明，*args语法不仅适用于序列，而且适用于任何迭代器:"
   ]
  },
  {
   "cell_type": "code",
   "execution_count": null,
   "id": "06824c76",
   "metadata": {
    "ExecuteTime": {
     "end_time": "2022-09-15T09:05:09.505471Z",
     "start_time": "2022-09-15T09:05:09.505464Z"
    }
   },
   "outputs": [],
   "source": [
    "print(*range(10))"
   ]
  },
  {
   "cell_type": "markdown",
   "id": "e6da0499",
   "metadata": {
    "slideshow": {
     "slide_type": "slide"
    }
   },
   "source": [
    "So, for example, we can get tricky and compress the ``map`` example from before into the following:"
   ]
  },
  {
   "cell_type": "code",
   "execution_count": null,
   "id": "027b0dff",
   "metadata": {
    "ExecuteTime": {
     "end_time": "2022-09-15T09:05:09.505977Z",
     "start_time": "2022-09-15T09:05:09.505971Z"
    }
   },
   "outputs": [],
   "source": [
    "# print(*map(lambda x: x ** 2, range(10)))\n",
    "\n",
    "k=map(lambda x: x**2,range(10)) # 得到的k是一个map类\n",
    "print(*k) # 要展开（*）才能print"
   ]
  },
  {
   "cell_type": "markdown",
   "id": "bac675e0",
   "metadata": {
    "slideshow": {
     "slide_type": "slide"
    }
   },
   "source": [
    "Using this trick lets us answer the age-old question that comes up in Python learners' forums: why is there no ``unzip()`` function which does the opposite of ``zip()``?\n",
    "If you lock yourself in a dark closet and think about it for a while, you might realize that the opposite of ``zip()`` is... ``zip()``! The key is that ``zip()`` can zip-together any number of iterators or sequences. Observe:\n",
    "\n",
    "你可能会意识到zip()的反义词是…邮政编码()!关键是zip()可以压缩任意数量的迭代器或序列。观察:"
   ]
  },
  {
   "cell_type": "code",
   "execution_count": null,
   "id": "506b22c3",
   "metadata": {
    "ExecuteTime": {
     "end_time": "2022-09-15T09:05:09.506342Z",
     "start_time": "2022-09-15T09:05:09.506336Z"
    }
   },
   "outputs": [],
   "source": [
    "L1 = (1, 2, 3, 4)\n",
    "L2 = ('a', 'b', 'c', 'd')"
   ]
  },
  {
   "cell_type": "code",
   "execution_count": null,
   "id": "78e52489",
   "metadata": {
    "ExecuteTime": {
     "end_time": "2022-09-15T09:05:09.507111Z",
     "start_time": "2022-09-15T09:05:09.507104Z"
    }
   },
   "outputs": [],
   "source": [
    "z = zip(L1, L2)\n",
    "# print(*z)\n",
    "L3,L4=zip(*z)\n",
    "print(*L3,*L4)"
   ]
  },
  {
   "cell_type": "code",
   "execution_count": null,
   "id": "621ff960",
   "metadata": {
    "ExecuteTime": {
     "end_time": "2022-09-15T09:05:09.507603Z",
     "start_time": "2022-09-15T09:05:09.507597Z"
    }
   },
   "outputs": [],
   "source": [
    "print(*zip(L1,L2,L1))"
   ]
  },
  {
   "cell_type": "code",
   "execution_count": null,
   "id": "ebfd7cb0",
   "metadata": {
    "ExecuteTime": {
     "end_time": "2022-09-15T09:05:09.507998Z",
     "start_time": "2022-09-15T09:05:09.507993Z"
    },
    "slideshow": {
     "slide_type": "slide"
    }
   },
   "outputs": [],
   "source": [
    "z = zip(L1, L2)\n",
    "new_L1, new_L2 = zip(*z)\n",
    "print(new_L1, \"  &  \", new_L2)"
   ]
  },
  {
   "cell_type": "markdown",
   "id": "4d87b0d0",
   "metadata": {},
   "source": [
    "思考一下这个问题。如果您理解了它为什么工作，那么您在理解Python迭代器方面就有了很大的进步!"
   ]
  },
  {
   "cell_type": "markdown",
   "id": "34f9c1f3",
   "metadata": {
    "slideshow": {
     "slide_type": "slide"
    }
   },
   "source": [
    "## Specialized Iterators: ``itertools``\n",
    "\n",
    "We briefly looked at the infinite ``range`` iterator, ``itertools.count``.\n",
    "\n",
    "itertools模块包含了大量有用的迭代器;很值得您花时间研究这个模块，看看有什么可用的。\n",
    "\n",
    "以itertools为例。Permutations函数，它迭代一个序列的所有排列:"
   ]
  },
  {
   "cell_type": "code",
   "execution_count": null,
   "id": "b971f1cb",
   "metadata": {
    "ExecuteTime": {
     "end_time": "2022-09-15T09:05:09.508412Z",
     "start_time": "2022-09-15T09:05:09.508406Z"
    },
    "slideshow": {
     "slide_type": "slide"
    }
   },
   "outputs": [],
   "source": [
    "from itertools import permutations\n",
    "p = permutations(range(3)) # 得到的range类型需要展开才能print！\n",
    "print(*p)"
   ]
  },
  {
   "cell_type": "markdown",
   "id": "5594d98d",
   "metadata": {
    "slideshow": {
     "slide_type": "slide"
    }
   },
   "source": [
    "类似地，itertools.组合函数会遍历一个列表中所有N个值的唯一组合:"
   ]
  },
  {
   "cell_type": "code",
   "execution_count": null,
   "id": "666b4e18",
   "metadata": {
    "ExecuteTime": {
     "end_time": "2022-09-15T09:05:09.508948Z",
     "start_time": "2022-09-15T09:05:09.508939Z"
    }
   },
   "outputs": [],
   "source": [
    "from itertools import combinations\n",
    "c = combinations(range(4), 2)\n",
    "print(*c)"
   ]
  },
  {
   "cell_type": "markdown",
   "id": "44003105",
   "metadata": {
    "slideshow": {
     "slide_type": "slide"
    }
   },
   "source": [
    "与之相关的是product迭代器，它在两个或多个可迭代对象之间遍历所有对的集合:"
   ]
  },
  {
   "cell_type": "code",
   "execution_count": null,
   "id": "e63a2180",
   "metadata": {
    "ExecuteTime": {
     "end_time": "2022-09-15T09:05:09.509374Z",
     "start_time": "2022-09-15T09:05:09.509368Z"
    }
   },
   "outputs": [],
   "source": [
    "from itertools import product\n",
    "p = product('ab', range(3))\n",
    "print(*p)"
   ]
  },
  {
   "cell_type": "markdown",
   "id": "7a617448",
   "metadata": {},
   "source": [
    "Many more useful iterators exist in ``itertools``: the full list can be found, along with some examples, in Python's [online documentation](https://docs.python.org/3.5/library/itertools.html)."
   ]
  },
  {
   "cell_type": "markdown",
   "id": "0b2e5634",
   "metadata": {
    "slideshow": {
     "slide_type": "slide"
    }
   },
   "source": [
    "## 链表推导式\n",
    "如果您阅读了足够多的Python代码，您最终会遇到称为列表理解的高效构造。\n",
    "\n",
    "这是Python的一个特性，我希望如果您以前没有使用过它，您会爱上它;它看起来像这样"
   ]
  },
  {
   "cell_type": "code",
   "execution_count": null,
   "id": "2fa5feb3",
   "metadata": {
    "ExecuteTime": {
     "end_time": "2022-09-15T09:05:09.509818Z",
     "start_time": "2022-09-15T09:05:09.509812Z"
    },
    "scrolled": false
   },
   "outputs": [],
   "source": [
    "[i for i in range(20) if i % 3 > 0]"
   ]
  },
  {
   "cell_type": "code",
   "execution_count": null,
   "id": "67ba139c",
   "metadata": {
    "ExecuteTime": {
     "end_time": "2022-09-15T09:05:09.510397Z",
     "start_time": "2022-09-15T09:05:09.510390Z"
    }
   },
   "outputs": [],
   "source": [
    "# Equal to:\n",
    "l =[]\n",
    "for i in range(20):\n",
    "    if i % 3 > 0:\n",
    "        l.append(i)\n",
    "l"
   ]
  },
  {
   "cell_type": "markdown",
   "id": "60f6aa8c",
   "metadata": {},
   "source": [
    "结果是一个不包括3的倍数的数字列表。虽然这个示例一开始可能看起来有点晦涩难懂，但随着对Python的熟悉程度的增加，阅读和编写列表理解将成为第二天性。"
   ]
  },
  {
   "cell_type": "markdown",
   "id": "6d946162",
   "metadata": {
    "slideshow": {
     "slide_type": "slide"
    }
   },
   "source": [
    "### 单个`[f(x) for x in iter]`\n",
    "列表推导式只是一种将构建列表的for循环压缩为单个短的、可读的行的方法。\n",
    "\n",
    "例如，下面是一个循环，它构造了前12个平方整数的列表:"
   ]
  },
  {
   "cell_type": "code",
   "execution_count": null,
   "id": "5508d78a",
   "metadata": {
    "ExecuteTime": {
     "end_time": "2022-09-15T09:05:09.510858Z",
     "start_time": "2022-09-15T09:05:09.510852Z"
    }
   },
   "outputs": [],
   "source": [
    "L = []\n",
    "for n in range(12):\n",
    "    L.append(n ** 2)\n",
    "L"
   ]
  },
  {
   "cell_type": "markdown",
   "id": "f357049f",
   "metadata": {
    "slideshow": {
     "slide_type": "slide"
    }
   },
   "source": [
    "The list comprehension equivalent of this is the following:"
   ]
  },
  {
   "cell_type": "code",
   "execution_count": null,
   "id": "a7b0a439",
   "metadata": {
    "ExecuteTime": {
     "end_time": "2022-09-15T09:05:09.511302Z",
     "start_time": "2022-09-15T09:05:09.511296Z"
    }
   },
   "outputs": [],
   "source": [
    "[n ** 2 for n in range(12)]"
   ]
  },
  {
   "cell_type": "code",
   "execution_count": null,
   "id": "7e002203",
   "metadata": {
    "ExecuteTime": {
     "end_time": "2022-09-15T09:05:09.511901Z",
     "start_time": "2022-09-15T09:05:09.511896Z"
    }
   },
   "outputs": [],
   "source": [
    "[n for n in map(lambda x: x**2, range(12))]"
   ]
  },
  {
   "cell_type": "markdown",
   "id": "97123a78",
   "metadata": {
    "slideshow": {
     "slide_type": "slide"
    }
   },
   "source": [
    "与许多Python语句一样，您几乎可以用简单的英语读出这条语句的含义:“为从0到12的每个n构建一个由n的平方组成的列表”。\n",
    "\n",
    "这个基本语法是[expr for var in iterable*]，其中*expr是任何有效表达式，var是一个变量名，iterable是任何可迭代的Python对象。\n",
    "\n",
    "As with many Python statements, you can almost read-off the meaning of this statement in plain English: \"construct a list consisting of the square of ``n`` for each ``n`` from zero to 12\".\n",
    "\n",
    "This basic syntax, then, is ``[``*``expr``* ``for`` *``var``* ``in`` *``iterable``*``]``, where *``expr``* is any valid expression, *``var``* is a variable name, and *``iterable``* is any iterable Python object."
   ]
  },
  {
   "cell_type": "markdown",
   "id": "bf8c9b84",
   "metadata": {
    "slideshow": {
     "slide_type": "slide"
    }
   },
   "source": [
    "### 多个`[f(i, j) for i in iter for j in iter]`\n",
    "\n",
    "有时，您希望构建一个列表，而不是仅使用一个值，而是使用两个值。\n",
    "\n",
    "要做到这一点，只需添加另一个for表达式:"
   ]
  },
  {
   "cell_type": "code",
   "execution_count": null,
   "id": "00780886",
   "metadata": {
    "ExecuteTime": {
     "end_time": "2022-09-15T09:05:09.512314Z",
     "start_time": "2022-09-15T09:05:09.512308Z"
    }
   },
   "outputs": [],
   "source": [
    "[(i, j) for i in range(2) for j in range(3)]"
   ]
  },
  {
   "cell_type": "markdown",
   "id": "d19a4d42",
   "metadata": {},
   "source": [
    "注意，第二个for表达式充当内部索引，相当于嵌套的for循环。\n",
    "\n",
    "这种类型的构造可以在理解中扩展到3个、4个或更多迭代器，尽管在某些时候代码的可读性会受到影响!"
   ]
  },
  {
   "cell_type": "markdown",
   "id": "50beece8",
   "metadata": {
    "slideshow": {
     "slide_type": "slide"
    }
   },
   "source": [
    "### 迭代器的条件语句`[f(x) for x in iter if x...]`\n",
    "您可以通过在表达式的末尾添加条件来进一步控制迭代。在\n",
    "\n",
    "本节的第一个例子中，我们遍历了从1到20的所有数字，但省略了3的倍数。\n",
    "\n",
    "再看一遍，注意它的结构:"
   ]
  },
  {
   "cell_type": "code",
   "execution_count": null,
   "id": "87058ef7",
   "metadata": {
    "ExecuteTime": {
     "end_time": "2022-09-15T09:05:09.512749Z",
     "start_time": "2022-09-15T09:05:09.512743Z"
    }
   },
   "outputs": [],
   "source": [
    "[val for val in range(20) if val % 3 > 0] # if 相当于在for循环内"
   ]
  },
  {
   "cell_type": "markdown",
   "id": "97a95dd2",
   "metadata": {
    "slideshow": {
     "slide_type": "slide"
    }
   },
   "source": [
    "The expression ``(i % 3 > 0)`` evaluates to ``True`` unless ``val`` is divisible by 3.\n",
    "Again, the English language meaning can be immediately read off: \"Construct a list of values for each value up to 20, but only if the value is not divisible by 3\".\n",
    "\n",
    "一旦你熟悉了它，这比等价的循环语法更容易编写——而且一眼就能理解:"
   ]
  },
  {
   "cell_type": "code",
   "execution_count": null,
   "id": "49fdc765",
   "metadata": {
    "ExecuteTime": {
     "end_time": "2022-09-15T09:05:09.513166Z",
     "start_time": "2022-09-15T09:05:09.513161Z"
    },
    "slideshow": {
     "slide_type": "slide"
    }
   },
   "outputs": [],
   "source": [
    "L = []\n",
    "for val in range(20):\n",
    "    if val % 3:\n",
    "        L.append(val)\n",
    "L"
   ]
  },
  {
   "cell_type": "markdown",
   "id": "2d05d443",
   "metadata": {
    "slideshow": {
     "slide_type": "slide"
    }
   },
   "source": [
    "### 值的条件`val if A else B`\n",
    "If you've programmed in C, you might be familiar with the single-line conditional enabled by the ``?`` operator:\n",
    "``` C\n",
    "int absval = (val < 0) ? -val : val\n",
    "```\n",
    "Python has something very similar to this, which is most often used within list comprehensions, ``lambda`` functions, and other places where a simple expression is desired:"
   ]
  },
  {
   "cell_type": "code",
   "execution_count": null,
   "id": "026066a3",
   "metadata": {
    "ExecuteTime": {
     "end_time": "2022-09-15T09:05:09.513819Z",
     "start_time": "2022-09-15T09:05:09.513814Z"
    },
    "slideshow": {
     "slide_type": "slide"
    }
   },
   "outputs": [],
   "source": [
    "val = -10\n",
    "val if val >= 0 else -val"
   ]
  },
  {
   "cell_type": "markdown",
   "id": "a53d572f",
   "metadata": {
    "slideshow": {
     "slide_type": "slide"
    }
   },
   "source": [
    "我们看到，这只是复制了内置的abs()函数的功能，但这种构造允许您在列表推导式中做一些真正有趣的事情。\n",
    "\n",
    "这就变得很复杂了，但你可以这样做:"
   ]
  },
  {
   "cell_type": "markdown",
   "id": "dd08d4fe",
   "metadata": {},
   "source": [
    "### 迭代器的条件语句2``[val if A else B for x in iter if x...]``"
   ]
  },
  {
   "cell_type": "code",
   "execution_count": null,
   "id": "8337903f",
   "metadata": {
    "ExecuteTime": {
     "end_time": "2022-09-15T09:05:09.514254Z",
     "start_time": "2022-09-15T09:05:09.514249Z"
    }
   },
   "outputs": [],
   "source": [
    "[2*val if val % 2 else -val\n",
    " for val in range(20) if val % 3]"
   ]
  },
  {
   "cell_type": "markdown",
   "id": "891b8dc6",
   "metadata": {
    "slideshow": {
     "slide_type": "slide"
    }
   },
   "source": [
    "请注意for表达式之前的列表推导式中的换行符:这在Python中是有效的，通常是一种很好的方式来分解长列表推导式，以提高可读性。\n",
    "\n",
    "仔细看一下:我们正在做的是构造一个列表，去掉3的倍数，然后对所有2的倍数求反"
   ]
  },
  {
   "cell_type": "markdown",
   "id": "78e8c3f3",
   "metadata": {},
   "source": [
    "### 集合的链表表达式"
   ]
  },
  {
   "cell_type": "markdown",
   "id": "bda6ce04",
   "metadata": {
    "slideshow": {
     "slide_type": "slide"
    }
   },
   "source": [
    "一旦你理解了列表理解的动态，就很容易转移到其他类型的理解。\n",
    "\n",
    "语法基本上是相同的;唯一的区别是你使用的托架类型。例如，用花括号，你可以用*set理解创建一个``set ``:"
   ]
  },
  {
   "cell_type": "code",
   "execution_count": null,
   "id": "c9eb9f17",
   "metadata": {
    "ExecuteTime": {
     "end_time": "2022-09-15T09:05:09.514779Z",
     "start_time": "2022-09-15T09:05:09.514773Z"
    }
   },
   "outputs": [],
   "source": [
    "{n**2 for n in range(12)}"
   ]
  },
  {
   "cell_type": "markdown",
   "id": "69524cfa",
   "metadata": {
    "slideshow": {
     "slide_type": "slide"
    }
   },
   "source": [
    "回想一下，集合是不包含重复项的集合。\n",
    "\n",
    "集合理解遵循此规则，并消除任何重复项:"
   ]
  },
  {
   "cell_type": "code",
   "execution_count": null,
   "id": "2e4c7254",
   "metadata": {
    "ExecuteTime": {
     "end_time": "2022-09-15T09:05:09.515296Z",
     "start_time": "2022-09-15T09:05:09.515290Z"
    }
   },
   "outputs": [],
   "source": [
    "{a % 3 for a in range(1000)} # 求余"
   ]
  },
  {
   "cell_type": "markdown",
   "id": "8b1b9f4e",
   "metadata": {
    "slideshow": {
     "slide_type": "slide"
    }
   },
   "source": [
    "With a slight tweak, you can add a colon (``:``) to create a *dict comprehension*:"
   ]
  },
  {
   "cell_type": "code",
   "execution_count": null,
   "id": "3210c722",
   "metadata": {
    "ExecuteTime": {
     "end_time": "2022-09-15T09:05:09.515755Z",
     "start_time": "2022-09-15T09:05:09.515749Z"
    }
   },
   "outputs": [],
   "source": [
    "{n:n**2 for n in range(6)}"
   ]
  },
  {
   "cell_type": "code",
   "execution_count": null,
   "id": "2ebc87db",
   "metadata": {
    "ExecuteTime": {
     "end_time": "2022-09-15T09:05:09.516167Z",
     "start_time": "2022-09-15T09:05:09.516161Z"
    }
   },
   "outputs": [],
   "source": [
    "alp = transpose([chr(i) for i in range(ord('a'),ord('z')+1)])\n",
    "transpose({i:val for i,val in enumerate(alp)})"
   ]
  },
  {
   "cell_type": "code",
   "execution_count": null,
   "id": "758164f0",
   "metadata": {
    "ExecuteTime": {
     "end_time": "2022-09-15T09:05:09.516746Z",
     "start_time": "2022-09-15T09:05:09.516737Z"
    }
   },
   "outputs": [],
   "source": [
    "ord('a'),ord('z')"
   ]
  },
  {
   "cell_type": "markdown",
   "id": "0b2fde6f",
   "metadata": {
    "slideshow": {
     "slide_type": "slide"
    }
   },
   "source": [
    "### Generators\n",
    "最后，如果你使用圆括号而不是方括号，你会得到所谓的生成器表达式:\n",
    "\n",
    "Finally, if you use parentheses rather than square brackets, you get what's called a **generator expression**:"
   ]
  },
  {
   "cell_type": "code",
   "execution_count": null,
   "id": "6bab6f74",
   "metadata": {
    "ExecuteTime": {
     "end_time": "2022-09-15T09:05:09.517232Z",
     "start_time": "2022-09-15T09:05:09.517227Z"
    }
   },
   "outputs": [],
   "source": [
    "(n**2 for n in range(12))"
   ]
  },
  {
   "cell_type": "markdown",
   "id": "55623ef6",
   "metadata": {},
   "source": [
    "生成器表达式本质上是一个列表推导式，其中的元素是根据需要生成的，而不是一次性生成所有元素，这里的简单性掩盖了这种语言特性的强大功能。\n",
    "\n",
    "A generator expression is essentially a list comprehension in which **elements are generated as-needed rather than all at-once**, and the simplicity here belies the power of this language feature."
   ]
  },
  {
   "cell_type": "markdown",
   "id": "52110c47",
   "metadata": {
    "slideshow": {
     "slide_type": "slide"
    }
   },
   "source": [
    "# Modules and Packages"
   ]
  },
  {
   "cell_type": "markdown",
   "id": "f0858050",
   "metadata": {},
   "source": [
    "One feature of Python that makes it useful for a wide range of tasks is the fact that it comes \"batteries included\" – that is, the **Python standard library** contains useful tools for a wide range of tasks.\n",
    "On top of this, there is a broad ecosystem of **third-party tools and packages** that offer more specialized functionality.\n",
    "\n",
    "Here we'll take a look at importing standard library modules and tools for installing third-party modules.\n",
    "\n",
    "Python标准库包含了用于广泛任务的有用工具。在此之上，有一个广泛的第三方工具和包生态系统，提供更专门的功能。"
   ]
  },
  {
   "cell_type": "markdown",
   "id": "630ad2a1",
   "metadata": {
    "slideshow": {
     "slide_type": "slide"
    }
   },
   "source": [
    "## Loading Modules: the ``import`` Statement\n",
    "\n",
    "为了加载内置模块和第三方模块，Python提供了import语句。我们将在这里简要地提到，从最受推荐的到最不受推荐的，有几种使用该声明的方法。\n",
    "\n",
    "总结：\n",
    " - ***Need package name*** \n",
    "     - **Explicit module import:**  ``import math``---- ``math.pi``\n",
    "     - **Explicit module import by alias:**  ``import math as mt``----``mt.pi``\n",
    " - ***No Need package name***\n",
    "     - **Explicit import of module contents:**  ``from math import pi``----``pi``\n",
    "     - **Implicit import of module contents:**  `` from math import *``----``pi``"
   ]
  },
  {
   "cell_type": "markdown",
   "id": "8d2b7467",
   "metadata": {
    "slideshow": {
     "slide_type": "slide"
    }
   },
   "source": [
    "### Explicit module import\n",
    "\n",
    "\n",
    " - 显式导入：调用函数时，使用：包名.函数名\n",
    "\n",
    "Explicit import of a module preserves the module's content in a namespace.\n",
    "The namespace is then used to refer to its contents with a \"``.``\" between them.\n",
    "For example, here we'll import the built-in ``math`` module and compute the sine of pi:"
   ]
  },
  {
   "cell_type": "code",
   "execution_count": null,
   "id": "e77f1ce7",
   "metadata": {
    "ExecuteTime": {
     "end_time": "2022-09-15T09:05:09.517812Z",
     "start_time": "2022-09-15T09:05:09.517807Z"
    }
   },
   "outputs": [],
   "source": [
    "import math\n",
    "math.cos(math.pi) # 显式导入：包.函数"
   ]
  },
  {
   "cell_type": "markdown",
   "id": "98253688",
   "metadata": {
    "slideshow": {
     "slide_type": "slide"
    }
   },
   "source": [
    "### Explicit module import by alias\n",
    "\n",
    " - 别名导入：调用函数时，使用：别名.函数名\n",
    "\n",
    "对于较长的模块名，每次访问某个元素时使用完整的模块名并不方便。\n",
    "\n",
    "出于这个原因，我们通常使用``import 包名 as nickname``为…模式来为名称空间创建较短的别名。\n",
    "\n",
    "例如，NumPy(数值Python)包，一个对数据科学有用的流行第三方包，按照惯例是在别名``np``下导入的:"
   ]
  },
  {
   "cell_type": "code",
   "execution_count": null,
   "id": "a672793e",
   "metadata": {
    "ExecuteTime": {
     "end_time": "2022-09-15T09:05:09.518425Z",
     "start_time": "2022-09-15T09:05:09.518419Z"
    }
   },
   "outputs": [],
   "source": [
    "import numpy as np\n",
    "np.cos(np.pi) # 别名.函数名"
   ]
  },
  {
   "cell_type": "markdown",
   "id": "fd911787",
   "metadata": {
    "slideshow": {
     "slide_type": "slide"
    }
   },
   "source": [
    "### Explicit import of module contents\n",
    "\n",
    " - 导入某些函数（这样不用包名）：``from ... import ...``\n",
    "\n",
    "This can be done with the \"``from ... import ...``\" pattern.\n",
    "For example, we can import just the ``cos`` function and the ``pi`` constant from the ``math`` module:"
   ]
  },
  {
   "cell_type": "code",
   "execution_count": null,
   "id": "7277204b",
   "metadata": {
    "ExecuteTime": {
     "end_time": "2022-09-15T09:05:09.518884Z",
     "start_time": "2022-09-15T09:05:09.518879Z"
    }
   },
   "outputs": [],
   "source": [
    "from math import cos, pi\n",
    "cos(pi)"
   ]
  },
  {
   "cell_type": "markdown",
   "id": "1b3de7f0",
   "metadata": {
    "slideshow": {
     "slide_type": "slide"
    }
   },
   "source": [
    "### Implicit import of module contents\n",
    "\n",
    " - 导入包中所有函数（不推荐）：\n",
    "\n",
    "最后，有时将整个模块内容导入本地名称空间是很有用的。这可以用``from 包 import ** ``模式:"
   ]
  },
  {
   "cell_type": "code",
   "execution_count": null,
   "id": "5839030d",
   "metadata": {
    "ExecuteTime": {
     "end_time": "2022-09-15T09:05:09.519337Z",
     "start_time": "2022-09-15T09:05:09.519331Z"
    }
   },
   "outputs": [],
   "source": [
    "from math import *\n",
    "sin(pi) ** 2 + cos(pi) ** 2"
   ]
  },
  {
   "cell_type": "markdown",
   "id": "6e4804bc",
   "metadata": {
    "slideshow": {
     "slide_type": "slide"
    }
   },
   "source": [
    "问题是，这样的导入有时会覆盖您不打算覆盖的函数名，语句的隐式性使得很难确定哪些内容发生了更改。\n",
    "\n",
    "例如，Python有一个内置的``sum``函数，可以用于各种操作:"
   ]
  },
  {
   "cell_type": "code",
   "execution_count": null,
   "id": "05a288d8",
   "metadata": {
    "ExecuteTime": {
     "end_time": "2022-09-15T09:05:09.519875Z",
     "start_time": "2022-09-15T09:05:09.519868Z"
    },
    "slideshow": {
     "slide_type": "slide"
    }
   },
   "outputs": [],
   "source": [
    "help(sum)"
   ]
  },
  {
   "cell_type": "markdown",
   "id": "49f3c54c",
   "metadata": {
    "slideshow": {
     "slide_type": "slide"
    }
   },
   "source": [
    "We can use this to compute the sum of a sequence, starting with a certain value (here, we'll start with ``-1``):"
   ]
  },
  {
   "cell_type": "code",
   "execution_count": null,
   "id": "ad8b16fb",
   "metadata": {
    "ExecuteTime": {
     "end_time": "2022-09-15T09:05:09.520438Z",
     "start_time": "2022-09-15T09:05:09.520432Z"
    },
    "scrolled": true
   },
   "outputs": [],
   "source": [
    "sum(range(5), -1) # 这里是对[0,1,2,3,4]求和之后减一："
   ]
  },
  {
   "cell_type": "code",
   "execution_count": null,
   "id": "de0526f7",
   "metadata": {
    "ExecuteTime": {
     "end_time": "2022-09-15T09:05:09.520874Z",
     "start_time": "2022-09-15T09:05:09.520869Z"
    }
   },
   "outputs": [],
   "source": [
    "# 等价代码\n",
    "def sum1(range,start):\n",
    "    s=start\n",
    "    for i in range:\n",
    "        s+=i\n",
    "    return s  "
   ]
  },
  {
   "cell_type": "code",
   "execution_count": null,
   "id": "7eafa8c1",
   "metadata": {
    "ExecuteTime": {
     "end_time": "2022-09-15T09:05:09.521338Z",
     "start_time": "2022-09-15T09:05:09.521332Z"
    }
   },
   "outputs": [],
   "source": [
    "sum1(range(5),-1)"
   ]
  },
  {
   "cell_type": "markdown",
   "id": "de0b08f7",
   "metadata": {
    "slideshow": {
     "slide_type": "slide"
    }
   },
   "source": [
    "现在观察一下，如果我们从numpy中导入``sum``完全相同的函数会发生什么"
   ]
  },
  {
   "cell_type": "code",
   "execution_count": null,
   "id": "cff80b46",
   "metadata": {
    "ExecuteTime": {
     "end_time": "2022-09-15T09:05:09.521903Z",
     "start_time": "2022-09-15T09:05:09.521898Z"
    }
   },
   "outputs": [],
   "source": [
    "from numpy import *"
   ]
  },
  {
   "cell_type": "code",
   "execution_count": null,
   "id": "3d654072",
   "metadata": {
    "ExecuteTime": {
     "end_time": "2022-09-15T09:05:09.522499Z",
     "start_time": "2022-09-15T09:05:09.522493Z"
    }
   },
   "outputs": [],
   "source": [
    "sum(range(5), -1)"
   ]
  },
  {
   "cell_type": "markdown",
   "id": "45e4ac50",
   "metadata": {
    "slideshow": {
     "slide_type": "slide"
    }
   },
   "source": [
    "The result is off by one!\n",
    "The reason for this is that the ``import *`` statement *replaces* the built-in ``sum`` function with the ``numpy.sum`` function, which has a different call signature: in the former, we're summing ``range(5)`` starting at ``-1``; in the latter, we're summing ``range(5)`` along the last axis (indicated by ``-1``).\n",
    "This is the type of situation that may arise if care is not taken when using \"``import *``\" – for this reason, it is best to avoid this unless you know exactly what you are doing."
   ]
  },
  {
   "cell_type": "markdown",
   "id": "27038dea",
   "metadata": {
    "slideshow": {
     "slide_type": "slide"
    }
   },
   "source": [
    "## Importing from Python's Standard Library\n",
    "\n",
    "Python的标准库包含许多有用的内置模块，您可以在Python文档中完整阅读这些模块。可以使用import语句导入其中的任何一个，然后使用前一节中看到的帮助函数进行探索。以下是一些你可能希望探索和学习的模块的极其不完整的列表:\n",
    "\n",
    "Python's standard library contains many useful built-in modules, which you can read about fully in [Python's documentation](https://docs.python.org/3/library/).\n",
    "Any of these can be imported with the ``import`` statement, and then explored using the help function seen in the previous section.\n",
    "Here is an extremely incomplete list of some of the modules you might wish to explore and learn about:\n",
    "\n",
    "- ``os`` and ``sys``: Tools for interfacing with the operating system, including navigating file directory structures and executing shell commands\n",
    "- ``math`` and ``cmath``: Mathematical functions and operations on real and complex numbers\n",
    "- ``itertools``: Tools for constructing and interacting with iterators and generators\n",
    "- ``functools``: Tools that assist with functional programming\n",
    "- ``random``: Tools for generating pseudorandom numbers\n",
    "- ``pickle``: Tools for object persistence: saving objects to and loading objects from disk\n",
    "- ``json`` and ``csv``: Tools for reading JSON-formatted and CSV-formatted files.\n",
    "- ``urllib``: Tools for doing HTTP and other web requests.\n",
    "\n",
    "You can find information on these, and many more, in the Python standard library documentation: https://docs.python.org/3/library/."
   ]
  },
  {
   "cell_type": "markdown",
   "id": "9e6f57f8",
   "metadata": {
    "slideshow": {
     "slide_type": "slide"
    }
   },
   "source": [
    "## Importing from Third-Party Modules\n",
    "Python之所以有用，尤其是在数据科学领域，是因为它的第三方模块生态系统。可以像导入内置模块一样导入这些模块，但首先必须在系统上安装这些模块。\n",
    "The standard registry for such modules is the Python Package Index (*PyPI* for short), found on the Web at http://pypi.python.org/.\n",
    "For convenience, Python comes with a program called ``pip`` (a recursive acronym meaning \"pip installs packages\"), which will automatically fetch packages released and listed on PyPI (if you use Python version 2, ``pip`` must be installed separately).\n",
    "For example, if you'd like to install the ``supersmoother`` package that I wrote, all that is required is to type the following at the command line:\n",
    "```\n",
    "$ pip install supersmoother\n",
    "```\n",
    "The source code for the package will be automatically downloaded from the PyPI repository, and the package installed in the standard Python path (assuming you have permission to do so on the computer you're using).\n",
    "\n",
    "For more information about PyPI and the ``pip`` installer, refer to the documentation at http://pypi.python.org/.\n",
    "\n",
    "### Anaconda Python\n",
    "\n",
    "For Anaconda python, another package manager is available called [conda](http://conda.pydata.org/docs/intro.html). When working with Anaconda Python, it is generally better to try installing first with ``conda`` and then falling back to `pip` if needed."
   ]
  },
  {
   "cell_type": "markdown",
   "id": "ce6448b1",
   "metadata": {
    "slideshow": {
     "slide_type": "slide"
    }
   },
   "source": [
    "## import your module\n",
    "\n",
    "自己写，不敢相信！"
   ]
  },
  {
   "cell_type": "code",
   "execution_count": null,
   "id": "c6b5309c",
   "metadata": {
    "ExecuteTime": {
     "end_time": "2022-09-15T09:05:09.522965Z",
     "start_time": "2022-09-15T09:05:09.522959Z"
    }
   },
   "outputs": [],
   "source": [
    "import my_module"
   ]
  },
  {
   "cell_type": "code",
   "execution_count": null,
   "id": "1d30c193",
   "metadata": {
    "ExecuteTime": {
     "end_time": "2022-09-15T09:05:09.523730Z",
     "start_time": "2022-09-15T09:05:09.523724Z"
    }
   },
   "outputs": [],
   "source": [
    "# my_module.a_dream_of_red_mansions"
   ]
  },
  {
   "cell_type": "markdown",
   "id": "c7c3e62e",
   "metadata": {
    "slideshow": {
     "slide_type": "slide"
    }
   },
   "source": [
    "# I/O"
   ]
  },
  {
   "cell_type": "markdown",
   "id": "e52987d3",
   "metadata": {
    "slideshow": {
     "slide_type": "slide"
    }
   },
   "source": [
    "## 读取"
   ]
  },
  {
   "cell_type": "markdown",
   "id": "6c295dbf",
   "metadata": {},
   "source": [
    "### `open()`打开文件"
   ]
  },
  {
   "cell_type": "markdown",
   "id": "ed348b06",
   "metadata": {},
   "source": [
    "### `.read(). readline() .readlines()`"
   ]
  },
  {
   "cell_type": "markdown",
   "id": "fa741b76",
   "metadata": {
    "slideshow": {
     "slide_type": "slide"
    }
   },
   "source": [
    "``open``函数是一个内置的Python函数，可以用来读写文件:\n",
    "\n",
    "```Python\n",
    "fin = open(\"f.txt\")\n",
    "```\n",
    "这里我们打开了文本文件``f.txt``用于读取,默认是read模式，即读取。\n",
    "\n",
    "```Python\n",
    "fin.read()\n",
    "```\n",
    "or\n",
    "```Python\n",
    "fin.readline()\n",
    "```\n",
    "or\n",
    "```Python\n",
    "fin.readlines()\n",
    "```\n",
    "allow us different ways to read the contents of the file:\n",
    "\n",
    "* `read` 将文件读入单个字符串\n",
    "* `readline` 从文件的当前位置读取，直到遇到第一个换行符\n",
    "* `readlines` 将文件读入字符串列表，每行一个列表元素\n",
    "\n",
    "文件句柄跟踪它们在文件中的当前位置，例如，如果你调用`fin.readline()`，然后再次调用它，第二次调用将开始读取前一次调用停止的位置。这对于增量读取文件很方便。"
   ]
  },
  {
   "cell_type": "markdown",
   "id": "8ac3d230",
   "metadata": {},
   "source": [
    "### `for A in open(B):`按行遍历文本"
   ]
  },
  {
   "cell_type": "markdown",
   "id": "ee6b5aca",
   "metadata": {},
   "source": [
    "File handles work well with loops:\n",
    "```Python\n",
    "for line in open(\"f.txt\"): # 注意循环的写法\n",
    "    print(line.strip())\n",
    "```\n",
    "在这里，**for循环自动检索文本文件的每一行**，并将其赋值给循环变量``line``。``line.strip()``调用删除每个``line``后面保留的换行符。"
   ]
  },
  {
   "cell_type": "markdown",
   "id": "232272f2",
   "metadata": {
    "slideshow": {
     "slide_type": "slide"
    }
   },
   "source": [
    "## 写入"
   ]
  },
  {
   "cell_type": "markdown",
   "id": "c95ce7a6",
   "metadata": {},
   "source": [
    "### `open(file, 'w')`激活写入\n",
    "### `.write()`or`print(,file=...)`输出\n",
    "### `.close()`关闭文件"
   ]
  },
  {
   "cell_type": "markdown",
   "id": "04d1ef21",
   "metadata": {},
   "source": [
    "`open`函数也可以用来向文件中写入内容。这里你需要确保以\"写入模式\"打开文件\n",
    "\n",
    "```Python\n",
    "fout = open(\"g.txt\", 'w') # default 是 'r'!\n",
    "fout.write(\"Saving data...\\n\")\n",
    "```\n",
    "注意使用``Write``需要处理换行,\n",
    "内置的``print``函数与文件句柄很好地交互:\n",
    "\n",
    "```Python\n",
    "print(\"Hello!\", file=fout)\n",
    "```\n",
    "默认情况下，它甚至会为你添加换行符!\n",
    "\n",
    "重要的是，当你写完一个文件，**关闭它**:\n",
    "```Python\n",
    "fout.close()\n",
    "```\n",
    "\n",
    "文件句柄也可以在\"append\"模式(``a``)和二进制读/写模式(``rb '，``wb``)中打开。这些模式不如读模式(`` r ``)和写模式(``w ``)常见"
   ]
  },
  {
   "cell_type": "markdown",
   "id": "44a1fd17",
   "metadata": {
    "slideshow": {
     "slide_type": "slide"
    }
   },
   "source": [
    "## 文件路径和工作目录\n",
    "\n",
    "文件路径用于表示文件的名称和位置。例如，苹果电脑Alice Smith's Documents文件夹中存储的f.txt文件可能有以下路径:\n",
    "/用户/ alicesmith /文档/ f.txt\n",
    "\n",
    "在这里，文档文件夹在用户文件夹中的alicsmith文件夹中。\n",
    "\n",
    "前斜杠字符(/)用作分隔符，分隔路径中的元素。一些操作系统为此使用不同的符号，Python提供了os路径模块自动处理此问题。\n",
    "\n",
    "A file **path** is used to represent the name and location of a file. For example, a file named `f.txt` stored in Alice Smith's Documents folder on a Mac may have the following path:\n",
    "```\n",
    "/Users/alicesmith/Documents/f.txt\n",
    "```\n",
    "\n",
    "Here the folder `Documents` is inside the `alicesmith` folder which is inside the `Users` folder. The forward slash character (`/`) is used as a **delimiter** to separate the elements of the path. Some operating systems use different symbols for this purpose, and Python provides an `os` and `os.path` module to handle this automatically."
   ]
  },
  {
   "cell_type": "markdown",
   "id": "adde5a99",
   "metadata": {
    "slideshow": {
     "slide_type": "slide"
    }
   },
   "source": [
    "### Working directories\n",
    "\n",
    "当Python运行时，它有一个用于文件操作的默认目录。这被称为工作目录或当前工作目录。例如，当只使用文件名打开一个文件时，Python会假设该文件位于当前工作目录中。\\\n",
    "#### 当前目录:`os.getcwd()`\n",
    "os模块提供了一个函数来打印当前工作目录(cwd)的完整路径:\n",
    "```Python\n",
    ">>> import os\n",
    ">>> cwd = os.getcwd()\n",
    ">>> print(cwd)\n",
    "/Users/alicesmith\n",
    "```\n",
    "This example shows the current working directory is Alice's home folder.\n",
    "\n",
    "**相对路径**是从当前工作目录开始的文件路径，而**绝对路径**是从文件系统顶部开始的。例如，' statistics/f.txt '路径假设在当前工作目录中有一个名为' statistics '的文件夹，其中包含文件' f.txt '。\n",
    "#### 修改目录:`os.path.abspath()`\n",
    "The `os.path` modules allows you to convert from relative to absolute paths:\n",
    "```Python\n",
    ">>> os.path.abspath(\"statistics/f.txt\")\n",
    "'/Users/alicesmith/statistics/f.txt'\n",
    "```\n",
    "\n",
    "更改工作目录是一种常见的操作，通常需要使代码在不同的计算机之间移植。\n",
    "\n",
    "通过保持相对于工作目录的文件路径，就不需要特定于机器的信息(比如用户的主文件夹名)。"
   ]
  },
  {
   "cell_type": "code",
   "execution_count": null,
   "id": "a8cf47e1",
   "metadata": {
    "ExecuteTime": {
     "end_time": "2022-09-15T09:05:09.540139Z",
     "start_time": "2022-09-15T09:05:09.540132Z"
    }
   },
   "outputs": [],
   "source": [
    "import os\n",
    "os.getcwd()"
   ]
  },
  {
   "cell_type": "markdown",
   "id": "5566bc42",
   "metadata": {
    "slideshow": {
     "slide_type": "slide"
    }
   },
   "source": [
    "# A Preview of Data Science Tools\n",
    "\n",
    "如果您想从这里开始，并进一步使用Python进行科学计算或数据科学，有几个包可以让您的工作变得更容易。\n",
    "\n",
    "本节将介绍和预览几个更重要的应用程序，并让您了解它们是为哪些类型的应用程序设计的。\n",
    "\n",
    "如果您正在使用本报告开头建议的Anaconda或Miniconda环境，您可以使用以下命令安装相关的包:\n",
    "```\n",
    "$ conda install numpy scipy pandas matplotlib scikit-learn\n",
    "```\n",
    "Let's take a brief look at each of these in turn."
   ]
  },
  {
   "cell_type": "code",
   "execution_count": null,
   "id": "c2bd43de",
   "metadata": {
    "ExecuteTime": {
     "end_time": "2022-09-15T09:05:09.540753Z",
     "start_time": "2022-09-15T09:05:09.540747Z"
    }
   },
   "outputs": [],
   "source": [
    "conda install numpy scipy pandas matplotlib scikit-learn"
   ]
  },
  {
   "cell_type": "markdown",
   "id": "3f3e325d",
   "metadata": {
    "slideshow": {
     "slide_type": "slide"
    }
   },
   "source": [
    "## NumPy: Numerical Python\n",
    "\n",
    "NumPy提供了一种在Python中存储和操作多维密集数组的有效方法。\n",
    "\n",
    "NumPy的重要特性是:\n",
    "\n",
    "- 它提供了一个``ndarray``结构，允许高效存储和操作向量、矩阵和高维数据集\n",
    "- 它提供了一种可读且有效的语法来操作这些数据，从简单的元素运算到更复杂的线性代数运算。\n",
    "\n",
    "在最简单的情况下，NumPy数组看起来很像Python列表。例如，这里有一个包含数字1到9范围的``ndarray``(与Python的构建进行比较)"
   ]
  },
  {
   "cell_type": "code",
   "execution_count": null,
   "id": "61f30347",
   "metadata": {
    "ExecuteTime": {
     "end_time": "2022-09-15T09:05:09.541305Z",
     "start_time": "2022-09-15T09:05:09.541298Z"
    },
    "slideshow": {
     "slide_type": "slide"
    }
   },
   "outputs": [],
   "source": [
    "import numpy as np\n",
    "x = np.arange(1, 10)\n",
    "x"
   ]
  },
  {
   "cell_type": "markdown",
   "id": "ebf66e2a",
   "metadata": {
    "slideshow": {
     "slide_type": "slide"
    }
   },
   "source": [
    "NumPy的数组既提供了有效的数据存储，也提供了对数据进行有效的元素操作。\n",
    "\n",
    "例如，要对数组中的每个元素进行平方，可以**直接对数组应用``* *``操作符:**"
   ]
  },
  {
   "cell_type": "code",
   "execution_count": null,
   "id": "b8e95818",
   "metadata": {
    "ExecuteTime": {
     "end_time": "2022-09-15T09:05:09.541986Z",
     "start_time": "2022-09-15T09:05:09.541980Z"
    }
   },
   "outputs": [],
   "source": [
    "x ** 2 # 这种运算方式就非常数学，有 R 的味道！"
   ]
  },
  {
   "cell_type": "markdown",
   "id": "5fe72e93",
   "metadata": {
    "slideshow": {
     "slide_type": "slide"
    }
   },
   "source": [
    "将其与**冗长得多**的python风格列表推导式进行比较，可以得到相同的结果:"
   ]
  },
  {
   "cell_type": "code",
   "execution_count": null,
   "id": "ad5ca676",
   "metadata": {
    "ExecuteTime": {
     "end_time": "2022-09-15T09:05:09.542471Z",
     "start_time": "2022-09-15T09:05:09.542465Z"
    }
   },
   "outputs": [],
   "source": [
    "[val ** 2 for val in range(1, 10)]"
   ]
  },
  {
   "cell_type": "markdown",
   "id": "15c0e077",
   "metadata": {
    "slideshow": {
     "slide_type": "slide"
    }
   },
   "source": [
    "与Python列表(仅限一维)不同，NumPy数组可以是多维的。\n",
    "\n",
    "例如，这里我们将重塑x数组为3x3数组:"
   ]
  },
  {
   "cell_type": "code",
   "execution_count": null,
   "id": "0889e261",
   "metadata": {
    "ExecuteTime": {
     "end_time": "2022-09-15T09:05:09.542930Z",
     "start_time": "2022-09-15T09:05:09.542923Z"
    }
   },
   "outputs": [],
   "source": [
    "M = x.reshape((3, 3)) # 按原数组顺序，三行 三列 按行 填充。\n",
    "M"
   ]
  },
  {
   "cell_type": "markdown",
   "id": "3fe6ff9b",
   "metadata": {
    "slideshow": {
     "slide_type": "slide"
    }
   },
   "source": [
    "NumPy数组有一个`shape`属性，它有助于检查数组的大小:"
   ]
  },
  {
   "cell_type": "code",
   "execution_count": null,
   "id": "69fe7901",
   "metadata": {
    "ExecuteTime": {
     "end_time": "2022-09-15T09:05:09.543393Z",
     "start_time": "2022-09-15T09:05:09.543387Z"
    }
   },
   "outputs": [],
   "source": [
    "print(x.shape)\n",
    "print(M.shape) # 行数 列数"
   ]
  },
  {
   "cell_type": "markdown",
   "id": "806da7e2",
   "metadata": {
    "slideshow": {
     "slide_type": "slide"
    }
   },
   "source": [
    "这里x是一个长度为9的一维数组，由包含单个元素的shape元组表示(末尾逗号用于区分一个元素的元组与括号内的数字)，而M是一个有三行三列的二维数组。\n",
    "\n",
    "注意:如果您习惯于处理行向量和列向量，请注意NumPy的数组表示方式有些不同。一个典型的𝑁维行向量，就像你在线性代数课程中遇到的，会有shape (1,N)，同样地，𝑁维列向量会有shape (N,1)。"
   ]
  },
  {
   "cell_type": "markdown",
   "id": "87bf06f6",
   "metadata": {
    "slideshow": {
     "slide_type": "slide"
    }
   },
   "source": [
    "**二维数组是矩阵的一种表示**\n",
    "\n",
    "NumPy知道如何高效地执行典型的矩阵操作。例如，你可以使用``.T``来计算转置:"
   ]
  },
  {
   "cell_type": "code",
   "execution_count": null,
   "id": "26b6fad8",
   "metadata": {
    "ExecuteTime": {
     "end_time": "2022-09-15T09:05:09.543957Z",
     "start_time": "2022-09-15T09:05:09.543952Z"
    }
   },
   "outputs": [],
   "source": [
    "M.T"
   ]
  },
  {
   "cell_type": "code",
   "execution_count": null,
   "id": "72d74a0f",
   "metadata": {
    "ExecuteTime": {
     "end_time": "2022-09-15T09:05:09.544452Z",
     "start_time": "2022-09-15T09:05:09.544446Z"
    }
   },
   "outputs": [],
   "source": [
    "M"
   ]
  },
  {
   "cell_type": "markdown",
   "id": "4b902152",
   "metadata": {
    "slideshow": {
     "slide_type": "slide"
    }
   },
   "source": [
    "或者矩阵向量乘积``np.dot``:"
   ]
  },
  {
   "cell_type": "code",
   "execution_count": null,
   "id": "92733c7c",
   "metadata": {
    "ExecuteTime": {
     "end_time": "2022-09-15T09:05:09.544902Z",
     "start_time": "2022-09-15T09:05:09.544896Z"
    }
   },
   "outputs": [],
   "source": [
    "# 向量乘积: just linear combination!\n",
    "# 注意到，(3,)表示向量，(3,1)表示矩阵，有区别！z\n",
    "x = np.array([1,2,3])\n",
    "y = np.array([3,2,1])\n",
    "xy = np.dot(x, y)\n",
    "xs = x.shape\n",
    "ys = y.shape\n",
    "print(xy,xs,ys)"
   ]
  },
  {
   "cell_type": "code",
   "execution_count": null,
   "id": "fbcac775",
   "metadata": {
    "ExecuteTime": {
     "end_time": "2022-09-15T09:05:09.545354Z",
     "start_time": "2022-09-15T09:05:09.545348Z"
    }
   },
   "outputs": [],
   "source": [
    "# 矩阵乘向量：默认结果是向量, Python不会改变左右位置，不会对矩阵做转置，但是会对向量做转置，以保证能够相乘。\n",
    "# 如果对向量做转置之后还不能乘，就报错！\n",
    "x = np.array([[1,2,3],[4,5,6]])\n",
    "y = np.array([1,2,3])\n",
    "xy = np.dot(x, y)\n",
    "print(xy)\n",
    "print(\"x阶数：\" + str(x.shape))\n",
    "print(\"y阶数：\" + str(y.shape))\n",
    "print(\"result阶数：\" + str(xy.shape))\n",
    "\n",
    "try:\n",
    "    yx=np.dot(y,x)\n",
    "    print(yx)\n",
    "    print(\"result阶数：\" + str(xy.shape))\n",
    "except:\n",
    "    print(\"乘不了\")"
   ]
  },
  {
   "cell_type": "code",
   "execution_count": null,
   "id": "e4d73651",
   "metadata": {
    "ExecuteTime": {
     "end_time": "2022-09-15T09:05:09.545813Z",
     "start_time": "2022-09-15T09:05:09.545807Z"
    },
    "scrolled": false
   },
   "outputs": [],
   "source": [
    "# 矩阵乘矩阵:默认结果是矩阵, Python不会改变左右位置，不会对矩阵做转置\n",
    "# 能乘就能乘，不能就报错\n",
    "x = np.array([[1,2,3],[4,5,6]])\n",
    "y = np.array([[2,3],[4,5],[6,7]])\n",
    "result = np.dot(x, y)\n",
    "print(x)\n",
    "print(y)\n",
    "print(result)\n",
    "print(\"x阶数：\" + str(x.shape))\n",
    "print(\"y阶数：\" + str(y.shape))\n",
    "print(\"result阶数：\" + str(result.shape))"
   ]
  },
  {
   "cell_type": "code",
   "execution_count": null,
   "id": "74be481e",
   "metadata": {
    "ExecuteTime": {
     "end_time": "2022-09-15T09:05:09.546284Z",
     "start_time": "2022-09-15T09:05:09.546278Z"
    }
   },
   "outputs": [],
   "source": [
    "# (3,)表示向量，(3,1)表示矩阵\n",
    "# []表示向量,[[]]表示矩阵\n",
    "s1=np.array([5,6,7]).shape\n",
    "s2=np.array([[5], [6], [7]]).shape\n",
    "print(s1,s2)"
   ]
  },
  {
   "cell_type": "markdown",
   "id": "3a0901b2",
   "metadata": {
    "slideshow": {
     "slide_type": "slide"
    }
   },
   "source": [
    "and even more sophisticated operations like eigenvalue decomposition:"
   ]
  },
  {
   "cell_type": "code",
   "execution_count": null,
   "id": "93d611e3",
   "metadata": {
    "ExecuteTime": {
     "end_time": "2022-09-15T09:05:09.547076Z",
     "start_time": "2022-09-15T09:05:09.547070Z"
    }
   },
   "outputs": [],
   "source": [
    "np.linalg.eigvals(M)"
   ]
  },
  {
   "cell_type": "code",
   "execution_count": null,
   "id": "d62e314a",
   "metadata": {
    "ExecuteTime": {
     "end_time": "2022-09-15T09:05:09.547704Z",
     "start_time": "2022-09-15T09:05:09.547698Z"
    }
   },
   "outputs": [],
   "source": [
    "np.linalg."
   ]
  },
  {
   "cell_type": "markdown",
   "id": "54a065ea",
   "metadata": {
    "slideshow": {
     "slide_type": "slide"
    }
   },
   "source": [
    "这种线性代数操作是现代数据分析的基础，尤其是在机器学习和数据挖掘领域。"
   ]
  },
  {
   "cell_type": "markdown",
   "id": "46ff663a",
   "metadata": {
    "slideshow": {
     "slide_type": "slide"
    }
   },
   "source": [
    "## Pandas: Labeled Column-oriented Data\n",
    "\n",
    "Pandas提供了一个带标签的多维数据接口，它以DataFrame对象的形式出现，对于使用R和相关语言的用户来说，这是非常熟悉的。\n",
    "\n",
    "DataFrames在Pandas看起来像这样:\n"
   ]
  },
  {
   "cell_type": "code",
   "execution_count": null,
   "id": "3ab434ed",
   "metadata": {
    "ExecuteTime": {
     "end_time": "2022-09-15T09:05:09.548126Z",
     "start_time": "2022-09-15T09:05:09.548121Z"
    },
    "scrolled": true,
    "slideshow": {
     "slide_type": "slide"
    }
   },
   "outputs": [],
   "source": [
    "import pandas as pd\n",
    "df = pd.DataFrame({'label': ['A', 'B', 'C', 'A', 'B', 'C'],\n",
    "                   'value': [1, 2, 3, 4, 5, 6]})\n",
    "df"
   ]
  },
  {
   "cell_type": "markdown",
   "id": "d48fe9b4",
   "metadata": {
    "slideshow": {
     "slide_type": "slide"
    }
   },
   "source": [
    "Pandas界面允许你按名称选择列:"
   ]
  },
  {
   "cell_type": "code",
   "execution_count": null,
   "id": "8fabe518",
   "metadata": {
    "ExecuteTime": {
     "end_time": "2022-09-15T09:05:09.548515Z",
     "start_time": "2022-09-15T09:05:09.548510Z"
    }
   },
   "outputs": [],
   "source": [
    "df['label']"
   ]
  },
  {
   "cell_type": "markdown",
   "id": "773cbde5",
   "metadata": {
    "slideshow": {
     "slide_type": "slide"
    }
   },
   "source": [
    "跨字符串条目应用字符串操作:"
   ]
  },
  {
   "cell_type": "code",
   "execution_count": null,
   "id": "60c9644b",
   "metadata": {
    "ExecuteTime": {
     "end_time": "2022-09-15T09:05:09.549075Z",
     "start_time": "2022-09-15T09:05:09.549069Z"
    }
   },
   "outputs": [],
   "source": [
    "df['label'].str.lower()"
   ]
  },
  {
   "cell_type": "markdown",
   "id": "0941f9f9",
   "metadata": {
    "slideshow": {
     "slide_type": "slide"
    }
   },
   "source": [
    "跨数字条目应用聚合:"
   ]
  },
  {
   "cell_type": "code",
   "execution_count": null,
   "id": "0e2d3a15",
   "metadata": {
    "ExecuteTime": {
     "end_time": "2022-09-15T09:05:09.549827Z",
     "start_time": "2022-09-15T09:05:09.549820Z"
    }
   },
   "outputs": [],
   "source": [
    "df['value'].sum()"
   ]
  },
  {
   "cell_type": "markdown",
   "id": "a8df1645",
   "metadata": {
    "slideshow": {
     "slide_type": "slide"
    }
   },
   "source": [
    "也许最重要的是，执行高效的数据库风格的连接和分组:"
   ]
  },
  {
   "cell_type": "code",
   "execution_count": null,
   "id": "ed387086",
   "metadata": {
    "ExecuteTime": {
     "end_time": "2022-09-15T09:05:09.550413Z",
     "start_time": "2022-09-15T09:05:09.550408Z"
    },
    "slideshow": {
     "slide_type": "-"
    }
   },
   "outputs": [],
   "source": [
    "df.groupby('label').sum()"
   ]
  },
  {
   "cell_type": "markdown",
   "id": "e2d7a86e",
   "metadata": {},
   "source": [
    "Here in one line we have computed the sum of all objects sharing the same label, something that is much more verbose (and much less efficient) using tools provided in Numpy and core Python.\n"
   ]
  },
  {
   "cell_type": "markdown",
   "id": "e92fc270",
   "metadata": {
    "slideshow": {
     "slide_type": "slide"
    }
   },
   "source": [
    "## Matplotlib: MATLAB-style scientific visualization\n",
    "\n",
    "Matplotlib是目前Python中最流行的科学可视化包。即使是支持者也承认它的界面有时过于冗长，但它是创建大量情节的强大库。\n",
    "要使用Matplotlib，我们可以先启用笔记本模式(在Jupyter笔记本中使用)，然后导入包为``plt``"
   ]
  },
  {
   "cell_type": "code",
   "execution_count": null,
   "id": "9c8c6512",
   "metadata": {
    "ExecuteTime": {
     "end_time": "2022-09-15T09:05:09.550849Z",
     "start_time": "2022-09-15T09:05:09.550844Z"
    }
   },
   "outputs": [],
   "source": [
    "# run this only if using a Jupyter notebook\n",
    "%matplotlib inline"
   ]
  },
  {
   "cell_type": "code",
   "execution_count": null,
   "id": "9b5a57c2",
   "metadata": {
    "ExecuteTime": {
     "end_time": "2022-09-15T09:05:09.551358Z",
     "start_time": "2022-09-15T09:05:09.551352Z"
    },
    "slideshow": {
     "slide_type": "slide"
    }
   },
   "outputs": [],
   "source": [
    "import matplotlib.pyplot as plt"
   ]
  },
  {
   "cell_type": "markdown",
   "id": "3fa0a065",
   "metadata": {
    "slideshow": {
     "slide_type": "slide"
    }
   },
   "source": [
    "现在让我们创建一些数据(当然是NumPy数组)并绘制结果:"
   ]
  },
  {
   "cell_type": "code",
   "execution_count": null,
   "id": "7e7356fc",
   "metadata": {
    "ExecuteTime": {
     "end_time": "2022-09-15T09:05:09.551979Z",
     "start_time": "2022-09-15T09:05:09.551974Z"
    },
    "slideshow": {
     "slide_type": "slide"
    }
   },
   "outputs": [],
   "source": [
    "x = np.linspace(0, 10)  # range of values from 0 to 10\n",
    "y = np.sin(x)           # sine of these values\n",
    "plt.plot(x, y);         # plot as a line\n",
    "plt.xlabel(\"X variable\")\n",
    "plt.ylabel(\"Y variable\");"
   ]
  },
  {
   "cell_type": "markdown",
   "id": "66a6d8e6",
   "metadata": {
    "slideshow": {
     "slide_type": "slide"
    }
   },
   "source": [
    "If you run this code live, you will see an **interactive plot** that lets you pan, zoom, and scroll to explore the data.\n",
    "\n",
    "This is the simplest example of a Matplotlib plot; for ideas on the wide range of plot types available, see [Matplotlib's online gallery](http://matplotlib.org/gallery.html)."
   ]
  },
  {
   "cell_type": "markdown",
   "id": "0b86e84a",
   "metadata": {
    "slideshow": {
     "slide_type": "slide"
    }
   },
   "source": [
    "## SciPy: Scientific Python\n",
    "\n",
    "SciPy是建立在NumPy之上的科学功能集合。该包最初是一组用于数值计算的著名Fortran库的Python包装器，并从那里发展起来。\n",
    "\n",
    "该包被安排为一组子模块，每个子模块实现某种类型的数值算法。以下是数据科学中一些更重要的例子的不完整样本:\n",
    "\n",
    "- ``scipy.fftpack``: Fast Fourier transforms\n",
    "- ``scipy.integrate``: Numerical integration\n",
    "- ``scipy.interpolate``: Numerical interpolation\n",
    "- ``scipy.linalg``: Linear algebra routines\n",
    "- ``scipy.optimize``: Numerical optimization of functions\n",
    "- ``scipy.sparse``: Sparse matrix storage and linear algebra\n",
    "- ``scipy.stats``: Statistical analysis routines\n",
    "\n",
    "For example, let's take a look at interpolating a smooth curve between some data"
   ]
  },
  {
   "cell_type": "code",
   "execution_count": null,
   "id": "a93adf22",
   "metadata": {
    "ExecuteTime": {
     "end_time": "2022-09-15T09:05:09.552417Z",
     "start_time": "2022-09-15T09:05:09.552411Z"
    }
   },
   "outputs": [],
   "source": [
    "from scipy import integrate\n",
    "\n",
    "\n"
   ]
  },
  {
   "cell_type": "code",
   "execution_count": null,
   "id": "00f7649b",
   "metadata": {
    "ExecuteTime": {
     "end_time": "2022-09-15T09:05:09.552872Z",
     "start_time": "2022-09-15T09:05:09.552865Z"
    },
    "slideshow": {
     "slide_type": "slide"
    }
   },
   "outputs": [],
   "source": [
    "from scipy import interpolate\n",
    "\n",
    "# choose eight points between 0 and 10\n",
    "x = np.linspace(0, 10, 8)\n",
    "y = np.sin(x)\n",
    "\n",
    "# create a cubic interpolation function\n",
    "func = interpolate.interp1d(x, y, kind='cubic')\n",
    "\n",
    "# interpolate on a grid of 1,000 points\n",
    "x_interp = np.linspace(0, 10, 1000)\n",
    "y_interp = func(x_interp)\n",
    "\n",
    "# plot the results\n",
    "plt.figure()  # new figure\n",
    "plt.plot(x, y, 'o')\n",
    "plt.plot(x_interp, y_interp)\n",
    "plt.xlabel(\"X\")\n",
    "plt.ylabel(\"Y\");"
   ]
  },
  {
   "cell_type": "markdown",
   "id": "161d02a9",
   "metadata": {},
   "source": [
    "What we see is a smooth interpolation between the points."
   ]
  },
  {
   "cell_type": "markdown",
   "id": "1a0d5487",
   "metadata": {
    "slideshow": {
     "slide_type": "slide"
    }
   },
   "source": [
    "## Other Data Science Packages\n",
    "\n",
    "Built on top of these tools are a host of other data science packages, including general tools like [Scikit-Learn](http://scikit-learn.org) for machine learning, [Scikit-Image](http://scikit-image.org) for image analysis, and [Statsmodels](http://statsmodels.sourceforge.net/) for statistical modeling, as well as more domain-specific packages like [AstroPy](http://astropy.org) for astronomy and astrophysics, [NiPy](http://nipy.org/) for neuro-imaging, and many, many more.\n",
    "\n",
    "No matter what type of scientific, numerical, or statistical problem you are facing, it's likely there is a Python package out there that can help you solve it."
   ]
  },
  {
   "cell_type": "markdown",
   "id": "ec421aca",
   "metadata": {
    "slideshow": {
     "slide_type": "slide"
    }
   },
   "source": [
    "# Resources for Further Learning\n",
    "\n",
    "This concludes our whirlwind tour of the Python language.\n",
    "My hope is that if you read this far, you have an idea of the essential syntax, semantics, operations, and functionality offered by the Python language, as well as some idea of the range of tools and code constructs that you can explore further.\n",
    "\n",
    "I have tried to cover the pieces and patterns in the Python language that will be most useful to a data scientist using Python, but this has by no means been a complete introduction.\n",
    "If you'd like to go deeper in understanding the Python language itself and how to use it effectively, here are a handful of resources I'd recommend:\n",
    "\n",
    "- [*Fluent Python*](http://shop.oreilly.com/product/0636920032519.do) by Luciano Ramalho. This is an excellent OReilly book that explores best practices and idioms for Python, including getting the most out of the standard library.\n",
    "- [*Dive Into Python*](http://www.diveintopython.net/) by Mark Pilgrim. This is a free online book that provides a ground-up introduction to the Python language.\n",
    "- [*Learn Python the Hard Way*](http://learnpythonthehardway.org/) by Zed Shaw. This book follows a \"learn by trying\" approach, and deliberately emphasizes developing what may be the most useful skill a programmer can learn: Googling things you don't understand.\n",
    "- [*Python Essential Reference*](http://www.dabeaz.com/per.html) by David Beazley. This 700-page monster is well-written, and covers virtually everything there is to know about the Python language and its built-in libraries. For a more application-focused Python walk-through, see Beazley's [*Python Cookbook*](http://shop.oreilly.com/product/0636920027072.do).\n",
    "\n",
    "To dig more into Python tools for data science and scientific computing:\n",
    "\n",
    "- [*The Python Data Science Handbook*](http://shop.oreilly.com/product/0636920034919.do) by Jake VanderPlas. This book starts precisely where this mini-text leaves off, and provides a comprehensive guide to the essential tools in Python's data science stack, from data munging and manipulation to machine learning.\n",
    "- [*Effective Computation in Physics*](http://shop.oreilly.com/product/0636920033424.do) by Kathryn D. Huff and Anthony Scopatz, is applicable to people far beyond the world of Physics research. It is a step-by-step, ground-up introduction to scientific computing, including an excellent introduction to many of the tools mentioned in this report.\n",
    "- [*Python for Data Analysis*](http://shop.oreilly.com/product/0636920023784.do) by Wes McKinney, creator of the Pandas package. This book covers the Pandas library in detail, as well as giving useful information on some of the other tools that enable it.\n",
    "\n",
    "Finally, for an even broader look at what's out there:\n",
    "\n",
    "- [*OReilly Python Resources*](http://shop.oreilly.com/category/browse-subjects/programming/python.do) O'Reilly features a number of excellent books on Python itself and specialized topics in the Python world.\n",
    "- *PyCon*, *SciPy*, and *PyData*. The PyCon, SciPy, and PyData conferences draw thousands of attendees each year, and archive the bulk of their programs each year as free online videos. These have turned into an incredible set of resources for learning about Python itself, Python packages, and related topics. Search online for videos of both talks and tutorials: the former tend to be shorter, covering new packages or fresh looks at old ones. The tutorials tend to be several hours, covering the use of the tools mentioned here as well as others."
   ]
  },
  {
   "cell_type": "markdown",
   "id": "5e1842b3",
   "metadata": {},
   "source": [
    "Modified @2021年10月25日15:53:07 By Charley HUANG: Sent applications but no offer even no interview invitation received yet. I feel nervous hhh. Hope they will come soon. Sometimes I think I'm not capable for taking a big challenge considering my weak psychological quality. In Chinese we say \"见好就收\" right. The stable of nervous and ease of psychology might be more valuable than seeking for the edge frontier of revenue might explain my aversion in investment. All in all, there will be offer sooner or later, just relax"
   ]
  },
  {
   "cell_type": "code",
   "execution_count": null,
   "id": "4cb31002",
   "metadata": {},
   "outputs": [],
   "source": []
  },
  {
   "cell_type": "code",
   "execution_count": null,
   "id": "d721dcd0",
   "metadata": {},
   "outputs": [],
   "source": []
  }
 ],
 "metadata": {
  "kernelspec": {
   "display_name": "Python 3 (ipykernel)",
   "language": "python",
   "name": "python3"
  },
  "language_info": {
   "codemirror_mode": {
    "name": "ipython",
    "version": 3
   },
   "file_extension": ".py",
   "mimetype": "text/x-python",
   "name": "python",
   "nbconvert_exporter": "python",
   "pygments_lexer": "ipython3",
   "version": "3.9.12"
  },
  "notify_time": "5",
  "toc": {
   "base_numbering": 1,
   "nav_menu": {
    "height": "150px",
    "width": "160px"
   },
   "number_sections": true,
   "sideBar": true,
   "skip_h1_title": false,
   "title_cell": "Table of Contents",
   "title_sidebar": "To strive, to seek, to find, and not to yield.",
   "toc_cell": false,
   "toc_position": {
    "height": "224px",
    "left": "1020px",
    "top": "66px",
    "width": "334px"
   },
   "toc_section_display": true,
   "toc_window_display": true
  },
  "varInspector": {
   "cols": {
    "lenName": 16,
    "lenType": 16,
    "lenVar": 40
   },
   "kernels_config": {
    "python": {
     "delete_cmd_postfix": "",
     "delete_cmd_prefix": "del ",
     "library": "var_list.py",
     "varRefreshCmd": "print(var_dic_list())"
    },
    "r": {
     "delete_cmd_postfix": ") ",
     "delete_cmd_prefix": "rm(",
     "library": "var_list.r",
     "varRefreshCmd": "cat(var_dic_list()) "
    }
   },
   "oldHeight": 131.852,
   "position": {
    "height": "162.852px",
    "left": "803px",
    "right": "20px",
    "top": "37px",
    "width": "443px"
   },
   "types_to_exclude": [
    "module",
    "function",
    "builtin_function_or_method",
    "instance",
    "_Feature"
   ],
   "varInspector_section_display": "block",
   "window_display": true
  }
 },
 "nbformat": 4,
 "nbformat_minor": 5
}
