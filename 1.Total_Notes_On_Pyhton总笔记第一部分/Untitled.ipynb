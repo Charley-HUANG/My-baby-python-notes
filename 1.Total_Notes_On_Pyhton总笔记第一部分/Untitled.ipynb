{
 "cells": [
  {
   "cell_type": "code",
   "execution_count": 6,
   "id": "960f00d6",
   "metadata": {
    "ExecuteTime": {
     "end_time": "2022-09-09T12:31:45.080068Z",
     "start_time": "2022-09-09T12:31:45.074236Z"
    }
   },
   "outputs": [],
   "source": [
    "import numpy as np\n",
    "import math as mh"
   ]
  },
  {
   "cell_type": "code",
   "execution_count": 4,
   "id": "f3cdb8a3",
   "metadata": {
    "ExecuteTime": {
     "end_time": "2022-09-09T12:30:56.075561Z",
     "start_time": "2022-09-09T12:30:56.069830Z"
    }
   },
   "outputs": [],
   "source": [
    "A = np.matrix([[8,9],[6,4]])"
   ]
  },
  {
   "cell_type": "code",
   "execution_count": 5,
   "id": "6794497b",
   "metadata": {
    "ExecuteTime": {
     "end_time": "2022-09-09T12:31:05.965639Z",
     "start_time": "2022-09-09T12:31:05.959281Z"
    }
   },
   "outputs": [
    {
     "data": {
      "text/plain": [
       "matrix([[8, 9],\n",
       "        [6, 4]])"
      ]
     },
     "execution_count": 5,
     "metadata": {},
     "output_type": "execute_result"
    }
   ],
   "source": [
    "A"
   ]
  },
  {
   "cell_type": "code",
   "execution_count": 7,
   "id": "946e0392",
   "metadata": {
    "ExecuteTime": {
     "end_time": "2022-09-09T12:32:51.509875Z",
     "start_time": "2022-09-09T12:32:51.496472Z"
    }
   },
   "outputs": [
    {
     "data": {
      "text/plain": [
       "(matrix([[-0.86148589, -0.50778151],\n",
       "         [-0.50778151,  0.86148589]]),\n",
       " array([13.94674579,  1.57742891]),\n",
       " matrix([[-0.71260897, -0.70156144],\n",
       "         [ 0.70156144, -0.71260897]]))"
      ]
     },
     "execution_count": 7,
     "metadata": {},
     "output_type": "execute_result"
    }
   ],
   "source": [
    "np.linalg.svd(A)"
   ]
  },
  {
   "cell_type": "code",
   "execution_count": null,
   "id": "2db9cc30",
   "metadata": {},
   "outputs": [],
   "source": []
  }
 ],
 "metadata": {
  "kernelspec": {
   "display_name": "Python 3 (ipykernel)",
   "language": "python",
   "name": "python3"
  },
  "language_info": {
   "codemirror_mode": {
    "name": "ipython",
    "version": 3
   },
   "file_extension": ".py",
   "mimetype": "text/x-python",
   "name": "python",
   "nbconvert_exporter": "python",
   "pygments_lexer": "ipython3",
   "version": "3.9.12"
  },
  "toc": {
   "base_numbering": 1,
   "nav_menu": {},
   "number_sections": true,
   "sideBar": true,
   "skip_h1_title": false,
   "title_cell": "Table of Contents",
   "title_sidebar": "Contents",
   "toc_cell": false,
   "toc_position": {},
   "toc_section_display": true,
   "toc_window_display": false
  },
  "varInspector": {
   "cols": {
    "lenName": 16,
    "lenType": 16,
    "lenVar": 40
   },
   "kernels_config": {
    "python": {
     "delete_cmd_postfix": "",
     "delete_cmd_prefix": "del ",
     "library": "var_list.py",
     "varRefreshCmd": "print(var_dic_list())"
    },
    "r": {
     "delete_cmd_postfix": ") ",
     "delete_cmd_prefix": "rm(",
     "library": "var_list.r",
     "varRefreshCmd": "cat(var_dic_list()) "
    }
   },
   "types_to_exclude": [
    "module",
    "function",
    "builtin_function_or_method",
    "instance",
    "_Feature"
   ],
   "window_display": false
  }
 },
 "nbformat": 4,
 "nbformat_minor": 5
}
