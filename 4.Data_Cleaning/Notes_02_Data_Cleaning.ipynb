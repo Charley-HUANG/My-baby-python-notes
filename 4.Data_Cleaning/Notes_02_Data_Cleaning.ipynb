{
 "cells": [
  {
   "cell_type": "markdown",
   "metadata": {
    "slideshow": {
     "slide_type": "slide"
    }
   },
   "source": [
    "# Introduction\n",
    "\n",
    "在这节课中，我们将研究数据清理和探索性数据分析的过程。通常情况下，为了进行一些分析或回答一些问题，你会获得甚至得到一组数据。使用该数据的第一步是确保其格式正确(已清除)，并了解其属性和限制。在研究数据时，通常会确定在数据准备好进行分析之前可能需要的额外转换。\n",
    "\n",
    "In this notebook we obtain crime data from public records.  Ultimately, our goal might be to understand policing patterns but before we get there we must first clean and understand the data. "
   ]
  },
  {
   "cell_type": "code",
   "execution_count": 1,
   "metadata": {
    "ExecuteTime": {
     "end_time": "2021-10-09T08:06:22.946759Z",
     "start_time": "2021-10-09T08:06:21.962809Z"
    },
    "slideshow": {
     "slide_type": "slide"
    }
   },
   "outputs": [],
   "source": [
    "import numpy as np\n",
    "import pandas as pd"
   ]
  },
  {
   "cell_type": "markdown",
   "metadata": {},
   "source": [
    "# Getting the Data\n",
    "\n",
    "To begin this analysis we want to get data about crimes.  Remarkably, the city of Berkeley maintains an [Open Data Portal](https://data.cityofberkeley.info/) for citizens to access data about the city.  We will be examining the:\n",
    "\n",
    "1. Call Data\n",
    "1. Stop Data\n",
    "\n",
    "Fortunately, this data is also relatively well document with detailed descriptions of what it contains.  Here are summaries of the fields in the data:"
   ]
  },
  {
   "cell_type": "markdown",
   "metadata": {
    "slideshow": {
     "slide_type": "slide"
    }
   },
   "source": [
    "**Calls Data**\n",
    "<img src=\"calls_desc.png\" width=800px />"
   ]
  },
  {
   "cell_type": "markdown",
   "metadata": {
    "slideshow": {
     "slide_type": "slide"
    }
   },
   "source": [
    "**Stop Data**\n",
    "<img src=\"stops_desc.png\" width=800px />"
   ]
  },
  {
   "cell_type": "markdown",
   "metadata": {
    "slideshow": {
     "slide_type": "slide"
    }
   },
   "source": [
    "## Load Data Path\n",
    "\n",
    "### `./路径`\n",
    "**<font color = red > 用相对路径就可以**"
   ]
  },
  {
   "cell_type": "code",
   "execution_count": 2,
   "metadata": {
    "ExecuteTime": {
     "end_time": "2021-10-09T07:52:50.638436Z",
     "start_time": "2021-10-09T07:52:50.630427Z"
    }
   },
   "outputs": [],
   "source": [
    "calls_file = \"./data/calls_for_service.csv\""
   ]
  },
  {
   "cell_type": "code",
   "execution_count": 3,
   "metadata": {
    "ExecuteTime": {
     "end_time": "2021-10-09T07:52:51.491780Z",
     "start_time": "2021-10-09T07:52:51.474783Z"
    }
   },
   "outputs": [],
   "source": [
    "stops_file = \"./data/stops.json\""
   ]
  },
  {
   "cell_type": "markdown",
   "metadata": {
    "slideshow": {
     "slide_type": "slide"
    }
   },
   "source": [
    "---\n",
    "How big is the data?\n",
    "\n",
    "---\n",
    "我通常喜欢通过粗略估计数据的大小来开始我的分析。这将有助于告知我使用的工具以及如何查看数据。如果它相对较小，我可能会使用文本编辑器或电子表格查看数据。如果它更大，我可能会跳转到更程序化的探索，甚至使用分布式计算工具。\n",
    "\n",
    "不过，这里我们将使用python工具来探测该文件。"
   ]
  },
  {
   "cell_type": "markdown",
   "metadata": {},
   "source": [
    "### <font color = red >`os.path.getsize`"
   ]
  },
  {
   "cell_type": "code",
   "execution_count": 4,
   "metadata": {
    "ExecuteTime": {
     "end_time": "2021-10-09T07:52:54.675552Z",
     "start_time": "2021-10-09T07:52:54.658604Z"
    },
    "scrolled": true,
    "slideshow": {
     "slide_type": "slide"
    }
   },
   "outputs": [
    {
     "name": "stdout",
     "output_type": "stream",
     "text": [
      "./data/calls_for_service.csv is 0.941358 MB\n",
      "./data/stops.json is 17.134125 MB\n"
     ]
    }
   ],
   "source": [
    "import os # 写在这儿了~\n",
    "print(calls_file, \"is\",  os.path.getsize(calls_file) / 1e6, \"MB\")\n",
    "print(stops_file, \"is\", os.path.getsize(stops_file) / 1e6, \"MB\")"
   ]
  },
  {
   "cell_type": "markdown",
   "metadata": {
    "slideshow": {
     "slide_type": "slide"
    }
   },
   "source": [
    "All the files are relatively small and we could comfortable examine them in a text editors.  (Personally, I like *sublime*). \n",
    "\n",
    "In listing the files I noticed that the names suggest that they are all text file formats:\n",
    "* **CSV**: 逗号分隔值是一种非常标准的表格格式。\n",
    "* **JSON**: JavaScript对象表示法是一种非常标准的半结构化文件格式，用于存储嵌套数据。\n",
    "\n",
    "We will dive into the formats in a moment.  However because these are text data I might also want to investigate the number of lines which often correspond to records."
   ]
  },
  {
   "cell_type": "markdown",
   "metadata": {},
   "source": [
    "### `with A as B`简写方法\n",
    "<font color = red >相当于R里的`attach-detach`"
   ]
  },
  {
   "cell_type": "code",
   "execution_count": 5,
   "metadata": {
    "ExecuteTime": {
     "end_time": "2021-10-09T07:53:04.971819Z",
     "start_time": "2021-10-09T07:53:04.947870Z"
    },
    "slideshow": {
     "slide_type": "slide"
    }
   },
   "outputs": [
    {
     "name": "stdout",
     "output_type": "stream",
     "text": [
      "./data/calls_for_service.csv is 15452 lines.\n"
     ]
    }
   ],
   "source": [
    "with open(calls_file, \"r\") as f:\n",
    "    print(calls_file, \"is\", sum(1 for l in f), \"lines.\") # 有换行就考虑"
   ]
  },
  {
   "cell_type": "markdown",
   "metadata": {
    "slideshow": {
     "slide_type": "slide"
    }
   },
   "source": [
    "***\n",
    "Can we trust extensions?\n",
    "***\n",
    "我们已经注意到文件以csv和json结尾，这表明它们分别是用逗号分隔的和javascript对象文件。然而，我们不能总是依赖命名，因为这只是一种约定。例如，这里我们在下载时根据URL中的一些提示选择了文件的名称。\n",
    "\n",
    "**通常文件的扩展名不正确或者根本没有扩展名。**\n",
    "\n",
    "让我们假设这些是文本文件(不包含二进制编码的数据)，因此我们可以打印“几行”以更好地理解该文件。"
   ]
  },
  {
   "cell_type": "code",
   "execution_count": 6,
   "metadata": {
    "ExecuteTime": {
     "end_time": "2021-10-09T07:58:38.560290Z",
     "start_time": "2021-10-09T07:58:38.533341Z"
    },
    "scrolled": false,
    "slideshow": {
     "slide_type": "slide"
    }
   },
   "outputs": [
    {
     "name": "stdout",
     "output_type": "stream",
     "text": [
      "./data/calls_for_service.csv ======================\n",
      "0 \t 'CASENO,OFFENSE,EVENTDT,EVENTTM,CVLEGEND,CVDOW,InDbDate,Block_Location,BLKADDR,City,State\\n'\n",
      "1 \t '19092769,THEFT MISD. (UNDER $950),12/09/2019 12:00:00 AM,13:00,LARCENY,1,09/10/2020 07:00:11 AM,\"SHATTUCK AVE\\n'\n",
      "2 \t 'Berkeley, CA\",SHATTUCK AVE,Berkeley,CA\\n'\n",
      "3 \t '19045891,NARCOTICS,08/18/2019 12:00:00 AM,17:20,DRUG VIOLATION,0,09/10/2020 07:00:08 AM,\"FRONTAGE STREET &GILMAN ST\\n'\n",
      "4 \t 'Berkeley, CA\",FRONTAGE STREET &GILMAN ST,Berkeley,CA\\n'\n",
      "5 \t '19060215,ASSAULT/BATTERY MISD.,10/23/2019 12:00:00 AM,10:45,ASSAULT,3,09/10/2020 07:00:10 AM,\"2200 MILVIA ST\\n'\n",
      "6 \t 'Berkeley, CA\\n'\n",
      "7 \t '(37.868574, -122.270415)\",2200 MILVIA ST,Berkeley,CA\\n'\n",
      "8 \t '19092681,VANDALISM,12/01/2019 12:00:00 AM,18:40,VANDALISM,0,09/10/2020 07:00:11 AM,\"VIRGINIA ST\\n'\n",
      "9 \t 'Berkeley, CA\",VIRGINIA ST,Berkeley,CA\\n'\n",
      "10 \t '19044228,ASSAULT/BATTERY MISD.,08/10/2019 12:00:00 AM,22:51,ASSAULT,6,09/10/2020 07:00:08 AM,\"UNIVERSITY AVENUE &FRONTAGE\\n'\n",
      "11 \t 'Berkeley, CA\",UNIVERSITY AVENUE &FRONTAGE,Berkeley,CA\\n'\n",
      "12 \t '19092551,THEFT MISD. (UNDER $950),11/17/2019 12:00:00 AM,12:00,LARCENY,0,09/10/2020 07:00:11 AM,\"ASHBY AVE\\n'\n",
      "13 \t 'Berkeley, CA\",ASHBY AVE,Berkeley,CA\\n'\n",
      "14 \t '19047517,BURGLARY AUTO,08/25/2019 12:00:00 AM,18:25,BURGLARY - VEHICLE,0,09/10/2020 07:00:08 AM,\"CATALINA AVE\\n'\n",
      "15 \t 'Berkeley, CA\",CATALINA AVE,Berkeley,CA\\n'\n",
      "16 \t '19091711,VANDALISM,08/19/2019 12:00:00 AM,22:00,VANDALISM,1,09/10/2020 07:00:08 AM,\"CALIFORNIA STREET & FAIRVIEW ST\\n'\n",
      "17 \t 'Berkeley, CA\",CALIFORNIA STREET & FAIRVIEW ST,Berkeley,CA\\n'\n",
      "18 \t '19092111,VANDALISM,09/24/2019 12:00:00 AM,20:00,VANDALISM,2,09/10/2020 07:00:09 AM,\"600 CANYON RD\\n'\n",
      "19 \t 'Berkeley, CA\",600 CANYON RD,Berkeley,CA\\n'\n"
     ]
    }
   ],
   "source": [
    "print(calls_file, \"======================\")\n",
    "with open(calls_file, \"r\") as f: # 相当于R里的attach（xxx）\n",
    "    for i in range(20):\n",
    "        print(i, \"\\t\", repr(f.readline())) # readline 只读一行"
   ]
  },
  {
   "cell_type": "code",
   "execution_count": 7,
   "metadata": {
    "ExecuteTime": {
     "end_time": "2021-10-09T07:53:35.654360Z",
     "start_time": "2021-10-09T07:53:35.629359Z"
    },
    "slideshow": {
     "slide_type": "slide"
    }
   },
   "outputs": [
    {
     "name": "stdout",
     "output_type": "stream",
     "text": [
      "./data/stops.json ======================\n",
      "0 \t '{\\n'\n",
      "1 \t '  \"meta\" : {\\n'\n",
      "2 \t '    \"view\" : {\\n'\n",
      "3 \t '      \"id\" : \"4tbf-3yt8\",\\n'\n",
      "4 \t '      \"name\" : \"Berkeley PD - Stop Data (NEW)\",\\n'\n",
      "5 \t '      \"attribution\" : \"City of Berkeley Police Department\",\\n'\n",
      "6 \t '      \"averageRating\" : 0,\\n'\n",
      "7 \t '      \"category\" : \"Public Safety\",\\n'\n",
      "8 \t '      \"createdAt\" : 1588602591,\\n'\n",
      "9 \t '      \"description\" : \"This data was extracted from the Department鈥檚 Public Safety Server and covers data beginning January 26, 2015.  On January 26, 2015 the department began collecting data pursuant to General Order B-4 (issued December 31, 2014). Under that Order, officers were required to provide certain data after making any detention (vehicle, bicycle, pedestrian, suspicious auto).  This dataset provides information about detentions, including the race, sex, age range, of the person detained; the reason for the stop; the type of enforcement taken (if any), and whether or not a search was conducted.  Also provided are the date, time, location of the detention, as well as the incident number and call for service type.\",\\n'\n",
      "10 \t '      \"displayType\" : \"table\",\\n'\n",
      "11 \t '      \"downloadCount\" : 48,\\n'\n",
      "12 \t '      \"hideFromCatalog\" : false,\\n'\n",
      "13 \t '      \"hideFromDataJson\" : false,\\n'\n",
      "14 \t '      \"licenseId\" : \"USGOV_WORKS\",\\n'\n",
      "15 \t '      \"newBackend\" : true,\\n'\n",
      "16 \t '      \"numberOfComments\" : 0,\\n'\n",
      "17 \t '      \"oid\" : 34059901,\\n'\n",
      "18 \t '      \"provenance\" : \"official\",\\n'\n",
      "19 \t '      \"publicationAppendEnabled\" : false,\\n'\n"
     ]
    }
   ],
   "source": [
    "print(stops_file, \"======================\")\n",
    "with open(stops_file, \"r\") as f:\n",
    "    for i in range(20):\n",
    "        print(i, \"\\t\", repr(f.readline()))"
   ]
  },
  {
   "cell_type": "markdown",
   "metadata": {
    "slideshow": {
     "slide_type": "slide"
    }
   },
   "source": [
    "注意，我使用了`repr`函数返回带有特殊字符的原始字符串。这对推断文件格式很有帮助。"
   ]
  },
  {
   "cell_type": "markdown",
   "metadata": {
    "slideshow": {
     "slide_type": "slide"
    }
   },
   "source": [
    "*** \n",
    "What are some observations about `Calls` data?\n",
    "***\n",
    "1. It appears to be in comma separated value (CSV) format.\n",
    "1. First line contains the column headings.\n",
    "1. There are lots of **new-line** `\\n` characters:\n",
    "    * at the ends of lines (delimiting records?)\n",
    "    * *within records* as part of addresses.\n",
    "1. There are **\"quoted\"** strings in the `Block_Location` column:\n",
    "```\n",
    "\"SHATTUCK AVE\\n'\n",
    "2 \t 'Berkeley, CA\"\n",
    "```\n",
    "these are going to be difficult.  What are the implications on our earlier line count calculations?"
   ]
  },
  {
   "cell_type": "markdown",
   "metadata": {
    "slideshow": {
     "slide_type": "slide"
    }
   },
   "source": [
    "### JSON文件\n",
    "\n",
    "这似乎是一个相当标准的JSON文件。我们注意到，该文件在一个名为`meta`(大概是元数据的缩写)的字段中似乎包含了对自身的描述。让我们快速讨论一下JSON文件格式。\n"
   ]
  },
  {
   "cell_type": "markdown",
   "metadata": {
    "slideshow": {
     "slide_type": "slide"
    }
   },
   "source": [
    "[JSON (JavaScript Object Notation)](http://www.json.org) is a common format for exchanging complex structured and semi-structured data. \n",
    "\n",
    "\n",
    "```javascript\n",
    "{\n",
    "    \"field1\": \"value1\",\n",
    "    \"field2\": [\"list\", \"of\", \"values\"],\n",
    "    \"myfield3\": {\"is_recursive\": true, \"a null value\": null}\n",
    "}\n",
    "```\n",
    "\n",
    "A few key points:\n",
    "* JSON is a recursive format in that JSON fields can also contain JSON objects\n",
    "* JSON closely matches Python Dictionaries:\n",
    "```python\n",
    "d = {\n",
    "    \"field1\": \"value1\",\n",
    "    \"field2\": [\"list\", \"of\", \"values\"],\n",
    "    \"myfield3\": {\"is_recursive\": True, \"a null value\": None}\n",
    "}\n",
    "print(d['myfield3'])\n",
    "```\n",
    "* Very common in web technologies (... JavaScript)\n",
    "* Many languages have tools for loading and saving JSON objects\n",
    "\n"
   ]
  },
  {
   "cell_type": "markdown",
   "metadata": {
    "slideshow": {
     "slide_type": "slide"
    }
   },
   "source": [
    "***\n",
    "Loading the Data\n",
    "***\n",
    "现在我们将尝试将数据加载到python中。我们将使用Pandas数据帧库进行基本的表格数据分析。\n",
    "\n",
    "幸运的是，Pandas库有一些相对复杂的用于加载数据的函数。"
   ]
  },
  {
   "cell_type": "markdown",
   "metadata": {
    "slideshow": {
     "slide_type": "slide"
    }
   },
   "source": [
    "\n",
    "### 检查dataframe\n",
    "`calls.head()\n",
    "calls.shape\n",
    "calls.dtypes)`\n",
    "\n",
    "因为该文件看起来是一个格式相对良好的CSV，我们将尝试直接加载它，并允许Pandas Library推断列标题。\n",
    "\n",
    "**你在加载后总是检查第一行和列是否正确。**"
   ]
  },
  {
   "cell_type": "code",
   "execution_count": 8,
   "metadata": {
    "ExecuteTime": {
     "end_time": "2021-10-09T08:06:35.358206Z",
     "start_time": "2021-10-09T08:06:35.300248Z"
    },
    "slideshow": {
     "slide_type": "slide"
    }
   },
   "outputs": [
    {
     "name": "stdout",
     "output_type": "stream",
     "text": [
      "Check data ===========================\n",
      "      CASENO                   OFFENSE                 EVENTDT EVENTTM  \\\n",
      "0  19092769  THEFT MISD. (UNDER $950)  12/09/2019 12:00:00 AM   13:00   \n",
      "1  19045891                 NARCOTICS  08/18/2019 12:00:00 AM   17:20   \n",
      "2  19060215     ASSAULT/BATTERY MISD.  10/23/2019 12:00:00 AM   10:45   \n",
      "3  19092681                 VANDALISM  12/01/2019 12:00:00 AM   18:40   \n",
      "4  19044228     ASSAULT/BATTERY MISD.  08/10/2019 12:00:00 AM   22:51   \n",
      "\n",
      "         CVLEGEND  CVDOW                InDbDate  \\\n",
      "0         LARCENY      1  09/10/2020 07:00:11 AM   \n",
      "1  DRUG VIOLATION      0  09/10/2020 07:00:08 AM   \n",
      "2         ASSAULT      3  09/10/2020 07:00:10 AM   \n",
      "3       VANDALISM      0  09/10/2020 07:00:11 AM   \n",
      "4         ASSAULT      6  09/10/2020 07:00:08 AM   \n",
      "\n",
      "                                      Block_Location  \\\n",
      "0                         SHATTUCK AVE\\nBerkeley, CA   \n",
      "1           FRONTAGE STREET &GILMAN ST\\nBerkeley, CA   \n",
      "2  2200 MILVIA ST\\nBerkeley, CA\\n(37.868574, -122...   \n",
      "3                          VIRGINIA ST\\nBerkeley, CA   \n",
      "4          UNIVERSITY AVENUE &FRONTAGE\\nBerkeley, CA   \n",
      "\n",
      "                       BLKADDR      City State  \n",
      "0                 SHATTUCK AVE  Berkeley    CA  \n",
      "1   FRONTAGE STREET &GILMAN ST  Berkeley    CA  \n",
      "2               2200 MILVIA ST  Berkeley    CA  \n",
      "3                  VIRGINIA ST  Berkeley    CA  \n",
      "4  UNIVERSITY AVENUE &FRONTAGE  Berkeley    CA  \n",
      "\n",
      "Data shape ===========================\n",
      " (5227, 11)\n",
      "\n",
      "Data type ===========================\n",
      " CASENO             int64\n",
      "OFFENSE           object\n",
      "EVENTDT           object\n",
      "EVENTTM           object\n",
      "CVLEGEND          object\n",
      "CVDOW              int64\n",
      "InDbDate          object\n",
      "Block_Location    object\n",
      "BLKADDR           object\n",
      "City              object\n",
      "State             object\n",
      "dtype: object\n"
     ]
    }
   ],
   "source": [
    "calls = pd.read_csv(calls_file)\n",
    "print(\"Check data ===========================\\n\",calls.head()) # 检查数据格式\n",
    "print(\"\\nData shape ===========================\\n\",calls.shape) # 行列\n",
    "print(\"\\nData type ===========================\\n\",calls.dtypes) # 类型"
   ]
  },
  {
   "cell_type": "code",
   "execution_count": 9,
   "metadata": {
    "scrolled": true
   },
   "outputs": [
    {
     "data": {
      "text/html": [
       "<div>\n",
       "<style scoped>\n",
       "    .dataframe tbody tr th:only-of-type {\n",
       "        vertical-align: middle;\n",
       "    }\n",
       "\n",
       "    .dataframe tbody tr th {\n",
       "        vertical-align: top;\n",
       "    }\n",
       "\n",
       "    .dataframe thead th {\n",
       "        text-align: right;\n",
       "    }\n",
       "</style>\n",
       "<table border=\"1\" class=\"dataframe\">\n",
       "  <thead>\n",
       "    <tr style=\"text-align: right;\">\n",
       "      <th></th>\n",
       "      <th>CASENO</th>\n",
       "      <th>OFFENSE</th>\n",
       "      <th>EVENTDT</th>\n",
       "      <th>EVENTTM</th>\n",
       "      <th>CVLEGEND</th>\n",
       "      <th>CVDOW</th>\n",
       "      <th>InDbDate</th>\n",
       "      <th>Block_Location</th>\n",
       "      <th>BLKADDR</th>\n",
       "      <th>City</th>\n",
       "      <th>State</th>\n",
       "    </tr>\n",
       "  </thead>\n",
       "  <tbody>\n",
       "    <tr>\n",
       "      <th>0</th>\n",
       "      <td>19092769</td>\n",
       "      <td>THEFT MISD. (UNDER $950)</td>\n",
       "      <td>12/09/2019 12:00:00 AM</td>\n",
       "      <td>13:00</td>\n",
       "      <td>LARCENY</td>\n",
       "      <td>1</td>\n",
       "      <td>09/10/2020 07:00:11 AM</td>\n",
       "      <td>SHATTUCK AVE\\nBerkeley, CA</td>\n",
       "      <td>SHATTUCK AVE</td>\n",
       "      <td>Berkeley</td>\n",
       "      <td>CA</td>\n",
       "    </tr>\n",
       "    <tr>\n",
       "      <th>1</th>\n",
       "      <td>19045891</td>\n",
       "      <td>NARCOTICS</td>\n",
       "      <td>08/18/2019 12:00:00 AM</td>\n",
       "      <td>17:20</td>\n",
       "      <td>DRUG VIOLATION</td>\n",
       "      <td>0</td>\n",
       "      <td>09/10/2020 07:00:08 AM</td>\n",
       "      <td>FRONTAGE STREET &amp;GILMAN ST\\nBerkeley, CA</td>\n",
       "      <td>FRONTAGE STREET &amp;GILMAN ST</td>\n",
       "      <td>Berkeley</td>\n",
       "      <td>CA</td>\n",
       "    </tr>\n",
       "    <tr>\n",
       "      <th>2</th>\n",
       "      <td>19060215</td>\n",
       "      <td>ASSAULT/BATTERY MISD.</td>\n",
       "      <td>10/23/2019 12:00:00 AM</td>\n",
       "      <td>10:45</td>\n",
       "      <td>ASSAULT</td>\n",
       "      <td>3</td>\n",
       "      <td>09/10/2020 07:00:10 AM</td>\n",
       "      <td>2200 MILVIA ST\\nBerkeley, CA\\n(37.868574, -122...</td>\n",
       "      <td>2200 MILVIA ST</td>\n",
       "      <td>Berkeley</td>\n",
       "      <td>CA</td>\n",
       "    </tr>\n",
       "    <tr>\n",
       "      <th>3</th>\n",
       "      <td>19092681</td>\n",
       "      <td>VANDALISM</td>\n",
       "      <td>12/01/2019 12:00:00 AM</td>\n",
       "      <td>18:40</td>\n",
       "      <td>VANDALISM</td>\n",
       "      <td>0</td>\n",
       "      <td>09/10/2020 07:00:11 AM</td>\n",
       "      <td>VIRGINIA ST\\nBerkeley, CA</td>\n",
       "      <td>VIRGINIA ST</td>\n",
       "      <td>Berkeley</td>\n",
       "      <td>CA</td>\n",
       "    </tr>\n",
       "    <tr>\n",
       "      <th>4</th>\n",
       "      <td>19044228</td>\n",
       "      <td>ASSAULT/BATTERY MISD.</td>\n",
       "      <td>08/10/2019 12:00:00 AM</td>\n",
       "      <td>22:51</td>\n",
       "      <td>ASSAULT</td>\n",
       "      <td>6</td>\n",
       "      <td>09/10/2020 07:00:08 AM</td>\n",
       "      <td>UNIVERSITY AVENUE &amp;FRONTAGE\\nBerkeley, CA</td>\n",
       "      <td>UNIVERSITY AVENUE &amp;FRONTAGE</td>\n",
       "      <td>Berkeley</td>\n",
       "      <td>CA</td>\n",
       "    </tr>\n",
       "    <tr>\n",
       "      <th>...</th>\n",
       "      <td>...</td>\n",
       "      <td>...</td>\n",
       "      <td>...</td>\n",
       "      <td>...</td>\n",
       "      <td>...</td>\n",
       "      <td>...</td>\n",
       "      <td>...</td>\n",
       "      <td>...</td>\n",
       "      <td>...</td>\n",
       "      <td>...</td>\n",
       "      <td>...</td>\n",
       "    </tr>\n",
       "    <tr>\n",
       "      <th>5222</th>\n",
       "      <td>19092686</td>\n",
       "      <td>BURGLARY AUTO</td>\n",
       "      <td>12/02/2019 12:00:00 AM</td>\n",
       "      <td>08:30</td>\n",
       "      <td>BURGLARY - VEHICLE</td>\n",
       "      <td>1</td>\n",
       "      <td>09/10/2020 07:00:11 AM</td>\n",
       "      <td>1000 GILMAN ST\\nBerkeley, CA\\n(37.88014, -122....</td>\n",
       "      <td>1000 GILMAN ST</td>\n",
       "      <td>Berkeley</td>\n",
       "      <td>CA</td>\n",
       "    </tr>\n",
       "    <tr>\n",
       "      <th>5223</th>\n",
       "      <td>19043965</td>\n",
       "      <td>THEFT MISD. (UNDER $950)</td>\n",
       "      <td>08/05/2019 12:00:00 AM</td>\n",
       "      <td>23:30</td>\n",
       "      <td>LARCENY</td>\n",
       "      <td>1</td>\n",
       "      <td>09/10/2020 07:00:08 AM</td>\n",
       "      <td>2300 WARD ST\\nBerkeley, CA\\n(37.860105, -122.2...</td>\n",
       "      <td>2300 WARD ST</td>\n",
       "      <td>Berkeley</td>\n",
       "      <td>CA</td>\n",
       "    </tr>\n",
       "    <tr>\n",
       "      <th>5224</th>\n",
       "      <td>19052923</td>\n",
       "      <td>BURGLARY AUTO</td>\n",
       "      <td>09/19/2019 12:00:00 AM</td>\n",
       "      <td>13:30</td>\n",
       "      <td>BURGLARY - VEHICLE</td>\n",
       "      <td>4</td>\n",
       "      <td>09/10/2020 07:00:09 AM</td>\n",
       "      <td>1500 SHATTUCK AV\\nBerkeley, CA\\n(37.880227, -1...</td>\n",
       "      <td>1500 SHATTUCK AV</td>\n",
       "      <td>Berkeley</td>\n",
       "      <td>CA</td>\n",
       "    </tr>\n",
       "    <tr>\n",
       "      <th>5225</th>\n",
       "      <td>19049410</td>\n",
       "      <td>DISTURBANCE</td>\n",
       "      <td>08/05/2019 12:00:00 AM</td>\n",
       "      <td>10:00</td>\n",
       "      <td>DISORDERLY CONDUCT</td>\n",
       "      <td>1</td>\n",
       "      <td>09/10/2020 07:00:09 AM</td>\n",
       "      <td>2900 REGENT ST\\nBerkeley, CA\\n(37.857787, -122...</td>\n",
       "      <td>2900 REGENT ST</td>\n",
       "      <td>Berkeley</td>\n",
       "      <td>CA</td>\n",
       "    </tr>\n",
       "    <tr>\n",
       "      <th>5226</th>\n",
       "      <td>19092182</td>\n",
       "      <td>BURGLARY AUTO</td>\n",
       "      <td>10/10/2019 12:00:00 AM</td>\n",
       "      <td>09:55</td>\n",
       "      <td>BURGLARY - VEHICLE</td>\n",
       "      <td>4</td>\n",
       "      <td>09/10/2020 07:00:10 AM</td>\n",
       "      <td>1500 SHATTUCK AV\\nBerkeley, CA\\n(37.880227, -1...</td>\n",
       "      <td>1500 SHATTUCK AV</td>\n",
       "      <td>Berkeley</td>\n",
       "      <td>CA</td>\n",
       "    </tr>\n",
       "  </tbody>\n",
       "</table>\n",
       "<p>5227 rows × 11 columns</p>\n",
       "</div>"
      ],
      "text/plain": [
       "        CASENO                   OFFENSE                 EVENTDT EVENTTM  \\\n",
       "0     19092769  THEFT MISD. (UNDER $950)  12/09/2019 12:00:00 AM   13:00   \n",
       "1     19045891                 NARCOTICS  08/18/2019 12:00:00 AM   17:20   \n",
       "2     19060215     ASSAULT/BATTERY MISD.  10/23/2019 12:00:00 AM   10:45   \n",
       "3     19092681                 VANDALISM  12/01/2019 12:00:00 AM   18:40   \n",
       "4     19044228     ASSAULT/BATTERY MISD.  08/10/2019 12:00:00 AM   22:51   \n",
       "...        ...                       ...                     ...     ...   \n",
       "5222  19092686             BURGLARY AUTO  12/02/2019 12:00:00 AM   08:30   \n",
       "5223  19043965  THEFT MISD. (UNDER $950)  08/05/2019 12:00:00 AM   23:30   \n",
       "5224  19052923             BURGLARY AUTO  09/19/2019 12:00:00 AM   13:30   \n",
       "5225  19049410               DISTURBANCE  08/05/2019 12:00:00 AM   10:00   \n",
       "5226  19092182             BURGLARY AUTO  10/10/2019 12:00:00 AM   09:55   \n",
       "\n",
       "                CVLEGEND  CVDOW                InDbDate  \\\n",
       "0                LARCENY      1  09/10/2020 07:00:11 AM   \n",
       "1         DRUG VIOLATION      0  09/10/2020 07:00:08 AM   \n",
       "2                ASSAULT      3  09/10/2020 07:00:10 AM   \n",
       "3              VANDALISM      0  09/10/2020 07:00:11 AM   \n",
       "4                ASSAULT      6  09/10/2020 07:00:08 AM   \n",
       "...                  ...    ...                     ...   \n",
       "5222  BURGLARY - VEHICLE      1  09/10/2020 07:00:11 AM   \n",
       "5223             LARCENY      1  09/10/2020 07:00:08 AM   \n",
       "5224  BURGLARY - VEHICLE      4  09/10/2020 07:00:09 AM   \n",
       "5225  DISORDERLY CONDUCT      1  09/10/2020 07:00:09 AM   \n",
       "5226  BURGLARY - VEHICLE      4  09/10/2020 07:00:10 AM   \n",
       "\n",
       "                                         Block_Location  \\\n",
       "0                            SHATTUCK AVE\\nBerkeley, CA   \n",
       "1              FRONTAGE STREET &GILMAN ST\\nBerkeley, CA   \n",
       "2     2200 MILVIA ST\\nBerkeley, CA\\n(37.868574, -122...   \n",
       "3                             VIRGINIA ST\\nBerkeley, CA   \n",
       "4             UNIVERSITY AVENUE &FRONTAGE\\nBerkeley, CA   \n",
       "...                                                 ...   \n",
       "5222  1000 GILMAN ST\\nBerkeley, CA\\n(37.88014, -122....   \n",
       "5223  2300 WARD ST\\nBerkeley, CA\\n(37.860105, -122.2...   \n",
       "5224  1500 SHATTUCK AV\\nBerkeley, CA\\n(37.880227, -1...   \n",
       "5225  2900 REGENT ST\\nBerkeley, CA\\n(37.857787, -122...   \n",
       "5226  1500 SHATTUCK AV\\nBerkeley, CA\\n(37.880227, -1...   \n",
       "\n",
       "                          BLKADDR      City State  \n",
       "0                    SHATTUCK AVE  Berkeley    CA  \n",
       "1      FRONTAGE STREET &GILMAN ST  Berkeley    CA  \n",
       "2                  2200 MILVIA ST  Berkeley    CA  \n",
       "3                     VIRGINIA ST  Berkeley    CA  \n",
       "4     UNIVERSITY AVENUE &FRONTAGE  Berkeley    CA  \n",
       "...                           ...       ...   ...  \n",
       "5222               1000 GILMAN ST  Berkeley    CA  \n",
       "5223                 2300 WARD ST  Berkeley    CA  \n",
       "5224             1500 SHATTUCK AV  Berkeley    CA  \n",
       "5225               2900 REGENT ST  Berkeley    CA  \n",
       "5226             1500 SHATTUCK AV  Berkeley    CA  \n",
       "\n",
       "[5227 rows x 11 columns]"
      ]
     },
     "execution_count": 9,
     "metadata": {},
     "output_type": "execute_result"
    }
   ],
   "source": [
    "calls"
   ]
  },
  {
   "cell_type": "markdown",
   "metadata": {
    "slideshow": {
     "slide_type": "slide"
    },
    "solution2": "hidden",
    "solution2_first": true
   },
   "source": [
    "*** \n",
    "Preliminary observations on the data?\n",
    "***"
   ]
  },
  {
   "cell_type": "markdown",
   "metadata": {
    "slideshow": {
     "slide_type": "slide"
    },
    "solution2": "hidden"
   },
   "source": [
    "1. `EVENTDT` -- Contain the incorrect time stamp\n",
    "1. `EVENTTM` -- Contains the time in 24 hour format\n",
    "1. `CVDOW` -- Appears to be some encoding of the day of the week (see data documentation).\n",
    "1. `InDbDate` -- Appears to be correctly formatted and appears pretty consistent in time.\n",
    "1. **`Block_Location` -- Errr, what a mess!  newline characters, and Geocoordinates all merged!!  Fortunately, this field was \"quoted\" otherwise we would have had trouble parsing the file. (why?)**\n",
    "1. `BLKADDR` -- This appears to be the address in Block Location.\n",
    "1. `City` and `State` seem redundant given this is supposed to be the city of Berkeley dataset."
   ]
  },
  {
   "cell_type": "markdown",
   "metadata": {
    "slideshow": {
     "slide_type": "slide"
    }
   },
   "source": [
    "\n",
    "### Pivot Table\n",
    "\n",
    "Checking that the City and State fields are all Berkeley CA\n",
    "\n",
    "我们注意到有城市列和州列。因为这应该是伯克利市的数据，**这些列似乎是多余的**。让我们快速计算这两列出现唯一值的次数。"
   ]
  },
  {
   "cell_type": "code",
   "execution_count": 10,
   "metadata": {
    "ExecuteTime": {
     "end_time": "2021-10-09T08:11:41.113128Z",
     "start_time": "2021-10-09T08:11:41.088131Z"
    },
    "slideshow": {
     "slide_type": "slide"
    }
   },
   "outputs": [
    {
     "data": {
      "text/html": [
       "<div>\n",
       "<style scoped>\n",
       "    .dataframe tbody tr th:only-of-type {\n",
       "        vertical-align: middle;\n",
       "    }\n",
       "\n",
       "    .dataframe tbody tr th {\n",
       "        vertical-align: top;\n",
       "    }\n",
       "\n",
       "    .dataframe thead th {\n",
       "        text-align: right;\n",
       "    }\n",
       "</style>\n",
       "<table border=\"1\" class=\"dataframe\">\n",
       "  <thead>\n",
       "    <tr style=\"text-align: right;\">\n",
       "      <th></th>\n",
       "      <th></th>\n",
       "      <th>CASENO</th>\n",
       "      <th>OFFENSE</th>\n",
       "      <th>EVENTDT</th>\n",
       "      <th>EVENTTM</th>\n",
       "      <th>CVLEGEND</th>\n",
       "      <th>CVDOW</th>\n",
       "      <th>InDbDate</th>\n",
       "      <th>Block_Location</th>\n",
       "      <th>BLKADDR</th>\n",
       "    </tr>\n",
       "    <tr>\n",
       "      <th>State</th>\n",
       "      <th>City</th>\n",
       "      <th></th>\n",
       "      <th></th>\n",
       "      <th></th>\n",
       "      <th></th>\n",
       "      <th></th>\n",
       "      <th></th>\n",
       "      <th></th>\n",
       "      <th></th>\n",
       "      <th></th>\n",
       "    </tr>\n",
       "  </thead>\n",
       "  <tbody>\n",
       "    <tr>\n",
       "      <th>CA</th>\n",
       "      <th>Berkeley</th>\n",
       "      <td>5227</td>\n",
       "      <td>5227</td>\n",
       "      <td>5227</td>\n",
       "      <td>5227</td>\n",
       "      <td>5227</td>\n",
       "      <td>5227</td>\n",
       "      <td>5227</td>\n",
       "      <td>5227</td>\n",
       "      <td>5190</td>\n",
       "    </tr>\n",
       "  </tbody>\n",
       "</table>\n",
       "</div>"
      ],
      "text/plain": [
       "                CASENO  OFFENSE  EVENTDT  EVENTTM  CVLEGEND  CVDOW  InDbDate  \\\n",
       "State City                                                                     \n",
       "CA    Berkeley    5227     5227     5227     5227      5227   5227      5227   \n",
       "\n",
       "                Block_Location  BLKADDR  \n",
       "State City                               \n",
       "CA    Berkeley            5227     5190  "
      ]
     },
     "execution_count": 10,
     "metadata": {},
     "output_type": "execute_result"
    }
   ],
   "source": [
    "calls.groupby([\"State\", \"City\"]).count()"
   ]
  },
  {
   "cell_type": "markdown",
   "metadata": {
    "slideshow": {
     "slide_type": "slide"
    }
   },
   "source": [
    "### Dataframe 数据替换"
   ]
  },
  {
   "cell_type": "markdown",
   "metadata": {},
   "source": [
    "#### `map()`数据替换"
   ]
  },
  {
   "cell_type": "code",
   "execution_count": 11,
   "metadata": {
    "ExecuteTime": {
     "end_time": "2021-10-09T08:13:42.566292Z",
     "start_time": "2021-10-09T08:13:42.546290Z"
    },
    "scrolled": true,
    "slideshow": {
     "slide_type": "slide"
    }
   },
   "outputs": [
    {
     "data": {
      "text/plain": [
       "{0: 'Sunday',\n",
       " 1: 'Monday',\n",
       " 2: 'Tuesday',\n",
       " 3: 'Wednesday',\n",
       " 4: 'Thursday',\n",
       " 5: 'Friday',\n",
       " 6: 'Saturday'}"
      ]
     },
     "execution_count": 11,
     "metadata": {},
     "output_type": "execute_result"
    }
   ],
   "source": [
    "dow = {0:\"Sunday\", 1:\"Monday\", 2:\"Tuesday\", \n",
    "       3:\"Wednesday\", 4:\"Thursday\", 5:\"Friday\", \n",
    "       6:\"Saturday\"}\n",
    "dow"
   ]
  },
  {
   "cell_type": "code",
   "execution_count": 12,
   "metadata": {},
   "outputs": [
    {
     "data": {
      "text/html": [
       "<div>\n",
       "<style scoped>\n",
       "    .dataframe tbody tr th:only-of-type {\n",
       "        vertical-align: middle;\n",
       "    }\n",
       "\n",
       "    .dataframe tbody tr th {\n",
       "        vertical-align: top;\n",
       "    }\n",
       "\n",
       "    .dataframe thead th {\n",
       "        text-align: right;\n",
       "    }\n",
       "</style>\n",
       "<table border=\"1\" class=\"dataframe\">\n",
       "  <thead>\n",
       "    <tr style=\"text-align: right;\">\n",
       "      <th></th>\n",
       "      <th>Day</th>\n",
       "      <th>CVDOW</th>\n",
       "    </tr>\n",
       "  </thead>\n",
       "  <tbody>\n",
       "    <tr>\n",
       "      <th>0</th>\n",
       "      <td>Monday</td>\n",
       "      <td>1</td>\n",
       "    </tr>\n",
       "    <tr>\n",
       "      <th>1</th>\n",
       "      <td>Sunday</td>\n",
       "      <td>0</td>\n",
       "    </tr>\n",
       "    <tr>\n",
       "      <th>2</th>\n",
       "      <td>Wednesday</td>\n",
       "      <td>3</td>\n",
       "    </tr>\n",
       "    <tr>\n",
       "      <th>3</th>\n",
       "      <td>Sunday</td>\n",
       "      <td>0</td>\n",
       "    </tr>\n",
       "    <tr>\n",
       "      <th>4</th>\n",
       "      <td>Saturday</td>\n",
       "      <td>6</td>\n",
       "    </tr>\n",
       "    <tr>\n",
       "      <th>...</th>\n",
       "      <td>...</td>\n",
       "      <td>...</td>\n",
       "    </tr>\n",
       "    <tr>\n",
       "      <th>5222</th>\n",
       "      <td>Monday</td>\n",
       "      <td>1</td>\n",
       "    </tr>\n",
       "    <tr>\n",
       "      <th>5223</th>\n",
       "      <td>Monday</td>\n",
       "      <td>1</td>\n",
       "    </tr>\n",
       "    <tr>\n",
       "      <th>5224</th>\n",
       "      <td>Thursday</td>\n",
       "      <td>4</td>\n",
       "    </tr>\n",
       "    <tr>\n",
       "      <th>5225</th>\n",
       "      <td>Monday</td>\n",
       "      <td>1</td>\n",
       "    </tr>\n",
       "    <tr>\n",
       "      <th>5226</th>\n",
       "      <td>Thursday</td>\n",
       "      <td>4</td>\n",
       "    </tr>\n",
       "  </tbody>\n",
       "</table>\n",
       "<p>5227 rows × 2 columns</p>\n",
       "</div>"
      ],
      "text/plain": [
       "            Day  CVDOW\n",
       "0        Monday      1\n",
       "1        Sunday      0\n",
       "2     Wednesday      3\n",
       "3        Sunday      0\n",
       "4      Saturday      6\n",
       "...         ...    ...\n",
       "5222     Monday      1\n",
       "5223     Monday      1\n",
       "5224   Thursday      4\n",
       "5225     Monday      1\n",
       "5226   Thursday      4\n",
       "\n",
       "[5227 rows x 2 columns]"
      ]
     },
     "execution_count": 12,
     "metadata": {},
     "output_type": "execute_result"
    }
   ],
   "source": [
    "calls[\"Day\"] = calls[\"CVDOW\"].map(dow)\n",
    "# equal to: calls.loc[:,\"Day\"] = calls.loc[:,\"CVDOW\"].map(dow)\n",
    "calls[[\"Day\",\"CVDOW\"]]"
   ]
  },
  {
   "cell_type": "markdown",
   "metadata": {},
   "source": [
    "***\n",
    "补充，画出计数折线图\n",
    "***"
   ]
  },
  {
   "cell_type": "code",
   "execution_count": 13,
   "metadata": {
    "ExecuteTime": {
     "end_time": "2021-10-09T08:14:58.056262Z",
     "start_time": "2021-10-09T08:14:58.020313Z"
    }
   },
   "outputs": [
    {
     "data": {
      "text/plain": [
       "<AxesSubplot:xlabel='Day'>"
      ]
     },
     "execution_count": 13,
     "metadata": {},
     "output_type": "execute_result"
    },
    {
     "data": {
      "image/png": "[encoded data removed]",
      "text/plain": [
       "<Figure size 432x288 with 1 Axes>"
      ]
     },
     "metadata": {
      "needs_background": "light"
     },
     "output_type": "display_data"
    }
   ],
   "source": [
    "calls[\"Day\"] = calls[\"CVDOW\"].map(dow)\n",
    "# equal to: calls.loc[:,\"Day\"] = calls.loc[:,\"CVDOW\"].map(dow)\n",
    "calls[[\"Day\",\"CVDOW\"]].groupby('Day').count().plot()"
   ]
  },
  {
   "cell_type": "markdown",
   "metadata": {
    "slideshow": {
     "slide_type": "slide"
    }
   },
   "source": [
    "### Cleaning Block Location\n",
    "\n",
    "块位置包含纬度/经度坐标，我可能想使用这些来分析每个请求的位置。让我们尝试使用正则表达式提取GPS坐标(我们将在以后的课程中讨论正则表达式):"
   ]
  },
  {
   "cell_type": "code",
   "execution_count": 14,
   "metadata": {
    "ExecuteTime": {
     "end_time": "2021-10-09T08:16:26.969184Z",
     "start_time": "2021-10-09T08:16:26.956233Z"
    },
    "scrolled": false
   },
   "outputs": [
    {
     "data": {
      "text/plain": [
       "0                           SHATTUCK AVE\\nBerkeley, CA\n",
       "1             FRONTAGE STREET &GILMAN ST\\nBerkeley, CA\n",
       "2    2200 MILVIA ST\\nBerkeley, CA\\n(37.868574, -122...\n",
       "3                            VIRGINIA ST\\nBerkeley, CA\n",
       "4            UNIVERSITY AVENUE &FRONTAGE\\nBerkeley, CA\n",
       "5                              ASHBY AVE\\nBerkeley, CA\n",
       "6                           CATALINA AVE\\nBerkeley, CA\n",
       "7        CALIFORNIA STREET & FAIRVIEW ST\\nBerkeley, CA\n",
       "8                          600 CANYON RD\\nBerkeley, CA\n",
       "9    1700 FOURTH ST\\nBerkeley, CA\\n(37.871883, -122...\n",
       "Name: Block_Location, dtype: object"
      ]
     },
     "execution_count": 14,
     "metadata": {},
     "output_type": "execute_result"
    }
   ],
   "source": [
    "calls['Block_Location'].head(10)"
   ]
  },
  {
   "cell_type": "code",
   "execution_count": 15,
   "metadata": {},
   "outputs": [
    {
     "data": {
      "text/plain": [
       "' North '"
      ]
     },
     "execution_count": 15,
     "metadata": {},
     "output_type": "execute_result"
    }
   ],
   "source": [
    "# 字符串处理：split 返回split后的list\n",
    "s = 'Nina ( North ) Kristen Scott'\n",
    "s.split(\"(\")[1].split(\")\")[0]"
   ]
  },
  {
   "cell_type": "code",
   "execution_count": 16,
   "metadata": {
    "ExecuteTime": {
     "end_time": "2021-10-09T08:30:17.071850Z",
     "start_time": "2021-10-09T08:30:17.047902Z"
    },
    "slideshow": {
     "slide_type": "slide"
    }
   },
   "outputs": [
    {
     "data": {
      "text/plain": [
       "0                       NaN\n",
       "1                       NaN\n",
       "2    37.868574, -122.270415\n",
       "3                       NaN\n",
       "4                       NaN\n",
       "5                       NaN\n",
       "6                       NaN\n",
       "7                       NaN\n",
       "8                       NaN\n",
       "9    37.871883, -122.301255\n",
       "Name: Block_Location, dtype: object"
      ]
     },
     "execution_count": 16,
     "metadata": {},
     "output_type": "execute_result"
    }
   ],
   "source": [
    "def get_lat_lon(s):\n",
    "    try:\n",
    "        return s.split(\"(\")[1].split(\")\")[0]\n",
    "    except:\n",
    "        return np.nan\n",
    "\n",
    "calls_lat_lon = calls['Block_Location'].apply(get_lat_lon) # map 也可以！\n",
    "calls_lat_lon.head(10)"
   ]
  },
  {
   "cell_type": "code",
   "execution_count": 17,
   "metadata": {
    "ExecuteTime": {
     "end_time": "2021-10-09T09:01:04.995466Z",
     "start_time": "2021-10-09T09:01:04.948462Z"
    },
    "slideshow": {
     "slide_type": "slide"
    }
   },
   "outputs": [
    {
     "data": {
      "text/html": [
       "<div>\n",
       "<style scoped>\n",
       "    .dataframe tbody tr th:only-of-type {\n",
       "        vertical-align: middle;\n",
       "    }\n",
       "\n",
       "    .dataframe tbody tr th {\n",
       "        vertical-align: top;\n",
       "    }\n",
       "\n",
       "    .dataframe thead th {\n",
       "        text-align: right;\n",
       "    }\n",
       "</style>\n",
       "<table border=\"1\" class=\"dataframe\">\n",
       "  <thead>\n",
       "    <tr style=\"text-align: right;\">\n",
       "      <th></th>\n",
       "      <th>Lat</th>\n",
       "      <th>Lon</th>\n",
       "    </tr>\n",
       "  </thead>\n",
       "  <tbody>\n",
       "    <tr>\n",
       "      <th>0</th>\n",
       "      <td>NaN</td>\n",
       "      <td>NaN</td>\n",
       "    </tr>\n",
       "    <tr>\n",
       "      <th>1</th>\n",
       "      <td>NaN</td>\n",
       "      <td>NaN</td>\n",
       "    </tr>\n",
       "    <tr>\n",
       "      <th>2</th>\n",
       "      <td>37.868574</td>\n",
       "      <td>-122.270415</td>\n",
       "    </tr>\n",
       "    <tr>\n",
       "      <th>3</th>\n",
       "      <td>NaN</td>\n",
       "      <td>NaN</td>\n",
       "    </tr>\n",
       "    <tr>\n",
       "      <th>4</th>\n",
       "      <td>NaN</td>\n",
       "      <td>NaN</td>\n",
       "    </tr>\n",
       "    <tr>\n",
       "      <th>5</th>\n",
       "      <td>NaN</td>\n",
       "      <td>NaN</td>\n",
       "    </tr>\n",
       "    <tr>\n",
       "      <th>6</th>\n",
       "      <td>NaN</td>\n",
       "      <td>NaN</td>\n",
       "    </tr>\n",
       "    <tr>\n",
       "      <th>7</th>\n",
       "      <td>NaN</td>\n",
       "      <td>NaN</td>\n",
       "    </tr>\n",
       "    <tr>\n",
       "      <th>8</th>\n",
       "      <td>NaN</td>\n",
       "      <td>NaN</td>\n",
       "    </tr>\n",
       "    <tr>\n",
       "      <th>9</th>\n",
       "      <td>37.871883</td>\n",
       "      <td>-122.301255</td>\n",
       "    </tr>\n",
       "  </tbody>\n",
       "</table>\n",
       "</div>"
      ],
      "text/plain": [
       "         Lat          Lon\n",
       "0        NaN          NaN\n",
       "1        NaN          NaN\n",
       "2  37.868574  -122.270415\n",
       "3        NaN          NaN\n",
       "4        NaN          NaN\n",
       "5        NaN          NaN\n",
       "6        NaN          NaN\n",
       "7        NaN          NaN\n",
       "8        NaN          NaN\n",
       "9  37.871883  -122.301255"
      ]
     },
     "execution_count": 17,
     "metadata": {},
     "output_type": "execute_result"
    }
   ],
   "source": [
    "# 正则表达式\n",
    "# pandas method\n",
    "calls_lat_lon = (\n",
    "    # Remove newlines\n",
    "    calls['Block_Location'].str.replace(\"\\n\", \"\\t\") \n",
    "    # Extract Lat and Lon using regular expression\n",
    "    .str.extract(\".*\\((?P<Lat>\\d*\\.\\d*)\\, (?P<Lon>-?\\d*\\.\\d*)\\)\", expand=True)\n",
    ")\n",
    "calls_lat_lon.head(10)"
   ]
  },
  {
   "cell_type": "markdown",
   "metadata": {
    "slideshow": {
     "slide_type": "slide"
    }
   },
   "source": [
    "#### `~`求反运算\n",
    "计算数据比例： “~”求反运算 !"
   ]
  },
  {
   "cell_type": "code",
   "execution_count": 18,
   "metadata": {
    "ExecuteTime": {
     "end_time": "2021-10-09T08:30:39.940217Z",
     "start_time": "2021-10-09T08:30:39.926219Z"
    }
   },
   "outputs": [
    {
     "data": {
      "text/plain": [
       "Lat    0.963076\n",
       "Lon    0.963076\n",
       "dtype: float64"
      ]
     },
     "execution_count": 18,
     "metadata": {},
     "output_type": "execute_result"
    }
   ],
   "source": [
    "# Not all the records have a lat and lon. What fraction do have coordinates?\n",
    "(~calls_lat_lon.isnull()).mean()"
   ]
  },
  {
   "cell_type": "markdown",
   "metadata": {
    "slideshow": {
     "slide_type": "slide"
    }
   },
   "source": [
    "<br/><br/><br/>\n",
    "\n",
    "\n",
    "---\n",
    "## 导入`json`:open(json)\n",
    "**<font color = darkred>导入为字典。**"
   ]
  },
  {
   "cell_type": "markdown",
   "metadata": {
    "slideshow": {
     "slide_type": "slide"
    }
   },
   "source": [
    "Python对JSON数据的支持相对较好，因为它与内部Python对象模型非常匹配。在下面的单元格中，我们将整个JSON数据文件导入到python字典中。"
   ]
  },
  {
   "cell_type": "code",
   "execution_count": 19,
   "metadata": {
    "ExecuteTime": {
     "end_time": "2021-10-09T08:32:28.704922Z",
     "start_time": "2021-10-09T08:32:28.520849Z"
    }
   },
   "outputs": [],
   "source": [
    "import json\n",
    "\n",
    "with open(\"data/stops.json\", \"rb\") as f: # 用 f 代替 open(\"data/stops.json\", \"rb\")\n",
    "    stops_json = json.load(f)"
   ]
  },
  {
   "cell_type": "markdown",
   "metadata": {
    "slideshow": {
     "slide_type": "slide"
    }
   },
   "source": [
    "`stops_json`变量现在是一个编码文件中的数据的字典:"
   ]
  },
  {
   "cell_type": "code",
   "execution_count": 20,
   "metadata": {
    "ExecuteTime": {
     "end_time": "2021-10-09T08:32:45.822133Z",
     "start_time": "2021-10-09T08:32:45.803186Z"
    }
   },
   "outputs": [
    {
     "data": {
      "text/plain": [
       "dict"
      ]
     },
     "execution_count": 20,
     "metadata": {},
     "output_type": "execute_result"
    }
   ],
   "source": [
    "type(stops_json)"
   ]
  },
  {
   "cell_type": "markdown",
   "metadata": {
    "slideshow": {
     "slide_type": "slide"
    }
   },
   "source": [
    "### We can now examine what keys are in the top level json object\n",
    "\n",
    "We can list the keys to determine what data is stored in the object."
   ]
  },
  {
   "cell_type": "code",
   "execution_count": 21,
   "metadata": {
    "ExecuteTime": {
     "end_time": "2021-10-09T08:33:04.612083Z",
     "start_time": "2021-10-09T08:33:04.598134Z"
    }
   },
   "outputs": [
    {
     "data": {
      "text/plain": [
       "dict_keys(['meta', 'data'])"
      ]
     },
     "execution_count": 21,
     "metadata": {},
     "output_type": "execute_result"
    }
   ],
   "source": [
    "stops_json.keys()"
   ]
  },
  {
   "cell_type": "markdown",
   "metadata": {
    "slideshow": {
     "slide_type": "slide"
    }
   },
   "source": [
    "***\n",
    "Observation\n",
    "***\n",
    "The JSON dictionary contains a `meta` key which likely refers to meta data (data about the data).  Meta data often maintained with the data and can be a good source of additional information."
   ]
  },
  {
   "cell_type": "markdown",
   "metadata": {
    "slideshow": {
     "slide_type": "slide"
    }
   },
   "source": [
    "## Digging into Meta Data\n",
    "\n",
    "We can investigate the meta data further by examining the keys associated with the metadata."
   ]
  },
  {
   "cell_type": "code",
   "execution_count": 22,
   "metadata": {
    "ExecuteTime": {
     "end_time": "2021-10-09T08:33:55.526120Z",
     "start_time": "2021-10-09T08:33:55.508170Z"
    },
    "slideshow": {
     "slide_type": "slide"
    }
   },
   "outputs": [
    {
     "data": {
      "text/plain": [
       "dict_keys(['view'])"
      ]
     },
     "execution_count": 22,
     "metadata": {},
     "output_type": "execute_result"
    }
   ],
   "source": [
    "stops_json['meta'].keys()"
   ]
  },
  {
   "cell_type": "markdown",
   "metadata": {
    "slideshow": {
     "slide_type": "slide"
    }
   },
   "source": [
    "The `meta` key contains another dictionary called `view`.  This likely refers to meta-data about a particular \"view\" of some underlying database.  We will learn more about views as we study SQL later in the class. \n",
    "\n",
    "元键**包含另一个名为view的字典**。这可能是指一些底层数据库的特定“视图”的元数据。在后面的课程中，我们将学习更多关于视图的知识。"
   ]
  },
  {
   "cell_type": "code",
   "execution_count": 23,
   "metadata": {
    "ExecuteTime": {
     "end_time": "2021-10-09T08:34:17.618793Z",
     "start_time": "2021-10-09T08:34:17.610840Z"
    }
   },
   "outputs": [
    {
     "data": {
      "text/plain": [
       "dict_keys(['id', 'name', 'attribution', 'averageRating', 'category', 'createdAt', 'description', 'displayType', 'downloadCount', 'hideFromCatalog', 'hideFromDataJson', 'licenseId', 'newBackend', 'numberOfComments', 'oid', 'provenance', 'publicationAppendEnabled', 'publicationDate', 'publicationGroup', 'publicationStage', 'rowsUpdatedAt', 'rowsUpdatedBy', 'tableId', 'totalTimesRated', 'viewCount', 'viewLastModified', 'viewType', 'approvals', 'columns', 'grants', 'license', 'metadata', 'owner', 'query', 'rights', 'tableAuthor', 'tags', 'flags'])"
      ]
     },
     "execution_count": 23,
     "metadata": {},
     "output_type": "execute_result"
    }
   ],
   "source": [
    "stops_json['meta']['view'].keys()"
   ]
  },
  {
   "cell_type": "markdown",
   "metadata": {
    "slideshow": {
     "slide_type": "slide"
    }
   },
   "source": [
    "Notice that this a nested/recursive data structure.  As we dig deeper we reveal more and more keys and the corresponding data:\n",
    "\n",
    "注意，这是一个嵌套/递归数据结构。随着我们深入挖掘，我们揭示了越来越多的密钥和相应的数据:\n",
    "\n",
    "```\n",
    "meta\n",
    "|-> data\n",
    "    | ... (haven't explored yet)\n",
    "|-> view\n",
    "    | -> id\n",
    "    | -> name\n",
    "    | -> attribution \n",
    "    ...\n",
    "```"
   ]
  },
  {
   "cell_type": "markdown",
   "metadata": {
    "slideshow": {
     "slide_type": "slide"
    }
   },
   "source": [
    "There is a key called description in the view sub dictionary.  This likely contains a description of the data:"
   ]
  },
  {
   "cell_type": "code",
   "execution_count": 24,
   "metadata": {
    "ExecuteTime": {
     "end_time": "2021-10-09T08:34:51.983374Z",
     "start_time": "2021-10-09T08:34:51.978349Z"
    }
   },
   "outputs": [
    {
     "name": "stdout",
     "output_type": "stream",
     "text": [
      "This data was extracted from the Department’s Public Safety Server and covers data beginning January 26, 2015.  On January 26, 2015 the department began collecting data pursuant to General Order B-4 (issued December 31, 2014). Under that Order, officers were required to provide certain data after making any detention (vehicle, bicycle, pedestrian, suspicious auto).  This dataset provides information about detentions, including the race, sex, age range, of the person detained; the reason for the stop; the type of enforcement taken (if any), and whether or not a search was conducted.  Also provided are the date, time, location of the detention, as well as the incident number and call for service type.\n"
     ]
    }
   ],
   "source": [
    "print(stops_json['meta']['view']['description'])"
   ]
  },
  {
   "cell_type": "markdown",
   "metadata": {
    "slideshow": {
     "slide_type": "slide"
    }
   },
   "source": [
    "### Columns Meta data\n",
    "\n",
    "Another potentially useful key in the meta data dictionary is the `columns`.  This returns a list:\n",
    "\n",
    "元数据字典中另一个可能有用的键是列。返回一个列表:"
   ]
  },
  {
   "cell_type": "code",
   "execution_count": 25,
   "metadata": {
    "ExecuteTime": {
     "end_time": "2021-10-09T08:35:18.424488Z",
     "start_time": "2021-10-09T08:35:18.412536Z"
    }
   },
   "outputs": [
    {
     "data": {
      "text/plain": [
       "list"
      ]
     },
     "execution_count": 25,
     "metadata": {},
     "output_type": "execute_result"
    }
   ],
   "source": [
    "type(stops_json['meta']['view']['columns'])"
   ]
  },
  {
   "cell_type": "markdown",
   "metadata": {
    "slideshow": {
     "slide_type": "slide"
    }
   },
   "source": [
    "We can browse summary data in the list using python:"
   ]
  },
  {
   "cell_type": "code",
   "execution_count": 37,
   "metadata": {
    "ExecuteTime": {
     "end_time": "2021-10-09T08:41:45.014005Z",
     "start_time": "2021-10-09T08:41:44.996002Z"
    },
    "slideshow": {
     "slide_type": "slide"
    }
   },
   "outputs": [
    {
     "name": "stdout",
     "output_type": "stream",
     "text": [
      "sid : \n",
      "id : \n",
      "position : \n",
      "created_at : \n",
      "created_meta : \n",
      "updated_at : \n",
      "updated_meta : \n",
      "meta : \n",
      "CreateDatetime : \n",
      "\t2015-06-11T06:48:26.000:10\n",
      "\t2020-02-13T08:10:43.000:6\n",
      "\t2017-01-26T11:10:06.000:6\n",
      "\t2020-01-07T08:15:40.000:6\n",
      "\t2016-07-03T23:45:04.000:5\n",
      "\t2015-02-01T19:33:13.000:5\n",
      "\t2016-06-11T19:55:36.000:5\n",
      "\t2015-11-16T07:19:28.000:5\n",
      "\t2016-04-19T00:50:19.000:5\n",
      "\t2016-03-25T01:13:14.000:5\n",
      "\t2017-01-06T00:25:16.000:5\n",
      "\t2016-12-22T23:58:59.000:5\n",
      "\t2016-07-19T02:51:56.000:4\n",
      "\t2015-11-09T22:17:36.000:4\n",
      "\t2015-12-19T02:11:34.000:4\n",
      "\t2016-07-21T02:03:22.000:4\n",
      "\t2017-06-29T02:15:29.000:4\n",
      "\t2018-07-02T21:36:29.000:4\n",
      "\t2016-05-25T01:20:06.000:4\n",
      "\t2016-05-01T01:23:53.000:4\n",
      "IncidentNumber : \n",
      "\t2020-00001049:6\n",
      "\t2020-00008547:6\n",
      "\t2015-00033565:5\n",
      "\t2016-00039405:5\n",
      "\t2016-00017339:5\n",
      "\t2016-00075241:5\n",
      "\t2016-00034574:5\n",
      "\t2017-00000828:5\n",
      "\t2015-00033576:5\n",
      "\t2015-00067321:5\n",
      "\t2015-00006347:5\n",
      "\t2016-00022806:5\n",
      "\t2016-00030608:4\n",
      "\t2019-00025759:4\n",
      "\t2016-00049625:4\n",
      "\t2018-00010987:4\n",
      "\t2015-00033137:4\n",
      "\t2017-00045853:4\n",
      "\t2016-00042412:4\n",
      "\t2017-00057823:4\n",
      "Address : \n",
      "\tUNIVERSITY AVE / 6TH ST:525\n",
      "\tUNIVERSITY AVE / SAN PABLO AVE:472\n",
      "\tASHBY AVE / 7TH ST:449\n",
      "\t6TH ST / UNIVERSITY AVE:449\n",
      "\t7TH ST / POTTER ST:372\n",
      "\tUNIVERSITY AVE / MARTIN LUTHER KING JR WAY:360\n",
      "\tASHBY AVE / SAN PABLO AVE:351\n",
      "\t80 BOLIVAR DR:349\n",
      "\tSAN PABLO AVE / UNIVERSITY AVE:340\n",
      "\tUNIVERSITY AVE / FRONTAGE RD:320\n",
      "\t7TH ST / ASHBY AVE:311\n",
      "\tUNIVERSITY AVE / ACTON ST:296\n",
      "\tUNIVERSITY AVE / SACRAMENTO ST:295\n",
      "\tSHATTUCK AVE / KITTREDGE ST:272\n",
      "\tUNIVERSITY AVE / BONAR ST:242\n",
      "\tSAN PABLO AVE / ASHBY AVE:231\n",
      "\tPOTTER ST / 7TH ST:217\n",
      "\tUNIVERSITY AVE / 7TH ST:214\n",
      "\t1998 SHATTUCK AVE:211\n",
      "\tUNIVERSITY AVE / SHATTUCK AVE:204\n",
      "City : \n",
      "\tBERKELEY:53060\n",
      "\tOAKLAND:1818\n",
      "\tEMERYVILLE:316\n",
      "\tALBANY:129\n",
      "\tBerkeley:2\n",
      "Lat : \n",
      "\t-361:2958\n",
      "\t37.867993895:974\n",
      "\t37.869096588:812\n",
      "\t37.851008554:760\n",
      "\t37.851514871:589\n",
      "\t37.852140636:582\n",
      "\t37.871555258:500\n",
      "\t37.870410562:410\n",
      "\t37.868489249:396\n",
      "\t37.872151446:394\n",
      "\t37.866444425:392\n",
      "\t37.853281083:355\n",
      "\t37.870112645:349\n",
      "\t37.864546214:349\n",
      "\t37.868202006:335\n",
      "\t37.854316382:335\n",
      "\t37.851615813:311\n",
      "\t37.8693028530001:289\n",
      "\t37.865779797:269\n",
      "\t37.869696081:265\n",
      "Lon : \n",
      "\t-361:2958\n",
      "\t-122.297664389:974\n",
      "\t-122.292119433:812\n",
      "\t-122.291104028:760\n",
      "\t-122.291270411:589\n",
      "\t-122.286683357:582\n",
      "\t-122.273001335:500\n",
      "\t-122.281937988:410\n",
      "\t-122.267867519:396\n",
      "\t-122.26841392:394\n",
      "\t-122.305556167:392\n",
      "\t-122.279011568:355\n",
      "\t-122.301738812:349\n",
      "\t-122.284248929:349\n",
      "\t-122.29662475:335\n",
      "\t-122.271084145:335\n",
      "\t-122.289369289:311\n",
      "\t-122.272234021:289\n",
      "\t-122.267576002:269\n",
      "\t-122.287499477:265\n",
      "CallType : \n",
      "\tT:46101\n",
      "\t1194:6873\n",
      "\t1196:3247\n",
      "\t1194B:2497\n",
      "Race : \n",
      "\tWhite:20544\n",
      "\tBlack:19776\n",
      "\tHispanic:7534\n",
      "\tOther:5885\n",
      "\tAsian:4621\n",
      "\t0:358\n",
      "Gender : \n",
      "\tMale:41115\n",
      "\tFemale:17245\n",
      "\t0:358\n",
      "Age : \n",
      "\t>40:21829\n",
      "\t18-29:19276\n",
      "\t30-39:15822\n",
      "\t<18:1433\n",
      "\t0:358\n",
      "Reason : \n",
      "\tTraffic:49525\n",
      "\tInvestigation:5329\n",
      "\tReas. Susp.:2307\n",
      "\tProb./Parole:984\n",
      "\t0:358\n",
      "\tWanted:211\n",
      "Enforcement : \n",
      "\tWarning:35217\n",
      "\tCitation:20262\n",
      "\tArrest:1930\n",
      "\tOther:951\n",
      "\t0:358\n",
      "Car Search : \n",
      "\tNo Search:49500\n",
      "\tSearch:8860\n",
      "\t0:358\n"
     ]
    }
   ],
   "source": [
    "for c in stops_json['meta']['view']['columns']:\n",
    "    top = \"\"\n",
    "    items = \"\"\n",
    "    if \"cachedContents\" in c:\n",
    "        top = c[\"cachedContents\"][\"top\"]\n",
    "        for i in top:\n",
    "            items = items + \"\\n\\t\" + i[\"item\"] + \":\" + i[\"count\"]\n",
    "    print(c[\"name\"], \":\", items)"
   ]
  },
  {
   "cell_type": "markdown",
   "metadata": {
    "slideshow": {
     "slide_type": "slide"
    }
   },
   "source": [
    "\n",
    "### Observations?\n",
    "\n",
    "1. The above meta data tells us a lot about the columns in the data including column names, potential data anomalies, and a basic statistic. \n",
    "1. The old version of this data included descriptions which would be useful in loading and working with the data.\n",
    "1. JSON makes it easier (than CSV) to create \"self-documented data\". \n",
    "1. Self documenting data can be helpful since it maintains it's own description and these descriptions are more likely to be updated as data changes. "
   ]
  },
  {
   "cell_type": "markdown",
   "metadata": {
    "slideshow": {
     "slide_type": "slide"
    }
   },
   "source": [
    "\n",
    "### Examining the Data Field\n",
    "\n",
    "We can look at a few entires in the data field\n"
   ]
  },
  {
   "cell_type": "code",
   "execution_count": 38,
   "metadata": {
    "ExecuteTime": {
     "end_time": "2021-10-09T08:40:48.788929Z",
     "start_time": "2021-10-09T08:40:48.771980Z"
    }
   },
   "outputs": [
    {
     "name": "stdout",
     "output_type": "stream",
     "text": [
      "0 \t ['row-2j6s.qe6z_jtkn', '00000000-0000-0000-D599-E1C6017B6966', 0, 1589533219, None, 1589533219, None, '{ }', '2017-05-02T20:50:29', '2017-00024695', '1275 WALNUT ST', 'BERKELEY', '37.88452086', '-122.268652364', '1194', 'White', 'Female', '30-39', 'Investigation', 'Warning', 'No Search']\n",
      "1 \t ['row-79rz~ucps-35r6', '00000000-0000-0000-B83C-7A2ADDC55727', 0, 1598605226, None, 1598605226, None, '{ }', '2018-02-20T18:42:04', '2018-00010451', '2176 KITTREDGE ST', 'BERKELEY', '37.868233788', '-122.266394615', '1194', 'White', 'Male', '>40', 'Investigation', 'Other', 'No Search']\n",
      "2 \t ['row-tmr9_n9ye.6bzh', '00000000-0000-0000-3120-DC62279E5799', 0, 1598605226, None, 1598605226, None, '{ }', '2020-03-04T16:18:11', '2020-00012764', '1414 UNIVERSITY AVE', 'BERKELEY', '37.869690714', '-122.283865643', 'T', 'Black', 'Female', '>40', 'Traffic', 'Citation', 'No Search']\n"
     ]
    }
   ],
   "source": [
    "for i in range(3):\n",
    "    print(i, \"\\t\", stops_json['data'][i])"
   ]
  },
  {
   "cell_type": "markdown",
   "metadata": {
    "slideshow": {
     "slide_type": "slide"
    }
   },
   "source": [
    "## Building a Dataframe from JSON"
   ]
  },
  {
   "cell_type": "markdown",
   "metadata": {
    "slideshow": {
     "slide_type": "-"
    }
   },
   "source": [
    "In the following block of code we:\n",
    "1. Translate the JSON records into a dataframe\n",
    "1. Remove columns that have no metadata description.  This would be a bad idea in general but here we remove these columns since the above analysis suggests that they are unlikely to contain useful information.\n",
    "1. Examine the top of the table"
   ]
  },
  {
   "cell_type": "code",
   "execution_count": 39,
   "metadata": {
    "ExecuteTime": {
     "end_time": "2021-10-09T08:42:29.381295Z",
     "start_time": "2021-10-09T08:42:29.088274Z"
    }
   },
   "outputs": [
    {
     "data": {
      "text/html": [
       "<div>\n",
       "<style scoped>\n",
       "    .dataframe tbody tr th:only-of-type {\n",
       "        vertical-align: middle;\n",
       "    }\n",
       "\n",
       "    .dataframe tbody tr th {\n",
       "        vertical-align: top;\n",
       "    }\n",
       "\n",
       "    .dataframe thead th {\n",
       "        text-align: right;\n",
       "    }\n",
       "</style>\n",
       "<table border=\"1\" class=\"dataframe\">\n",
       "  <thead>\n",
       "    <tr style=\"text-align: right;\">\n",
       "      <th></th>\n",
       "      <th>sid</th>\n",
       "      <th>id</th>\n",
       "      <th>position</th>\n",
       "      <th>created_at</th>\n",
       "      <th>created_meta</th>\n",
       "      <th>updated_at</th>\n",
       "      <th>updated_meta</th>\n",
       "      <th>meta</th>\n",
       "      <th>CreateDatetime</th>\n",
       "      <th>IncidentNumber</th>\n",
       "      <th>...</th>\n",
       "      <th>City</th>\n",
       "      <th>Lat</th>\n",
       "      <th>Lon</th>\n",
       "      <th>CallType</th>\n",
       "      <th>Race</th>\n",
       "      <th>Gender</th>\n",
       "      <th>Age</th>\n",
       "      <th>Reason</th>\n",
       "      <th>Enforcement</th>\n",
       "      <th>Car Search</th>\n",
       "    </tr>\n",
       "  </thead>\n",
       "  <tbody>\n",
       "    <tr>\n",
       "      <th>0</th>\n",
       "      <td>row-2j6s.qe6z_jtkn</td>\n",
       "      <td>00000000-0000-0000-D599-E1C6017B6966</td>\n",
       "      <td>0</td>\n",
       "      <td>1589533219</td>\n",
       "      <td>None</td>\n",
       "      <td>1589533219</td>\n",
       "      <td>None</td>\n",
       "      <td>{ }</td>\n",
       "      <td>2017-05-02T20:50:29</td>\n",
       "      <td>2017-00024695</td>\n",
       "      <td>...</td>\n",
       "      <td>BERKELEY</td>\n",
       "      <td>37.88452086</td>\n",
       "      <td>-122.268652364</td>\n",
       "      <td>1194</td>\n",
       "      <td>White</td>\n",
       "      <td>Female</td>\n",
       "      <td>30-39</td>\n",
       "      <td>Investigation</td>\n",
       "      <td>Warning</td>\n",
       "      <td>No Search</td>\n",
       "    </tr>\n",
       "    <tr>\n",
       "      <th>1</th>\n",
       "      <td>row-79rz~ucps-35r6</td>\n",
       "      <td>00000000-0000-0000-B83C-7A2ADDC55727</td>\n",
       "      <td>0</td>\n",
       "      <td>1598605226</td>\n",
       "      <td>None</td>\n",
       "      <td>1598605226</td>\n",
       "      <td>None</td>\n",
       "      <td>{ }</td>\n",
       "      <td>2018-02-20T18:42:04</td>\n",
       "      <td>2018-00010451</td>\n",
       "      <td>...</td>\n",
       "      <td>BERKELEY</td>\n",
       "      <td>37.868233788</td>\n",
       "      <td>-122.266394615</td>\n",
       "      <td>1194</td>\n",
       "      <td>White</td>\n",
       "      <td>Male</td>\n",
       "      <td>&gt;40</td>\n",
       "      <td>Investigation</td>\n",
       "      <td>Other</td>\n",
       "      <td>No Search</td>\n",
       "    </tr>\n",
       "    <tr>\n",
       "      <th>2</th>\n",
       "      <td>row-tmr9_n9ye.6bzh</td>\n",
       "      <td>00000000-0000-0000-3120-DC62279E5799</td>\n",
       "      <td>0</td>\n",
       "      <td>1598605226</td>\n",
       "      <td>None</td>\n",
       "      <td>1598605226</td>\n",
       "      <td>None</td>\n",
       "      <td>{ }</td>\n",
       "      <td>2020-03-04T16:18:11</td>\n",
       "      <td>2020-00012764</td>\n",
       "      <td>...</td>\n",
       "      <td>BERKELEY</td>\n",
       "      <td>37.869690714</td>\n",
       "      <td>-122.283865643</td>\n",
       "      <td>T</td>\n",
       "      <td>Black</td>\n",
       "      <td>Female</td>\n",
       "      <td>&gt;40</td>\n",
       "      <td>Traffic</td>\n",
       "      <td>Citation</td>\n",
       "      <td>No Search</td>\n",
       "    </tr>\n",
       "    <tr>\n",
       "      <th>3</th>\n",
       "      <td>row-cjve_43yp_s8ec</td>\n",
       "      <td>00000000-0000-0000-4EEF-F940D151C603</td>\n",
       "      <td>0</td>\n",
       "      <td>1598605226</td>\n",
       "      <td>None</td>\n",
       "      <td>1598605226</td>\n",
       "      <td>None</td>\n",
       "      <td>{ }</td>\n",
       "      <td>2018-12-04T15:11:14</td>\n",
       "      <td>2018-00067166</td>\n",
       "      <td>...</td>\n",
       "      <td>BERKELEY</td>\n",
       "      <td>37.867138358</td>\n",
       "      <td>-122.268229602</td>\n",
       "      <td>1196</td>\n",
       "      <td>Hispanic</td>\n",
       "      <td>Male</td>\n",
       "      <td>30-39</td>\n",
       "      <td>Traffic</td>\n",
       "      <td>Warning</td>\n",
       "      <td>No Search</td>\n",
       "    </tr>\n",
       "    <tr>\n",
       "      <th>4</th>\n",
       "      <td>row-wxqp_6mgh-v4r5</td>\n",
       "      <td>00000000-0000-0000-8B94-7D86EB47C51D</td>\n",
       "      <td>0</td>\n",
       "      <td>1589533219</td>\n",
       "      <td>None</td>\n",
       "      <td>1589533219</td>\n",
       "      <td>None</td>\n",
       "      <td>{ }</td>\n",
       "      <td>2020-05-13T09:37:53</td>\n",
       "      <td>2020-00023435</td>\n",
       "      <td>...</td>\n",
       "      <td>BERKELEY</td>\n",
       "      <td>37.865779797</td>\n",
       "      <td>-122.267576002</td>\n",
       "      <td>1194</td>\n",
       "      <td>Black</td>\n",
       "      <td>Male</td>\n",
       "      <td>&gt;40</td>\n",
       "      <td>Traffic</td>\n",
       "      <td>Citation</td>\n",
       "      <td>No Search</td>\n",
       "    </tr>\n",
       "  </tbody>\n",
       "</table>\n",
       "<p>5 rows × 21 columns</p>\n",
       "</div>"
      ],
      "text/plain": [
       "                  sid                                    id  position  \\\n",
       "0  row-2j6s.qe6z_jtkn  00000000-0000-0000-D599-E1C6017B6966         0   \n",
       "1  row-79rz~ucps-35r6  00000000-0000-0000-B83C-7A2ADDC55727         0   \n",
       "2  row-tmr9_n9ye.6bzh  00000000-0000-0000-3120-DC62279E5799         0   \n",
       "3  row-cjve_43yp_s8ec  00000000-0000-0000-4EEF-F940D151C603         0   \n",
       "4  row-wxqp_6mgh-v4r5  00000000-0000-0000-8B94-7D86EB47C51D         0   \n",
       "\n",
       "   created_at created_meta  updated_at updated_meta meta       CreateDatetime  \\\n",
       "0  1589533219         None  1589533219         None  { }  2017-05-02T20:50:29   \n",
       "1  1598605226         None  1598605226         None  { }  2018-02-20T18:42:04   \n",
       "2  1598605226         None  1598605226         None  { }  2020-03-04T16:18:11   \n",
       "3  1598605226         None  1598605226         None  { }  2018-12-04T15:11:14   \n",
       "4  1589533219         None  1589533219         None  { }  2020-05-13T09:37:53   \n",
       "\n",
       "  IncidentNumber  ...      City           Lat             Lon CallType  \\\n",
       "0  2017-00024695  ...  BERKELEY   37.88452086  -122.268652364     1194   \n",
       "1  2018-00010451  ...  BERKELEY  37.868233788  -122.266394615     1194   \n",
       "2  2020-00012764  ...  BERKELEY  37.869690714  -122.283865643        T   \n",
       "3  2018-00067166  ...  BERKELEY  37.867138358  -122.268229602     1196   \n",
       "4  2020-00023435  ...  BERKELEY  37.865779797  -122.267576002     1194   \n",
       "\n",
       "       Race  Gender    Age         Reason Enforcement Car Search  \n",
       "0     White  Female  30-39  Investigation     Warning  No Search  \n",
       "1     White    Male    >40  Investigation       Other  No Search  \n",
       "2     Black  Female    >40        Traffic    Citation  No Search  \n",
       "3  Hispanic    Male  30-39        Traffic     Warning  No Search  \n",
       "4     Black    Male    >40        Traffic    Citation  No Search  \n",
       "\n",
       "[5 rows x 21 columns]"
      ]
     },
     "execution_count": 39,
     "metadata": {},
     "output_type": "execute_result"
    }
   ],
   "source": [
    "# Load the data from JSON and assign column titles\n",
    "stops = pd.DataFrame(\n",
    "    stops_json['data'],\n",
    "    columns=[c['name'] for c in stops_json['meta']['view']['columns']])\n",
    "\n",
    "stops.head()"
   ]
  },
  {
   "cell_type": "code",
   "execution_count": 29,
   "metadata": {
    "ExecuteTime": {
     "end_time": "2021-10-09T08:42:45.425348Z",
     "start_time": "2021-10-09T08:42:45.412348Z"
    }
   },
   "outputs": [
    {
     "data": {
      "text/plain": [
       "Index(['sid', 'id', 'position', 'created_at', 'created_meta', 'updated_at',\n",
       "       'updated_meta', 'meta', 'CreateDatetime', 'IncidentNumber', 'Address',\n",
       "       'City', 'Lat', 'Lon', 'CallType', 'Race', 'Gender', 'Age', 'Reason',\n",
       "       'Enforcement', 'Car Search'],\n",
       "      dtype='object')"
      ]
     },
     "execution_count": 29,
     "metadata": {},
     "output_type": "execute_result"
    }
   ],
   "source": [
    "stops.columns"
   ]
  },
  {
   "cell_type": "markdown",
   "metadata": {
    "slideshow": {
     "slide_type": "slide"
    }
   },
   "source": [
    "## Preliminary Observations\n",
    "\n",
    "What do we observe so far?"
   ]
  },
  {
   "cell_type": "markdown",
   "metadata": {},
   "source": [
    "We observe:\n",
    "1. The `Incident Number` appears to have the year encoded in it - we could potentially use this as a validation check.  \n",
    "1. The `created_at` and `updated_at` Fields look like they are in milliseconds since January 1, 1970.\n",
    "1. The `CreateDatetime` Field looks to be formatted in YYYY-MM-DDTHH:MM:SS.  I am guessing T means \"Time\".\n",
    "1. The `Age` Field has variable size brackets: 18-29, 30-39, >40."
   ]
  },
  {
   "cell_type": "markdown",
   "metadata": {
    "slideshow": {
     "slide_type": "slide"
    }
   },
   "source": [
    "# Exploration\n",
    "\n",
    "Now that we have loaded our various data files.  Let's try to understand a bit more about the data by examining properties of individual fields."
   ]
  },
  {
   "cell_type": "code",
   "execution_count": 30,
   "metadata": {
    "ExecuteTime": {
     "end_time": "2018-02-02T15:15:19.818072Z",
     "start_time": "2018-02-02T15:15:19.795893Z"
    }
   },
   "outputs": [
    {
     "data": {
      "text/html": [
       "<div>\n",
       "<style scoped>\n",
       "    .dataframe tbody tr th:only-of-type {\n",
       "        vertical-align: middle;\n",
       "    }\n",
       "\n",
       "    .dataframe tbody tr th {\n",
       "        vertical-align: top;\n",
       "    }\n",
       "\n",
       "    .dataframe thead th {\n",
       "        text-align: right;\n",
       "    }\n",
       "</style>\n",
       "<table border=\"1\" class=\"dataframe\">\n",
       "  <thead>\n",
       "    <tr style=\"text-align: right;\">\n",
       "      <th></th>\n",
       "      <th>CASENO</th>\n",
       "      <th>OFFENSE</th>\n",
       "      <th>EVENTDT</th>\n",
       "      <th>EVENTTM</th>\n",
       "      <th>CVLEGEND</th>\n",
       "      <th>CVDOW</th>\n",
       "      <th>InDbDate</th>\n",
       "      <th>Block_Location</th>\n",
       "      <th>BLKADDR</th>\n",
       "      <th>City</th>\n",
       "      <th>State</th>\n",
       "      <th>Day</th>\n",
       "    </tr>\n",
       "  </thead>\n",
       "  <tbody>\n",
       "    <tr>\n",
       "      <th>0</th>\n",
       "      <td>19092769</td>\n",
       "      <td>THEFT MISD. (UNDER $950)</td>\n",
       "      <td>12/09/2019 12:00:00 AM</td>\n",
       "      <td>13:00</td>\n",
       "      <td>LARCENY</td>\n",
       "      <td>1</td>\n",
       "      <td>09/10/2020 07:00:11 AM</td>\n",
       "      <td>SHATTUCK AVE\\nBerkeley, CA</td>\n",
       "      <td>SHATTUCK AVE</td>\n",
       "      <td>Berkeley</td>\n",
       "      <td>CA</td>\n",
       "      <td>Monday</td>\n",
       "    </tr>\n",
       "    <tr>\n",
       "      <th>1</th>\n",
       "      <td>19045891</td>\n",
       "      <td>NARCOTICS</td>\n",
       "      <td>08/18/2019 12:00:00 AM</td>\n",
       "      <td>17:20</td>\n",
       "      <td>DRUG VIOLATION</td>\n",
       "      <td>0</td>\n",
       "      <td>09/10/2020 07:00:08 AM</td>\n",
       "      <td>FRONTAGE STREET &amp;GILMAN ST\\nBerkeley, CA</td>\n",
       "      <td>FRONTAGE STREET &amp;GILMAN ST</td>\n",
       "      <td>Berkeley</td>\n",
       "      <td>CA</td>\n",
       "      <td>Sunday</td>\n",
       "    </tr>\n",
       "    <tr>\n",
       "      <th>2</th>\n",
       "      <td>19060215</td>\n",
       "      <td>ASSAULT/BATTERY MISD.</td>\n",
       "      <td>10/23/2019 12:00:00 AM</td>\n",
       "      <td>10:45</td>\n",
       "      <td>ASSAULT</td>\n",
       "      <td>3</td>\n",
       "      <td>09/10/2020 07:00:10 AM</td>\n",
       "      <td>2200 MILVIA ST\\nBerkeley, CA\\n(37.868574, -122...</td>\n",
       "      <td>2200 MILVIA ST</td>\n",
       "      <td>Berkeley</td>\n",
       "      <td>CA</td>\n",
       "      <td>Wednesday</td>\n",
       "    </tr>\n",
       "    <tr>\n",
       "      <th>3</th>\n",
       "      <td>19092681</td>\n",
       "      <td>VANDALISM</td>\n",
       "      <td>12/01/2019 12:00:00 AM</td>\n",
       "      <td>18:40</td>\n",
       "      <td>VANDALISM</td>\n",
       "      <td>0</td>\n",
       "      <td>09/10/2020 07:00:11 AM</td>\n",
       "      <td>VIRGINIA ST\\nBerkeley, CA</td>\n",
       "      <td>VIRGINIA ST</td>\n",
       "      <td>Berkeley</td>\n",
       "      <td>CA</td>\n",
       "      <td>Sunday</td>\n",
       "    </tr>\n",
       "    <tr>\n",
       "      <th>4</th>\n",
       "      <td>19044228</td>\n",
       "      <td>ASSAULT/BATTERY MISD.</td>\n",
       "      <td>08/10/2019 12:00:00 AM</td>\n",
       "      <td>22:51</td>\n",
       "      <td>ASSAULT</td>\n",
       "      <td>6</td>\n",
       "      <td>09/10/2020 07:00:08 AM</td>\n",
       "      <td>UNIVERSITY AVENUE &amp;FRONTAGE\\nBerkeley, CA</td>\n",
       "      <td>UNIVERSITY AVENUE &amp;FRONTAGE</td>\n",
       "      <td>Berkeley</td>\n",
       "      <td>CA</td>\n",
       "      <td>Saturday</td>\n",
       "    </tr>\n",
       "  </tbody>\n",
       "</table>\n",
       "</div>"
      ],
      "text/plain": [
       "     CASENO                   OFFENSE                 EVENTDT EVENTTM  \\\n",
       "0  19092769  THEFT MISD. (UNDER $950)  12/09/2019 12:00:00 AM   13:00   \n",
       "1  19045891                 NARCOTICS  08/18/2019 12:00:00 AM   17:20   \n",
       "2  19060215     ASSAULT/BATTERY MISD.  10/23/2019 12:00:00 AM   10:45   \n",
       "3  19092681                 VANDALISM  12/01/2019 12:00:00 AM   18:40   \n",
       "4  19044228     ASSAULT/BATTERY MISD.  08/10/2019 12:00:00 AM   22:51   \n",
       "\n",
       "         CVLEGEND  CVDOW                InDbDate  \\\n",
       "0         LARCENY      1  09/10/2020 07:00:11 AM   \n",
       "1  DRUG VIOLATION      0  09/10/2020 07:00:08 AM   \n",
       "2         ASSAULT      3  09/10/2020 07:00:10 AM   \n",
       "3       VANDALISM      0  09/10/2020 07:00:11 AM   \n",
       "4         ASSAULT      6  09/10/2020 07:00:08 AM   \n",
       "\n",
       "                                      Block_Location  \\\n",
       "0                         SHATTUCK AVE\\nBerkeley, CA   \n",
       "1           FRONTAGE STREET &GILMAN ST\\nBerkeley, CA   \n",
       "2  2200 MILVIA ST\\nBerkeley, CA\\n(37.868574, -122...   \n",
       "3                          VIRGINIA ST\\nBerkeley, CA   \n",
       "4          UNIVERSITY AVENUE &FRONTAGE\\nBerkeley, CA   \n",
       "\n",
       "                       BLKADDR      City State        Day  \n",
       "0                 SHATTUCK AVE  Berkeley    CA     Monday  \n",
       "1   FRONTAGE STREET &GILMAN ST  Berkeley    CA     Sunday  \n",
       "2               2200 MILVIA ST  Berkeley    CA  Wednesday  \n",
       "3                  VIRGINIA ST  Berkeley    CA     Sunday  \n",
       "4  UNIVERSITY AVENUE &FRONTAGE  Berkeley    CA   Saturday  "
      ]
     },
     "execution_count": 30,
     "metadata": {},
     "output_type": "execute_result"
    }
   ],
   "source": [
    "calls.head()"
   ]
  },
  {
   "cell_type": "markdown",
   "metadata": {
    "slideshow": {
     "slide_type": "slide"
    }
   },
   "source": [
    "### Are Case Numbers unique?\n",
    "\n",
    "Case numbers are probably used internally to track individual cases and my reference other data we don't have access to.  However, it is possible that multiple calls could be associated with the same case.  Let's see if the case numbers are all unique."
   ]
  },
  {
   "cell_type": "code",
   "execution_count": 40,
   "metadata": {
    "ExecuteTime": {
     "end_time": "2021-10-09T08:46:38.457566Z",
     "start_time": "2021-10-09T08:46:38.436541Z"
    }
   },
   "outputs": [
    {
     "name": "stdout",
     "output_type": "stream",
     "text": [
      "There are 5227 unique case numbers.\n",
      "There are 5227 calls in the table.\n"
     ]
    }
   ],
   "source": [
    "print(\"There are\", calls['CASENO'].unique().shape[0], \"unique case numbers.\")\n",
    "print(\"There are\", calls.shape[0], \"calls in the table.\")"
   ]
  },
  {
   "cell_type": "markdown",
   "metadata": {
    "slideshow": {
     "slide_type": "slide"
    }
   },
   "source": [
    "### Are there any other interesting temporal patterns\n",
    "\n",
    "Do more calls occur on a particular day of the week?"
   ]
  },
  {
   "cell_type": "code",
   "execution_count": 32,
   "metadata": {
    "ExecuteTime": {
     "end_time": "2021-10-09T09:07:35.412891Z",
     "start_time": "2021-10-09T09:07:35.396942Z"
    },
    "slideshow": {
     "slide_type": "slide"
    }
   },
   "outputs": [
    {
     "data": {
      "text/plain": [
       "Day\n",
       "Sunday       660\n",
       "Monday       788\n",
       "Tuesday      730\n",
       "Wednesday    751\n",
       "Thursday     771\n",
       "Friday       778\n",
       "Saturday     749\n",
       "Name: CASENO, dtype: int64"
      ]
     },
     "execution_count": 32,
     "metadata": {},
     "output_type": "execute_result"
    }
   ],
   "source": [
    "dow = [\"Sunday\", \"Monday\", \"Tuesday\", \"Wednesday\", \"Thursday\", \"Friday\", \"Saturday\"]\n",
    "calls.groupby('Day')['CASENO'].count()[dow]"
   ]
  },
  {
   "cell_type": "markdown",
   "metadata": {},
   "source": [
    "### Examining the Event\n",
    "\n",
    "We also have data about the different kinds of crimes being reported"
   ]
  },
  {
   "cell_type": "code",
   "execution_count": 41,
   "metadata": {
    "ExecuteTime": {
     "end_time": "2021-10-09T09:09:13.235757Z",
     "start_time": "2021-10-09T09:09:13.197754Z"
    }
   },
   "outputs": [
    {
     "data": {
      "text/html": [
       "<div>\n",
       "<style scoped>\n",
       "    .dataframe tbody tr th:only-of-type {\n",
       "        vertical-align: middle;\n",
       "    }\n",
       "\n",
       "    .dataframe tbody tr th {\n",
       "        vertical-align: top;\n",
       "    }\n",
       "\n",
       "    .dataframe thead th {\n",
       "        text-align: right;\n",
       "    }\n",
       "</style>\n",
       "<table border=\"1\" class=\"dataframe\">\n",
       "  <thead>\n",
       "    <tr style=\"text-align: right;\">\n",
       "      <th></th>\n",
       "      <th>CASENO</th>\n",
       "      <th>OFFENSE</th>\n",
       "      <th>EVENTDT</th>\n",
       "      <th>EVENTTM</th>\n",
       "      <th>CVLEGEND</th>\n",
       "      <th>CVDOW</th>\n",
       "      <th>InDbDate</th>\n",
       "      <th>Block_Location</th>\n",
       "      <th>BLKADDR</th>\n",
       "      <th>City</th>\n",
       "      <th>State</th>\n",
       "      <th>Day</th>\n",
       "    </tr>\n",
       "  </thead>\n",
       "  <tbody>\n",
       "    <tr>\n",
       "      <th>0</th>\n",
       "      <td>19092769</td>\n",
       "      <td>THEFT MISD. (UNDER $950)</td>\n",
       "      <td>12/09/2019 12:00:00 AM</td>\n",
       "      <td>13:00</td>\n",
       "      <td>LARCENY</td>\n",
       "      <td>1</td>\n",
       "      <td>09/10/2020 07:00:11 AM</td>\n",
       "      <td>SHATTUCK AVE\\nBerkeley, CA</td>\n",
       "      <td>SHATTUCK AVE</td>\n",
       "      <td>Berkeley</td>\n",
       "      <td>CA</td>\n",
       "      <td>Monday</td>\n",
       "    </tr>\n",
       "    <tr>\n",
       "      <th>1</th>\n",
       "      <td>19045891</td>\n",
       "      <td>NARCOTICS</td>\n",
       "      <td>08/18/2019 12:00:00 AM</td>\n",
       "      <td>17:20</td>\n",
       "      <td>DRUG VIOLATION</td>\n",
       "      <td>0</td>\n",
       "      <td>09/10/2020 07:00:08 AM</td>\n",
       "      <td>FRONTAGE STREET &amp;GILMAN ST\\nBerkeley, CA</td>\n",
       "      <td>FRONTAGE STREET &amp;GILMAN ST</td>\n",
       "      <td>Berkeley</td>\n",
       "      <td>CA</td>\n",
       "      <td>Sunday</td>\n",
       "    </tr>\n",
       "    <tr>\n",
       "      <th>2</th>\n",
       "      <td>19060215</td>\n",
       "      <td>ASSAULT/BATTERY MISD.</td>\n",
       "      <td>10/23/2019 12:00:00 AM</td>\n",
       "      <td>10:45</td>\n",
       "      <td>ASSAULT</td>\n",
       "      <td>3</td>\n",
       "      <td>09/10/2020 07:00:10 AM</td>\n",
       "      <td>2200 MILVIA ST\\nBerkeley, CA\\n(37.868574, -122...</td>\n",
       "      <td>2200 MILVIA ST</td>\n",
       "      <td>Berkeley</td>\n",
       "      <td>CA</td>\n",
       "      <td>Wednesday</td>\n",
       "    </tr>\n",
       "    <tr>\n",
       "      <th>3</th>\n",
       "      <td>19092681</td>\n",
       "      <td>VANDALISM</td>\n",
       "      <td>12/01/2019 12:00:00 AM</td>\n",
       "      <td>18:40</td>\n",
       "      <td>VANDALISM</td>\n",
       "      <td>0</td>\n",
       "      <td>09/10/2020 07:00:11 AM</td>\n",
       "      <td>VIRGINIA ST\\nBerkeley, CA</td>\n",
       "      <td>VIRGINIA ST</td>\n",
       "      <td>Berkeley</td>\n",
       "      <td>CA</td>\n",
       "      <td>Sunday</td>\n",
       "    </tr>\n",
       "    <tr>\n",
       "      <th>4</th>\n",
       "      <td>19044228</td>\n",
       "      <td>ASSAULT/BATTERY MISD.</td>\n",
       "      <td>08/10/2019 12:00:00 AM</td>\n",
       "      <td>22:51</td>\n",
       "      <td>ASSAULT</td>\n",
       "      <td>6</td>\n",
       "      <td>09/10/2020 07:00:08 AM</td>\n",
       "      <td>UNIVERSITY AVENUE &amp;FRONTAGE\\nBerkeley, CA</td>\n",
       "      <td>UNIVERSITY AVENUE &amp;FRONTAGE</td>\n",
       "      <td>Berkeley</td>\n",
       "      <td>CA</td>\n",
       "      <td>Saturday</td>\n",
       "    </tr>\n",
       "  </tbody>\n",
       "</table>\n",
       "</div>"
      ],
      "text/plain": [
       "     CASENO                   OFFENSE                 EVENTDT EVENTTM  \\\n",
       "0  19092769  THEFT MISD. (UNDER $950)  12/09/2019 12:00:00 AM   13:00   \n",
       "1  19045891                 NARCOTICS  08/18/2019 12:00:00 AM   17:20   \n",
       "2  19060215     ASSAULT/BATTERY MISD.  10/23/2019 12:00:00 AM   10:45   \n",
       "3  19092681                 VANDALISM  12/01/2019 12:00:00 AM   18:40   \n",
       "4  19044228     ASSAULT/BATTERY MISD.  08/10/2019 12:00:00 AM   22:51   \n",
       "\n",
       "         CVLEGEND  CVDOW                InDbDate  \\\n",
       "0         LARCENY      1  09/10/2020 07:00:11 AM   \n",
       "1  DRUG VIOLATION      0  09/10/2020 07:00:08 AM   \n",
       "2         ASSAULT      3  09/10/2020 07:00:10 AM   \n",
       "3       VANDALISM      0  09/10/2020 07:00:11 AM   \n",
       "4         ASSAULT      6  09/10/2020 07:00:08 AM   \n",
       "\n",
       "                                      Block_Location  \\\n",
       "0                         SHATTUCK AVE\\nBerkeley, CA   \n",
       "1           FRONTAGE STREET &GILMAN ST\\nBerkeley, CA   \n",
       "2  2200 MILVIA ST\\nBerkeley, CA\\n(37.868574, -122...   \n",
       "3                          VIRGINIA ST\\nBerkeley, CA   \n",
       "4          UNIVERSITY AVENUE &FRONTAGE\\nBerkeley, CA   \n",
       "\n",
       "                       BLKADDR      City State        Day  \n",
       "0                 SHATTUCK AVE  Berkeley    CA     Monday  \n",
       "1   FRONTAGE STREET &GILMAN ST  Berkeley    CA     Sunday  \n",
       "2               2200 MILVIA ST  Berkeley    CA  Wednesday  \n",
       "3                  VIRGINIA ST  Berkeley    CA     Sunday  \n",
       "4  UNIVERSITY AVENUE &FRONTAGE  Berkeley    CA   Saturday  "
      ]
     },
     "execution_count": 41,
     "metadata": {},
     "output_type": "execute_result"
    }
   ],
   "source": [
    "calls.head()"
   ]
  },
  {
   "cell_type": "markdown",
   "metadata": {},
   "source": [
    "### The Offense Field\n",
    "\n",
    "The Offense field appears to contain the specific crime being reported.  As nominal data we might want to see a summary constructed by computing counts of each offense type:"
   ]
  },
  {
   "cell_type": "code",
   "execution_count": 42,
   "metadata": {
    "ExecuteTime": {
     "end_time": "2021-10-09T09:09:41.230458Z",
     "start_time": "2021-10-09T09:09:40.508456Z"
    }
   },
   "outputs": [
    {
     "data": {
      "text/plain": [
       "<AxesSubplot:>"
      ]
     },
     "execution_count": 42,
     "metadata": {},
     "output_type": "execute_result"
    },
    {
     "data": {
      "image/png": "[encoded data removed]",
      "text/plain": [
       "<Figure size 432x288 with 1 Axes>"
      ]
     },
     "metadata": {
      "needs_background": "light"
     },
     "output_type": "display_data"
    }
   ],
   "source": [
    "calls['OFFENSE'].value_counts().plot(kind = 'bar')"
   ]
  },
  {
   "cell_type": "markdown",
   "metadata": {
    "slideshow": {
     "slide_type": "slide"
    }
   },
   "source": [
    "#### Observations?"
   ]
  },
  {
   "cell_type": "markdown",
   "metadata": {
    "slideshow": {
     "slide_type": "slide"
    }
   },
   "source": [
    "Car burglary and misdemeanor theft seem to be the most common crimes with many other types of crimes occurring rarely."
   ]
  },
  {
   "cell_type": "markdown",
   "metadata": {},
   "source": [
    "### CVLEGEND\n",
    "\n",
    "The CVLEGEND field provides the broad category of crime and is a good mechanism to group potentially similar crimes. "
   ]
  },
  {
   "cell_type": "code",
   "execution_count": 35,
   "metadata": {
    "ExecuteTime": {
     "end_time": "2021-10-09T09:12:06.476501Z",
     "start_time": "2021-10-09T09:12:06.185545Z"
    }
   },
   "outputs": [
    {
     "data": {
      "text/plain": [
       "<AxesSubplot:>"
      ]
     },
     "execution_count": 35,
     "metadata": {},
     "output_type": "execute_result"
    },
    {
     "data": {
      "image/png": "[encoded data removed]",
      "text/plain": [
       "<Figure size 432x288 with 1 Axes>"
      ]
     },
     "metadata": {
      "needs_background": "light"
     },
     "output_type": "display_data"
    }
   ],
   "source": [
    "calls['CVLEGEND'].value_counts().plot(kind=\"bar\")"
   ]
  },
  {
   "cell_type": "markdown",
   "metadata": {
    "slideshow": {
     "slide_type": "slide"
    }
   },
   "source": [
    "## Advanced: Examine data geographically"
   ]
  },
  {
   "cell_type": "code",
   "execution_count": 36,
   "metadata": {
    "ExecuteTime": {
     "end_time": "2021-10-09T09:04:04.657643Z",
     "start_time": "2021-10-09T09:04:04.568643Z"
    },
    "slideshow": {
     "slide_type": "slide"
    }
   },
   "outputs": [
    {
     "ename": "ModuleNotFoundError",
     "evalue": "No module named 'folium'",
     "output_type": "error",
     "traceback": [
      "\u001b[1;31m---------------------------------------------------------------------------\u001b[0m",
      "\u001b[1;31mModuleNotFoundError\u001b[0m                       Traceback (most recent call last)",
      "\u001b[1;32m<ipython-input-36-886418bd6d9b>\u001b[0m in \u001b[0;36m<module>\u001b[1;34m\u001b[0m\n\u001b[1;32m----> 1\u001b[1;33m \u001b[1;32mimport\u001b[0m \u001b[0mfolium\u001b[0m\u001b[1;33m\u001b[0m\u001b[1;33m\u001b[0m\u001b[0m\n\u001b[0m\u001b[0;32m      2\u001b[0m \u001b[1;32mimport\u001b[0m \u001b[0mfolium\u001b[0m\u001b[1;33m.\u001b[0m\u001b[0mplugins\u001b[0m \u001b[1;31m# The Folium Javascript Map Library\u001b[0m\u001b[1;33m\u001b[0m\u001b[1;33m\u001b[0m\u001b[0m\n\u001b[0;32m      3\u001b[0m \u001b[1;33m\u001b[0m\u001b[0m\n\u001b[0;32m      4\u001b[0m \u001b[0mSF_COORDINATES\u001b[0m \u001b[1;33m=\u001b[0m \u001b[1;33m(\u001b[0m\u001b[1;36m37.87\u001b[0m\u001b[1;33m,\u001b[0m \u001b[1;33m-\u001b[0m\u001b[1;36m122.28\u001b[0m\u001b[1;33m)\u001b[0m\u001b[1;33m\u001b[0m\u001b[1;33m\u001b[0m\u001b[0m\n\u001b[0;32m      5\u001b[0m \u001b[0msf_map\u001b[0m \u001b[1;33m=\u001b[0m \u001b[0mfolium\u001b[0m\u001b[1;33m.\u001b[0m\u001b[0mMap\u001b[0m\u001b[1;33m(\u001b[0m\u001b[0mlocation\u001b[0m\u001b[1;33m=\u001b[0m\u001b[0mSF_COORDINATES\u001b[0m\u001b[1;33m,\u001b[0m \u001b[0mzoom_start\u001b[0m\u001b[1;33m=\u001b[0m\u001b[1;36m13\u001b[0m\u001b[1;33m)\u001b[0m\u001b[1;33m\u001b[0m\u001b[1;33m\u001b[0m\u001b[0m\n",
      "\u001b[1;31mModuleNotFoundError\u001b[0m: No module named 'folium'"
     ]
    }
   ],
   "source": [
    "import folium\n",
    "import folium.plugins # The Folium Javascript Map Library\n",
    "\n",
    "SF_COORDINATES = (37.87, -122.28)\n",
    "sf_map = folium.Map(location=SF_COORDINATES, zoom_start=13)\n",
    "locs = calls_lat_lon[['Lat', 'Lon']].astype('float').dropna().to_numpy()\n",
    "heatmap = folium.plugins.HeatMap(locs.tolist(), radius = 10)\n",
    "sf_map.add_child(heatmap)"
   ]
  },
  {
   "cell_type": "code",
   "execution_count": null,
   "metadata": {},
   "outputs": [],
   "source": []
  }
 ],
 "metadata": {
  "celltoolbar": "幻灯片",
  "kernelspec": {
   "display_name": "Python 3",
   "language": "python",
   "name": "python3"
  },
  "language_info": {
   "codemirror_mode": {
    "name": "ipython",
    "version": 3
   },
   "file_extension": ".py",
   "mimetype": "text/x-python",
   "name": "python",
   "nbconvert_exporter": "python",
   "pygments_lexer": "ipython3",
   "version": "3.8.8"
  },
  "toc": {
   "base_numbering": 1,
   "nav_menu": {},
   "number_sections": true,
   "sideBar": true,
   "skip_h1_title": false,
   "title_cell": "Table of Contents",
   "title_sidebar": "Contents",
   "toc_cell": false,
   "toc_position": {
    "height": "177px",
    "left": "454.812px",
    "top": "67.125px",
    "width": "266.188px"
   },
   "toc_section_display": true,
   "toc_window_display": true
  }
 },
 "nbformat": 4,
 "nbformat_minor": 4
}
