{
 "cells": [
  {
   "cell_type": "markdown",
   "metadata": {
    "slideshow": {
     "slide_type": "slide"
    }
   },
   "source": [
    "<p style=\"font-size:15pt; text-align:center\">\n",
    "    Introduction to Data Science\n",
    "</p>\n",
    "<p style=\"font-size:20pt; text-align:center\">\n",
    "    Skewed data\n",
    "</p>"
   ]
  },
  {
   "cell_type": "code",
   "execution_count": 5,
   "metadata": {
    "ExecuteTime": {
     "end_time": "2021-11-14T09:00:52.402675Z",
     "start_time": "2021-11-14T09:00:51.124128Z"
    }
   },
   "outputs": [],
   "source": [
    "import numpy as np\n",
    "import pandas as pd\n",
    "import matplotlib.pyplot as plt\n",
    "%matplotlib inline"
   ]
  },
  {
   "cell_type": "code",
   "execution_count": 6,
   "metadata": {
    "ExecuteTime": {
     "end_time": "2021-11-14T09:00:53.945484Z",
     "start_time": "2021-11-14T09:00:53.933509Z"
    }
   },
   "outputs": [],
   "source": [
    "from random import *\n",
    "np.random.seed(seed=10)"
   ]
  },
  {
   "cell_type": "markdown",
   "metadata": {},
   "source": [
    "# From narrow to broad data"
   ]
  },
  {
   "cell_type": "markdown",
   "metadata": {},
   "source": [
    "### Narrow data"
   ]
  },
  {
   "cell_type": "markdown",
   "metadata": {},
   "source": [
    "In many physical systems a quantity is distributed following a normal distribution tightly around some central value. For example, the heights of humans.\n",
    "\n",
    "在许多物理系统中，一个量紧紧地围绕某个中心值遵循正态分布\n",
    "\n",
    "You can see this distribution with a histogram:"
   ]
  },
  {
   "cell_type": "code",
   "execution_count": 17,
   "metadata": {
    "ExecuteTime": {
     "end_time": "2021-11-14T09:00:56.142697Z",
     "start_time": "2021-11-14T09:00:55.981062Z"
    },
    "scrolled": false
   },
   "outputs": [
    {
     "data": {
      "image/png": "[encoded data removed]",
      "text/plain": [
       "<Figure size 288x216 with 1 Axes>"
      ]
     },
     "metadata": {
      "needs_background": "light"
     },
     "output_type": "display_data"
    }
   ],
   "source": [
    "heights = 1.75 + np.random.randn(1000,1)*0.1\n",
    "\n",
    "fig = plt.figure(figsize=(4, 3))\n",
    "axes = fig.add_axes([0, 0, 1, 1])\n",
    "\n",
    "axes.hist(heights, 20, edgecolor=\"w\")\n",
    "axes.set_xlabel(\"Height [m]\")\n",
    "axes.set_ylabel(\"Number of subjects\");"
   ]
  },
  {
   "cell_type": "markdown",
   "metadata": {},
   "source": [
    "It's called the \"normal distribution\" because it's so common.\n",
    "\n",
    "You don't see humans that are 20 meters tall, or 20 kilometers."
   ]
  },
  {
   "cell_type": "markdown",
   "metadata": {},
   "source": [
    "### Broad data"
   ]
  },
  {
   "cell_type": "markdown",
   "metadata": {},
   "source": [
    "But many systems, like social systems, do not exhibit such a narrow spread of values!\n",
    "\n",
    "USA income distribution:\n",
    "\n",
    "<img src=\"files/us-income-distribution.gif\" width=800>\n",
    "\n",
    "If we compute a histogram going from 5k/year of income to 500M/year, we're going to need a huge number of bins to cover that range, and almost all of the data is going to be crammed into the first few bins (covering everyone earning less than, say, 1M/year)."
   ]
  },
  {
   "cell_type": "markdown",
   "metadata": {},
   "source": [
    "***"
   ]
  },
  {
   "cell_type": "markdown",
   "metadata": {},
   "source": [
    "**Broad data** covers a very large range of values. Much larger than you would see from a normal distribution.\n",
    "\n",
    "It is **skewed** in one direction. You can see if this is happening by comparing the mean and the median:\n",
    "\n",
    "它向一个方向**倾斜**。你可以通过比较平均值和中位数来看看是否发生了这种情况:"
   ]
  },
  {
   "cell_type": "markdown",
   "metadata": {},
   "source": [
    "#### <font color = red>.astype(int): **复制数据并转为int**"
   ]
  },
  {
   "cell_type": "code",
   "execution_count": 22,
   "metadata": {
    "ExecuteTime": {
     "end_time": "2021-11-14T09:01:29.002895Z",
     "start_time": "2021-11-14T09:01:28.990928Z"
    }
   },
   "outputs": [
    {
     "name": "stdout",
     "output_type": "stream",
     "text": [
      "   min = 10017\n",
      "   max = 7348143\n",
      "  mean = 70475.866\n",
      "median = 19824.5\n"
     ]
    }
   ],
   "source": [
    "np.random.seed(seed=10)\n",
    "incomes = 10000*(1+np.random.pareto(1.0, 1000)) # fake data that somewhat models real income distributions\n",
    "incomes = incomes.astype(int)\n",
    "\n",
    "print(\"   min = \" + str(min(incomes)))\n",
    "print(\"   max = \" + str(max(incomes)))\n",
    "print(\"  mean = \" + str(np.mean(incomes)))\n",
    "print(\"median = \" + str(np.median(incomes)))"
   ]
  },
  {
   "cell_type": "markdown",
   "metadata": {},
   "source": [
    "If we try to make a histogram, we're **going to have a bad time**:"
   ]
  },
  {
   "cell_type": "code",
   "execution_count": 29,
   "metadata": {
    "ExecuteTime": {
     "end_time": "2021-11-14T09:01:52.746019Z",
     "start_time": "2021-11-14T09:01:52.604147Z"
    }
   },
   "outputs": [
    {
     "data": {
      "image/png": "[encoded data removed]",
      "text/plain": [
       "<Figure size 288x216 with 1 Axes>"
      ]
     },
     "metadata": {
      "needs_background": "light"
     },
     "output_type": "display_data"
    }
   ],
   "source": [
    "fig = plt.figure(figsize=(4, 3))\n",
    "axes = fig.add_axes([0, 0, 1, 1])\n",
    "\n",
    "axes.hist(incomes, 30, edgecolor=\"w\")\n",
    "axes.set_xlabel(\"Income\")\n",
    "axes.set_ylabel(\"Number of people in income group\");"
   ]
  },
  {
   "cell_type": "markdown",
   "metadata": {},
   "source": [
    "We can use more bins and zoom in, but we're still not going to see much:"
   ]
  },
  {
   "cell_type": "markdown",
   "metadata": {},
   "source": [
    "####  <font color = red>set_xlim(list)：设置x轴范围"
   ]
  },
  {
   "cell_type": "code",
   "execution_count": 30,
   "metadata": {
    "ExecuteTime": {
     "end_time": "2021-11-14T09:01:57.086458Z",
     "start_time": "2021-11-14T09:01:56.542682Z"
    }
   },
   "outputs": [
    {
     "data": {
      "image/png": "[encoded data removed]",
      "text/plain": [
       "<Figure size 288x216 with 1 Axes>"
      ]
     },
     "metadata": {
      "needs_background": "light"
     },
     "output_type": "display_data"
    }
   ],
   "source": [
    "fig = plt.figure(figsize=(4, 3))\n",
    "axes = fig.add_axes([0, 0, 1, 1])\n",
    "\n",
    "axes.hist(incomes, 500, edgecolor=\"w\")\n",
    "axes.set_xlim([10000,200000])\n",
    "axes.set_xlabel(\"Income\")\n",
    "axes.set_ylabel(\"Number of people in income group\");"
   ]
  },
  {
   "cell_type": "markdown",
   "metadata": {},
   "source": [
    "We need a log transformation!"
   ]
  },
  {
   "cell_type": "markdown",
   "metadata": {},
   "source": [
    "## Log transformation"
   ]
  },
  {
   "cell_type": "markdown",
   "metadata": {},
   "source": [
    "The function $y= \\log(x)$ grows very very slowly. \n",
    "We can make $x$ **HUGE** and the log will just **cram** it way down to a small number.\n",
    "\n",
    "Let's see this:"
   ]
  },
  {
   "cell_type": "code",
   "execution_count": 70,
   "metadata": {
    "ExecuteTime": {
     "end_time": "2021-11-14T09:02:23.454513Z",
     "start_time": "2021-11-14T09:02:23.442512Z"
    }
   },
   "outputs": [],
   "source": [
    "x = np.linspace(1,1000,400)\n",
    "y = np.log10(x)"
   ]
  },
  {
   "cell_type": "code",
   "execution_count": 33,
   "metadata": {
    "ExecuteTime": {
     "end_time": "2021-11-14T09:02:25.347054Z",
     "start_time": "2021-11-14T09:02:25.253841Z"
    }
   },
   "outputs": [
    {
     "data": {
      "image/png": "[encoded data removed]",
      "text/plain": [
       "<Figure size 288x216 with 1 Axes>"
      ]
     },
     "metadata": {
      "needs_background": "light"
     },
     "output_type": "display_data"
    }
   ],
   "source": [
    "fig = plt.figure(figsize=(4, 3))\n",
    "axes = fig.add_axes([0, 0, 1, 1])\n",
    "\n",
    "axes.plot(x, y, '-', lw=3)\n",
    "\n",
    "axes.grid(True,which=\"both\",ls=\"-\")\n",
    "axes.set_xlabel(\"x\")\n",
    "axes.set_ylabel(\"y = log(x)\")\n",
    "axes.set_title(\"Linear plot\");"
   ]
  },
  {
   "cell_type": "markdown",
   "metadata": {},
   "source": [
    "### Log transforming the plot scale"
   ]
  },
  {
   "cell_type": "markdown",
   "metadata": {},
   "source": [
    "We now plot **exactly** the same data, just on a semilogx scale:"
   ]
  },
  {
   "cell_type": "code",
   "execution_count": 34,
   "metadata": {
    "ExecuteTime": {
     "end_time": "2021-11-14T09:02:51.719060Z",
     "start_time": "2021-11-14T09:02:51.265551Z"
    },
    "scrolled": false
   },
   "outputs": [
    {
     "data": {
      "image/png": "[encoded data removed]",
      "text/plain": [
       "<Figure size 288x216 with 1 Axes>"
      ]
     },
     "metadata": {
      "needs_background": "light"
     },
     "output_type": "display_data"
    }
   ],
   "source": [
    "fig = plt.figure(figsize=(4, 3))\n",
    "axes = fig.add_axes([0, 0, 1, 1])\n",
    "\n",
    "axes.semilogx(x, y, '-', lw=3)\n",
    "axes.grid(True,which=\"both\",ls=\"-\")\n",
    "axes.set_xlabel(\"x\")\n",
    "axes.set_ylabel(\"y = log(x)\")\n",
    "axes.set_title(\"Nonlinear plot\");"
   ]
  },
  {
   "cell_type": "markdown",
   "metadata": {},
   "source": [
    "We can **change space** as we move along the x-axis, squashing larger and larger chunks into a given visual length in such as way that the slow-growing log function now **appears linear!**\n",
    "\n",
    "我们可以在沿着x轴移动时改变空间，将越来越大的块压缩到一个给定的可视长度中，就像缓慢增长的对数函数现在呈现线性一样!\n"
   ]
  },
  {
   "cell_type": "markdown",
   "metadata": {},
   "source": [
    "### Log transforming the data itself"
   ]
  },
  {
   "cell_type": "markdown",
   "metadata": {},
   "source": [
    "Instead of squeezing the plot scale, we could just squeeze the data, and use a linear plot scale. The visual outcome is the same:"
   ]
  },
  {
   "cell_type": "markdown",
   "metadata": {},
   "source": [
    " <font color = red>对数坐标系的基本处理方法：对x取对数之后plot\n",
    "    **一般地，我们使用：semilogx**"
   ]
  },
  {
   "cell_type": "code",
   "execution_count": 35,
   "metadata": {
    "ExecuteTime": {
     "end_time": "2021-11-14T09:03:05.394364Z",
     "start_time": "2021-11-14T09:03:05.294069Z"
    },
    "scrolled": true
   },
   "outputs": [
    {
     "data": {
      "image/png": "[encoded data removed]",
      "text/plain": [
       "<Figure size 288x216 with 1 Axes>"
      ]
     },
     "metadata": {
      "needs_background": "light"
     },
     "output_type": "display_data"
    }
   ],
   "source": [
    "fig = plt.figure(figsize=(4, 3))\n",
    "axes = fig.add_axes([0, 0, 1, 1])\n",
    "\n",
    "axes.plot(np.log10(x), y, '-', lw=3 )\n",
    "axes.grid(True,which=\"both\",ls=\"-\")\n",
    "axes.set_xlabel(\"log(x)\")\n",
    "axes.set_ylabel(\"y = log(x)\")\n",
    "axes.set_title(\"Linear plot on log-transformed data\");"
   ]
  },
  {
   "cell_type": "markdown",
   "metadata": {},
   "source": [
    "The only difference is that `semilogx` is smart enough to nicely label the x-axis with $10^0$ instead of $0$, $10^1$ instead of $1$, $10^2$ instead of $2$, etc., and to allow displaying a logarithmic grid."
   ]
  },
  {
   "cell_type": "markdown",
   "metadata": {},
   "source": [
    "### Log transforming the income data"
   ]
  },
  {
   "cell_type": "markdown",
   "metadata": {},
   "source": [
    "The income data is too broad to see what is happening. \n",
    "\n",
    "We can log-transform the broad data to squash it down into a range where we can see what's going on!"
   ]
  },
  {
   "cell_type": "code",
   "execution_count": 73,
   "metadata": {
    "ExecuteTime": {
     "end_time": "2021-11-14T09:03:45.756545Z",
     "start_time": "2021-11-14T09:03:45.559801Z"
    }
   },
   "outputs": [
    {
     "data": {
      "image/png": "[encoded data removed]",
      "text/plain": [
       "<Figure size 720x216 with 2 Axes>"
      ]
     },
     "metadata": {
      "needs_background": "light"
     },
     "output_type": "display_data"
    }
   ],
   "source": [
    "fig, ax = plt.subplots(nrows=1, ncols=2, figsize=(10, 3))\n",
    "\n",
    "# Left subplot: Original income data\n",
    "axes = ax[0]\n",
    "axes.hist(incomes, 30)\n",
    "axes.set_xlabel(\"Income\")\n",
    "axes.set_ylabel(\"Number of people in income group\")\n",
    "\n",
    "# Right subplot: log transformed income data\n",
    "axes = ax[1]\n",
    "axes.hist(np.log10(incomes), 30, edgecolor=\"w\") # 对收入取对数\n",
    "axes.set_xlabel(\"log(Income)\")\n",
    "axes.set_ylabel(\"Number of people in log(income) group\");"
   ]
  },
  {
   "cell_type": "markdown",
   "metadata": {},
   "source": [
    "We see much more now. And we can even spot the millionaires at 6 ($10^6$)."
   ]
  },
  {
   "cell_type": "markdown",
   "metadata": {},
   "source": [
    "### Plotting a histogram in log scale"
   ]
  },
  {
   "cell_type": "markdown",
   "metadata": {},
   "source": [
    "What happens if we bin the original income data and then plot that on a log-axis?"
   ]
  },
  {
   "cell_type": "code",
   "execution_count": 74,
   "metadata": {
    "ExecuteTime": {
     "end_time": "2021-11-14T09:04:01.207242Z",
     "start_time": "2021-11-14T09:04:00.903879Z"
    },
    "scrolled": true
   },
   "outputs": [
    {
     "data": {
      "image/png": "[encoded data removed]",
      "text/plain": [
       "<Figure size 288x216 with 1 Axes>"
      ]
     },
     "metadata": {
      "needs_background": "light"
     },
     "output_type": "display_data"
    }
   ],
   "source": [
    "fig = plt.figure(figsize=(4, 3))\n",
    "axes = fig.add_axes([0, 0, 1, 1])\n",
    "\n",
    "axes.hist(incomes, 30, edgecolor=\"w\")\n",
    "axes.set_xlabel(\"Income\")\n",
    "axes.set_ylabel(\"Number of people in income group\");\n",
    "\n",
    "axes.set_xscale('log')  # 对数坐标轴\n",
    "axes.grid(True,which=\"both\",ls=\"-\") # Shown for teaching"
   ]
  },
  {
   "cell_type": "markdown",
   "metadata": {},
   "source": [
    "All we've done is taken the original bins and stretched them logarithmically. That one huge bin still contains the vast majority of the data."
   ]
  },
  {
   "cell_type": "markdown",
   "metadata": {},
   "source": [
    "***\n",
    "To make a nice plot, what we should do is choose **non-uniform** bins. If you choose bins that are spaced wider and wider apart, the log will squash them down until (if chosen well) they are all the same width on the logarithmic scale:"
   ]
  },
  {
   "cell_type": "markdown",
   "metadata": {},
   "source": [
    "#### <font color = red> bins=np.logspace() 或 bins=logbins 保证hist等间距"
   ]
  },
  {
   "cell_type": "code",
   "execution_count": 78,
   "metadata": {
    "ExecuteTime": {
     "end_time": "2021-11-14T09:04:29.699062Z",
     "start_time": "2021-11-14T09:04:29.436764Z"
    }
   },
   "outputs": [
    {
     "data": {
      "image/png": "[encoded data removed]",
      "text/plain": [
       "<Figure size 288x216 with 1 Axes>"
      ]
     },
     "metadata": {
      "needs_background": "light"
     },
     "output_type": "display_data"
    }
   ],
   "source": [
    "fig = plt.figure(figsize=(4, 3))\n",
    "axes = fig.add_axes([0, 0, 1, 1])\n",
    "\n",
    "axes.hist(incomes,  bins=np.logspace(4, 7, 30), edgecolor=\"w\")\n",
    "axes.set_xlabel(\"Income\")\n",
    "axes.set_ylabel(\"Number of people in income group\");\n",
    "axes.set_xscale('log') \n",
    "axes.grid(True,which=\"both\",ls=\"-\") # Shown for teaching"
   ]
  },
  {
   "cell_type": "markdown",
   "metadata": {},
   "source": [
    "### loglog scale"
   ]
  },
  {
   "cell_type": "markdown",
   "metadata": {},
   "source": [
    "Sometimes both your x- and your y-values are broadly distribued. We can also log-transform y.\n",
    "\n",
    "If we plot a function $y=f(x)$ on a plot where both the x- and the y-scales are logarithmic and we see a **straight line** what kind of function is $f$?\n",
    "\n",
    "\n",
    "Ans: power function.\n",
    "\n",
    "\n",
    "$$y = a x^b$$\n",
    "\n",
    "To see this take the log of both sides and replace $\\log(y) \\to y'$ and $\\log(x) \\to x'$.\n",
    "\n",
    "$$\n",
    "\\log(y) = \\log(a x^b) = \\log(a) + \\log(x^b) = a' + b \\log(x)\n",
    "$$\n",
    "\n",
    "so\n",
    "\n",
    "$$y' = a' + b x'$$\n",
    "\n",
    "which is a straight line when we plot $x'$ vs. $y'$. The slope of the straight line is $b$, the exponent of $x$."
   ]
  },
  {
   "cell_type": "markdown",
   "metadata": {},
   "source": [
    "*** \n",
    "\n",
    "Let's see this in action:"
   ]
  },
  {
   "cell_type": "markdown",
   "metadata": {},
   "source": [
    "####  <font color = red>bins=logbins 保证hist等间距"
   ]
  },
  {
   "cell_type": "code",
   "execution_count": 48,
   "metadata": {
    "ExecuteTime": {
     "end_time": "2021-11-14T09:04:42.095655Z",
     "start_time": "2021-11-14T09:04:41.643035Z"
    }
   },
   "outputs": [
    {
     "data": {
      "image/png": "[encoded data removed]",
      "text/plain": [
       "<Figure size 288x216 with 1 Axes>"
      ]
     },
     "metadata": {
      "needs_background": "light"
     },
     "output_type": "display_data"
    }
   ],
   "source": [
    "minx = min(incomes)\n",
    "maxx = max(incomes)\n",
    "num_bins = 50\n",
    "logbins = np.logspace(np.log10(minx), np.log10(maxx), num_bins)\n",
    "\n",
    "fig = plt.figure(figsize=(4, 3))\n",
    "axes = fig.add_axes([0, 0, 1, 1])\n",
    "\n",
    "axes.hist(incomes,  bins=logbins, edgecolor=\"w\")\n",
    "axes.set_xlabel(\"Income\")\n",
    "axes.set_ylabel(\"Number of people in income group\");\n",
    "axes.set_xscale('log') \n",
    "axes.set_yscale('log') \n",
    "axes.grid(True,which=\"both\",ls=\"-\") # Shown for teaching"
   ]
  },
  {
   "cell_type": "markdown",
   "metadata": {},
   "source": [
    "\n",
    "***\n",
    "\n",
    "But notice how we don't really need bars, and how they are infinitely tall due to $log(0) \\to -\\infty$? Therefore it is more customary to draw a plot using lines or points. Also it is nicer to draw a density function using `density=True`:"
   ]
  },
  {
   "cell_type": "code",
   "execution_count": 51,
   "metadata": {
    "ExecuteTime": {
     "end_time": "2021-11-14T09:04:49.763319Z",
     "start_time": "2021-11-14T09:04:49.326541Z"
    },
    "scrolled": true
   },
   "outputs": [
    {
     "data": {
      "image/png": "[encoded data removed]",
      "text/plain": [
       "<Figure size 288x216 with 1 Axes>"
      ]
     },
     "metadata": {
      "needs_background": "light"
     },
     "output_type": "display_data"
    }
   ],
   "source": [
    "fig = plt.figure(figsize=(4, 3))\n",
    "axes = fig.add_axes([0, 0, 1, 1])\n",
    "\n",
    "h, binedges = np.histogram(incomes,  bins=logbins, density=True) # We use np.histogram to make the binning calculations. Plotting is done with axes.plot below.\n",
    "binmidpoints = (binedges[1:] + binedges[:-1]) / 2\n",
    "axes.plot(binmidpoints, h, \"o\")\n",
    "axes.set_xlabel(\"Income x\")\n",
    "axes.set_ylabel(\"f(x)\");\n",
    "axes.set_xscale('log') \n",
    "axes.set_yscale('log') \n",
    "axes.grid(True,which=\"both\",ls=\"-\") # Shown for teaching"
   ]
  },
  {
   "cell_type": "markdown",
   "metadata": {},
   "source": [
    "We can see well the power law relation here, but there are also fluctuations. Going next to the complementary cumulative density function solves this issue."
   ]
  },
  {
   "cell_type": "markdown",
   "metadata": {
    "slideshow": {
     "slide_type": "slide"
    }
   },
   "source": [
    "# From probability density function (PDF) to complementary cumulative density function (CCDF)"
   ]
  },
  {
   "cell_type": "code",
   "execution_count": 52,
   "metadata": {
    "ExecuteTime": {
     "end_time": "2021-11-14T09:09:16.439903Z",
     "start_time": "2021-11-14T09:09:16.420948Z"
    }
   },
   "outputs": [],
   "source": [
    "def plot_pdfcdfccdf(x, setylog=False, setxlog=False, n_bins=100):\n",
    "    \"\"\"Plots the PDF, CDF, and CCDF for a given data set x, using hist.\"\"\" \n",
    "\n",
    "    fig, axes = plt.subplots(nrows=1, ncols=3, figsize=(16, 3))\n",
    "    xlim = [np.min(x),np.max(x)]\n",
    "    if setxlog:\n",
    "        xlogstring = \"log \"\n",
    "    else:\n",
    "        xlogstring = \"\"\n",
    "\n",
    "    # Plot the density curve\n",
    "    ax = axes[0]\n",
    "    ax.hist(x, n_bins, density=True, cumulative=False, log=setylog)\n",
    "    ax.set_ylabel('$f(x)$')\n",
    "    ax.set_xlabel('Data '+ xlogstring +'$x$')\n",
    "    ax.set_title('PDF')\n",
    "\n",
    "    # Plot the cumulative density curve\n",
    "    ax = axes[1]\n",
    "    ax.hist(x, n_bins, density=True, cumulative=True, log=setylog)\n",
    "    ax.set_ylabel('$P_{\\leq}(x)$')\n",
    "    ax.set_xlabel('Data '+ xlogstring +'$x$')\n",
    "    ax.set_title('CDF')\n",
    "\n",
    "    # Plot the complementary cumulative density curve\n",
    "    ax = axes[2]\n",
    "    ax.hist(x, n_bins, density=True, cumulative=-1, log=setylog)\n",
    "    ax.set_ylabel('$P_{>}(x)$')\n",
    "    ax.set_xlabel('Data '+ xlogstring +'$x$')\n",
    "    ax.set_title('CCDF')\n",
    "\n",
    "    for ax in axes:\n",
    "        ax.set_xlim(xlim)"
   ]
  },
  {
   "cell_type": "markdown",
   "metadata": {},
   "source": [
    "## Uniform distribution"
   ]
  },
  {
   "cell_type": "markdown",
   "metadata": {},
   "source": [
    "### Theoretical"
   ]
  },
  {
   "cell_type": "code",
   "execution_count": 53,
   "metadata": {
    "ExecuteTime": {
     "end_time": "2021-11-14T09:09:19.164968Z",
     "start_time": "2021-11-14T09:09:18.615382Z"
    }
   },
   "outputs": [
    {
     "data": {
      "image/png": "[encoded data removed]",
      "text/plain": [
       "<Figure size 1152x216 with 3 Axes>"
      ]
     },
     "metadata": {
      "needs_background": "light"
     },
     "output_type": "display_data"
    }
   ],
   "source": [
    "plot_pdfcdfccdf(range(100))"
   ]
  },
  {
   "cell_type": "markdown",
   "metadata": {},
   "source": [
    "### Sampled"
   ]
  },
  {
   "cell_type": "code",
   "execution_count": 54,
   "metadata": {
    "ExecuteTime": {
     "end_time": "2021-11-14T09:09:26.449963Z",
     "start_time": "2021-11-14T09:09:25.951021Z"
    },
    "scrolled": false,
    "slideshow": {
     "slide_type": "-"
    }
   },
   "outputs": [
    {
     "data": {
      "image/png": "[encoded data removed]",
      "text/plain": [
       "<Figure size 1152x216 with 3 Axes>"
      ]
     },
     "metadata": {
      "needs_background": "light"
     },
     "output_type": "display_data"
    }
   ],
   "source": [
    "x = np.random.uniform(0, 100, size=10000)\n",
    "plot_pdfcdfccdf(x)"
   ]
  },
  {
   "cell_type": "markdown",
   "metadata": {},
   "source": [
    "Nice: the CDF and CCDF get rid of all the fluctuations."
   ]
  },
  {
   "cell_type": "markdown",
   "metadata": {},
   "source": [
    "## Normal distribution"
   ]
  },
  {
   "cell_type": "code",
   "execution_count": 55,
   "metadata": {
    "ExecuteTime": {
     "end_time": "2021-11-14T09:09:36.327398Z",
     "start_time": "2021-11-14T09:09:35.771816Z"
    },
    "scrolled": true
   },
   "outputs": [
    {
     "data": {
      "image/png": "[encoded data removed]",
      "text/plain": [
       "<Figure size 1152x216 with 3 Axes>"
      ]
     },
     "metadata": {
      "needs_background": "light"
     },
     "output_type": "display_data"
    }
   ],
   "source": [
    "x = np.random.normal(175, 5, size=10000)\n",
    "plot_pdfcdfccdf(x)"
   ]
  },
  {
   "cell_type": "markdown",
   "metadata": {},
   "source": [
    "## Exponential distribution"
   ]
  },
  {
   "cell_type": "markdown",
   "metadata": {},
   "source": [
    "### Linear scale"
   ]
  },
  {
   "cell_type": "code",
   "execution_count": 56,
   "metadata": {
    "ExecuteTime": {
     "end_time": "2021-11-14T09:09:42.760926Z",
     "start_time": "2021-11-14T09:09:42.263440Z"
    },
    "scrolled": true
   },
   "outputs": [
    {
     "data": {
      "image/png": "[encoded data removed]",
      "text/plain": [
       "<Figure size 1152x216 with 3 Axes>"
      ]
     },
     "metadata": {
      "needs_background": "light"
     },
     "output_type": "display_data"
    }
   ],
   "source": [
    "x = np.random.exponential(100, size=10000)\n",
    "plot_pdfcdfccdf(x)"
   ]
  },
  {
   "cell_type": "markdown",
   "metadata": {},
   "source": [
    "### Semilogy scale (better)"
   ]
  },
  {
   "cell_type": "code",
   "execution_count": 57,
   "metadata": {
    "ExecuteTime": {
     "end_time": "2021-11-14T09:09:52.948227Z",
     "start_time": "2021-11-14T09:09:52.018406Z"
    }
   },
   "outputs": [
    {
     "data": {
      "image/png": "[encoded data removed]",
      "text/plain": [
       "<Figure size 1152x216 with 3 Axes>"
      ]
     },
     "metadata": {
      "needs_background": "light"
     },
     "output_type": "display_data"
    }
   ],
   "source": [
    "plot_pdfcdfccdf(x, True)"
   ]
  },
  {
   "cell_type": "markdown",
   "metadata": {},
   "source": [
    "We can see how the exponential becomes a straight line in the semilogy PDF and CCDF. The CCDF has the added value of being monotonically non-increasing: it is getting rid of fluctuations.\n",
    "\n",
    "Also note how on a semilogy scale we really need to go from CDF to CCDF so that we can investigate the tail."
   ]
  },
  {
   "cell_type": "markdown",
   "metadata": {},
   "source": [
    "## Power law distribution"
   ]
  },
  {
   "cell_type": "markdown",
   "metadata": {},
   "source": [
    "### Linear scale (bad)"
   ]
  },
  {
   "cell_type": "code",
   "execution_count": 58,
   "metadata": {
    "ExecuteTime": {
     "end_time": "2021-11-14T09:10:19.573165Z",
     "start_time": "2021-11-14T09:10:19.008490Z"
    },
    "scrolled": false
   },
   "outputs": [
    {
     "data": {
      "image/png": "[encoded data removed]",
      "text/plain": [
       "<Figure size 1152x216 with 3 Axes>"
      ]
     },
     "metadata": {
      "needs_background": "light"
     },
     "output_type": "display_data"
    }
   ],
   "source": [
    "plot_pdfcdfccdf(incomes)"
   ]
  },
  {
   "cell_type": "markdown",
   "metadata": {},
   "source": [
    "### Semilogy scale (better)"
   ]
  },
  {
   "cell_type": "code",
   "execution_count": 59,
   "metadata": {
    "ExecuteTime": {
     "end_time": "2021-11-14T09:10:23.054293Z",
     "start_time": "2021-11-14T09:10:22.090007Z"
    },
    "scrolled": true
   },
   "outputs": [
    {
     "data": {
      "image/png": "[encoded data removed]",
      "text/plain": [
       "<Figure size 1152x216 with 3 Axes>"
      ]
     },
     "metadata": {
      "needs_background": "light"
     },
     "output_type": "display_data"
    }
   ],
   "source": [
    "plot_pdfcdfccdf(incomes, True)"
   ]
  },
  {
   "cell_type": "markdown",
   "metadata": {},
   "source": [
    "### Loglog (best)"
   ]
  },
  {
   "cell_type": "code",
   "execution_count": 60,
   "metadata": {
    "ExecuteTime": {
     "end_time": "2021-11-14T09:10:28.382628Z",
     "start_time": "2021-11-14T09:10:27.513340Z"
    }
   },
   "outputs": [
    {
     "data": {
      "image/png": "[encoded data removed]",
      "text/plain": [
       "<Figure size 1152x216 with 3 Axes>"
      ]
     },
     "metadata": {
      "needs_background": "light"
     },
     "output_type": "display_data"
    }
   ],
   "source": [
    "plot_pdfcdfccdf(np.log10(incomes), True, True)"
   ]
  },
  {
   "cell_type": "markdown",
   "metadata": {},
   "source": [
    "We can see how the power law becomes a straight line in the loglog PDF and CCDF. The CCDF has the added value of being monotonically non-increasing: it is getting rid of fluctuations.\n",
    "\n",
    "Also note how on a loglog scale we really need to go from CDF to CCDF so that we can investigate the tail."
   ]
  },
  {
   "cell_type": "markdown",
   "metadata": {},
   "source": [
    "***\n",
    "Look how different this is to the normal distribution in loglog scale:"
   ]
  },
  {
   "cell_type": "code",
   "execution_count": 61,
   "metadata": {
    "ExecuteTime": {
     "end_time": "2021-11-14T09:10:44.479339Z",
     "start_time": "2021-11-14T09:10:43.477517Z"
    }
   },
   "outputs": [
    {
     "data": {
      "image/png": "[encoded data removed]",
      "text/plain": [
       "<Figure size 1152x216 with 3 Axes>"
      ]
     },
     "metadata": {
      "needs_background": "light"
     },
     "output_type": "display_data"
    }
   ],
   "source": [
    "x = np.random.normal(175, 5, size=10000)\n",
    "plot_pdfcdfccdf(np.log10(x), True, True)"
   ]
  },
  {
   "cell_type": "markdown",
   "metadata": {},
   "source": [
    "The range of log x values is **miniscule**: 2.19 to 2.29! The tail drops off *extremely* fast."
   ]
  },
  {
   "cell_type": "markdown",
   "metadata": {},
   "source": [
    "# exercise"
   ]
  },
  {
   "cell_type": "code",
   "execution_count": 62,
   "metadata": {
    "ExecuteTime": {
     "end_time": "2021-11-14T09:46:58.496538Z",
     "start_time": "2021-11-14T09:46:58.239190Z"
    }
   },
   "outputs": [
    {
     "name": "stdout",
     "output_type": "stream",
     "text": [
      "(215464, 4)\n"
     ]
    },
    {
     "data": {
      "text/html": [
       "<div>\n",
       "<style scoped>\n",
       "    .dataframe tbody tr th:only-of-type {\n",
       "        vertical-align: middle;\n",
       "    }\n",
       "\n",
       "    .dataframe tbody tr th {\n",
       "        vertical-align: top;\n",
       "    }\n",
       "\n",
       "    .dataframe thead th {\n",
       "        text-align: right;\n",
       "    }\n",
       "</style>\n",
       "<table border=\"1\" class=\"dataframe\">\n",
       "  <thead>\n",
       "    <tr style=\"text-align: right;\">\n",
       "      <th></th>\n",
       "      <th>user_name</th>\n",
       "      <th>user_created</th>\n",
       "      <th>user_followers</th>\n",
       "      <th>user_friends</th>\n",
       "    </tr>\n",
       "  </thead>\n",
       "  <tbody>\n",
       "    <tr>\n",
       "      <th>0</th>\n",
       "      <td>MyNewsNE</td>\n",
       "      <td>24-05-2020 10:18</td>\n",
       "      <td>64.0</td>\n",
       "      <td>11.0</td>\n",
       "    </tr>\n",
       "    <tr>\n",
       "      <th>1</th>\n",
       "      <td>Shubham Gupta</td>\n",
       "      <td>14-08-2020 16:42</td>\n",
       "      <td>1.0</td>\n",
       "      <td>17.0</td>\n",
       "    </tr>\n",
       "    <tr>\n",
       "      <th>2</th>\n",
       "      <td>Journal of Infectiology</td>\n",
       "      <td>14-12-2017 07:07</td>\n",
       "      <td>143.0</td>\n",
       "      <td>566.0</td>\n",
       "    </tr>\n",
       "    <tr>\n",
       "      <th>3</th>\n",
       "      <td>Zane</td>\n",
       "      <td>18-09-2019 11:01</td>\n",
       "      <td>29.0</td>\n",
       "      <td>25.0</td>\n",
       "    </tr>\n",
       "    <tr>\n",
       "      <th>4</th>\n",
       "      <td>Ann-Maree O’Connor</td>\n",
       "      <td>24-01-2013 14:53</td>\n",
       "      <td>83.0</td>\n",
       "      <td>497.0</td>\n",
       "    </tr>\n",
       "  </tbody>\n",
       "</table>\n",
       "</div>"
      ],
      "text/plain": [
       "                 user_name      user_created  user_followers user_friends\n",
       "0                 MyNewsNE  24-05-2020 10:18            64.0         11.0\n",
       "1            Shubham Gupta  14-08-2020 16:42             1.0         17.0\n",
       "2  Journal of Infectiology  14-12-2017 07:07           143.0        566.0\n",
       "3                     Zane  18-09-2019 11:01            29.0         25.0\n",
       "4       Ann-Maree O’Connor  24-01-2013 14:53            83.0        497.0"
      ]
     },
     "execution_count": 62,
     "metadata": {},
     "output_type": "execute_result"
    }
   ],
   "source": [
    "# us household income data\n",
    "user_follower_df = pd.read_csv(\"./files/online_user_followers.csv\")\n",
    "print(user_follower_df.shape)\n",
    "user_follower_df.head()"
   ]
  },
  {
   "cell_type": "code",
   "execution_count": null,
   "metadata": {},
   "outputs": [],
   "source": []
  },
  {
   "cell_type": "markdown",
   "metadata": {},
   "source": [
    "# The End"
   ]
  },
  {
   "cell_type": "markdown",
   "metadata": {},
   "source": [
    "**Source**\n",
    "\n",
    "This notebook was adapted from:\n",
    "* Data 8: The Foundations of Data Science\n",
    "* Data 100: Principles and Techniques of Data Science\n",
    "* Introduction to Data Science and Visualization by James Bagrow"
   ]
  }
 ],
 "metadata": {
  "celltoolbar": "幻灯片",
  "kernelspec": {
   "display_name": "Python 3",
   "language": "python",
   "name": "python3"
  },
  "language_info": {
   "codemirror_mode": {
    "name": "ipython",
    "version": 3
   },
   "file_extension": ".py",
   "mimetype": "text/x-python",
   "name": "python",
   "nbconvert_exporter": "python",
   "pygments_lexer": "ipython3",
   "version": "3.8.8"
  },
  "toc": {
   "base_numbering": 1,
   "nav_menu": {},
   "number_sections": true,
   "sideBar": true,
   "skip_h1_title": false,
   "title_cell": "Table of Contents",
   "title_sidebar": "Contents",
   "toc_cell": false,
   "toc_position": {
    "height": "calc(100% - 180px)",
    "left": "10px",
    "top": "150px",
    "width": "270.375px"
   },
   "toc_section_display": true,
   "toc_window_display": true
  }
 },
 "nbformat": 4,
 "nbformat_minor": 1
}
