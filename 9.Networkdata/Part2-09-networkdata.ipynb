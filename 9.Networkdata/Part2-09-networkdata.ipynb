{
 "cells": [
  {
   "cell_type": "markdown",
   "metadata": {
    "slideshow": {
     "slide_type": "slide"
    }
   },
   "source": [
    "<p style=\"font-size:15pt; text-align:center\">\n",
    "    Introduction to Data Science\n",
    "</p>\n",
    "<p style=\"font-size:20pt; text-align:center\">\n",
    "    Working with network data\n",
    "</p>"
   ]
  },
  {
   "cell_type": "code",
   "execution_count": null,
   "metadata": {
    "ExecuteTime": {
     "end_time": "2021-11-16T02:10:48.359282Z",
     "start_time": "2021-11-16T02:10:48.350330Z"
    }
   },
   "outputs": [],
   "source": [
    "from collections import Counter # dict subclass for counting hashable objects\n",
    "from pprint import pprint  # pretty printer\n",
    "\n",
    "import numpy as np\n",
    "import pandas as pd\n",
    "import matplotlib.pyplot as plt "
   ]
  },
  {
   "cell_type": "code",
   "execution_count": null,
   "metadata": {},
   "outputs": [],
   "source": [
    "counting_1 = [1,2,3,3,4,5,6,6,7,7,7]"
   ]
  },
  {
   "cell_type": "code",
   "execution_count": null,
   "metadata": {},
   "outputs": [],
   "source": [
    "# 计数方法1\n",
    "pd.Series(counting_1).value_counts()"
   ]
  },
  {
   "cell_type": "code",
   "execution_count": null,
   "metadata": {},
   "outputs": [],
   "source": [
    "# 计数方法2\n",
    "np.unique(counting_1,return_counts=True)"
   ]
  },
  {
   "cell_type": "code",
   "execution_count": null,
   "metadata": {
    "scrolled": true
   },
   "outputs": [],
   "source": [
    "# 计数方法3\n",
    "Counter([1,2,3,3,4,5,6,6,7,7,7]) # 计数器"
   ]
  },
  {
   "cell_type": "code",
   "execution_count": null,
   "metadata": {},
   "outputs": [],
   "source": [
    "# 计数方法1\n",
    "pd.Series(list('aacdsceqwacwdsaceaew')).value_counts()"
   ]
  },
  {
   "cell_type": "code",
   "execution_count": null,
   "metadata": {},
   "outputs": [],
   "source": [
    "# 计数方法2\n",
    "np.unique(list('aacdsceqwacwdsaceaew'),return_counts=True)"
   ]
  },
  {
   "cell_type": "code",
   "execution_count": null,
   "metadata": {
    "scrolled": true
   },
   "outputs": [],
   "source": [
    "# 计数方法3\n",
    "Counter('aacdsceqwacwdsaceaew')"
   ]
  },
  {
   "cell_type": "markdown",
   "metadata": {
    "slideshow": {
     "slide_type": "slide"
    }
   },
   "source": [
    "# Edge List"
   ]
  },
  {
   "cell_type": "markdown",
   "metadata": {},
   "source": [
    "Let us start by defining a list of edges. This will give us our first \"dataset\" to work with. The network structure is:\n",
    "\n",
    "<img src=\"file/graph_diagram.png\" width=400>\n"
   ]
  },
  {
   "cell_type": "code",
   "execution_count": null,
   "metadata": {
    "ExecuteTime": {
     "end_time": "2021-11-16T02:14:51.634867Z",
     "start_time": "2021-11-16T02:14:51.615839Z"
    }
   },
   "outputs": [],
   "source": [
    "edge_list = [\n",
    "    ('A', 'B'),\n",
    "    ('A', 'C'),\n",
    "    ('A', 'E'),\n",
    "    ('B', 'C'),\n",
    "    ('C', 'D'),\n",
    "    ('C', 'E'),\n",
    "    ('D', 'E')]"
   ]
  },
  {
   "cell_type": "markdown",
   "metadata": {
    "slideshow": {
     "slide_type": "slide"
    }
   },
   "source": [
    "This is a particularly useful representation as many datasets are distributed in this (or a closely related) format. From this list, we can easily measure the number of edges that constitute our network. It's main limitations are that it has no way to explictly take into account disconnected nodes (it only accounts for nodes that are part of edges) and no indication on whether it is directed or not.\n",
    "\n",
    "这是一种特别有用的表示，因为许多数据集都以这种(或密切相关的)格式分布。从这个列表中，我们可以很容易地测量构成我们网络的边的数量。\n",
    "\n",
    "它的主要限制是，它没有办法明确地考虑断开的节点(它只考虑了边的一部分)，并且没有指示它是否是有向的。"
   ]
  },
  {
   "cell_type": "code",
   "execution_count": 29,
   "metadata": {
    "ExecuteTime": {
     "end_time": "2021-11-16T02:34:41.642065Z",
     "start_time": "2021-11-16T02:34:41.623992Z"
    }
   },
   "outputs": [
    {
     "name": "stdout",
     "output_type": "stream",
     "text": [
      "7\n"
     ]
    }
   ],
   "source": [
    "number_edges = len(edge_list)\n",
    "print(number_edges)"
   ]
  },
  {
   "cell_type": "markdown",
   "metadata": {
    "slideshow": {
     "slide_type": "slide"
    }
   },
   "source": [
    "To get the number of node is a bit trickier. We must go edge by edge and keep track of all new nodes. For efficiency, we use a set to automatically remove duplicates"
   ]
  },
  {
   "cell_type": "code",
   "execution_count": 39,
   "metadata": {
    "ExecuteTime": {
     "end_time": "2021-11-16T02:34:57.256156Z",
     "start_time": "2021-11-16T02:34:57.251200Z"
    }
   },
   "outputs": [
    {
     "name": "stdout",
     "output_type": "stream",
     "text": [
      "5\n"
     ]
    }
   ],
   "source": [
    "nodes = set()\n",
    "\n",
    "for edge in edge_list:\n",
    "    nodes.update(edge) # Update a set with the union of itself and others.\n",
    "    \n",
    "number_nodes = len(nodes)\n",
    "print(number_nodes)"
   ]
  },
  {
   "cell_type": "markdown",
   "metadata": {
    "slideshow": {
     "slide_type": "slide"
    }
   },
   "source": [
    "Now we know that we have 5 nodes and 7 edges in our network. The node ids are:"
   ]
  },
  {
   "cell_type": "code",
   "execution_count": 40,
   "metadata": {
    "ExecuteTime": {
     "end_time": "2021-11-16T02:34:59.819072Z",
     "start_time": "2021-11-16T02:34:59.801122Z"
    }
   },
   "outputs": [
    {
     "data": {
      "text/plain": [
       "{'A', 'B', 'C', 'D', 'E'}"
      ]
     },
     "execution_count": 40,
     "metadata": {},
     "output_type": "execute_result"
    }
   ],
   "source": [
    "nodes"
   ]
  },
  {
   "cell_type": "markdown",
   "metadata": {
    "slideshow": {
     "slide_type": "slide"
    }
   },
   "source": [
    "# Adjacency List"
   ]
  },
  {
   "cell_type": "markdown",
   "metadata": {},
   "source": [
    "A closely related data structure to the edge list is the adjacency list. In this formulation, we use a dictionary to map each node to its set of neighbors"
   ]
  },
  {
   "cell_type": "code",
   "execution_count": null,
   "metadata": {
    "ExecuteTime": {
     "end_time": "2021-11-16T02:35:04.421892Z",
     "start_time": "2021-11-16T02:35:04.401865Z"
    }
   },
   "outputs": [],
   "source": [
    "adj_list = {}\n",
    "\n",
    "for node_i, node_j in edge_list:\n",
    "    if node_i not in adj_list:\n",
    "        adj_list[node_i] = set()\n",
    "\n",
    "    adj_list[node_i].add(node_j)"
   ]
  },
  {
   "cell_type": "markdown",
   "metadata": {},
   "source": [
    "Our adjaceny list is then:"
   ]
  },
  {
   "cell_type": "code",
   "execution_count": null,
   "metadata": {
    "ExecuteTime": {
     "end_time": "2021-11-16T02:35:16.627623Z",
     "start_time": "2021-11-16T02:35:16.608626Z"
    }
   },
   "outputs": [],
   "source": [
    "pprint(adj_list)"
   ]
  },
  {
   "cell_type": "markdown",
   "metadata": {
    "slideshow": {
     "slide_type": "slide"
    }
   },
   "source": [
    "In this approach we inherently assumed that our network is directed (or, equivalently, that both edge directions are present in the data). To generate an undirected version we must make a simple modification to our code to manually add the opposite direction edge\n",
    "\n",
    "在这种方法中，我们固有地假设我们的网络是有向的(或者，等价地，两个边缘方向都存在于数据中)。要生成无方向的版本，我们必须对代码做一个简单的修改，手动添加相反方向的边"
   ]
  },
  {
   "cell_type": "code",
   "execution_count": null,
   "metadata": {
    "ExecuteTime": {
     "end_time": "2021-11-16T02:35:19.389326Z",
     "start_time": "2021-11-16T02:35:19.375372Z"
    }
   },
   "outputs": [],
   "source": [
    "adj_list = {}\n",
    "\n",
    "for node_i, node_j in edge_list:\n",
    "    if node_i not in adj_list:\n",
    "        adj_list[node_i] = set() # 'set' is used to prevent accidental multiple edges\n",
    "    \n",
    "    adj_list[node_i].add(node_j)\n",
    "    \n",
    "    # Manually add the opposite direction edge\n",
    "    if node_j not in adj_list:\n",
    "        adj_list[node_j] = set()\n",
    "    \n",
    "    adj_list[node_j].add(node_i)"
   ]
  },
  {
   "cell_type": "markdown",
   "metadata": {},
   "source": [
    "The undirected adjacency list represenation is then:"
   ]
  },
  {
   "cell_type": "code",
   "execution_count": 41,
   "metadata": {
    "ExecuteTime": {
     "end_time": "2021-11-16T02:35:22.406008Z",
     "start_time": "2021-11-16T02:35:22.394987Z"
    }
   },
   "outputs": [
    {
     "name": "stdout",
     "output_type": "stream",
     "text": [
      "{'A': {'B', 'E', 'C'}, 'B': {'C', 'A'}, 'C': {'D', 'B', 'E', 'A'}, 'E': {'D', 'C', 'A'}, 'D': {'E', 'C'}}\n"
     ]
    }
   ],
   "source": [
    "print(adj_list)"
   ]
  },
  {
   "cell_type": "markdown",
   "metadata": {
    "slideshow": {
     "slide_type": "slide"
    }
   },
   "source": [
    "# Adjacency Matrix"
   ]
  },
  {
   "cell_type": "markdown",
   "metadata": {},
   "source": [
    "We now move on to generating an Adjacency Matrix view of the network. For this we must have two things: \n",
    "\n",
    "- the number of nodes in the network\n",
    "- A mapping between the original node ids and a sequential numerical ID\n",
    "\n",
    "We start by building out the numerical ID mapping. As we do, we get the number of nodes for free"
   ]
  },
  {
   "cell_type": "code",
   "execution_count": 42,
   "metadata": {
    "ExecuteTime": {
     "end_time": "2021-11-16T02:36:11.028821Z",
     "start_time": "2021-11-16T02:36:11.013764Z"
    }
   },
   "outputs": [],
   "source": [
    "node_id = {}\n",
    "node_count = 0\n",
    "\n",
    "for node_i, node_j in edge_list:\n",
    "    if node_i not in node_id:\n",
    "        node_id[node_i] = node_count\n",
    "        node_count += 1\n",
    "    \n",
    "    # Make sure we have an id for both nodes\n",
    "    # This is necessary, irregardless of whether the network is directed or undirected\n",
    "    if node_j not in node_id:\n",
    "        node_id[node_j] = node_count\n",
    "        node_count += 1"
   ]
  },
  {
   "cell_type": "markdown",
   "metadata": {},
   "source": [
    "We can check that each of the original node ids is correctly mapped to a sequential number"
   ]
  },
  {
   "cell_type": "code",
   "execution_count": 43,
   "metadata": {
    "ExecuteTime": {
     "end_time": "2021-11-16T02:36:13.212405Z",
     "start_time": "2021-11-16T02:36:13.192382Z"
    }
   },
   "outputs": [
    {
     "data": {
      "text/plain": [
       "{'A': 0, 'B': 1, 'C': 2, 'E': 3, 'D': 4}"
      ]
     },
     "execution_count": 43,
     "metadata": {},
     "output_type": "execute_result"
    }
   ],
   "source": [
    "node_id"
   ]
  },
  {
   "cell_type": "markdown",
   "metadata": {},
   "source": [
    "Finally, we are ready to build our adjacency matrix. We start by declaring the data structurewe will use"
   ]
  },
  {
   "cell_type": "code",
   "execution_count": 44,
   "metadata": {
    "ExecuteTime": {
     "end_time": "2021-11-16T02:36:15.995676Z",
     "start_time": "2021-11-16T02:36:15.980604Z"
    }
   },
   "outputs": [],
   "source": [
    "adj_matrix = np.zeros((node_count, node_count), dtype='int')"
   ]
  },
  {
   "cell_type": "markdown",
   "metadata": {},
   "source": [
    "And we can now populate the matrix entries. For generality, we'll include a flag to control wether or not the graph is directed. As we don't have any weights associated with our edges, we assign to each of them a value of 1."
   ]
  },
  {
   "cell_type": "code",
   "execution_count": 45,
   "metadata": {
    "ExecuteTime": {
     "end_time": "2021-11-16T02:36:17.919038Z",
     "start_time": "2021-11-16T02:36:17.899087Z"
    }
   },
   "outputs": [],
   "source": [
    "is_directed = False\n",
    "\n",
    "for node_i, node_j in edge_list:    \n",
    "    # Get the correct node ids\n",
    "    node_i = node_id[node_i]\n",
    "    node_j = node_id[node_j]\n",
    "    \n",
    "    adj_matrix[node_i, node_j] = 1 # Unweighted network\n",
    "\n",
    "    if not is_directed:\n",
    "        adj_matrix[node_j, node_i] = 1 # Undirected networks"
   ]
  },
  {
   "cell_type": "markdown",
   "metadata": {},
   "source": [
    "Our Adjacency Matrix is then:"
   ]
  },
  {
   "cell_type": "code",
   "execution_count": 46,
   "metadata": {
    "ExecuteTime": {
     "end_time": "2021-11-16T02:36:19.340741Z",
     "start_time": "2021-11-16T02:36:19.327789Z"
    }
   },
   "outputs": [
    {
     "data": {
      "text/plain": [
       "array([[0, 1, 1, 1, 0],\n",
       "       [1, 0, 1, 0, 0],\n",
       "       [1, 1, 0, 1, 1],\n",
       "       [1, 0, 1, 0, 1],\n",
       "       [0, 0, 1, 1, 0]])"
      ]
     },
     "execution_count": 46,
     "metadata": {},
     "output_type": "execute_result"
    }
   ],
   "source": [
    "adj_matrix"
   ]
  },
  {
   "cell_type": "markdown",
   "metadata": {},
   "source": [
    "As we can see, the Adjacency matrix representation is very wasteful, using 25 values to store a 7 (14) edge network plus 5 dictionary entries for the id mappings."
   ]
  },
  {
   "cell_type": "markdown",
   "metadata": {
    "slideshow": {
     "slide_type": "slide"
    }
   },
   "source": [
    "# Adjacency Dict"
   ]
  },
  {
   "cell_type": "markdown",
   "metadata": {},
   "source": [
    "The final graph representation we will explore is the Adjacency Dict. This is a generalization of the Adjacency List covered above that is a bit more flexible and is able to accuratly account for diconnected nodes, weights, etc. For this we will need two datastructures, one to store node information and one for edges. For the sake of flexbility, we will use dicts for both."
   ]
  },
  {
   "cell_type": "code",
   "execution_count": 47,
   "metadata": {
    "ExecuteTime": {
     "end_time": "2021-11-16T02:36:31.657164Z",
     "start_time": "2021-11-16T02:36:31.653165Z"
    }
   },
   "outputs": [],
   "source": [
    "nodes = {}\n",
    "edges = {}\n",
    "is_directed = False"
   ]
  },
  {
   "cell_type": "markdown",
   "metadata": {
    "slideshow": {
     "slide_type": "slide"
    }
   },
   "source": [
    "And we can now populate them from our original edge_list"
   ]
  },
  {
   "cell_type": "code",
   "execution_count": 48,
   "metadata": {
    "ExecuteTime": {
     "end_time": "2021-11-16T02:36:34.054887Z",
     "start_time": "2021-11-16T02:36:34.041852Z"
    }
   },
   "outputs": [],
   "source": [
    "for node_i, node_j in edge_list:\n",
    "    if node_i not in nodes:\n",
    "        nodes[node_i] = {}\n",
    "        edges[node_i] = {}\n",
    "        \n",
    "    if node_j not in nodes:\n",
    "        nodes[node_j] = {}\n",
    "        \n",
    "        if not is_directed:\n",
    "            edges[node_j] = {}\n",
    "    \n",
    "    edges[node_i][node_j] = {}\n",
    "    \n",
    "    if not is_directed:\n",
    "        edges[node_j][node_i] = {}"
   ]
  },
  {
   "cell_type": "markdown",
   "metadata": {},
   "source": [
    "Our set of nodes is:"
   ]
  },
  {
   "cell_type": "code",
   "execution_count": 49,
   "metadata": {
    "ExecuteTime": {
     "end_time": "2021-11-16T02:36:35.617474Z",
     "start_time": "2021-11-16T02:36:35.597519Z"
    }
   },
   "outputs": [
    {
     "data": {
      "text/plain": [
       "{'A': {}, 'B': {}, 'C': {}, 'E': {}, 'D': {}}"
      ]
     },
     "execution_count": 49,
     "metadata": {},
     "output_type": "execute_result"
    }
   ],
   "source": [
    "nodes"
   ]
  },
  {
   "cell_type": "markdown",
   "metadata": {},
   "source": [
    "Where we chose to use dictinaries to allow for the storage of node attributes. Further, our edges are now:"
   ]
  },
  {
   "cell_type": "code",
   "execution_count": 50,
   "metadata": {
    "ExecuteTime": {
     "end_time": "2021-11-16T02:36:37.778057Z",
     "start_time": "2021-11-16T02:36:37.766103Z"
    }
   },
   "outputs": [
    {
     "data": {
      "text/plain": [
       "{'A': {'B': {}, 'C': {}, 'E': {}},\n",
       " 'B': {'A': {}, 'C': {}},\n",
       " 'C': {'A': {}, 'B': {}, 'D': {}, 'E': {}},\n",
       " 'E': {'A': {}, 'C': {}, 'D': {}},\n",
       " 'D': {'C': {}, 'E': {}}}"
      ]
     },
     "execution_count": 50,
     "metadata": {},
     "output_type": "execute_result"
    }
   ],
   "source": [
    "edges"
   ]
  },
  {
   "cell_type": "markdown",
   "metadata": {},
   "source": [
    "Where we once again opted to associate a dictionary to each edge. This gives us the ability to associate edge information (such as weights, etc) to each node."
   ]
  },
  {
   "cell_type": "markdown",
   "metadata": {},
   "source": [
    "# The End\n",
    "\n",
    "**Source**\n",
    "\n",
    "This notebook was adapted from:\n",
    "* Data 8: The Foundations of Data Science\n",
    "* Introduction to Data Science by Michael Szell\n",
    "* Introduction to Data Science and Visualization by James Bagrow\n",
    "* Bruno Gonçalves, Data4Sci"
   ]
  }
 ],
 "metadata": {
  "celltoolbar": "Slideshow",
  "kernelspec": {
   "display_name": "Python 3",
   "language": "python",
   "name": "python3"
  },
  "language_info": {
   "codemirror_mode": {
    "name": "ipython",
    "version": 3
   },
   "file_extension": ".py",
   "mimetype": "text/x-python",
   "name": "python",
   "nbconvert_exporter": "python",
   "pygments_lexer": "ipython3",
   "version": "3.8.8"
  },
  "toc": {
   "base_numbering": 1,
   "nav_menu": {},
   "number_sections": true,
   "sideBar": true,
   "skip_h1_title": false,
   "title_cell": "Table of Contents",
   "title_sidebar": "Contents",
   "toc_cell": false,
   "toc_position": {},
   "toc_section_display": true,
   "toc_window_display": false
  }
 },
 "nbformat": 4,
 "nbformat_minor": 1
}
